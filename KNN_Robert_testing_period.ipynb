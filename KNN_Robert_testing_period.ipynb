{
 "cells": [
  {
   "cell_type": "markdown",
   "id": "fbb56ab7-d9e2-477b-9286-f73ae7badc7d",
   "metadata": {},
   "source": [
    "### In this notebook we connstruct a knn model using a test-train-validatin split which achieves:\n",
    "### 62% accuracy classifying 'fam_or_subfam' (15 possible values) on unseen test data, and\n",
    "### 87% accuracy classifying 'critter_name' (3 possible values)."
   ]
  },
  {
   "cell_type": "code",
   "execution_count": 2,
   "id": "e3df4c2a-2429-4fbe-ba37-b33764db25ad",
   "metadata": {},
   "outputs": [],
   "source": [
    "import librosa, librosa.display\n",
    "import numpy as np\n",
    "import matplotlib.pyplot as plt\n",
    "import os\n",
    "import scipy\n",
    "import math\n",
    "import pandas as pd\n",
    "from sklearn.model_selection import train_test_split\n",
    "from sklearn.metrics import confusion_matrix\n",
    "from sklearn.discriminant_analysis import LinearDiscriminantAnalysis\n",
    "from sklearn.neighbors import KNeighborsClassifier\n",
    "from sklearn.pipeline import Pipeline\n",
    "from sklearn.preprocessing import StandardScaler\n",
    "from sklearn.metrics import accuracy_score\n",
    "from sklearn.svm import SVC\n",
    "from sklearn.decomposition import PCA\n",
    "from sklearn.cross_decomposition import PLSRegression\n",
    "from sklearn.metrics import r2_score\n",
    "from sklearn.decomposition import TruncatedSVD\n",
    "from sklearn.metrics import confusion_matrix"
   ]
  },
  {
   "cell_type": "code",
   "execution_count": 3,
   "id": "45a5a0aa-a527-4931-8ec7-eb8348f37711",
   "metadata": {},
   "outputs": [],
   "source": [
    "#Import the data file containing all features and classifications\n",
    "df_all = pd.read_csv('MLNS_05302024.csv')"
   ]
  },
  {
   "cell_type": "code",
   "execution_count": 7,
   "id": "25453ccd-c647-48f1-819a-a8edd8d67e17",
   "metadata": {},
   "outputs": [],
   "source": [
    "#Initial test-train split\n",
    "df, df_test = train_test_split(df_all, shuffle=True, random_state=17, test_size=.2, stratify=df_all['fam_or_subfam'])"
   ]
  },
  {
   "cell_type": "code",
   "execution_count": 8,
   "id": "4115bf1c-d33f-45e0-a9c2-6f746e2a3a84",
   "metadata": {},
   "outputs": [],
   "source": [
    "#Returns dataframe containing mfcc avg and var, and hs_mfcc avg and var, truncated to indicated depth, as well \n",
    "#as main_freq, range, max_mean, and peak_freq if True.\n",
    "def truncate_mfcc(df, avg_depth=20, var_depth=10, hs_avg_depth=20, hs_var_depth=10, period_depth= 40, other_Features=True):\n",
    "    df_temp=df['mfcc_'+str(0)+'_avg']\n",
    "    df_temp=df_temp.rename('blah')\n",
    "    for n in range(0,avg_depth):\n",
    "        df_temp=pd.concat([df_temp, df['mfcc_'+str(n)+'_avg']], axis=1)\n",
    "    for n in range(0,var_depth):\n",
    "        df_temp=pd.concat([df_temp, df['mfcc_'+str(n)+'_var']], axis=1)\n",
    "    for n in range(0,hs_avg_depth):\n",
    "        df_temp=pd.concat([df_temp, df['hs_mfcc_'+str(n)+'_avg']], axis=1)\n",
    "    for n in range(0,hs_var_depth):\n",
    "        df_temp=pd.concat([df_temp, df['hs_mfcc_'+str(n)+'_var']], axis=1)\n",
    "    for n in range(0,hs_var_depth):\n",
    "        df_temp=pd.concat([df_temp, df['period_'+str(n)]], axis=1)\n",
    "    if other_Features:\n",
    "        df_temp=pd.concat([df_temp, df['main_freq']], axis=1)\n",
    "        df_temp=pd.concat([df_temp, df['range']], axis=1)\n",
    "        df_temp=pd.concat([df_temp, df['max_mean']], axis=1)\n",
    "        df_temp=pd.concat([df_temp, df['peak_freq']], axis=1)\n",
    "    return df_temp.drop(columns=['blah'])"
   ]
  },
  {
   "cell_type": "code",
   "execution_count": 9,
   "id": "5e64649d-c4b2-4614-bb3b-324446235b6d",
   "metadata": {},
   "outputs": [],
   "source": [
    "#Computes the accuracy of knn at the given value of k, depths of mfcc features, other_features, and critter vs. fam_or_subfam\n",
    "def knn_acc(df, k=5, avg_depth=40, var_depth=40, hs_avg_depth=40, hs_var_depth=40, other_Features=True, crit=False):\n",
    "    X=truncate_mfcc(df=df, avg_depth=avg_depth,var_depth=var_depth,hs_avg_depth=hs_avg_depth,hs_var_depth=hs_var_depth,other_Features=other_Features)\n",
    "    if crit:\n",
    "        Y = df['critter_name']\n",
    "    else:\n",
    "        Y = df['fam_or_subfam']\n",
    "    X_train, X_val, y_train, y_val = train_test_split(X.copy(), Y, shuffle=True, random_state=17, test_size=.2, stratify=Y)\n",
    "    knn_pipe = Pipeline([('scale', StandardScaler()), ('knn', KNeighborsClassifier(k))])\n",
    "    knn_pipe.fit(X_train, y_train)\n",
    "    pred_train = knn_pipe.predict(X_train)\n",
    "    pred_val = knn_pipe.predict(X_val)\n",
    "    score_train = accuracy_score(y_train,pred_train)\n",
    "    score_val = accuracy_score(y_val,pred_val)\n",
    "    return score_train, score_val"
   ]
  },
  {
   "cell_type": "markdown",
   "id": "63a04db0-59c9-4460-9f4f-fe70fceeaf8b",
   "metadata": {},
   "source": [
    "### The data below shows that using all of our features narrows the gap between training accuracy and validation accuracy."
   ]
  },
  {
   "cell_type": "code",
   "execution_count": 10,
   "id": "c2f11ed8-06f7-4b02-8218-1fb5e5229a55",
   "metadata": {},
   "outputs": [
    {
     "name": "stdout",
     "output_type": "stream",
     "text": [
      "knn (Train, Validation) accuracy when mfcc depth = 1 and k = 1: (1.0, 0.510593220338983)\n",
      "knn (Train, Validation) accuracy when mfcc depth = 1 and k = 6: (0.6614569536423841, 0.5434322033898306)\n",
      "knn (Train, Validation) accuracy when mfcc depth = 1 and k = 11: (0.6193377483443708, 0.5603813559322034)\n",
      "knn (Train, Validation) accuracy when mfcc depth = 1 and k = 16: (0.5933774834437087, 0.5635593220338984)\n",
      "knn (Train, Validation) accuracy when mfcc depth = 1 and k = 21: (0.5803973509933775, 0.5699152542372882)\n",
      "knn (Train, Validation) accuracy when mfcc depth = 1 and k = 26: (0.5695364238410596, 0.5603813559322034)\n",
      "knn (Train, Validation) accuracy when mfcc depth = 6 and k = 1: (1.0, 0.6038135593220338)\n",
      "knn (Train, Validation) accuracy when mfcc depth = 6 and k = 6: (0.7215894039735099, 0.614406779661017)\n",
      "knn (Train, Validation) accuracy when mfcc depth = 6 and k = 11: (0.688476821192053, 0.6027542372881356)\n",
      "knn (Train, Validation) accuracy when mfcc depth = 6 and k = 16: (0.6619867549668874, 0.6059322033898306)\n",
      "knn (Train, Validation) accuracy when mfcc depth = 6 and k = 21: (0.649271523178808, 0.6080508474576272)\n",
      "knn (Train, Validation) accuracy when mfcc depth = 6 and k = 26: (0.6370860927152318, 0.6271186440677966)\n",
      "knn (Train, Validation) accuracy when mfcc depth = 11 and k = 1: (1.0, 0.6324152542372882)\n",
      "knn (Train, Validation) accuracy when mfcc depth = 11 and k = 6: (0.7441059602649006, 0.6398305084745762)\n",
      "knn (Train, Validation) accuracy when mfcc depth = 11 and k = 11: (0.6980132450331126, 0.649364406779661)\n",
      "knn (Train, Validation) accuracy when mfcc depth = 11 and k = 16: (0.6805298013245034, 0.6451271186440678)\n",
      "knn (Train, Validation) accuracy when mfcc depth = 11 and k = 21: (0.6635761589403973, 0.649364406779661)\n",
      "knn (Train, Validation) accuracy when mfcc depth = 11 and k = 26: (0.6537748344370861, 0.6419491525423728)\n",
      "knn (Train, Validation) accuracy when mfcc depth = 16 and k = 1: (1.0, 0.6567796610169492)\n",
      "knn (Train, Validation) accuracy when mfcc depth = 16 and k = 6: (0.7401324503311258, 0.6536016949152542)\n",
      "knn (Train, Validation) accuracy when mfcc depth = 16 and k = 11: (0.6956291390728477, 0.6345338983050848)\n",
      "knn (Train, Validation) accuracy when mfcc depth = 16 and k = 16: (0.6725827814569536, 0.6451271186440678)\n",
      "knn (Train, Validation) accuracy when mfcc depth = 16 and k = 21: (0.6596026490066225, 0.6461864406779662)\n",
      "knn (Train, Validation) accuracy when mfcc depth = 16 and k = 26: (0.6460927152317881, 0.6419491525423728)\n",
      "knn (Train, Validation) accuracy when mfcc depth = 21 and k = 1: (1.0, 0.6504237288135594)\n",
      "knn (Train, Validation) accuracy when mfcc depth = 21 and k = 6: (0.7290066225165563, 0.6345338983050848)\n",
      "knn (Train, Validation) accuracy when mfcc depth = 21 and k = 11: (0.6948344370860927, 0.6398305084745762)\n",
      "knn (Train, Validation) accuracy when mfcc depth = 21 and k = 16: (0.6696688741721855, 0.6419491525423728)\n",
      "knn (Train, Validation) accuracy when mfcc depth = 21 and k = 21: (0.6521854304635761, 0.652542372881356)\n",
      "knn (Train, Validation) accuracy when mfcc depth = 21 and k = 26: (0.6413245033112582, 0.6366525423728814)\n",
      "knn (Train, Validation) accuracy when mfcc depth = 26 and k = 1: (1.0, 0.6430084745762712)\n",
      "knn (Train, Validation) accuracy when mfcc depth = 26 and k = 6: (0.7353642384105961, 0.6430084745762712)\n",
      "knn (Train, Validation) accuracy when mfcc depth = 26 and k = 11: (0.6900662251655629, 0.6271186440677966)\n",
      "knn (Train, Validation) accuracy when mfcc depth = 26 and k = 16: (0.6656953642384106, 0.6345338983050848)\n",
      "knn (Train, Validation) accuracy when mfcc depth = 26 and k = 21: (0.6543046357615894, 0.628177966101695)\n",
      "knn (Train, Validation) accuracy when mfcc depth = 26 and k = 26: (0.6421192052980133, 0.6239406779661016)\n",
      "knn (Train, Validation) accuracy when mfcc depth = 31 and k = 1: (1.0, 0.6302966101694916)\n",
      "knn (Train, Validation) accuracy when mfcc depth = 31 and k = 6: (0.7247682119205298, 0.6302966101694916)\n",
      "knn (Train, Validation) accuracy when mfcc depth = 31 and k = 11: (0.6866225165562914, 0.6101694915254238)\n",
      "knn (Train, Validation) accuracy when mfcc depth = 31 and k = 16: (0.6585430463576158, 0.614406779661017)\n",
      "knn (Train, Validation) accuracy when mfcc depth = 31 and k = 21: (0.6421192052980133, 0.6175847457627118)\n",
      "knn (Train, Validation) accuracy when mfcc depth = 31 and k = 26: (0.633112582781457, 0.614406779661017)\n",
      "knn (Train, Validation) accuracy when mfcc depth = 36 and k = 1: (1.0, 0.6334745762711864)\n",
      "knn (Train, Validation) accuracy when mfcc depth = 36 and k = 6: (0.7260927152317881, 0.6207627118644068)\n",
      "knn (Train, Validation) accuracy when mfcc depth = 36 and k = 11: (0.6768211920529801, 0.6207627118644068)\n",
      "knn (Train, Validation) accuracy when mfcc depth = 36 and k = 16: (0.655364238410596, 0.6197033898305084)\n",
      "knn (Train, Validation) accuracy when mfcc depth = 36 and k = 21: (0.6434437086092715, 0.6101694915254238)\n",
      "knn (Train, Validation) accuracy when mfcc depth = 36 and k = 26: (0.6272847682119206, 0.6059322033898306)\n"
     ]
    }
   ],
   "source": [
    "#Runs knn over the indicated depth of all 4 mfcc features, including the 4 other features, and the values of k for knn.\n",
    "for depth in range(1,40,5):\n",
    "    for k in range(1,30,5):\n",
    "        print(f\"knn (Train, Validation) accuracy when mfcc depth = {depth} and k = {k}: {knn_acc(df,k,depth,depth,depth,depth,True,False)}\") "
   ]
  },
  {
   "cell_type": "markdown",
   "id": "33cc2574-9ac9-4b7c-8b21-651f920333da",
   "metadata": {},
   "source": [
    "### We now use all of our features and try to find value of k which maximizes the validation accuracy."
   ]
  },
  {
   "cell_type": "code",
   "execution_count": 12,
   "id": "7e7d2ecb-d654-4c85-a7e7-c1df65bede26",
   "metadata": {},
   "outputs": [
    {
     "name": "stdout",
     "output_type": "stream",
     "text": [
      "knn (Train, Validation) accuracy when k = 1: (1.0, 0.6197033898305084)\n",
      "knn (Train, Validation) accuracy when k = 2: (0.808476821192053, 0.5985169491525424)\n",
      "knn (Train, Validation) accuracy when k = 3: (0.783046357615894, 0.6101694915254238)\n",
      "knn (Train, Validation) accuracy when k = 4: (0.7560264900662251, 0.614406779661017)\n",
      "knn (Train, Validation) accuracy when k = 5: (0.7398675496688741, 0.6101694915254238)\n",
      "knn (Train, Validation) accuracy when k = 6: (0.7218543046357616, 0.611228813559322)\n",
      "knn (Train, Validation) accuracy when k = 7: (0.710728476821192, 0.611228813559322)\n",
      "knn (Train, Validation) accuracy when k = 8: (0.696953642384106, 0.611228813559322)\n",
      "knn (Train, Validation) accuracy when k = 9: (0.6916556291390729, 0.6228813559322034)\n",
      "knn (Train, Validation) accuracy when k = 10: (0.6845033112582781, 0.6228813559322034)\n",
      "knn (Train, Validation) accuracy when k = 11: (0.6770860927152318, 0.6165254237288136)\n",
      "knn (Train, Validation) accuracy when k = 12: (0.671523178807947, 0.614406779661017)\n",
      "knn (Train, Validation) accuracy when k = 13: (0.6649006622516557, 0.611228813559322)\n",
      "knn (Train, Validation) accuracy when k = 14: (0.6622516556291391, 0.6048728813559322)\n",
      "knn (Train, Validation) accuracy when k = 15: (0.6622516556291391, 0.6027542372881356)\n",
      "knn (Train, Validation) accuracy when k = 16: (0.6590728476821192, 0.6059322033898306)\n",
      "knn (Train, Validation) accuracy when k = 17: (0.655364238410596, 0.6080508474576272)\n",
      "knn (Train, Validation) accuracy when k = 18: (0.6505960264900662, 0.6059322033898306)\n",
      "knn (Train, Validation) accuracy when k = 19: (0.6482119205298014, 0.611228813559322)\n",
      "knn (Train, Validation) accuracy when k = 20: (0.6410596026490066, 0.6038135593220338)\n",
      "knn (Train, Validation) accuracy when k = 21: (0.6381456953642384, 0.597457627118644)\n",
      "knn (Train, Validation) accuracy when k = 22: (0.6315231788079471, 0.5995762711864406)\n",
      "knn (Train, Validation) accuracy when k = 23: (0.6275496688741722, 0.5942796610169492)\n",
      "knn (Train, Validation) accuracy when k = 24: (0.6259602649006623, 0.5932203389830508)\n",
      "knn (Train, Validation) accuracy when k = 25: (0.6243708609271523, 0.5995762711864406)\n",
      "knn (Train, Validation) accuracy when k = 26: (0.6198675496688741, 0.5963983050847458)\n",
      "knn (Train, Validation) accuracy when k = 27: (0.6193377483443708, 0.5889830508474576)\n",
      "knn (Train, Validation) accuracy when k = 28: (0.6209271523178808, 0.5858050847457628)\n",
      "knn (Train, Validation) accuracy when k = 29: (0.6201324503311259, 0.590042372881356)\n",
      "knn (Train, Validation) accuracy when k = 30: (0.6185430463576159, 0.5985169491525424)\n",
      "knn (Train, Validation) accuracy when k = 31: (0.6148344370860928, 0.6027542372881356)\n",
      "knn (Train, Validation) accuracy when k = 32: (0.6132450331125828, 0.6038135593220338)\n",
      "knn (Train, Validation) accuracy when k = 33: (0.6143046357615894, 0.597457627118644)\n",
      "knn (Train, Validation) accuracy when k = 34: (0.6132450331125828, 0.5985169491525424)\n",
      "knn (Train, Validation) accuracy when k = 35: (0.6140397350993377, 0.5963983050847458)\n",
      "knn (Train, Validation) accuracy when k = 36: (0.6111258278145696, 0.5985169491525424)\n",
      "knn (Train, Validation) accuracy when k = 37: (0.6095364238410595, 0.5963983050847458)\n",
      "knn (Train, Validation) accuracy when k = 38: (0.6079470198675496, 0.5836864406779662)\n",
      "knn (Train, Validation) accuracy when k = 39: (0.6095364238410595, 0.5783898305084746)\n",
      "knn (Train, Validation) accuracy when k = 40: (0.6074172185430463, 0.576271186440678)\n",
      "knn (Train, Validation) accuracy when k = 41: (0.6060927152317881, 0.5720338983050848)\n",
      "knn (Train, Validation) accuracy when k = 42: (0.6029139072847682, 0.5667372881355932)\n",
      "knn (Train, Validation) accuracy when k = 43: (0.6018543046357616, 0.573093220338983)\n",
      "knn (Train, Validation) accuracy when k = 44: (0.600794701986755, 0.5794491525423728)\n",
      "knn (Train, Validation) accuracy when k = 45: (0.5962913907284768, 0.5720338983050848)\n",
      "knn (Train, Validation) accuracy when k = 46: (0.5970860927152318, 0.576271186440678)\n",
      "knn (Train, Validation) accuracy when k = 47: (0.5947019867549669, 0.573093220338983)\n",
      "knn (Train, Validation) accuracy when k = 48: (0.5941721854304636, 0.5773305084745762)\n",
      "knn (Train, Validation) accuracy when k = 49: (0.5933774834437087, 0.5752118644067796)\n"
     ]
    }
   ],
   "source": [
    "for k in range(1,50):\n",
    "    print(f\"knn (Train, Validation) accuracy when k = {k}: {knn_acc(df,k,40,40,40,40,True,False)}\") "
   ]
  },
  {
   "cell_type": "code",
   "execution_count": 6,
   "id": "96e38741-ba69-4f3f-9859-a01f49fbf391",
   "metadata": {},
   "outputs": [
    {
     "ename": "NameError",
     "evalue": "name 'df' is not defined",
     "output_type": "error",
     "traceback": [
      "\u001b[0;31m---------------------------------------------------------------------------\u001b[0m",
      "\u001b[0;31mNameError\u001b[0m                                 Traceback (most recent call last)",
      "Cell \u001b[0;32mIn[6], line 4\u001b[0m\n\u001b[1;32m      2\u001b[0m \u001b[38;5;28;01mfor\u001b[39;00m depth \u001b[38;5;129;01min\u001b[39;00m \u001b[38;5;28mrange\u001b[39m(\u001b[38;5;241m1\u001b[39m,\u001b[38;5;241m40\u001b[39m,\u001b[38;5;241m5\u001b[39m):\n\u001b[1;32m      3\u001b[0m     \u001b[38;5;28;01mfor\u001b[39;00m k \u001b[38;5;129;01min\u001b[39;00m \u001b[38;5;28mrange\u001b[39m(\u001b[38;5;241m1\u001b[39m,\u001b[38;5;241m30\u001b[39m,\u001b[38;5;241m5\u001b[39m):\n\u001b[0;32m----> 4\u001b[0m         \u001b[38;5;28mprint\u001b[39m(\u001b[38;5;124mf\u001b[39m\u001b[38;5;124m\"\u001b[39m\u001b[38;5;124mknn (Train, Validation) accuracy when mfcc depth = \u001b[39m\u001b[38;5;132;01m{\u001b[39;00mdepth\u001b[38;5;132;01m}\u001b[39;00m\u001b[38;5;124m and k = \u001b[39m\u001b[38;5;132;01m{\u001b[39;00mk\u001b[38;5;132;01m}\u001b[39;00m\u001b[38;5;124m: \u001b[39m\u001b[38;5;132;01m{\u001b[39;00mknn_acc(\u001b[43mdf\u001b[49m,k,depth,depth,depth,depth,\u001b[38;5;250m \u001b[39mdepth,\u001b[38;5;250m \u001b[39m\u001b[38;5;28;01mTrue\u001b[39;00m,\u001b[38;5;28;01mFalse\u001b[39;00m)\u001b[38;5;132;01m}\u001b[39;00m\u001b[38;5;124m\"\u001b[39m) \n",
      "\u001b[0;31mNameError\u001b[0m: name 'df' is not defined"
     ]
    }
   ],
   "source": [
    "#Runs knn over the indicated depth of all 4 mfcc features, including the 4 other features, and the values of k for knn.\n",
    "for depth in range(1,40,5):\n",
    "    for k in range(1,30,5):\n",
    "        print(f\"knn (Train, Validation) accuracy when mfcc depth = {depth} and k = {k}: {knn_acc(df,k,depth,depth,depth,depth, depth, True,False)}\") "
   ]
  },
  {
   "cell_type": "markdown",
   "id": "9e60e929-0c17-4593-bd34-465e5ed2a9d3",
   "metadata": {},
   "source": [
    "### It appears that k=5 gives the best validation accuracy. We now test our final knn model using k=5 and all features."
   ]
  },
  {
   "cell_type": "code",
   "execution_count": 13,
   "id": "9b99d0e6-a4a1-4bdb-b8ee-b76dc8b05d4e",
   "metadata": {},
   "outputs": [
    {
     "data": {
      "text/plain": [
       "0.6101694915254238"
      ]
     },
     "execution_count": 13,
     "metadata": {},
     "output_type": "execute_result"
    }
   ],
   "source": [
    "#First train the model exactly using the same training data as before, and k=5.\n",
    "knn_pipe = Pipeline([('scale', StandardScaler()), ('knn', KNeighborsClassifier(10))])\n",
    "X=truncate_mfcc(df=df, avg_depth=40,var_depth=40,hs_avg_depth=40,hs_var_depth=40,other_Features=True)\n",
    "Y = df['fam_or_subfam']\n",
    "X_train, X_val, y_train, y_val = train_test_split(X.copy(), Y, shuffle=True, random_state=17, test_size=.2, stratify=Y)\n",
    "knn_pipe.fit(X_train, y_train)\n",
    "\n",
    "#Test the model on unseen test data.\n",
    "X_test=truncate_mfcc(df=df_test, avg_depth=40,var_depth=40,hs_avg_depth=40,hs_var_depth=40,other_Features=True)\n",
    "y_test=df_test['fam_or_subfam']\n",
    "pred = knn_pipe.predict(X_test)\n",
    "accuracy_score(pred,y_test)"
   ]
  },
  {
   "cell_type": "markdown",
   "id": "bcb05af2-75ee-4d2a-bed9-0cea5610c06d",
   "metadata": {},
   "source": [
    "### Our knn model with k=5 achieves 62% accuracy identifying 'fam_or_subfam' on unseen test data. Finally, we test our model on identifying critter_name: 'cricket', 'kaydid', or 'cicada'."
   ]
  },
  {
   "cell_type": "code",
   "execution_count": 14,
   "id": "5ba4898b-d85a-4de5-b496-5fddce06a30f",
   "metadata": {},
   "outputs": [],
   "source": [
    "#Dictionary from 'fam_or_subfam' to the coarser classification 'critter_name'\n",
    "fam_dict = {'Gryllinae':'cricket', 'Conocephalinae':'kaydid', 'Oecanthinae':'cricket',\n",
    "            'Phaneropterinae': 'kaydid', 'Trigonidiinae':'cricket', 'Nemobiinae':'cricket', 'Hapithinae':'cricket', \n",
    "            'Mogoplistinae':'cricket', 'Tettigoniinae':'kaydid', 'Pseudophyllinae':'kaydid', 'Cicadidae':'cicada',\n",
    "            'Gryllotalpidae':'cricket', 'Eneopterinae':'cricket', 'Phalangopsidae':'cricket', 'Listroscelidinae':'cricket'}\n",
    "\n",
    "#Converts a pd Series with fam_or_subfam entries into critter names\n",
    "def fam_to_crit(series):\n",
    "    X=series.copy()\n",
    "    for i in range(0, X.shape[0]):\n",
    "        X.at[i]=fam_to_crit_string(X[i])\n",
    "    return X\n",
    "\n",
    "def fam_to_crit_string(fam_name):\n",
    "    return fam_dict[fam_name]"
   ]
  },
  {
   "cell_type": "code",
   "execution_count": 15,
   "id": "0f13b14f-2060-49e8-8724-fcb134265731",
   "metadata": {},
   "outputs": [
    {
     "data": {
      "text/plain": [
       "0.8567796610169491"
      ]
     },
     "execution_count": 15,
     "metadata": {},
     "output_type": "execute_result"
    }
   ],
   "source": [
    "accuracy_score(fam_to_crit(pd.Series(list(y_test))),fam_to_crit(pd.Series(pred)))"
   ]
  },
  {
   "cell_type": "markdown",
   "id": "5cb8d081-0332-44f6-a34f-d58a2b6ab794",
   "metadata": {},
   "source": [
    "### Our knn model with k=5 achieves 87% accuracy identifying (cricket, kaydid, or cicada) on unseen test data."
   ]
  },
  {
   "cell_type": "code",
   "execution_count": 16,
   "id": "655b2360-ff7d-41d8-85e5-ecbf48b30567",
   "metadata": {},
   "outputs": [],
   "source": [
    "conf_mat = confusion_matrix(fam_to_crit(pd.Series(list(y_test))), fam_to_crit(pd.Series(pred)))"
   ]
  },
  {
   "cell_type": "code",
   "execution_count": 17,
   "id": "032fb058-9ce6-4e34-ba4f-a14be2853037",
   "metadata": {},
   "outputs": [
    {
     "data": {
      "text/html": [
       "<div>\n",
       "<style scoped>\n",
       "    .dataframe tbody tr th:only-of-type {\n",
       "        vertical-align: middle;\n",
       "    }\n",
       "\n",
       "    .dataframe tbody tr th {\n",
       "        vertical-align: top;\n",
       "    }\n",
       "\n",
       "    .dataframe thead th {\n",
       "        text-align: right;\n",
       "    }\n",
       "</style>\n",
       "<table border=\"1\" class=\"dataframe\">\n",
       "  <thead>\n",
       "    <tr style=\"text-align: right;\">\n",
       "      <th></th>\n",
       "      <th>Predicted cicada</th>\n",
       "      <th>Predicted cricket</th>\n",
       "      <th>Predicted kaydid</th>\n",
       "    </tr>\n",
       "  </thead>\n",
       "  <tbody>\n",
       "    <tr>\n",
       "      <th>Actual cicada</th>\n",
       "      <td>0</td>\n",
       "      <td>1</td>\n",
       "      <td>10</td>\n",
       "    </tr>\n",
       "    <tr>\n",
       "      <th>Actual cricket</th>\n",
       "      <td>3</td>\n",
       "      <td>667</td>\n",
       "      <td>119</td>\n",
       "    </tr>\n",
       "    <tr>\n",
       "      <th>Actual kaydid</th>\n",
       "      <td>1</td>\n",
       "      <td>35</td>\n",
       "      <td>344</td>\n",
       "    </tr>\n",
       "  </tbody>\n",
       "</table>\n",
       "</div>"
      ],
      "text/plain": [
       "                Predicted cicada  Predicted cricket  Predicted kaydid\n",
       "Actual cicada                  0                  1                10\n",
       "Actual cricket                 3                667               119\n",
       "Actual kaydid                  1                 35               344"
      ]
     },
     "execution_count": 17,
     "metadata": {},
     "output_type": "execute_result"
    }
   ],
   "source": [
    "pd.DataFrame(conf_mat,\n",
    "                 columns = ['Predicted cicada', 'Predicted cricket', 'Predicted kaydid'],\n",
    "                 index = ['Actual cicada', 'Actual cricket', 'Actual kaydid'])"
   ]
  },
  {
   "cell_type": "code",
   "execution_count": null,
   "id": "48a89889-070f-454d-8778-9c65dcb9b31e",
   "metadata": {},
   "outputs": [],
   "source": []
  }
 ],
 "metadata": {
  "kernelspec": {
   "display_name": "Python 3 (ipykernel)",
   "language": "python",
   "name": "python3"
  },
  "language_info": {
   "codemirror_mode": {
    "name": "ipython",
    "version": 3
   },
   "file_extension": ".py",
   "mimetype": "text/x-python",
   "name": "python",
   "nbconvert_exporter": "python",
   "pygments_lexer": "ipython3",
   "version": "3.11.9"
  }
 },
 "nbformat": 4,
 "nbformat_minor": 5
}
