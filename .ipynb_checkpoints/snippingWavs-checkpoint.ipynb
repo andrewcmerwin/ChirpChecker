{
 "cells": [
  {
   "cell_type": "code",
   "execution_count": null,
   "id": "95f82b85-4219-4abc-ad11-9ff053748c45",
   "metadata": {},
   "outputs": [],
   "source": [
    "import librosa, librosa.display\n",
    "import numpy as np\n",
    "import matplotlib.pyplot as plt\n",
    "import os\n",
    "import scipy\n",
    "import math"
   ]
  },
  {
   "cell_type": "code",
   "execution_count": null,
   "id": "18ee30b6-7996-418d-8a46-64e2223688a0",
   "metadata": {},
   "outputs": [],
   "source": [
    "def remove_Talking_Snip(f):\n",
    "    chirp_song, sr = librosa.load(f)\n",
    "    split=librosa.effects.split(chirp_song, top_db=60)\n",
    "    chirp_song_split=chirp_song[split[1,0]:split[1,1]]\n",
    "    if chirp_song_split.shape[0] > sr * 20\n",
    "        chirp_song_split = chirp_song_split[:sr*20]\n",
    "    return chirp_song_split"
   ]
  },
  {
   "cell_type": "code",
   "execution_count": null,
   "id": "c732eb90-20f7-4812-aa4c-fd1ab07458c0",
   "metadata": {},
   "outputs": [],
   "source": [
    "## perform this function on all files "
   ]
  }
 ],
 "metadata": {
  "kernelspec": {
   "display_name": "Python 3 (ipykernel)",
   "language": "python",
   "name": "python3"
  },
  "language_info": {
   "codemirror_mode": {
    "name": "ipython",
    "version": 3
   },
   "file_extension": ".py",
   "mimetype": "text/x-python",
   "name": "python",
   "nbconvert_exporter": "python",
   "pygments_lexer": "ipython3",
   "version": "3.11.7"
  }
 },
 "nbformat": 4,
 "nbformat_minor": 5
}
