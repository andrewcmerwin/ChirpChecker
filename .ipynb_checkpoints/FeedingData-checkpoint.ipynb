{
 "cells": [
  {
   "cell_type": "markdown",
   "id": "75bd926a-3642-4ea5-a815-239f57aa588a",
   "metadata": {},
   "source": [
    "I will just write on each line a function to be called which we should try a net on. We could try combining functions later."
   ]
  },
  {
   "cell_type": "markdown",
   "id": "630362cf-ba6a-45e2-9107-35842ae09143",
   "metadata": {},
   "source": [
    "Functions 1:Standard MFCC"
   ]
  },
  {
   "cell_type": "code",
   "execution_count": 3,
   "id": "46330b83-0a4d-4909-845b-3d5dbb735106",
   "metadata": {},
   "outputs": [],
   "source": [
    "def mfcc_(song, n=20):\n",
    "    return librosa.feature.mfcc(y = song, n_mfcc = n)\n"
   ]
  },
  {
   "cell_type": "markdown",
   "id": "136f1f62-0961-459b-8674-32a9bb694d18",
   "metadata": {},
   "source": [
    "Function 2: MFCC without low"
   ]
  },
  {
   "cell_type": "code",
   "execution_count": null,
   "id": "92f9c8e0-975c-42f9-8e8e-c14c94fe6a20",
   "metadata": {},
   "outputs": [],
   "source": [
    "def mfcc_cut(song, n=20, cutoff = 800:\n",
    "    #remove bottom 800 hz of frequencies\n",
    "    return librosa.feature.mfcc(y = song, f_min = cutoff, n_mfcc = n)"
   ]
  },
  {
   "cell_type": "markdown",
   "id": "41465a2a-11a6-4676-b322-36e8a38a1173",
   "metadata": {},
   "source": [
    "Function 3: LFCC with low"
   ]
  },
  {
   "cell_type": "code",
   "execution_count": 4,
   "id": "d8f99ea1-a1a3-48e7-8fcf-b93a988ad76c",
   "metadata": {},
   "outputs": [],
   "source": [
    "def LFCC(song, n=20):\n",
    "    D = np.abs(librosa.stft(song, n_fft=n_fft,  hop_length=hop_length))\n",
    "    DB = librosa.amplitude_to_db(D, ref=np.max)\n",
    "    \n",
    "    time = DB.shape[1]\n",
    "    ans=np.zeros((n,time), dtype=float, order='C')\n",
    "    for x in range(0,time):\n",
    "        col = DB[:,x]\n",
    "        ans[:,x] = (scipy.fft.dct(col)[0:n])\n",
    "    return ans"
   ]
  },
  {
   "cell_type": "markdown",
   "id": "c2d7c2ce-6a58-4ab6-add9-2fec9130a745",
   "metadata": {},
   "source": [
    "There might be a faster implementation of the above by replacing the for loop over time with multiplying by a matrix. Might be because I don't know how optimized scipy is at multiplying non square matrices."
   ]
  },
  {
   "cell_type": "markdown",
   "id": "723e91f6-f675-429c-980d-2eb7837368f8",
   "metadata": {},
   "source": [
    "Function 4:LFCC without low"
   ]
  },
  {
   "cell_type": "code",
   "execution_count": 5,
   "id": "985d6d9a-d268-4f22-aece-ed07a0976654",
   "metadata": {},
   "outputs": [],
   "source": [
    "def LFCC_no_low(song, n=20, cutoff = 800):\n",
    "    D = np.abs(librosa.stft(song, n_fft=n_fft,  hop_length=hop_length))\n",
    "    cut = int(float(cutoff)/(librosa.fft_frequencies()[1]))\n",
    "    D = D[cut:]\n",
    "    #remove bottom 10.7*cutoff frequencies. The number 10.7 is the value of librosa.fft_frequencies()[1]\n",
    "    DB = librosa.amplitude_to_db(D, ref=np.max)\n",
    "    \n",
    "    time = DB.shape[1]\n",
    "    ans=np.zeros((n,time), dtype=float, order='C')\n",
    "    for x in range(0,time):\n",
    "        col = DB[:,x]\n",
    "        ans[:,x] = (scipy.fft.dct(col)[0:n])\n",
    "    return ans"
   ]
  },
  {
   "cell_type": "markdown",
   "id": "d30ad042-5587-4acd-b28f-84f332e695da",
   "metadata": {},
   "source": [
    "Again maybe we should use a faster implementation as in function 2"
   ]
  },
  {
   "cell_type": "markdown",
   "id": "2d2165af-a8e6-4b93-92e8-706279a9b82d",
   "metadata": {},
   "source": [
    "Function 5:LFCC without low cleaned"
   ]
  },
  {
   "cell_type": "code",
   "execution_count": 7,
   "id": "dc4374b3-72a9-47c3-8a6d-d401a7d9b0e3",
   "metadata": {},
   "outputs": [],
   "source": [
    "def LFCC_no_low_clean(song, n=20, cutoff = 800):\n",
    "    D = np.abs(librosa.stft(song, n_fft=n_fft,  hop_length=hop_length))\n",
    "    cut = int(float(cutoff)/(librosa.fft_frequencies()[1]))\n",
    "    D = D[cut:]\n",
    "    DB = librosa.amplitude_to_db(D, ref=np.max)\n",
    "    for x in range(0,DB.shape[0]):\n",
    "        med = np.median(DB[x, :])\n",
    "        DB[x, :] = DB[x, :]-med\n",
    "        \n",
    "    time = DB.shape[1]\n",
    "    ans=np.zeros((n,time), dtype=float, order='C')\n",
    "    for x in range(0,time):\n",
    "        col = DB[:,x]\n",
    "        ans[:,x] = (scipy.fft.dct(col)[0:n])\n",
    "    return ans"
   ]
  },
  {
   "cell_type": "markdown",
   "id": "5508de05-4c96-47e9-877c-127505c4e3d9",
   "metadata": {},
   "source": [
    "Again implementation"
   ]
  },
  {
   "cell_type": "markdown",
   "id": "9f2db611-237a-44ed-9234-6448fec3c9c5",
   "metadata": {},
   "source": [
    "Function 6:MFCC without low and cleaned"
   ]
  },
  {
   "cell_type": "code",
   "execution_count": null,
   "id": "76cfb88e-8dd9-40cb-bdf3-f274f015b304",
   "metadata": {},
   "outputs": [],
   "source": [
    "def mfcc_cut_cleaned(song, n=20, cutoff = 800):\n",
    "    Dmel = librosa.feature.melspectrogram(y=song, fmin = cutoff, n_fft=n_fft,  hop_length=hop_length)\n",
    "    DBmel=librosa.power_to_db(Dmel)\n",
    "    for x in range(0,DBmel.shape[0]):\n",
    "        med = np.median(DBmel[x, :])\n",
    "        DBmel[x, :] = DBmel[x, :]-med\n",
    "    return librosa.feature.mfcc(S=DBmel, n_mfcc = n)"
   ]
  }
 ],
 "metadata": {
  "kernelspec": {
   "display_name": "Python 3 (ipykernel)",
   "language": "python",
   "name": "python3"
  },
  "language_info": {
   "codemirror_mode": {
    "name": "ipython",
    "version": 3
   },
   "file_extension": ".py",
   "mimetype": "text/x-python",
   "name": "python",
   "nbconvert_exporter": "python",
   "pygments_lexer": "ipython3",
   "version": "3.11.9"
  }
 },
 "nbformat": 4,
 "nbformat_minor": 5
}
