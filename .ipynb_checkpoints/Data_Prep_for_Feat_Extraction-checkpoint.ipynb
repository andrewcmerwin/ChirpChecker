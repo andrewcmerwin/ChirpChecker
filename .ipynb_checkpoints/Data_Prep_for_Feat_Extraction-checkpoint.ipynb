{
 "cells": [
  {
   "cell_type": "markdown",
   "id": "083c7db0-4907-4aba-bd15-3355b443aa54",
   "metadata": {},
   "source": [
    "# Preparing .wav Files for Feature Extraction\n",
    " This notebook uses recordings that were put together from various sources (see README), but not the recordings used for our actual project.\n",
    " The recordings for the actual project came from the Macualay Museum of Natural Sounds and we have not obtained permission to share them."
   ]
  },
  {
   "cell_type": "markdown",
   "id": "c5936fd4-4f1d-4128-8d93-1e5ac4f1715d",
   "metadata": {},
   "source": [
    "## Required Packages"
   ]
  },
  {
   "cell_type": "code",
   "execution_count": 5,
   "id": "5681ed89-c6cc-45d1-a446-2ad69009d9eb",
   "metadata": {},
   "outputs": [],
   "source": [
    "import librosa, librosa.display\n",
    "import numpy as np\n",
    "import matplotlib.pyplot as plt\n",
    "import os\n",
    "import scipy\n",
    "import math"
   ]
  },
  {
   "cell_type": "markdown",
   "id": "960c103a-c6f5-4901-8945-c33a2fe6990b",
   "metadata": {},
   "source": [
    "## Remove MLNS catalog number from each file and keep only 20 seconds\n",
    "Each of our recordings included a spoken catalog number at the beginning that needed to be removed. \n",
    "Further, some of our recordings were extremely long. To facilitate local processing, we kept only 20 seconds of audio."
   ]
  },
  {
   "cell_type": "code",
   "execution_count": null,
   "id": "41ca88f5-3bdc-4331-868a-a903ba95d4a1",
   "metadata": {},
   "outputs": [],
   "source": [
    "def remove_Talking(filename, db_cutoff = 60, max_length = 20):\n",
    "    chirp_song, sr = librosa.load(f)\n",
    "    split=librosa.effects.split(chirp_song, top_db=60)\n",
    "    chirp_song_split=chirp_song[split[1,0]:split[1,1]]\n",
    "    if chirp_song_split.shape[0] > 20 * sr:\n",
    "        chirp_song_split = chirp_song_split[:20 * sr]\n",
    "    return chirp_song_split, sr"
   ]
  },
  {
   "cell_type": "code",
   "execution_count": 6,
   "id": "a3a5599f-1d36-4049-a171-81973bc39b7e",
   "metadata": {},
   "outputs": [
    {
     "ename": "FileNotFoundError",
     "evalue": "[WinError 3] The system cannot find the path specified: 'FauxRecordings'",
     "output_type": "error",
     "traceback": [
      "\u001b[1;31m---------------------------------------------------------------------------\u001b[0m",
      "\u001b[1;31mFileNotFoundError\u001b[0m                         Traceback (most recent call last)",
      "Cell \u001b[1;32mIn[6], line 3\u001b[0m\n\u001b[0;32m      1\u001b[0m folder_path \u001b[38;5;241m=\u001b[39m \u001b[38;5;124m'\u001b[39m\u001b[38;5;124mFauxRecordings\u001b[39m\u001b[38;5;124m'\u001b[39m\n\u001b[0;32m      2\u001b[0m file_prefix \u001b[38;5;241m=\u001b[39m \u001b[38;5;124m'\u001b[39m\u001b[38;5;124mFauxRecording_cut\u001b[39m\u001b[38;5;124m'\u001b[39m\n\u001b[1;32m----> 3\u001b[0m \u001b[38;5;28;01mfor\u001b[39;00m file \u001b[38;5;129;01min\u001b[39;00m os\u001b[38;5;241m.\u001b[39mlistdir(folder_path):\n\u001b[0;32m      4\u001b[0m     cut_song, sr \u001b[38;5;241m=\u001b[39m remove_Talking(file)\n\u001b[0;32m      5\u001b[0m     librosa\u001b[38;5;241m.\u001b[39moutput\u001b[38;5;241m.\u001b[39mwrite_wav(os\u001b[38;5;241m.\u001b[39mpath\u001b[38;5;241m.\u001b[39mjoin(folder_path, file_prefix\u001b[38;5;241m+\u001b[39m\u001b[38;5;28mstr\u001b[39m(Enumerate(file))), cut_song, sr)\n",
      "\u001b[1;31mFileNotFoundError\u001b[0m: [WinError 3] The system cannot find the path specified: 'FauxRecordings'"
     ]
    }
   ],
   "source": [
    "folder_path = 'FauxRecordings'\n",
    "file_prefix = 'FauxRecording_cut'\n",
    "for file in os.listdir(folder_path):\n",
    "    cut_song, sr = remove_Talking(file)\n",
    "    librosa.output.write_wav(os.path.join(folder_path, file_prefix+str(Enumerate(file))), cut_song, sr)\n",
    "\n",
    "\n",
    "    "
   ]
  },
  {
   "cell_type": "code",
   "execution_count": 7,
   "id": "12a03a3d-747b-4cd2-9ac8-37c938553375",
   "metadata": {},
   "outputs": [
    {
     "data": {
      "text/plain": [
       "'C:\\\\Users\\\\amerwin'"
      ]
     },
     "execution_count": 7,
     "metadata": {},
     "output_type": "execute_result"
    }
   ],
   "source": [
    "os.getcwd()"
   ]
  }
 ],
 "metadata": {
  "kernelspec": {
   "display_name": "Python 3 (ipykernel)",
   "language": "python",
   "name": "python3"
  },
  "language_info": {
   "codemirror_mode": {
    "name": "ipython",
    "version": 3
   },
   "file_extension": ".py",
   "mimetype": "text/x-python",
   "name": "python",
   "nbconvert_exporter": "python",
   "pygments_lexer": "ipython3",
   "version": "3.11.7"
  }
 },
 "nbformat": 4,
 "nbformat_minor": 5
}
