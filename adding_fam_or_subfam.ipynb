{
 "cells": [
  {
   "cell_type": "markdown",
   "id": "b88220a9-958b-4b35-ad86-4227bda358ee",
   "metadata": {},
   "source": [
    "## Add a column of families / subfamiles to our species occurrences \n",
    "- import checklists of insects from various families / subfamilies. These were acquired through the Catalogue of Life / GBIF.org\n",
    "- merge checklists, keeping the key to which family / subfamily they belong\n",
    "- add row to our sound files dataset (MLNS_Insects.csv) for these families\n",
    "- clean up nans\n",
    "\n"
   ]
  },
  {
   "cell_type": "markdown",
   "id": "6bb0d072-0fc6-4378-b420-f0024c80b205",
   "metadata": {},
   "source": [
    "### VVV import checklists of insects from various families / subfamilies and merge"
   ]
  },
  {
   "cell_type": "code",
   "execution_count": 33,
   "id": "0e61fd99-f4ea-4a1d-880f-0f2e15a57998",
   "metadata": {},
   "outputs": [],
   "source": [
    "import numpy as nm\n",
    "import pandas as pd\n",
    "import matplotlib.pyplot as plt\n",
    "import os\n",
    "\n",
    "## Load sound files dataset\n",
    "chirps = pd.read_csv('MLSN_Insects_with_genus.csv')\n",
    "\n",
    "## Load Checklists\n",
    "cd = os.getcwd()\n",
    "new_cd = os.path.join(cd, 'Species_Checklists')\n",
    "os.chdir(new_cd)\n",
    "dataframes = {}\n",
    "for file in os.listdir(path):\n",
    "\n",
    "    # Extract the file name without the extension\n",
    "    file_name = file.split('.')[0]  \n",
    "    \n",
    "    # Read the file into a pandas DataFrame\n",
    "    df = pd.read_csv(file, delimiter='\\t')\n",
    "    \n",
    "    # Store the DataFrame in the dictionary with the file name as the key\n",
    "    dataframes[file_name] = df\n",
    "\n",
    "for key, df in dataframes.items():\n",
    "    df['fam_or_subfam'] = key\n",
    "\n",
    "all_checklists = pd.concat(dataframes.values(), ignore_index=True)\n",
    "\n",
    "os.chdir(cd)"
   ]
  },
  {
   "cell_type": "markdown",
   "id": "197f79fe-a2ff-4d1a-9a12-19bc14471ba7",
   "metadata": {},
   "source": [
    "### VVV Make the scientific name column the same for both datasets and merge"
   ]
  },
  {
   "cell_type": "code",
   "execution_count": 34,
   "id": "fe372afd-647f-4e66-80ad-49ffd5763323",
   "metadata": {},
   "outputs": [],
   "source": [
    "all_checklists['scientific_name'] = all_checklists['col:scientificName']\n",
    "\n",
    "##merge the fam_or_subfam column with the insect audio files datset\n",
    "\n",
    "merged_df = pd.merge(chirps, all_checklists[['scientific_name', 'fam_or_subfam']].drop_duplicates(), on='scientific_name', how='left')\n",
    "\n"
   ]
  },
  {
   "cell_type": "markdown",
   "id": "0ca76825-a8b7-4c34-b312-6c6338e3f626",
   "metadata": {},
   "source": [
    "### VVV Clear up nans (rows without an assigned family or subfamily)"
   ]
  },
  {
   "cell_type": "code",
   "execution_count": 35,
   "id": "d1e10d69-775b-4cfd-90d2-b16a3210ca43",
   "metadata": {},
   "outputs": [],
   "source": [
    "## Clear up nans\n",
    "\n",
    "# I forgot to import one subfamily, Hapithinae\n",
    "hapithinae = ['Orocharis saltator', 'Orocharis', 'Hapithus agitator', 'Hapithus melodius', \n",
    "                    'Orocharis gryllodes', 'Orocharis vaginalis', 'Hapithus vagus', \n",
    "                    'Orocharis luteolira', 'Orocharis diplastes', 'Orocharis nigrifrons', \n",
    "                    'Orocharis tricornis', 'Hapithus protos', 'Hapithus','Laurepa valida',\n",
    "                    'Laurepa', 'Laurepa kropion', 'Antillicharis facetus']\n",
    "merged_df.loc[merged_df['scientific_name'].isin(hapithinae), 'fam_or_subfam'] = 'Hapithinae'\n",
    "\n",
    "# I didn't import a grasshopper checklist, but their weren't that many\n",
    "acrididae = ['Froggattina australis', 'Dissosteira carolina', 'Romalea microptera', 'Acrididae']\n",
    "merged_df.loc[merged_df['scientific_name'].isin(acrididae), 'fam_or_subfam'] = 'Acrididae'\n",
    "\n",
    "# this is a new family...very few instances\n",
    "phalangopsidae = ['Amphiacusta annulipes', 'Amphiacusta']\n",
    "merged_df.loc[merged_df['scientific_name'].isin(phalangopsidae), 'fam_or_subfam'] = 'Phalangopsidae'\n",
    "\n",
    "# unnamed gryllacrididae (leaf rolling / rasping crickets) \n",
    "merged_df.loc[merged_df['scientific_name']=='Gryllacrididae', 'fam_or_subfam'] = 'Gryllacrididae'\n",
    "\n",
    "# place these orphans back in enopterinae. Not sure why they weren't in their rightful spot before. found their rightful spot by referencing the Orthopterist Society Table of Sp\n",
    "enopterinae = ['Diatrypa sibilans', 'Paroecanthus', 'Paroecanthus hwinanus']\n",
    "merged_df.loc[merged_df['scientific_name'].isin(enopterinae), 'fam_or_subfam'] = 'Eneopterinae'\n",
    "\n",
    "# placing a couple species in this subfamily. Very few\n",
    "listroscelidinae = ['Neobarrettia spinosa', 'Neobarrettia victoriae']\n",
    "merged_df.loc[merged_df['scientific_name'].isin(listroscelidinae), 'fam_or_subfam'] = 'Listroscelidinae'\n",
    "\n",
    "# get rid of Bufonidae (frogs), unspecified Gryllidae (family of crickets which is HUGE and diverse), unspecified Tettigoniidae (family of katydids, which is huge and diverse) and unspecified superfamilies\n",
    "exclude = ['Gryllidae', 'Tettigoniidae', 'Bufonidae', 'Tettigonioidea','Grylloidea']\n",
    "merged_df = merged_df.loc[merged_df['scientific_name'].isin(exclude)==False]\n",
    "\n"
   ]
  },
  {
   "cell_type": "markdown",
   "id": "50545a12-f908-4a35-b1e5-b00d8196f3cf",
   "metadata": {},
   "source": [
    "### VVV Check for nans"
   ]
  },
  {
   "cell_type": "code",
   "execution_count": 36,
   "id": "33e06e87-d033-4a26-a040-1c15c59abae3",
   "metadata": {},
   "outputs": [
    {
     "data": {
      "text/html": [
       "<div>\n",
       "<style scoped>\n",
       "    .dataframe tbody tr th:only-of-type {\n",
       "        vertical-align: middle;\n",
       "    }\n",
       "\n",
       "    .dataframe tbody tr th {\n",
       "        vertical-align: top;\n",
       "    }\n",
       "\n",
       "    .dataframe thead th {\n",
       "        text-align: right;\n",
       "    }\n",
       "</style>\n",
       "<table border=\"1\" class=\"dataframe\">\n",
       "  <thead>\n",
       "    <tr style=\"text-align: right;\">\n",
       "      <th></th>\n",
       "      <th>cat_num</th>\n",
       "      <th>format</th>\n",
       "      <th>common_name</th>\n",
       "      <th>genus</th>\n",
       "      <th>scientific_name</th>\n",
       "      <th>background_species</th>\n",
       "      <th>recordist</th>\n",
       "      <th>date</th>\n",
       "      <th>year</th>\n",
       "      <th>month</th>\n",
       "      <th>...</th>\n",
       "      <th>ebird_species_code</th>\n",
       "      <th>taxon_category</th>\n",
       "      <th>taxonomic_sort</th>\n",
       "      <th>recordist_2</th>\n",
       "      <th>average_community_rating</th>\n",
       "      <th>number_of_ratings</th>\n",
       "      <th>asset_tags</th>\n",
       "      <th>original_image_height</th>\n",
       "      <th>original_image_width</th>\n",
       "      <th>fam_or_subfam</th>\n",
       "    </tr>\n",
       "  </thead>\n",
       "  <tbody>\n",
       "  </tbody>\n",
       "</table>\n",
       "<p>0 rows × 50 columns</p>\n",
       "</div>"
      ],
      "text/plain": [
       "Empty DataFrame\n",
       "Columns: [cat_num, format, common_name, genus, scientific_name, background_species, recordist, date, year, month, day, time, country, country.state.county, state, county, locality, latitude, longitude, age.sex, behaviors, playback, captive, collected, specimen_id, home_archive_catalog_number, recorder, microphone, accessory, partner_institution, ebird_checklist_id, unconfirmed, air_temp..c., water_temp..c., media_notes, observation_details, class, order, family, parent_species, ebird_species_code, taxon_category, taxonomic_sort, recordist_2, average_community_rating, number_of_ratings, asset_tags, original_image_height, original_image_width, fam_or_subfam]\n",
       "Index: []\n",
       "\n",
       "[0 rows x 50 columns]"
      ]
     },
     "execution_count": 36,
     "metadata": {},
     "output_type": "execute_result"
    }
   ],
   "source": [
    "merged_df[merged_df.fam_or_subfam.isna()]"
   ]
  },
  {
   "cell_type": "markdown",
   "id": "3a573f5a-1ee9-4df6-a9c9-b0e73b14a7ca",
   "metadata": {},
   "source": [
    "### VVV Write the CSV"
   ]
  },
  {
   "cell_type": "code",
   "execution_count": 37,
   "id": "b5ad2c6a-c0db-48df-9a4c-919e80fd6c41",
   "metadata": {},
   "outputs": [],
   "source": [
    "# write csv\n",
    "merged_df.to_csv('MLNS_Insects_Fams.csv', index=False)"
   ]
  }
 ],
 "metadata": {
  "kernelspec": {
   "display_name": "Python 3 (ipykernel)",
   "language": "python",
   "name": "python3"
  },
  "language_info": {
   "codemirror_mode": {
    "name": "ipython",
    "version": 3
   },
   "file_extension": ".py",
   "mimetype": "text/x-python",
   "name": "python",
   "nbconvert_exporter": "python",
   "pygments_lexer": "ipython3",
   "version": "3.11.7"
  }
 },
 "nbformat": 4,
 "nbformat_minor": 5
}
