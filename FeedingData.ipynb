{
 "cells": [
  {
   "cell_type": "markdown",
   "id": "75bd926a-3642-4ea5-a815-239f57aa588a",
   "metadata": {},
   "source": [
    "I will just write on each line a function to be called which we should try a net on. We could try combining functions later."
   ]
  },
  {
   "cell_type": "code",
   "execution_count": 1,
   "id": "bd6932a6",
   "metadata": {},
   "outputs": [],
   "source": [
    "import scipy\n",
    "from sklearn.preprocessing import StandardScaler"
   ]
  },
  {
   "cell_type": "markdown",
   "id": "630362cf-ba6a-45e2-9107-35842ae09143",
   "metadata": {},
   "source": [
    "Functions 1:Standard MFCC"
   ]
  },
  {
   "cell_type": "code",
   "execution_count": 3,
   "id": "46330b83-0a4d-4909-845b-3d5dbb735106",
   "metadata": {},
   "outputs": [],
   "source": [
    "def mfcc_(song, n=20):\n",
    "    return librosa.feature.mfcc(y = song, n_mfcc = n)\n"
   ]
  },
  {
   "cell_type": "markdown",
   "id": "136f1f62-0961-459b-8674-32a9bb694d18",
   "metadata": {},
   "source": [
    "Function 2: MFCC without low"
   ]
  },
  {
   "cell_type": "code",
   "execution_count": null,
   "id": "92f9c8e0-975c-42f9-8e8e-c14c94fe6a20",
   "metadata": {},
   "outputs": [],
   "source": [
    "def mfcc_cut(song, n=20, cutoff = 800):\n",
    "    #remove bottom 800 hz of frequencies\n",
    "    return librosa.feature.mfcc(y = song, fmin = cutoff, n_mfcc = n)"
   ]
  },
  {
   "cell_type": "markdown",
   "id": "41465a2a-11a6-4676-b322-36e8a38a1173",
   "metadata": {},
   "source": [
    "Function 3: LFCC with low"
   ]
  },
  {
   "cell_type": "code",
   "execution_count": 4,
   "id": "d8f99ea1-a1a3-48e7-8fcf-b93a988ad76c",
   "metadata": {},
   "outputs": [],
   "source": [
    "def LFCC(song, n=20, n_fft=2048, hop_length=512):\n",
    "    D = np.abs(librosa.stft(song, n_fft=n_fft,  hop_length=hop_length))\n",
    "    DB = librosa.amplitude_to_db(D, ref=np.max)\n",
    "    \n",
    "    time = DB.shape[1]\n",
    "    ans=np.zeros((n,time), dtype=float, order='C')\n",
    "    for x in range(0,time):\n",
    "        col = DB[:,x]\n",
    "        ans[:,x] = (scipy.fft.dct(col)[0:n])\n",
    "    return ans"
   ]
  },
  {
   "cell_type": "markdown",
   "id": "c2d7c2ce-6a58-4ab6-add9-2fec9130a745",
   "metadata": {},
   "source": [
    "There might be a faster implementation of the above by replacing the for loop over time with multiplying by a matrix. Might be because I don't know how optimized scipy is at multiplying non square matrices."
   ]
  },
  {
   "cell_type": "markdown",
   "id": "723e91f6-f675-429c-980d-2eb7837368f8",
   "metadata": {},
   "source": [
    "Function 4:LFCC without low"
   ]
  },
  {
   "cell_type": "code",
   "execution_count": 5,
   "id": "985d6d9a-d268-4f22-aece-ed07a0976654",
   "metadata": {},
   "outputs": [],
   "source": [
    "def LFCC_no_low(song, n=20, cutoff = 800, n_fft=2048, hop_length=512):\n",
    "    D = np.abs(librosa.stft(song, n_fft=n_fft,  hop_length=hop_length))\n",
    "    cut = int(float(cutoff)/(librosa.fft_frequencies()[1]))\n",
    "    D = D[cut:]\n",
    "    #remove bottom 10.7*cutoff frequencies. The number 10.7 is the value of librosa.fft_frequencies()[1]\n",
    "    DB = librosa.amplitude_to_db(D, ref=np.max)\n",
    "    \n",
    "    time = DB.shape[1]\n",
    "    ans=np.zeros((n,time), dtype=float, order='C')\n",
    "    for x in range(0,time):\n",
    "        col = DB[:,x]\n",
    "        ans[:,x] = (scipy.fft.dct(col)[0:n])\n",
    "    return ans"
   ]
  },
  {
   "cell_type": "markdown",
   "id": "d30ad042-5587-4acd-b28f-84f332e695da",
   "metadata": {},
   "source": [
    "Again maybe we should use a faster implementation as in function 2"
   ]
  },
  {
   "cell_type": "markdown",
   "id": "2d2165af-a8e6-4b93-92e8-706279a9b82d",
   "metadata": {},
   "source": [
    "Function 5:LFCC without low cleaned"
   ]
  },
  {
   "cell_type": "code",
   "execution_count": 7,
   "id": "dc4374b3-72a9-47c3-8a6d-d401a7d9b0e3",
   "metadata": {},
   "outputs": [],
   "source": [
    "def LFCC_no_low_clean(song, n=20, cutoff = 800, n_fft=2048, hop_length=512):\n",
    "    D = np.abs(librosa.stft(song, n_fft=n_fft,  hop_length=hop_length))\n",
    "    cut = int(float(cutoff)/(librosa.fft_frequencies()[1]))\n",
    "    D = D[cut:]\n",
    "    DB = librosa.amplitude_to_db(D, ref=np.max)\n",
    "    for x in range(0,DB.shape[0]):\n",
    "        med = np.median(DB[x, :])\n",
    "        DB[x, :] = DB[x, :]-med\n",
    "        \n",
    "    time = DB.shape[1]\n",
    "    ans=np.zeros((n,time), dtype=float, order='C')\n",
    "    for x in range(0,time):\n",
    "        col = DB[:,x]\n",
    "        ans[:,x] = (scipy.fft.dct(col)[0:n])\n",
    "    return ans"
   ]
  },
  {
   "cell_type": "markdown",
   "id": "5508de05-4c96-47e9-877c-127505c4e3d9",
   "metadata": {},
   "source": [
    "Again implementation"
   ]
  },
  {
   "cell_type": "markdown",
   "id": "9f2db611-237a-44ed-9234-6448fec3c9c5",
   "metadata": {},
   "source": [
    "Function 6:MFCC without low and cleaned"
   ]
  },
  {
   "cell_type": "code",
   "execution_count": null,
   "id": "76cfb88e-8dd9-40cb-bdf3-f274f015b304",
   "metadata": {},
   "outputs": [],
   "source": [
    "def mfcc_cut_cleaned(song, n=20, cutoff = 800, n_fft=2048, hop_length=512):\n",
    "    Dmel = librosa.feature.melspectrogram(y=song, fmin = cutoff, n_fft=n_fft,  hop_length=hop_length)\n",
    "    DBmel=librosa.power_to_db(Dmel)\n",
    "    for x in range(0,DBmel.shape[0]):\n",
    "        med = np.median(DBmel[x, :])\n",
    "        DBmel[x, :] = DBmel[x, :]-med\n",
    "    return librosa.feature.mfcc(S=DBmel, n_mfcc = n)"
   ]
  },
  {
   "cell_type": "markdown",
   "id": "eee6b5bf-ab5e-49a8-a381-0de7957e57f4",
   "metadata": {},
   "source": [
    "### Function 7: Main Frequency via variance and mean"
   ]
  },
  {
   "cell_type": "code",
   "execution_count": null,
   "id": "d0744bf4-400a-4395-a38b-2089cb4b7c91",
   "metadata": {},
   "outputs": [],
   "source": [
    "def main_freq(song, cutoff = 800):\n",
    "    D = np.abs(librosa.stft(song))\n",
    "    cut = int(float(cutoff)/(librosa.fft_frequencies()[1]))\n",
    "    D = D[cut:]\n",
    "    DB = librosa.amplitude_to_db(D, ref=np.max)\n",
    "    maxmean = np.mean(DB[0,:])\n",
    "    main_meanfreq = 0\n",
    "    maxvar = np.var(DB[0,:])\n",
    "    main_varfreq = 0\n",
    "    for x in range(1,DB.shape[0]):\n",
    "        mean = np.mean(DB[x,:])\n",
    "        var = np.var(DB[x,:])\n",
    "        if mean > maxmean:\n",
    "            maxmean = mean\n",
    "            main_meanfreq = x\n",
    "        if var > maxvar:\n",
    "            maxvar = var\n",
    "            main_varfreq = x\n",
    "    return main_varfreq * librosa.fft_frequencies()[1], main_meanfreq * librosa.fft_frequencies()[1]"
   ]
  },
  {
   "cell_type": "markdown",
   "id": "9fffbc3a-fe38-411d-ad44-258af26b66b2",
   "metadata": {},
   "source": [
    "### Function to pull the avg and var mfccs from the loudest half second of the recroding\n",
    "song = librosa-loaded song,\n",
    "sr = sampling rate from song,\n",
    "n = number of mfccs\n"
   ]
  },
  {
   "cell_type": "code",
   "execution_count": 26,
   "id": "f26124f8-21be-4623-bd1f-0b03eb96e352",
   "metadata": {},
   "outputs": [],
   "source": [
    "def get_hs_avg_var_mfccs(song, sr=22050, n = 40, cutoff = 800):\n",
    "    bound = round(sr/4) #sr/4 gives the half second interval, sr/8 does better in limitted testing\n",
    "    max_ampj = np.argmax(abs(song))\n",
    "    time_start, time_stop = max_ampj - bound, max_ampj + bound\n",
    "    if time_start < 0:\n",
    "        time_start, time_stop = 0, 2*bound\n",
    "    if time_stop > len(song):\n",
    "        time_start, time_stop = len(song) - 2*bound, len(song)\n",
    "    mfccs = librosa.feature.mfcc(y = song[time_start:time_stop], fmin = cutoff, n_mfcc = n)\n",
    "    mfcc_avg = np.mean(mfccs, axis = 1)\n",
    "    mfcc_var = np.var(mfccs, axis = 1)\n",
    "    if time_start < 0: return (np.full(20, np.nan), np.full(20, np.nan))\n",
    "    else: \n",
    "        return (mfcc_avg, mfcc_var)\n"
   ]
  },
  {
   "cell_type": "markdown",
   "id": "e2123a61-4a87-4497-a62b-bc9bc160e9cf",
   "metadata": {},
   "source": [
    "### Function to pull all the mfccs from the loudest half second (average over small time samples?)"
   ]
  },
  {
   "cell_type": "code",
   "execution_count": 15,
   "id": "c0382c83-431f-4e67-92d6-601caf7b4241",
   "metadata": {},
   "outputs": [],
   "source": [
    "def get_hs_mfccs(song, sr=22050, n = 40, cutoff = 800):\n",
    "    bound = round(sr/8) #sr/4 gives the half second interval\n",
    "    max_ampj = np.argmax(abs(song))\n",
    "    time_start, time_stop = max_ampj - bound, max_ampj + bound\n",
    "    if time_start < 0:\n",
    "        time_start, time_stop = 0, 2*bound\n",
    "    if time_stop > len(song):\n",
    "        time_start, time_stop = len(song) - 2*bound, len(song)\n",
    "    return librosa.feature.mfcc(y = song[time_start:time_stop], fmin = cutoff, n_mfcc = n)"
   ]
  },
  {
   "cell_type": "markdown",
   "id": "1368a430-2a47-4639-8e04-d4d860e59b43",
   "metadata": {},
   "source": [
    "### Function to get periods. Returns an array of length 36 where the i-th entry being large says that probably has some periodic feature with between 10i and 11i periods per minute"
   ]
  },
  {
   "cell_type": "code",
   "execution_count": 6,
   "id": "39b5e89e-718b-43e0-a037-14d0076c1f60",
   "metadata": {},
   "outputs": [],
   "source": [
    "#should rename to chirp frequencies instead of periods\n",
    "def get_periods(song, cutoff = 800, tsps = 44):\n",
    "    #tsps is time stamps per second\n",
    "    D = np.abs(librosa.stft(song, n_fft=n_fft,  hop_length=hop_length))\n",
    "    cut = int(float(cutoff)/(librosa.fft_frequencies()[1]))\n",
    "    D = D[cut:]\n",
    "\n",
    "    #perform fft on the volume of the noise\n",
    "    data = D.sum(axis=0)\n",
    "    time =  D.shape[1]\n",
    "    halftime = int(time/2)\n",
    "    data2 = data- data.mean()\n",
    "    fft = np.absolute(scipy.fft.fft(data2))\n",
    "    fft2 = fft[2:halftime]\n",
    "    scaler = StandardScaler()\n",
    "    scaled_fft = scaler.fit_transform((fft2.T).reshape(-1,1))\n",
    "\n",
    "    #bucket together close by periods to make data smaller. I'm kinda arbitrarily squaring to make more prevalent periods noticed\n",
    "    buckets = np.zeros((48))\n",
    "    counter = np.zeros((48))\n",
    "    mini = min(data.shape[0],int(8*time/tsps -3))\n",
    "    for i in range(0,mini):\n",
    "        #44 is the number of time samples per second\n",
    "        bucket_num = int((i+2)/time*tsps*60/10)\n",
    "        if scaled_fft[i]>0:\n",
    "            buckets[bucket_num] = buckets[bucket_num] + np.square(scaled_fft[i,0])\n",
    "        counter[bucket_num] = counter[bucket_num]+1\n",
    "    for j in range(0,48):\n",
    "        if buckets[j]>0:\n",
    "            buckets[j] = buckets[j]/counter[j]\n",
    "\n",
    "    return buckets"
   ]
  }
 ],
 "metadata": {
  "kernelspec": {
   "display_name": "Python 3 (ipykernel)",
   "language": "python",
   "name": "python3"
  },
  "language_info": {
   "codemirror_mode": {
    "name": "ipython",
    "version": 3
   },
   "file_extension": ".py",
   "mimetype": "text/x-python",
   "name": "python",
   "nbconvert_exporter": "python",
   "pygments_lexer": "ipython3",
   "version": "3.11.9"
  }
 },
 "nbformat": 4,
 "nbformat_minor": 5
}
