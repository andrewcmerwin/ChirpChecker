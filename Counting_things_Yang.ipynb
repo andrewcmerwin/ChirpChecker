{
 "cells": [
  {
   "cell_type": "markdown",
   "id": "72a9c22b",
   "metadata": {},
   "source": [
    "## Basic processing of the data file\n",
    "#### Warning: part of this notebook modifies number of column and saves data to new data file. Avoid using the \"Run All\" option. Repeated running of some of these codes may create duplicate columns of \"genus\" and save that to the \"...._with_genus.csv\" file.\n",
    "\n",
    "- count entries by scientific name\n",
    "- create new column that's just the genus\n",
    "    - if SN only has one word then keep it, otherwise take the first word  \n",
    "- count entries by genus\n",
    "\n",
    "Summary: \n",
    "- some columns are entirely null, we will get rid of them at some point\n",
    "- by scientific name, there are 364 different species \n",
    "- by genus name, there are 109 different genera. 13 of these have only one data point, 39 of these have less than 10\n",
    "- we will have problem doing cross validation with genera with only a few data points. We need to save some for test set and further split them for cross validation. It would be very imbalanced: some genera would have say 300 and some would have 1 point. This will make some stats "
   ]
  },
  {
   "cell_type": "code",
   "execution_count": 1,
   "id": "e9c62392",
   "metadata": {},
   "outputs": [],
   "source": [
    "import pandas as pd"
   ]
  },
  {
   "cell_type": "code",
   "execution_count": 2,
   "id": "37a8835a",
   "metadata": {},
   "outputs": [],
   "source": [
    "df = pd.read_csv('MLNS_Insects.csv')"
   ]
  },
  {
   "cell_type": "code",
   "execution_count": 3,
   "id": "b8a50c37",
   "metadata": {
    "collapsed": true
   },
   "outputs": [
    {
     "name": "stdout",
     "output_type": "stream",
     "text": [
      "<class 'pandas.core.frame.DataFrame'>\n",
      "RangeIndex: 13461 entries, 0 to 13460\n",
      "Data columns (total 48 columns):\n",
      " #   Column                       Non-Null Count  Dtype  \n",
      "---  ------                       --------------  -----  \n",
      " 0   cat_num                      13461 non-null  float64\n",
      " 1   format                       13461 non-null  object \n",
      " 2   common_name                  11191 non-null  object \n",
      " 3   scientific_name              13461 non-null  object \n",
      " 4   background_species           128 non-null    object \n",
      " 5   recordist                    13461 non-null  object \n",
      " 6   date                         13437 non-null  object \n",
      " 7   year                         13442 non-null  float64\n",
      " 8   month                        13440 non-null  float64\n",
      " 9   day                          13437 non-null  float64\n",
      " 10  time                         8411 non-null   float64\n",
      " 11  country                      13434 non-null  object \n",
      " 12  country.state.county         13434 non-null  object \n",
      " 13  state                        12321 non-null  object \n",
      " 14  county                       10469 non-null  object \n",
      " 15  locality                     11923 non-null  object \n",
      " 16  latitude                     6028 non-null   float64\n",
      " 17  longitude                    6028 non-null   float64\n",
      " 18  age.sex                      11409 non-null  object \n",
      " 19  behaviors                    5902 non-null   object \n",
      " 20  playback                     13461 non-null  object \n",
      " 21  captive                      5053 non-null   object \n",
      " 22  collected                    9157 non-null   object \n",
      " 23  specimen_id                  1640 non-null   object \n",
      " 24  home_archive_catalog_number  5 non-null      object \n",
      " 25  recorder                     13098 non-null  object \n",
      " 26  microphone                   10933 non-null  object \n",
      " 27  accessory                    1490 non-null   object \n",
      " 28  partner_institution          9 non-null      object \n",
      " 29  ebird_checklist_id           35 non-null     object \n",
      " 30  unconfirmed                  0 non-null      float64\n",
      " 31  air_temp..c.                 4100 non-null   float64\n",
      " 32  water_temp..c.               1 non-null      float64\n",
      " 33  media_notes                  12929 non-null  object \n",
      " 34  observation_details          0 non-null      float64\n",
      " 35  class                        0 non-null      float64\n",
      " 36  order                        0 non-null      float64\n",
      " 37  family                       0 non-null      float64\n",
      " 38  parent_species               13461 non-null  object \n",
      " 39  ebird_species_code           13461 non-null  object \n",
      " 40  taxon_category               8822 non-null   object \n",
      " 41  taxonomic_sort               10 non-null     float64\n",
      " 42  recordist_2                  844 non-null    object \n",
      " 43  average_community_rating     13461 non-null  float64\n",
      " 44  number_of_ratings            13461 non-null  int64  \n",
      " 45  asset_tags                   5053 non-null   object \n",
      " 46  original_image_height        0 non-null      float64\n",
      " 47  original_image_width         0 non-null      float64\n",
      "dtypes: float64(18), int64(1), object(29)\n",
      "memory usage: 4.9+ MB\n"
     ]
    }
   ],
   "source": [
    "df.head()\n",
    "df.info()"
   ]
  },
  {
   "cell_type": "markdown",
   "id": "81c6314e",
   "metadata": {},
   "source": [
    "# vvv\n",
    "### The block below adds genus column and changes order of colums and saves the dataframe to file. Note that the cells that are NA in the original file are now just empty cells. "
   ]
  },
  {
   "cell_type": "code",
   "execution_count": 61,
   "id": "2ab91bde",
   "metadata": {},
   "outputs": [],
   "source": [
    "# create genus column: take the first word in scientific name\n",
    "df['genus'] = df['scientific_name'].apply(lambda x: x.split()[0])\n",
    "# rearrange to have genus sit right before scientific name\n",
    "cols = df.columns.tolist()\n",
    "cols = cols[:3] + [cols[-1]] + cols[3:-1]\n",
    "df = df[cols]\n",
    "\n",
    "df.to_csv('MLSN_Insects_with_genus.csv', index=False)"
   ]
  },
  {
   "cell_type": "markdown",
   "id": "3773972e",
   "metadata": {},
   "source": [
    "# vvv\n",
    "Counting stuff\n",
    "<br> Re-read the file so one can run the following code without adding extra genus columns"
   ]
  },
  {
   "cell_type": "code",
   "execution_count": 9,
   "id": "3707a8d6",
   "metadata": {},
   "outputs": [],
   "source": [
    "df = pd.read_csv('MLSN_Insects_with_genus.csv')"
   ]
  },
  {
   "cell_type": "code",
   "execution_count": 10,
   "id": "61b3d202",
   "metadata": {
    "collapsed": true
   },
   "outputs": [
    {
     "data": {
      "text/plain": [
       "scientific_name\n",
       "Gryllus campestris              1\n",
       "Pictonemobius                   1\n",
       "Amphiacusta annulipes           1\n",
       "Gryllotalpa                     1\n",
       "Petaloptera                     1\n",
       "                             ... \n",
       "Gryllus pennsylvanicus        280\n",
       "Oecanthus quadripunctatus     301\n",
       "Gryllus rubens                371\n",
       "Anaxipha                      419\n",
       "Gryllus                      2986\n",
       "Name: cat_num, Length: 364, dtype: int64"
      ]
     },
     "execution_count": 10,
     "metadata": {},
     "output_type": "execute_result"
    }
   ],
   "source": [
    "# counts data points grouped by scientific name\n",
    "name_counts = df.groupby('scientific_name').cat_num.count()\n",
    "name_counts.sort_values()"
   ]
  },
  {
   "cell_type": "code",
   "execution_count": 11,
   "id": "8a551fee",
   "metadata": {
    "collapsed": true
   },
   "outputs": [
    {
     "data": {
      "text/plain": [
       "genus\n",
       "Neocicada             1\n",
       "Eriolus               1\n",
       "Ephippitytha          1\n",
       "Eneoptera             1\n",
       "Dissosteira           1\n",
       "                   ... \n",
       "Anaxipha            613\n",
       "Neoconocephalus     661\n",
       "Cycloptilum         736\n",
       "Oecanthus          1206\n",
       "Gryllus            4772\n",
       "Name: cat_num, Length: 109, dtype: int64"
      ]
     },
     "execution_count": 11,
     "metadata": {},
     "output_type": "execute_result"
    }
   ],
   "source": [
    "# recount number of data points grouped by genus\n",
    "genus_counts = df.groupby('genus').cat_num.count()\n",
    "genus_counts.sort_values()"
   ]
  },
  {
   "cell_type": "code",
   "execution_count": 59,
   "id": "c362efd6",
   "metadata": {
    "collapsed": true
   },
   "outputs": [
    {
     "name": "stdout",
     "output_type": "stream",
     "text": [
      "Acheta 5\n",
      "Acrididae 5\n",
      "Antillicharis 4\n",
      "Caribophyllum 4\n",
      "Ceraia 9\n",
      "Cocconotus 3\n",
      "Diatrypa 3\n",
      "Diceroprocta 1\n",
      "Dissosteira 1\n",
      "Eneoptera 1\n",
      "Ephippitytha 1\n",
      "Eriolus 1\n",
      "Fidicina 2\n",
      "Froggattina 8\n",
      "Gryllacrididae 1\n",
      "Henicopsaltria 4\n",
      "Hispanogryllus 3\n",
      "Idiostatus 7\n",
      "Ischyra 6\n",
      "Megatibicen 1\n",
      "Miogryllus 2\n",
      "Nemobius 1\n",
      "Neocicada 1\n",
      "Oreopedes 4\n",
      "Paracyrtophyllus 4\n",
      "Petaloptera 1\n",
      "Phoebolampta 2\n",
      "Phrixa 2\n",
      "Plagiostira 6\n",
      "Psaltoda 1\n",
      "Pseudopleminia 5\n",
      "Romalea 3\n",
      "Scapsipedus 4\n",
      "Steiroxys 3\n",
      "Syntechna 1\n",
      "Teleogryllus 2\n",
      "Tibicen 9\n",
      "Xabea 1\n",
      "Xenogryllus 9\n",
      "39\n"
     ]
    }
   ],
   "source": [
    "# count rare occurance, genus\n",
    "counts = 0\n",
    "for i,v in genus_counts.items():\n",
    "    if v < 10:\n",
    "        print(i, v)\n",
    "        counts += 1\n",
    "print(counts)"
   ]
  },
  {
   "cell_type": "code",
   "execution_count": 4,
   "id": "f6c4fb53",
   "metadata": {
    "collapsed": true
   },
   "outputs": [
    {
     "data": {
      "text/plain": [
       "fam_or_subfam\n",
       "Acrididae             17\n",
       "Cicadidae            269\n",
       "Conocephalinae      1489\n",
       "Eneopterinae          51\n",
       "Gryllacrididae         1\n",
       "Gryllinae           4965\n",
       "Gryllotalpidae       203\n",
       "Hapithinae           643\n",
       "Listroscelidinae      19\n",
       "Mogoplistinae        758\n",
       "Nemobiinae           792\n",
       "Oecanthinae         1230\n",
       "Phalangopsidae        19\n",
       "Phaneropterinae     1063\n",
       "Pseudophyllinae      271\n",
       "Tettigoniinae        575\n",
       "Trigonidiinae        879\n",
       "Name: cat_num, dtype: int64"
      ]
     },
     "execution_count": 4,
     "metadata": {},
     "output_type": "execute_result"
    }
   ],
   "source": [
    "df = pd.read_csv(\"MLNS_Insects_Fams.csv\")\n",
    "df.groupby('fam_or_subfam').cat_num.count()"
   ]
  },
  {
   "cell_type": "markdown",
   "id": "8be21174",
   "metadata": {},
   "source": [
    "# vvv\n",
    "Collect files that have no human voice (list created by robert)"
   ]
  },
  {
   "cell_type": "code",
   "execution_count": 47,
   "id": "e679799c",
   "metadata": {},
   "outputs": [],
   "source": [
    "no_voice_list = pd.read_csv('no_voice_files.csv', header=None)\n",
    "filename_list = [name.split(\"\\\\\")[-1] for name in no_voice_list[0]]"
   ]
  },
  {
   "cell_type": "code",
   "execution_count": 51,
   "id": "bd12e8bb",
   "metadata": {},
   "outputs": [],
   "source": [
    "import os,shutil\n",
    "big_folder = 'E:\\chirpfiles\\\\actual_chirp_files\\\\'\n",
    "new_folder = 'E:\\chirpfiles\\\\no_voice_files\\\\'\n",
    "\n",
    "for name in filename_list:\n",
    "    scr = big_folder + name\n",
    "    des = new_folder + name\n",
    "    shutil.copy(scr, des)\n"
   ]
  },
  {
   "cell_type": "code",
   "execution_count": null,
   "id": "f997c228",
   "metadata": {},
   "outputs": [],
   "source": []
  }
 ],
 "metadata": {
  "kernelspec": {
   "display_name": "Python 3 (ipykernel)",
   "language": "python",
   "name": "python3"
  },
  "language_info": {
   "codemirror_mode": {
    "name": "ipython",
    "version": 3
   },
   "file_extension": ".py",
   "mimetype": "text/x-python",
   "name": "python",
   "nbconvert_exporter": "python",
   "pygments_lexer": "ipython3",
   "version": "3.10.9"
  }
 },
 "nbformat": 4,
 "nbformat_minor": 5
}
