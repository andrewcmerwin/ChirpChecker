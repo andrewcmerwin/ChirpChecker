{
 "cells": [
  {
   "cell_type": "markdown",
   "id": "72a9c22b",
   "metadata": {},
   "source": [
    "## Basic processing of the data file\n",
    "- count entries by scientific name\n",
    "- create new column that's just the genus\n",
    "    - if SN only has one word then keep it, otherwise take the first word  \n",
    "- count entries by genus\n",
    "\n",
    "Summary: \n",
    "- some columns are entirely null, we will get rid of them at some point\n",
    "- by scientific name, there are 364 different species \n",
    "- by genus name, there are 109 different genera. 13 of these have only one data point, 39 of these have less than 10"
   ]
  },
  {
   "cell_type": "code",
   "execution_count": 54,
   "id": "e9c62392",
   "metadata": {},
   "outputs": [],
   "source": [
    "import pandas as pd"
   ]
  },
  {
   "cell_type": "code",
   "execution_count": 55,
   "id": "37a8835a",
   "metadata": {},
   "outputs": [],
   "source": [
    "df = pd.read_csv('MLNS_Insects.csv')"
   ]
  },
  {
   "cell_type": "code",
   "execution_count": 63,
   "id": "b8a50c37",
   "metadata": {},
   "outputs": [
    {
     "name": "stdout",
     "output_type": "stream",
     "text": [
      "<class 'pandas.core.frame.DataFrame'>\n",
      "RangeIndex: 13461 entries, 0 to 13460\n",
      "Data columns (total 49 columns):\n",
      " #   Column                       Non-Null Count  Dtype  \n",
      "---  ------                       --------------  -----  \n",
      " 0   cat_num                      13461 non-null  float64\n",
      " 1   format                       13461 non-null  object \n",
      " 2   common_name                  11191 non-null  object \n",
      " 3   genus                        13461 non-null  object \n",
      " 4   scientific_name              13461 non-null  object \n",
      " 5   background_species           128 non-null    object \n",
      " 6   recordist                    13461 non-null  object \n",
      " 7   date                         13437 non-null  object \n",
      " 8   year                         13442 non-null  float64\n",
      " 9   month                        13440 non-null  float64\n",
      " 10  day                          13437 non-null  float64\n",
      " 11  time                         8411 non-null   float64\n",
      " 12  country                      13434 non-null  object \n",
      " 13  country.state.county         13434 non-null  object \n",
      " 14  state                        12321 non-null  object \n",
      " 15  county                       10469 non-null  object \n",
      " 16  locality                     11923 non-null  object \n",
      " 17  latitude                     6028 non-null   float64\n",
      " 18  longitude                    6028 non-null   float64\n",
      " 19  age.sex                      11409 non-null  object \n",
      " 20  behaviors                    5902 non-null   object \n",
      " 21  playback                     13461 non-null  object \n",
      " 22  captive                      5053 non-null   object \n",
      " 23  collected                    9157 non-null   object \n",
      " 24  specimen_id                  1640 non-null   object \n",
      " 25  home_archive_catalog_number  5 non-null      object \n",
      " 26  recorder                     13098 non-null  object \n",
      " 27  microphone                   10933 non-null  object \n",
      " 28  accessory                    1490 non-null   object \n",
      " 29  partner_institution          9 non-null      object \n",
      " 30  ebird_checklist_id           35 non-null     object \n",
      " 31  unconfirmed                  0 non-null      float64\n",
      " 32  air_temp..c.                 4100 non-null   float64\n",
      " 33  water_temp..c.               1 non-null      float64\n",
      " 34  media_notes                  12929 non-null  object \n",
      " 35  observation_details          0 non-null      float64\n",
      " 36  class                        0 non-null      float64\n",
      " 37  order                        0 non-null      float64\n",
      " 38  family                       0 non-null      float64\n",
      " 39  parent_species               13461 non-null  object \n",
      " 40  ebird_species_code           13461 non-null  object \n",
      " 41  taxon_category               8822 non-null   object \n",
      " 42  taxonomic_sort               10 non-null     float64\n",
      " 43  recordist_2                  844 non-null    object \n",
      " 44  average_community_rating     13461 non-null  float64\n",
      " 45  number_of_ratings            13461 non-null  int64  \n",
      " 46  asset_tags                   5053 non-null   object \n",
      " 47  original_image_height        0 non-null      float64\n",
      " 48  original_image_width         0 non-null      float64\n",
      "dtypes: float64(18), int64(1), object(30)\n",
      "memory usage: 5.0+ MB\n"
     ]
    }
   ],
   "source": [
    "df.head()\n",
    "df.info()"
   ]
  },
  {
   "cell_type": "markdown",
   "id": "81c6314e",
   "metadata": {},
   "source": [
    "# vvv\n",
    "The block below adds genus column and changes order of colums and saves the dataframe to file.\n",
    "Note that the cells that are NA in the original file are now just empty cells. "
   ]
  },
  {
   "cell_type": "code",
   "execution_count": 61,
   "id": "2ab91bde",
   "metadata": {},
   "outputs": [],
   "source": [
    "# create genus column: take the first word in scientific name\n",
    "df['genus'] = df['scientific_name'].apply(lambda x: x.split()[0])\n",
    "# rearrange to have genus sit right before scientific name\n",
    "cols = df.columns.tolist()\n",
    "cols = cols[:3] + [cols[-1]] + cols[3:-1]\n",
    "df = df[cols]\n",
    "\n",
    "df.to_csv('MLSN_Insects_with_genus.csv', index=False)"
   ]
  },
  {
   "cell_type": "markdown",
   "id": "3773972e",
   "metadata": {},
   "source": [
    "# vvv\n",
    "Counting stuff"
   ]
  },
  {
   "cell_type": "code",
   "execution_count": null,
   "id": "61b3d202",
   "metadata": {},
   "outputs": [],
   "source": [
    "# counts data points grouped by scientific name\n",
    "name_counts = df.groupby('scientific_name').cat_num.count()\n",
    "name_counts.sort_values()"
   ]
  },
  {
   "cell_type": "code",
   "execution_count": 58,
   "id": "8a551fee",
   "metadata": {},
   "outputs": [
    {
     "data": {
      "text/plain": [
       "genus\n",
       "Neocicada             1\n",
       "Eriolus               1\n",
       "Ephippitytha          1\n",
       "Eneoptera             1\n",
       "Dissosteira           1\n",
       "                   ... \n",
       "Anaxipha            613\n",
       "Neoconocephalus     661\n",
       "Cycloptilum         736\n",
       "Oecanthus          1206\n",
       "Gryllus            4772\n",
       "Name: cat_num, Length: 109, dtype: int64"
      ]
     },
     "execution_count": 58,
     "metadata": {},
     "output_type": "execute_result"
    }
   ],
   "source": [
    "# recount number of data points grouped by genus\n",
    "genus_counts = df.groupby('genus').cat_num.count()\n",
    "genus_counts.sort_values()"
   ]
  },
  {
   "cell_type": "code",
   "execution_count": 59,
   "id": "c362efd6",
   "metadata": {},
   "outputs": [
    {
     "name": "stdout",
     "output_type": "stream",
     "text": [
      "Acheta 5\n",
      "Acrididae 5\n",
      "Antillicharis 4\n",
      "Caribophyllum 4\n",
      "Ceraia 9\n",
      "Cocconotus 3\n",
      "Diatrypa 3\n",
      "Diceroprocta 1\n",
      "Dissosteira 1\n",
      "Eneoptera 1\n",
      "Ephippitytha 1\n",
      "Eriolus 1\n",
      "Fidicina 2\n",
      "Froggattina 8\n",
      "Gryllacrididae 1\n",
      "Henicopsaltria 4\n",
      "Hispanogryllus 3\n",
      "Idiostatus 7\n",
      "Ischyra 6\n",
      "Megatibicen 1\n",
      "Miogryllus 2\n",
      "Nemobius 1\n",
      "Neocicada 1\n",
      "Oreopedes 4\n",
      "Paracyrtophyllus 4\n",
      "Petaloptera 1\n",
      "Phoebolampta 2\n",
      "Phrixa 2\n",
      "Plagiostira 6\n",
      "Psaltoda 1\n",
      "Pseudopleminia 5\n",
      "Romalea 3\n",
      "Scapsipedus 4\n",
      "Steiroxys 3\n",
      "Syntechna 1\n",
      "Teleogryllus 2\n",
      "Tibicen 9\n",
      "Xabea 1\n",
      "Xenogryllus 9\n",
      "39\n"
     ]
    }
   ],
   "source": [
    "# count rare occurance, genus\n",
    "counts = 0\n",
    "for i,v in genus_counts.items():\n",
    "    if v < 10:\n",
    "        print(i, v)\n",
    "        counts += 1\n",
    "print(counts)"
   ]
  },
  {
   "cell_type": "code",
   "execution_count": null,
   "id": "f6c4fb53",
   "metadata": {},
   "outputs": [],
   "source": []
  }
 ],
 "metadata": {
  "kernelspec": {
   "display_name": "Python 3 (ipykernel)",
   "language": "python",
   "name": "python3"
  },
  "language_info": {
   "codemirror_mode": {
    "name": "ipython",
    "version": 3
   },
   "file_extension": ".py",
   "mimetype": "text/x-python",
   "name": "python",
   "nbconvert_exporter": "python",
   "pygments_lexer": "ipython3",
   "version": "3.10.9"
  }
 },
 "nbformat": 4,
 "nbformat_minor": 5
}
