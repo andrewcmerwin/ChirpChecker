{
 "cells": [
  {
   "cell_type": "code",
   "execution_count": 13,
   "id": "e6d4848d-8b02-4882-b818-21d4bdb3dda3",
   "metadata": {},
   "outputs": [],
   "source": [
    "import librosa, librosa.display\n",
    "import numpy as np\n",
    "import matplotlib.pyplot as plt\n",
    "import os\n",
    "import scipy\n",
    "import math\n",
    "import pandas as pd\n",
    "from sklearn.model_selection import train_test_split\n",
    "from sklearn.metrics import confusion_matrix\n",
    "from sklearn.discriminant_analysis import LinearDiscriminantAnalysis\n",
    "from sklearn.neighbors import KNeighborsClassifier\n",
    "from sklearn.pipeline import Pipeline\n",
    "from sklearn.preprocessing import StandardScaler"
   ]
  },
  {
   "cell_type": "code",
   "execution_count": 14,
   "id": "710070f3-0800-4685-89df-a869d6b0e3c1",
   "metadata": {},
   "outputs": [],
   "source": [
    "df = pd.read_csv('MLNS_with_main_freq_and_range_05272024.csv')\n",
    "no_voice_list = pd.read_csv('no_voice_files.csv', header=None)\n",
    "filename_list = [name.split(\"\\\\\")[-1] for name in no_voice_list[0]]\n",
    "df2=df[0:0]\n",
    "for name in filename_list:\n",
    "    df2=pd.concat([df2, df.loc[df['cat_num']==int(name[:-4])]], ignore_index=True)\n",
    "df=df2"
   ]
  },
  {
   "cell_type": "code",
   "execution_count": 15,
   "id": "032ba500-cc0d-4bdb-a9eb-dbab05e336d6",
   "metadata": {},
   "outputs": [],
   "source": [
    "df=df.drop(df.loc[df['critter_name']=='grasshopper'].index[0])"
   ]
  },
  {
   "cell_type": "code",
   "execution_count": 16,
   "id": "284a610b-3146-45b4-965c-b28e309915bb",
   "metadata": {},
   "outputs": [],
   "source": [
    "df = df.loc[df['range'] > -10000000]"
   ]
  },
  {
   "cell_type": "code",
   "execution_count": 17,
   "id": "2491a016-5b7b-40a5-9564-9b6ad0a7c678",
   "metadata": {},
   "outputs": [
    {
     "data": {
      "text/plain": [
       "fam_or_subfam\n",
       "Gryllinae           1444\n",
       "Conocephalinae       896\n",
       "Oecanthinae          763\n",
       "Phaneropterinae      653\n",
       "Trigonidiinae        566\n",
       "Mogoplistinae        408\n",
       "Nemobiinae           392\n",
       "Hapithinae           388\n",
       "Tettigoniinae        292\n",
       "Pseudophyllinae      142\n",
       "Cicadidae             60\n",
       "Gryllotalpidae        42\n",
       "Eneopterinae          31\n",
       "Phalangopsidae        12\n",
       "Listroscelidinae      10\n",
       "Name: count, dtype: int64"
      ]
     },
     "execution_count": 17,
     "metadata": {},
     "output_type": "execute_result"
    }
   ],
   "source": [
    "df['fam_or_subfam'].value_counts()"
   ]
  },
  {
   "cell_type": "code",
   "execution_count": 6,
   "id": "b95ecac2-633f-47e5-ac4a-0f8d947ae06d",
   "metadata": {},
   "outputs": [],
   "source": [
    "X=df[['main_freq', 'max_mean']]\n",
    "Y=df['fam_or_subfam']"
   ]
  },
  {
   "cell_type": "code",
   "execution_count": 7,
   "id": "fae07b1a-3aec-4aa9-bc82-d39c2fc84470",
   "metadata": {},
   "outputs": [],
   "source": [
    "X_train, X_test, y_train, y_test = train_test_split(X.copy(), Y,\n",
    "                                                       shuffle=True,\n",
    "                                                       random_state=17,\n",
    "                                                       test_size=.2,\n",
    "                                                       stratify=Y)"
   ]
  },
  {
   "cell_type": "code",
   "execution_count": 8,
   "id": "cec49fe0-791c-4c7a-a213-1d58170098a8",
   "metadata": {},
   "outputs": [],
   "source": [
    "from sklearn.metrics import accuracy_score"
   ]
  },
  {
   "cell_type": "code",
   "execution_count": 9,
   "id": "1d9d6016-f340-413b-8c8b-03018533f1da",
   "metadata": {},
   "outputs": [
    {
     "name": "stdout",
     "output_type": "stream",
     "text": [
      "Test Accuracy when k = 1: 0.3729508196721312\n",
      "Test Accuracy when k = 2: 0.38934426229508196\n",
      "Test Accuracy when k = 3: 0.4278688524590164\n",
      "Test Accuracy when k = 4: 0.4426229508196721\n",
      "Test Accuracy when k = 5: 0.45901639344262296\n",
      "Test Accuracy when k = 6: 0.4663934426229508\n",
      "Test Accuracy when k = 7: 0.46311475409836067\n",
      "Test Accuracy when k = 8: 0.46885245901639344\n",
      "Test Accuracy when k = 9: 0.4639344262295082\n",
      "Test Accuracy when k = 10: 0.48032786885245904\n",
      "Test Accuracy when k = 11: 0.48442622950819675\n",
      "Test Accuracy when k = 12: 0.4926229508196721\n",
      "Test Accuracy when k = 13: 0.48442622950819675\n",
      "Test Accuracy when k = 14: 0.4885245901639344\n",
      "Test Accuracy when k = 15: 0.4918032786885246\n",
      "Test Accuracy when k = 16: 0.489344262295082\n",
      "Test Accuracy when k = 17: 0.47950819672131145\n",
      "Test Accuracy when k = 18: 0.48688524590163934\n",
      "Test Accuracy when k = 19: 0.4819672131147541\n",
      "Test Accuracy when k = 20: 0.4885245901639344\n",
      "Test Accuracy when k = 21: 0.48770491803278687\n",
      "Test Accuracy when k = 22: 0.4901639344262295\n",
      "Test Accuracy when k = 23: 0.4885245901639344\n",
      "Test Accuracy when k = 24: 0.49508196721311476\n",
      "Test Accuracy when k = 25: 0.49508196721311476\n",
      "Test Accuracy when k = 26: 0.4959016393442623\n",
      "Test Accuracy when k = 27: 0.4934426229508197\n",
      "Test Accuracy when k = 28: 0.49754098360655735\n",
      "Test Accuracy when k = 29: 0.5057377049180328\n",
      "Test Accuracy when k = 30: 0.5016393442622951\n",
      "Test Accuracy when k = 31: 0.5016393442622951\n",
      "Test Accuracy when k = 32: 0.5\n",
      "Test Accuracy when k = 33: 0.5\n",
      "Test Accuracy when k = 34: 0.49426229508196723\n",
      "Test Accuracy when k = 35: 0.5008196721311475\n",
      "Test Accuracy when k = 36: 0.5049180327868853\n",
      "Test Accuracy when k = 37: 0.49836065573770494\n",
      "Test Accuracy when k = 38: 0.4959016393442623\n",
      "Test Accuracy when k = 39: 0.4918032786885246\n",
      "Test Accuracy when k = 40: 0.49508196721311476\n",
      "Test Accuracy when k = 41: 0.4934426229508197\n",
      "Test Accuracy when k = 42: 0.5016393442622951\n",
      "Test Accuracy when k = 43: 0.5016393442622951\n",
      "Test Accuracy when k = 44: 0.49754098360655735\n",
      "Test Accuracy when k = 45: 0.49836065573770494\n",
      "Test Accuracy when k = 46: 0.5008196721311475\n",
      "Test Accuracy when k = 47: 0.49836065573770494\n",
      "Test Accuracy when k = 48: 0.49754098360655735\n",
      "Test Accuracy when k = 49: 0.49836065573770494\n",
      "Test Accuracy when k = 50: 0.49508196721311476\n"
     ]
    }
   ],
   "source": [
    "for k in range(1,51):\n",
    "    knn_pipe = Pipeline([('scale', StandardScaler()), ('knn', KNeighborsClassifier(k))])\n",
    "    knn_pipe.fit(X_train, y_train)\n",
    "    pred = knn_pipe.predict(X_test)\n",
    "    score = accuracy_score(y_test,pred)\n",
    "    print(f\"Test Accuracy when k = {k}: {score}\")"
   ]
  },
  {
   "cell_type": "code",
   "execution_count": null,
   "id": "618d5230-606e-4793-8fef-9342e8ee88e1",
   "metadata": {},
   "outputs": [],
   "source": []
  }
 ],
 "metadata": {
  "kernelspec": {
   "display_name": "Python 3 (ipykernel)",
   "language": "python",
   "name": "python3"
  },
  "language_info": {
   "codemirror_mode": {
    "name": "ipython",
    "version": 3
   },
   "file_extension": ".py",
   "mimetype": "text/x-python",
   "name": "python",
   "nbconvert_exporter": "python",
   "pygments_lexer": "ipython3",
   "version": "3.11.9"
  }
 },
 "nbformat": 4,
 "nbformat_minor": 5
}
