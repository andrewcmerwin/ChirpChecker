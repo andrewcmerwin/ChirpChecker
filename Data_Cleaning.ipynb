{
 "cells": [
  {
   "cell_type": "code",
   "execution_count": 57,
   "id": "dfaf8d78-2628-498f-9921-143a08f80c4a",
   "metadata": {},
   "outputs": [],
   "source": [
    "import librosa, librosa.display\n",
    "import numpy as np\n",
    "import matplotlib.pyplot as plt\n",
    "import os\n",
    "import scipy"
   ]
  },
  {
   "cell_type": "code",
   "execution_count": 64,
   "id": "661c5630-4426-4ed9-8a11-fac9d41e7a9e",
   "metadata": {},
   "outputs": [],
   "source": [
    "directory = 'sample_audio_files'\n",
    "hop_length = 1024\n",
    "n_fft = 2048"
   ]
  },
  {
   "cell_type": "code",
   "execution_count": 65,
   "id": "616ec43b-3dfb-4fa9-993d-a911380d6aff",
   "metadata": {},
   "outputs": [
    {
     "ename": "FileNotFoundError",
     "evalue": "[Errno 2] No such file or directory: 'sample_audio_files'",
     "output_type": "error",
     "traceback": [
      "\u001b[0;31m---------------------------------------------------------------------------\u001b[0m",
      "\u001b[0;31mFileNotFoundError\u001b[0m                         Traceback (most recent call last)",
      "Cell \u001b[0;32mIn[65], line 1\u001b[0m\n\u001b[0;32m----> 1\u001b[0m \u001b[38;5;28;01mfor\u001b[39;00m filename \u001b[38;5;129;01min\u001b[39;00m \u001b[43mos\u001b[49m\u001b[38;5;241;43m.\u001b[39;49m\u001b[43mlistdir\u001b[49m\u001b[43m(\u001b[49m\u001b[43mdirectory\u001b[49m\u001b[43m)\u001b[49m:\n\u001b[1;32m      2\u001b[0m     f \u001b[38;5;241m=\u001b[39m os\u001b[38;5;241m.\u001b[39mpath\u001b[38;5;241m.\u001b[39mjoin(directory, filename)\n\u001b[1;32m      3\u001b[0m     \u001b[38;5;66;03m# checking if it is a file\u001b[39;00m\n",
      "\u001b[0;31mFileNotFoundError\u001b[0m: [Errno 2] No such file or directory: 'sample_audio_files'"
     ]
    }
   ],
   "source": [
    "for filename in os.listdir(directory):\n",
    "    f = os.path.join(directory, filename)\n",
    "    # checking if it is a file\n",
    "    if os.path.isfile(f):\n",
    "        print(filename)\n",
    "        #print(librosa.feature.mfcc(y=remove_Talking(f))[1:20,5])\n",
    "        #plt.plot(librosa.feature.mfcc(y=remove_Talking(f))[0,])\n",
    "        #plt.show()\n",
    "        #librosa.display.specshow(librosa.feature.mfcc(y=remove_Talking(f)), x_axis='time')\n",
    "        #plt.show()\n",
    "        D = remove_low_freq(remove_Talking(f))\n",
    "        mfcc_from_clean(D)\n",
    "        \n",
    "        #plot_no_low(D)\n",
    "        #plot_no_low(D, True)\n",
    "        #plot_no_low(clean(DB))"
   ]
  },
  {
   "cell_type": "code",
   "execution_count": 12,
   "id": "99d813fe-b8cf-4425-b8e6-e41fd0cb4818",
   "metadata": {},
   "outputs": [],
   "source": [
    "def remove_Talking(f):\n",
    "    chirp_song, sr = librosa.load(f)\n",
    "    split=librosa.effects.split(chirp_song, top_db=60)\n",
    "    chirp_song_split=chirp_song[split[1,0]:split[1,1]]\n",
    "    if chirp_song_split.shape[0] > 225000:\n",
    "        chirp_song_split = chirp_song_split[:225000]\n",
    "    return chirp_song_split"
   ]
  },
  {
   "cell_type": "code",
   "execution_count": 5,
   "id": "0f67edb6-c347-481f-912e-de179fa650b2",
   "metadata": {},
   "outputs": [],
   "source": [
    "def plot_song(song):\n",
    "    hop_length = 1024\n",
    "    n_fft = 2048\n",
    "    D = np.abs(librosa.stft(song, n_fft=n_fft,  hop_length=hop_length))\n",
    "    DB = librosa.amplitude_to_db(D, ref=np.max)\n",
    "    librosa.display.specshow(DB, hop_length=hop_length, x_axis='time', y_axis='log');\n",
    "    plt.colorbar(format='%+2.0f dB');\n",
    "    plt.show()\n",
    "    return None\n",
    "\n",
    "def plot_array(DB):\n",
    "    hop_length = 1024\n",
    "    n_fft = 2048\n",
    "    #DB = librosa.amplitude_to_db(D, ref=np.max)\n",
    "    librosa.display.specshow(DB, hop_length=hop_length, x_axis='time', y_axis='log');\n",
    "    plt.colorbar(format='%+2.0f dB');\n",
    "    plt.show()\n",
    "    return None\n",
    "\n",
    "def plot_no_low(D,clean = False):\n",
    "    hop_length = 1024\n",
    "    n_fft = 2048\n",
    "    DB = librosa.amplitude_to_db(D, ref=np.max)\n",
    "    if clean:\n",
    "        DB = clean_DB(DB)\n",
    "    librosa.display.specshow(DB, hop_length=hop_length, x_axis='time', y_axis='log');\n",
    "    plt.ylim(750,10000)\n",
    "    plt.colorbar(format='%+2.0f dB');\n",
    "    plt.show()\n",
    "    return None\n",
    "    "
   ]
  },
  {
   "cell_type": "code",
   "execution_count": 6,
   "id": "edc1c8fa-bbef-44f9-9523-2e2f1d3c23b9",
   "metadata": {},
   "outputs": [],
   "source": [
    "def remove_low_freq(song):\n",
    "    D = np.abs(librosa.stft(song, n_fft=n_fft,  hop_length=hop_length))\n",
    "    D=D[64:]\n",
    "    return D"
   ]
  },
  {
   "cell_type": "code",
   "execution_count": 7,
   "id": "98364ae9-8b6e-41e6-b61b-2d5fbbb0962b",
   "metadata": {},
   "outputs": [],
   "source": [
    "def zero_low_freq(song):\n",
    "    D = np.abs(librosa.stft(song, n_fft=n_fft,  hop_length=hop_length))\n",
    "    D[:65]=0\n",
    "    return D"
   ]
  },
  {
   "cell_type": "code",
   "execution_count": 8,
   "id": "4de0e79b-b856-4324-8783-6963e451e0da",
   "metadata": {},
   "outputs": [],
   "source": [
    "def clean_DB(DB):\n",
    "    DBclean = np.zeros(DB.shape)\n",
    "    for x in range(0,DB.shape[0]):\n",
    "        med = np.median(DB[x, :])\n",
    "        DBclean[x, :] = DB[x, :]-med\n",
    "    return DBclean"
   ]
  },
  {
   "cell_type": "code",
   "execution_count": 14,
   "id": "fbfaef99-1c0d-4586-841b-38ab7dcdedcb",
   "metadata": {},
   "outputs": [],
   "source": [
    "def mfcc(song):\n",
    "    return librosa.feature.mfcc(song)"
   ]
  },
  {
   "cell_type": "code",
   "execution_count": 62,
   "id": "5159caac-4c8c-4d78-83a1-304dd8da2e64",
   "metadata": {},
   "outputs": [],
   "source": [
    "def mfcc_from_clean(DB):\n",
    "    l=[]\n",
    "    for x in range(0,DB.shape[1]):\n",
    "        col = DB[:,x]\n",
    "        l.append(scipy.fft.dct(col, n =10))\n",
    "    print(l)"
   ]
  },
  {
   "cell_type": "code",
   "execution_count": null,
   "id": "4525f226-23c0-47b9-b6b7-94ddd3ac1c54",
   "metadata": {},
   "outputs": [],
   "source": []
  }
 ],
 "metadata": {
  "kernelspec": {
   "display_name": "Python 3 (ipykernel)",
   "language": "python",
   "name": "python3"
  },
  "language_info": {
   "codemirror_mode": {
    "name": "ipython",
    "version": 3
   },
   "file_extension": ".py",
   "mimetype": "text/x-python",
   "name": "python",
   "nbconvert_exporter": "python",
   "pygments_lexer": "ipython3",
   "version": "3.11.9"
  }
 },
 "nbformat": 4,
 "nbformat_minor": 5
}
