{
 "cells": [
  {
   "cell_type": "markdown",
   "id": "b167a869",
   "metadata": {},
   "source": [
    "Testing CNN method from https://wandb.ai/mostafaibrahim17/ml-articles/reports/An-Introduction-to-Audio-Classification-with-Keras--Vmlldzo0MDQzNDUy#:~:text=%EF%BB%BFKeras%20is%20a%20go,both%20beginners%20and%20advanced%20users.\n",
    "\n",
    "https://keras.io/guides/sequential_model/"
   ]
  },
  {
   "cell_type": "code",
   "execution_count": 13,
   "id": "2b92115a",
   "metadata": {},
   "outputs": [],
   "source": [
    "import os\n",
    "import numpy as np\n",
    "import pandas as pd\n",
    "import librosa\n",
    "from sklearn.model_selection import train_test_split\n",
    "from sklearn.preprocessing import LabelEncoder\n",
    "from sklearn.metrics import confusion_matrix\n",
    "from sklearn import metrics\n",
    "from keras.utils import to_categorical\n",
    "from keras.models import Sequential\n",
    "from keras import layers # example functions: Dense, Dropout, Activation, Flatten, Conv1D, MaxPooling1D\n",
    "from keras import Input\n",
    "from keras.callbacks import EarlyStopping, ModelCheckpoint\n",
    "import matplotlib.pyplot as plt\n",
    "import time"
   ]
  },
  {
   "cell_type": "code",
   "execution_count": 2,
   "id": "f73bc46f",
   "metadata": {},
   "outputs": [],
   "source": [
    "%run FeedingData.ipynb\n",
    "# read Calvin's function files so we can call those functions from this notebook\n",
    "# list of functions: \n",
    "# mfcc_(song, n=20)\n",
    "# mfcc_cut(song, n=20, cutoff = 800)\n",
    "# LFCC(song, n=20)\n",
    "# LFCC_no_low(song, n=20, cutoff = 800)\n",
    "# LFCC_no_low_clean(song, n=20, cutoff = 800)\n",
    "# mfcc_cut_cleaned(song, n=20, cutoff = 800)\n",
    "# main_freq(song, cutoff = 800)"
   ]
  },
  {
   "cell_type": "code",
   "execution_count": 3,
   "id": "01854753",
   "metadata": {},
   "outputs": [],
   "source": [
    "def get_data(audio_path, meta_file, load_length, get_feature_function):\n",
    "    songs_matrix = []\n",
    "    songs_id = []\n",
    "    df = pd.read_csv(meta_file)\n",
    "    id_list = df.cat_num\n",
    "\n",
    "    for name in id_list:\n",
    "        filepath = os.path.join(audio_path, str(name)+'.wav')\n",
    "        # skipping files that are less than 250 ~ 5sec long\n",
    "        # this is to make sure we have enough length for sampling fft time intervals\n",
    "        if os.path.getsize(filepath) < load_length*50000:\n",
    "            continue\n",
    "        # ============ load the data and get matrix ============\n",
    "        # make sure that the size of the feature matrix is the same for all files\n",
    "        song, sr = librosa.load(filepath, duration=load_length)\n",
    "        features = get_feature_function(song, n = 40)\n",
    "        songs_matrix.append(features)\n",
    "        songs_id.append(name)\n",
    "    return np.array(songs_matrix), songs_id"
   ]
  },
  {
   "cell_type": "code",
   "execution_count": 4,
   "id": "80a82dd1",
   "metadata": {},
   "outputs": [],
   "source": [
    "def get_labels(numbers, meta_file, label_name):\n",
    "    # take in list of data id numbers and output their labels in label_name calssification\n",
    "    df = pd.read_csv(meta_file)\n",
    "    labels = []\n",
    "    for num in numbers:\n",
    "        labels.append(df[label_name].loc[df.cat_num == float(num)].item())\n",
    "    return np.array(labels)"
   ]
  },
  {
   "cell_type": "code",
   "execution_count": 5,
   "id": "e5459874",
   "metadata": {},
   "outputs": [],
   "source": [
    "# for converting strings of label from one division to another, e.g. fam/subfam to critter name\n",
    "def convert_labels(labels, meta_file, from_division, to_division):\n",
    "    # find label in labels in meta_file under column from_division\n",
    "    # append as key in dictionary lookup_table, append as value the corresponding label in to_division\n",
    "\n",
    "    df = pd.read_csv(meta_file, usecols=[from_division, to_division])\n",
    "    lookup_table = dict() # look up table for new label\n",
    "    for label in labels:\n",
    "        if label in lookup_table.keys():\n",
    "            continue\n",
    "        idx = df.loc[df[from_division]==label].index[0]\n",
    "        lookup_table[label] = df[to_division][idx]\n",
    "    return [lookup_table[label] for label in labels]"
   ]
  },
  {
   "cell_type": "code",
   "execution_count": 6,
   "id": "6188e75e",
   "metadata": {},
   "outputs": [],
   "source": [
    "def remove_small_class(songs_matrix, songs_label, threshold):\n",
    "    df_class = pd.DataFrame(np.unique(songs_label, return_counts=True)).T\n",
    "    print('Data read:\\n', df_class)\n",
    "    # remove classes with too few data points\n",
    "    small_class_list = []\n",
    "    for row in range(len(df_class)):\n",
    "        if df_class[1].iloc[row] < threshold:\n",
    "            small_class_list.append(df_class[0].iloc[row].item())\n",
    "    print('Removing classes:\\n',small_class_list)\n",
    "    delete_list = []\n",
    "    for small_class in small_class_list:\n",
    "        delete_list += list(np.where(songs_label==small_class)[0])\n",
    "\n",
    "    short_label = np.delete(songs_label, delete_list)\n",
    "    short_matrix = np.delete(songs_matrix, delete_list, 0)\n",
    "    # double check data after deleting\n",
    "    print('Reduced data:\\n', pd.DataFrame(np.unique(short_label, return_counts=True)).T)\n",
    "    return short_matrix, short_label"
   ]
  },
  {
   "cell_type": "code",
   "execution_count": 7,
   "id": "abe43836",
   "metadata": {},
   "outputs": [
    {
     "name": "stdout",
     "output_type": "stream",
     "text": [
      "time loading: 304.03171944618225\n"
     ]
    }
   ],
   "source": [
    "# load all audio in audio_path\n",
    "# convert to matrix, save in np array, \n",
    "# load the corresponding label_name from lable_filename, save in another np array\n",
    "\n",
    "audio_path = 'E:\\chirpfiles\\\\no_voice_files'\n",
    "meta_file = 'MLNS_Final_Train.csv'\n",
    "\n",
    "start = time.time()\n",
    "max_time = 5 # cut off time for loading, in sec\n",
    "get_feature_function = mfcc_cut_cleaned\n",
    "songs_matrix, songs_id = get_data(audio_path, meta_file, max_time, get_feature_function)\n",
    "songs_label_critter = get_labels(songs_id, meta_file, 'critter_name')\n",
    "songs_label_fam = get_labels(songs_id, meta_file, 'fam_or_subfam')\n",
    "end = time.time()\n",
    "print('time loading:', end - start)"
   ]
  },
  {
   "cell_type": "code",
   "execution_count": 35,
   "id": "b895fab7",
   "metadata": {},
   "outputs": [
    {
     "name": "stdout",
     "output_type": "stream",
     "text": [
      "Data read:\n",
      "                    0     1\n",
      "0          Cicadidae    43\n",
      "1     Conocephalinae   657\n",
      "2       Eneopterinae    25\n",
      "3          Gryllinae  1117\n",
      "4     Gryllotalpidae    33\n",
      "5         Hapithinae   297\n",
      "6   Listroscelidinae     8\n",
      "7      Mogoplistinae   269\n",
      "8         Nemobiinae   299\n",
      "9        Oecanthinae   579\n",
      "10    Phalangopsidae    10\n",
      "11   Phaneropterinae   427\n",
      "12   Pseudophyllinae   110\n",
      "13     Tettigoniinae   206\n",
      "14     Trigonidiinae   435\n",
      "Removing classes:\n",
      " []\n",
      "Reduced data:\n",
      "                    0     1\n",
      "0          Cicadidae    43\n",
      "1     Conocephalinae   657\n",
      "2       Eneopterinae    25\n",
      "3          Gryllinae  1117\n",
      "4     Gryllotalpidae    33\n",
      "5         Hapithinae   297\n",
      "6   Listroscelidinae     8\n",
      "7      Mogoplistinae   269\n",
      "8         Nemobiinae   299\n",
      "9        Oecanthinae   579\n",
      "10    Phalangopsidae    10\n",
      "11   Phaneropterinae   427\n",
      "12   Pseudophyllinae   110\n",
      "13     Tettigoniinae   206\n",
      "14     Trigonidiinae   435\n"
     ]
    },
    {
     "data": {
      "text/plain": [
       "(array([[[-3.59213562e+02, -1.92298859e+02, -3.35712891e+01, ...,\n",
       "           3.58978200e+00,  4.53807335e+01,  1.06942108e+02],\n",
       "         [ 7.23509674e+01, -8.45796490e+00, -1.09461737e+01, ...,\n",
       "          -1.44315338e+01,  2.93389244e+01,  8.45843048e+01],\n",
       "         [ 5.71921349e+01, -3.50582862e+00, -8.86510086e+00, ...,\n",
       "           6.86094093e+00,  8.87910175e+00,  4.66737688e-01],\n",
       "         ...,\n",
       "         [ 1.25346828e+00, -4.54836035e+00, -1.38514853e+00, ...,\n",
       "           5.76841259e+00,  5.00658131e+00,  6.97490788e+00],\n",
       "         [ 3.22317934e+00, -9.15467739e-01, -5.75874901e+00, ...,\n",
       "           2.44885325e+00,  2.27636027e+00, -1.12792683e+00],\n",
       "         [-1.48769987e+00,  5.20544291e-01,  2.72642875e+00, ...,\n",
       "          -2.63961196e+00, -6.37924552e-01,  1.10840428e+00]],\n",
       " \n",
       "        [[-5.26963997e+01, -5.26963997e+01, -5.26963997e+01, ...,\n",
       "           4.48670530e+00,  4.68755007e+00, -2.96790552e+00],\n",
       "         [ 1.18776888e-01,  1.18776888e-01,  1.18776888e-01, ...,\n",
       "          -6.96722698e+00, -8.24214840e+00, -2.43863630e+00],\n",
       "         [ 2.48323011e+00,  2.48323011e+00,  2.48323011e+00, ...,\n",
       "           4.87272787e+00,  5.57457018e+00,  1.95311463e+00],\n",
       "         ...,\n",
       "         [ 1.39799750e+00,  1.39799750e+00,  1.39799750e+00, ...,\n",
       "          -5.15313625e-01,  9.17728305e-01,  3.12112188e+00],\n",
       "         [ 1.31909585e+00,  1.31909585e+00,  1.31909585e+00, ...,\n",
       "           2.08132553e+00,  3.14231062e+00, -2.88519478e+00],\n",
       "         [-2.73866749e+00, -2.73866749e+00, -2.73866749e+00, ...,\n",
       "           1.11814976e+00,  5.98308849e+00,  2.21605897e+00]],\n",
       " \n",
       "        [[-5.62456116e+02, -4.35827576e+02, -3.37953583e+02, ...,\n",
       "           2.65959668e+00,  1.54691577e+00, -1.70797119e+01],\n",
       "         [-6.78852539e+01, -3.50243950e+01, -3.41182632e+01, ...,\n",
       "          -8.82206535e+00, -8.81239796e+00, -1.35550861e+01],\n",
       "         [ 5.59030342e+00,  1.14857407e+01,  1.13522091e+01, ...,\n",
       "           2.22755623e+00, -4.46477890e-01, -5.54477501e+00],\n",
       "         ...,\n",
       "         [-1.60772216e+00, -3.05079794e+00, -1.01790011e-01, ...,\n",
       "           7.23094106e-01,  2.57546759e+00,  3.14229441e+00],\n",
       "         [ 2.90832233e+00, -2.06880808e+00,  1.50029814e+00, ...,\n",
       "          -3.57086509e-01,  1.48145840e-01,  5.75781298e+00],\n",
       "         [-2.73512602e+00, -7.19894457e+00, -5.72493076e+00, ...,\n",
       "          -2.49651432e+00, -8.37730050e-01,  2.77305603e-01]],\n",
       " \n",
       "        ...,\n",
       " \n",
       "        [[-3.06176361e+02, -2.33306061e+02, -1.41512650e+02, ...,\n",
       "           1.05786295e+01, -1.21913786e+01, -3.13053837e+01],\n",
       "         [ 3.93849335e+01,  1.14863358e+01,  2.54430275e+01, ...,\n",
       "          -4.92893934e+00,  1.96146965e+01,  3.16681480e+01],\n",
       "         [-3.14925613e+01, -8.88394451e+00, -1.49334259e+01, ...,\n",
       "          -1.80599177e+00, -1.33876362e+01, -1.71300430e+01],\n",
       "         ...,\n",
       "         [-5.75846863e+00,  1.13936114e+00,  3.95666838e+00, ...,\n",
       "          -3.81785154e+00, -1.25061750e+00,  3.11603451e+00],\n",
       "         [ 4.37688112e+00,  9.37588692e+00,  6.96603060e+00, ...,\n",
       "          -2.57659769e+00, -3.87610912e+00,  3.50605226e+00],\n",
       "         [-4.48994684e+00, -2.08899236e+00, -3.30987763e+00, ...,\n",
       "           1.53401089e+00, -2.09555626e+00, -4.16527605e+00]],\n",
       " \n",
       "        [[-5.30978821e+02, -3.45174652e+02, -1.68542633e+02, ...,\n",
       "          -5.27330303e+00, -6.15319586e+00, -2.13620243e+01],\n",
       "         [-5.02539635e+01, -3.88324738e+00, -4.74628448e+00, ...,\n",
       "           5.84139919e+00,  7.45546055e+00,  6.57789135e+00],\n",
       "         [ 5.01541805e+00,  2.48370075e+00,  1.80762470e+00, ...,\n",
       "          -2.26329541e+00, -5.14010906e+00, -3.82499361e+00],\n",
       "         ...,\n",
       "         [ 3.02237868e-01, -2.20775914e+00,  2.53863764e+00, ...,\n",
       "          -1.20415521e+00,  1.70335686e+00, -3.00247145e+00],\n",
       "         [-3.73938513e+00, -1.04440441e+01, -8.07488346e+00, ...,\n",
       "          -5.79285860e-01, -3.91606259e+00, -3.49987435e+00],\n",
       "         [ 9.32861567e-01, -6.75427246e+00, -1.83350432e+00, ...,\n",
       "           4.33242464e+00,  7.72675037e-01,  6.05167866e-01]],\n",
       " \n",
       "        [[-5.17316040e+02, -4.04946320e+02, -2.91288269e+02, ...,\n",
       "           5.74278927e+00,  1.03868179e+01, -1.26602926e+01],\n",
       "         [ 7.41788559e+01,  7.08299103e+01,  8.23017731e+01, ...,\n",
       "          -1.12143497e+01, -9.43367767e+00, -3.41912174e+00],\n",
       "         [-4.96942711e+00,  6.35273695e+00, -1.45174503e-01, ...,\n",
       "          -3.82256937e+00, -4.90296459e+00,  3.42060596e-01],\n",
       "         ...,\n",
       "         [ 1.27507842e+00,  3.89006233e+00,  5.54163074e+00, ...,\n",
       "           1.09804714e+00,  2.14000273e+00,  4.08361149e+00],\n",
       "         [ 4.39085364e-01, -2.08058858e+00, -4.18071651e+00, ...,\n",
       "          -1.66232800e+00, -2.93901086e+00, -2.81607985e+00],\n",
       "         [ 9.22758818e-01,  8.00711036e-01, -9.98133659e-01, ...,\n",
       "           2.51129103e+00,  4.26379967e+00,  3.62369704e+00]]],\n",
       "       dtype=float32),\n",
       " array(['Oecanthinae', 'Gryllinae', 'Trigonidiinae', ..., 'Trigonidiinae',\n",
       "        'Conocephalinae', 'Conocephalinae'], dtype='<U16'))"
      ]
     },
     "execution_count": 35,
     "metadata": {},
     "output_type": "execute_result"
    }
   ],
   "source": [
    "remove_small_class(songs_matrix, songs_label_fam, 1)"
   ]
  },
  {
   "cell_type": "code",
   "execution_count": 8,
   "id": "ae114e1e",
   "metadata": {},
   "outputs": [],
   "source": [
    "np.save('E:\\chirpfiles\\\\songs_matrix_mfcc_cut_cleaned_5sec.npy', songs_matrix)\n",
    "np.save('E:\\chirpfiles\\\\songs_label_critter_5sec.npy', songs_label_critter)\n",
    "np.save('E:\\chirpfiles\\\\songs_label_fam_5sec.npy', songs_label_fam)\n",
    "np.save('E:\\chirpfiles\\\\songs_id_5sec.npy', songs_id)"
   ]
  },
  {
   "cell_type": "code",
   "execution_count": 11,
   "id": "2b745068",
   "metadata": {},
   "outputs": [],
   "source": [
    "# convert insec fam into numbers. use le.inverse_transform to go from number to name\n",
    "le = LabelEncoder()\n",
    "songs_label_num = le.fit_transform(songs_label_fam)\n",
    "songs_label_onehot = to_categorical(songs_label_num) # required output format by cnn\n",
    "\n",
    "# rename data/label variable name so that we don't need to change them in the model block\n",
    "data_matrix = songs_matrix\n",
    "data_label = songs_label_onehot\n",
    "\n",
    "# after 5/30, we are using already splitted data so this is already train and validation sets\n",
    "X_train, X_val, y_train, y_val = train_test_split(data_matrix, data_label, \n",
    "                                                  test_size = .2, random_state = 17)\n",
    "# to use 2d convolution, keras model expects 4d input shape\n",
    "#X_train = X_train.reshape((X_train.shape[0],X_train.shape[1],X_train.shape[2],1))\n",
    "#X_test = X_test.reshape((X_test.shape[0],X_test.shape[1],X_test.shape[2],1))\n",
    "#print('Train test split train shape: ', X_train.shape)\n",
    "\n",
    "#X_tt, X_val, y_tt, y_val = train_test_split(X_train, y_train, test_size = .2, random_state = 17)\n",
    "#print('Train validation split train shape: ', X_tt.shape)"
   ]
  },
  {
   "cell_type": "code",
   "execution_count": 20,
   "id": "be150b6b",
   "metadata": {},
   "outputs": [],
   "source": [
    "# make model \n",
    "input_shape =  (X_train.shape[1], X_train.shape[2],1,) # first dimension of train data is n_datapoints\n",
    "model_mfcc_c_c_fam = Sequential([\n",
    "    Input(input_shape),\n",
    "    layers.Conv2D(64, (3,3), padding='same', activation='relu'),\n",
    "    layers.MaxPooling2D((2,2), strides=2),\n",
    "    layers.Dropout(0.2),\n",
    "    layers.Conv2D(128, (3,3), padding='same', activation='relu'),\n",
    "    layers.MaxPooling2D((2,2), strides=2),\n",
    "    layers.Dropout(0.2),\n",
    "    layers.Flatten(),\n",
    "    layers.Dense(64, activation='relu'),\n",
    "    layers.Dropout(0.2),\n",
    "    layers.Dense(len(le.classes_), activation='softmax')\n",
    "]) \n",
    "\n",
    "model_mfcc_c_c_fam.compile(loss='categorical_crossentropy', optimizer='adam', metrics=['accuracy'])\n",
    "#model.summary()"
   ]
  },
  {
   "cell_type": "code",
   "execution_count": 21,
   "id": "b706c9c0",
   "metadata": {
    "scrolled": false
   },
   "outputs": [
    {
     "name": "stdout",
     "output_type": "stream",
     "text": [
      "Epoch 1/50\n",
      "\u001b[1m57/57\u001b[0m \u001b[32m━━━━━━━━━━━━━━━━━━━━\u001b[0m\u001b[37m\u001b[0m \u001b[1m38s\u001b[0m 637ms/step - accuracy: 0.2116 - loss: 8.1240 - val_accuracy: 0.4109 - val_loss: 1.9207\n",
      "Epoch 2/50\n",
      "\u001b[1m57/57\u001b[0m \u001b[32m━━━━━━━━━━━━━━━━━━━━\u001b[0m\u001b[37m\u001b[0m \u001b[1m37s\u001b[0m 645ms/step - accuracy: 0.3941 - loss: 1.8928 - val_accuracy: 0.4806 - val_loss: 1.6689\n",
      "Epoch 3/50\n",
      "\u001b[1m57/57\u001b[0m \u001b[32m━━━━━━━━━━━━━━━━━━━━\u001b[0m\u001b[37m\u001b[0m \u001b[1m36s\u001b[0m 634ms/step - accuracy: 0.5059 - loss: 1.5372 - val_accuracy: 0.5327 - val_loss: 1.5117\n",
      "Epoch 4/50\n",
      "\u001b[1m57/57\u001b[0m \u001b[32m━━━━━━━━━━━━━━━━━━━━\u001b[0m\u001b[37m\u001b[0m \u001b[1m41s\u001b[0m 632ms/step - accuracy: 0.5693 - loss: 1.3640 - val_accuracy: 0.5537 - val_loss: 1.4253\n",
      "Epoch 5/50\n",
      "\u001b[1m57/57\u001b[0m \u001b[32m━━━━━━━━━━━━━━━━━━━━\u001b[0m\u001b[37m\u001b[0m \u001b[1m42s\u001b[0m 630ms/step - accuracy: 0.6188 - loss: 1.2045 - val_accuracy: 0.5471 - val_loss: 1.4798\n",
      "Epoch 6/50\n",
      "\u001b[1m57/57\u001b[0m \u001b[32m━━━━━━━━━━━━━━━━━━━━\u001b[0m\u001b[37m\u001b[0m \u001b[1m41s\u001b[0m 632ms/step - accuracy: 0.6498 - loss: 1.1017 - val_accuracy: 0.5637 - val_loss: 1.4358\n",
      "time training:  235.0208740234375\n"
     ]
    }
   ],
   "source": [
    "# train model\n",
    "start = time.time()\n",
    "epochs = 50\n",
    "early_stopping = EarlyStopping(monitor='val_loss', patience=2)\n",
    "checkpoint_filepath = '/tmp/ckpt/checkpoint.model.keras'\n",
    "model_checkpoint_callback = ModelCheckpoint(\n",
    "    filepath=checkpoint_filepath,\n",
    "    monitor='val_accuracy',\n",
    "    mode='max',\n",
    "    save_best_only=True)\n",
    "\n",
    "history = model_mfcc_c_c_fam.fit(X_train, y_train, epochs=epochs, batch_size=64, \n",
    "                    validation_data=(X_val, y_val), \n",
    "                    callbacks=[early_stopping, model_checkpoint_callback])\n",
    "end = time.time()\n",
    "print('time training: ', end - start)\n",
    "#predicted_vector = model.predict(X_test)\n",
    "#predicted_class_index = np.argmax(predicted_vector, axis=-1)\n",
    "#le.inverse_transform(predicted_class_index)\n"
   ]
  },
  {
   "cell_type": "code",
   "execution_count": 24,
   "id": "c2b53817",
   "metadata": {},
   "outputs": [
    {
     "data": {
      "text/plain": [
       "5"
      ]
     },
     "execution_count": 24,
     "metadata": {},
     "output_type": "execute_result"
    }
   ],
   "source": [
    "early_stopping.stopped_epoch"
   ]
  },
  {
   "cell_type": "code",
   "execution_count": 29,
   "id": "630d5faa",
   "metadata": {},
   "outputs": [],
   "source": [
    "import pickle\n",
    "\n",
    "with open('hist_mfcc_c_c_twohiddenlayer_64_128_5sec_fam.pkl', 'wb') as f:  # Python 3: open(..., 'wb')\n",
    "    pickle.dump(history, f)\n",
    "\n",
    "# Getting back the objects:\n",
    "#with open('hist_batch64_onehiddenlayer_5sec_critter.pkl') as f:  # Python 3: open(..., 'rb')\n",
    "#    obj0, obj1, obj2 = pickle.load(f)"
   ]
  },
  {
   "cell_type": "code",
   "execution_count": 26,
   "id": "8b3bc3cf",
   "metadata": {},
   "outputs": [
    {
     "name": "stdout",
     "output_type": "stream",
     "text": [
      "{'accuracy': [0.26744186878204346, 0.4210963547229767, 0.5071982145309448, 0.5564783811569214, 0.6057586073875427, 0.6428571343421936], 'loss': [4.129305839538574, 1.8207032680511475, 1.5393462181091309, 1.3819838762283325, 1.2133958339691162, 1.0987510681152344], 'val_accuracy': [0.41085270047187805, 0.4806201457977295, 0.5326688885688782, 0.553709864616394, 0.5470653176307678, 0.563676655292511], 'val_loss': [1.9207391738891602, 1.668871521949768, 1.511684536933899, 1.4253294467926025, 1.479836106300354, 1.4358031749725342]}\n"
     ]
    }
   ],
   "source": [
    "print(history_dict)"
   ]
  },
  {
   "cell_type": "code",
   "execution_count": 28,
   "id": "61123df3",
   "metadata": {},
   "outputs": [
    {
     "data": {
      "image/png": "[encoded data removed]",
      "text/plain": [
       "<Figure size 400x300 with 1 Axes>"
      ]
     },
     "metadata": {},
     "output_type": "display_data"
    },
    {
     "data": {
      "image/png": "[encoded data removed]",
      "text/plain": [
       "<Figure size 400x300 with 1 Axes>"
      ]
     },
     "metadata": {},
     "output_type": "display_data"
    }
   ],
   "source": [
    "history_dict = history.history\n",
    "plt.figure(figsize = (4, 3))\n",
    "plt.scatter(range(1,early_stopping.stopped_epoch+2), history_dict['accuracy'], label = \"Training Accuracy\")\n",
    "plt.scatter(range(1,early_stopping.stopped_epoch+2), history_dict['val_accuracy'], label = \"Validation Set Accuracy\")\n",
    "\n",
    "plt.xlabel(\"Epoch\", fontsize=12)\n",
    "plt.ylabel(\"Accuracy\", fontsize=12)\n",
    "\n",
    "plt.xticks(fontsize=10)\n",
    "plt.yticks(fontsize=10)\n",
    "\n",
    "plt.legend(fontsize=12)\n",
    "\n",
    "plt.show()\n",
    "\n",
    "plt.figure(figsize = (4, 3))\n",
    "\n",
    "plt.scatter(range(1,early_stopping.stopped_epoch+2), history_dict['loss'], label = \"Training Loss\")\n",
    "plt.scatter(range(1,early_stopping.stopped_epoch+2), history_dict['val_loss'], label = \"Validation Set Loss\")\n",
    "\n",
    "plt.xlabel(\"Epoch\", fontsize=12)\n",
    "plt.ylabel(\"Loss Function Value\", fontsize=12)\n",
    "\n",
    "plt.xticks(fontsize=10)\n",
    "plt.yticks(fontsize=10)\n",
    "\n",
    "plt.legend(fontsize=12)\n",
    "\n",
    "plt.show()"
   ]
  },
  {
   "cell_type": "markdown",
   "id": "830a8d3e",
   "metadata": {},
   "source": [
    "# vvv\n",
    "### Report accuracy on validation set "
   ]
  },
  {
   "cell_type": "code",
   "execution_count": 31,
   "id": "2031ab98",
   "metadata": {},
   "outputs": [
    {
     "name": "stdout",
     "output_type": "stream",
     "text": [
      "\u001b[1m29/29\u001b[0m \u001b[32m━━━━━━━━━━━━━━━━━━━━\u001b[0m\u001b[37m\u001b[0m \u001b[1m2s\u001b[0m 80ms/step\n"
     ]
    },
    {
     "data": {
      "image/png": "[encoded data removed]",
      "text/plain": [
       "<Figure size 640x480 with 2 Axes>"
      ]
     },
     "metadata": {},
     "output_type": "display_data"
    },
    {
     "name": "stdout",
     "output_type": "stream",
     "text": [
      "accuracy = 0.5636766334440753\n"
     ]
    }
   ],
   "source": [
    "predicted_vector = model_mfcc_c_c_fam.predict(X_val)\n",
    "predicted_class_index = np.argmax(predicted_vector, axis=-1)\n",
    "pred_class = le.inverse_transform(predicted_class_index)\n",
    "true_class_idx = np.where(y_val.astype(int))[1]\n",
    "true_class = le.inverse_transform(true_class_idx)\n",
    "#print(true_class)\n",
    "conf_mat = confusion_matrix(true_class, pred_class)\n",
    "#print(pd.DataFrame(conf_mat))#,\n",
    "#                 columns = ['Predicted 0', 'Predicted 1', 'Predicted 2', 'Predicted 3'],\n",
    "#                 index = ['Actual 0', 'Actual 1', 'Actual 2', 'Actual 3'])\n",
    "cm_display = metrics.ConfusionMatrixDisplay(confusion_matrix \n",
    "                                            = conf_mat)\n",
    "cm_display.plot()\n",
    "plt.show()\n",
    "accuracy = np.diagonal(conf_mat).sum()/np.sum(conf_mat)\n",
    "print('accuracy =', accuracy)"
   ]
  },
  {
   "cell_type": "code",
   "execution_count": 32,
   "id": "8023554e",
   "metadata": {},
   "outputs": [
    {
     "name": "stdout",
     "output_type": "stream",
     "text": [
      "['Cicadidae' 'Conocephalinae' 'Eneopterinae' 'Gryllinae' 'Gryllotalpidae'\n",
      " 'Hapithinae' 'Listroscelidinae' 'Mogoplistinae' 'Nemobiinae'\n",
      " 'Oecanthinae' 'Phalangopsidae' 'Phaneropterinae' 'Pseudophyllinae'\n",
      " 'Tettigoniinae' 'Trigonidiinae']\n",
      "['Conocephalinae' 'Gryllinae' 'Hapithinae' 'Mogoplistinae' 'Nemobiinae'\n",
      " 'Oecanthinae' 'Phaneropterinae' 'Pseudophyllinae' 'Tettigoniinae'\n",
      " 'Trigonidiinae']\n"
     ]
    }
   ],
   "source": [
    "print(np.unique(true_class))\n",
    "print(np.unique(pred_class))"
   ]
  },
  {
   "cell_type": "code",
   "execution_count": 33,
   "id": "49b98617",
   "metadata": {},
   "outputs": [
    {
     "name": "stdout",
     "output_type": "stream",
     "text": [
      "   0    1    2\n",
      "0  0    1    1\n",
      "1  0  538   76\n",
      "2  0   59  228\n",
      "accuracy = 0.8482834994462901\n"
     ]
    },
    {
     "data": {
      "image/png": "[encoded data removed]",
      "text/plain": [
       "<Figure size 640x480 with 2 Axes>"
      ]
     },
     "metadata": {},
     "output_type": "display_data"
    }
   ],
   "source": [
    "## to shorte list of classes after fitting on long list, use the class converter. \n",
    "label_name = 'fam_or_subfam'\n",
    "true_class_short = convert_labels(true_class, meta_file, label_name, 'critter_name')\n",
    "pred_class_short = convert_labels(pred_class, meta_file, label_name, 'critter_name')\n",
    "conf_mat = confusion_matrix(true_class_short, pred_class_short)\n",
    "print(pd.DataFrame(conf_mat))\n",
    "accuracy = np.diagonal(conf_mat).sum()/np.sum(conf_mat)\n",
    "print('accuracy =', accuracy)\n",
    "\n",
    "cm_display = metrics.ConfusionMatrixDisplay(confusion_matrix \n",
    "                                            = conf_mat)\n",
    "cm_display.plot()\n",
    "plt.show()"
   ]
  },
  {
   "cell_type": "markdown",
   "id": "b1fc6d9d",
   "metadata": {},
   "source": [
    "# vvv \n",
    "### Forbidden test set block"
   ]
  },
  {
   "cell_type": "code",
   "execution_count": 37,
   "id": "74768373",
   "metadata": {},
   "outputs": [],
   "source": [
    "audio_path = 'E:\\chirpfiles\\\\no_voice_files'\n",
    "meta_file = 'MLNS_Final_Test.csv'\n",
    "\n",
    "max_time = 5 # cut off time for loading, in sec\n",
    "get_feature_function = mfcc_cut_cleaned\n",
    "test_songs_matrix, test_songs_id = get_data(audio_path, meta_file, max_time, get_feature_function)\n",
    "test_songs_label_critter = get_labels(test_songs_id, meta_file, 'critter_name')\n",
    "test_songs_label_fam = get_labels(test_songs_id, meta_file, 'fam_or_subfam')\n"
   ]
  },
  {
   "cell_type": "code",
   "execution_count": 38,
   "id": "aad1f1d6",
   "metadata": {
    "scrolled": true
   },
   "outputs": [
    {
     "name": "stdout",
     "output_type": "stream",
     "text": [
      "\u001b[1m36/36\u001b[0m \u001b[32m━━━━━━━━━━━━━━━━━━━━\u001b[0m\u001b[37m\u001b[0m \u001b[1m3s\u001b[0m 83ms/step\n",
      "['Conocephalinae' 'Gryllinae' 'Nemobiinae' ... 'Phaneropterinae'\n",
      " 'Eneopterinae' 'Hapithinae']\n",
      "    0    1   2    3   4   5   6   7   8    9   10  11  12  13  14\n",
      "0    0    6   0    0   0   1   0   0   0    2   0   1   0   0   1\n",
      "1    0  105   0    3   0   6   0   1   5    7   0  17   0  11   8\n",
      "2    0    0   0    3   0   3   0   0   0    0   0   0   0   0   0\n",
      "3    0    3   0  238   1   8   0   4   1   10   0   2   6   3   6\n",
      "4    0    0   0    2   1   0   0   0   0    4   0   0   1   0   0\n",
      "5    0    7   0   11   0  38   0   3   2    7   0   1   1   0   5\n",
      "6    0    0   0    0   0   0   0   0   0    0   0   1   0   1   0\n",
      "7    0    6   0    4   0   9   0  33   4    2   0   1   0   0   8\n",
      "8    0    8   0    7   0   7   0   7  17    5   0   0   0   1  18\n",
      "9    0    7   0    8   0   6   0   0   0  117   0   1   1   0   3\n",
      "10   0    0   0    0   0   1   0   1   0    0   0   0   0   0   0\n",
      "11   0   37   0    6   0   2   0   3   2    4   0  51   0   5   3\n",
      "12   0   10   0    1   0   4   0   0   1    2   0   1   6   0   3\n",
      "13   0   21   0    2   0   1   0   1   0    1   0  13   0   8   3\n",
      "14   0   10   0    9   1  18   0   8   8    5   0   2   1   0  48\n",
      "accuracy = 0.5858407079646017\n"
     ]
    }
   ],
   "source": [
    "predicted_vector = model.predict(test_songs_matrix)\n",
    "predicted_class_index = np.argmax(predicted_vector, axis=-1)\n",
    "\n",
    "pred_class = le.inverse_transform(predicted_class_index)\n",
    "\n",
    "#true_class_idx = np.where(test_songs_label_fam.astype(int))[1]\n",
    "#true_class = le.inverse_transform(true_class_idx)\n",
    "true_class = test_songs_label_fam\n",
    "print(true_class)\n",
    "\n",
    "conf_mat = confusion_matrix(true_class, pred_class)\n",
    "print(pd.DataFrame(conf_mat))#,\n",
    "#                 columns = ['Predicted 0', 'Predicted 1', 'Predicted 2', 'Predicted 3'],\n",
    "#                 index = ['Actual 0', 'Actual 1', 'Actual 2', 'Actual 3'])\n",
    "accuracy = np.diagonal(conf_mat).sum()/np.sum(conf_mat)\n",
    "print('accuracy =', accuracy)"
   ]
  },
  {
   "cell_type": "code",
   "execution_count": 39,
   "id": "4a686362",
   "metadata": {},
   "outputs": [
    {
     "name": "stdout",
     "output_type": "stream",
     "text": [
      "   0    1    2\n",
      "0  0    4    7\n",
      "1  0  701   64\n",
      "2  0   69  285\n",
      "accuracy = 0.8725663716814159\n"
     ]
    }
   ],
   "source": [
    "## to shorte list of classes after fitting on long list, use the class converter. \n",
    "true_class_short = convert_labels(true_class, meta_file, label_name, 'critter_name')\n",
    "pred_class_short = convert_labels(pred_class, meta_file, label_name, 'critter_name')\n",
    "\n",
    "conf_mat = confusion_matrix(true_class_short, pred_class_short)\n",
    "print(pd.DataFrame(conf_mat))\n",
    "accuracy = np.diagonal(conf_mat).sum()/np.sum(conf_mat)\n",
    "print('accuracy =', accuracy)"
   ]
  },
  {
   "cell_type": "code",
   "execution_count": 40,
   "id": "23ca96b2",
   "metadata": {},
   "outputs": [],
   "source": [
    "with open('test_set_mfcc_c_c_twohiddenlayer_64_128_5sec_fam.pkl', 'wb') as f:  # Python 3: open(..., 'wb')\n",
    "    pickle.dump([true_class, pred_class], f)"
   ]
  },
  {
   "cell_type": "code",
   "execution_count": null,
   "id": "86bc47c6",
   "metadata": {},
   "outputs": [],
   "source": [
    "# Getting back the objects:\n",
    "with open('objs.pkl', 'rb') as f:  # Python 3: open(..., 'rb')\n",
    "    obj0, obj1, obj2 = pickle.load(f)"
   ]
  }
 ],
 "metadata": {
  "kernelspec": {
   "display_name": "Python 3 (ipykernel)",
   "language": "python",
   "name": "python3"
  },
  "language_info": {
   "codemirror_mode": {
    "name": "ipython",
    "version": 3
   },
   "file_extension": ".py",
   "mimetype": "text/x-python",
   "name": "python",
   "nbconvert_exporter": "python",
   "pygments_lexer": "ipython3",
   "version": "3.10.9"
  }
 },
 "nbformat": 4,
 "nbformat_minor": 5
}
