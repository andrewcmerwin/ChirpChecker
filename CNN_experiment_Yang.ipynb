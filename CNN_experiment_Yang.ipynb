{
 "cells": [
  {
   "cell_type": "markdown",
   "id": "b167a869",
   "metadata": {},
   "source": [
    "Testing CNN method from https://wandb.ai/mostafaibrahim17/ml-articles/reports/An-Introduction-to-Audio-Classification-with-Keras--Vmlldzo0MDQzNDUy#:~:text=%EF%BB%BFKeras%20is%20a%20go,both%20beginners%20and%20advanced%20users.\n",
    "\n",
    "https://keras.io/guides/sequential_model/"
   ]
  },
  {
   "cell_type": "code",
   "execution_count": 3,
   "id": "2b92115a",
   "metadata": {},
   "outputs": [],
   "source": [
    "import os\n",
    "import numpy as np\n",
    "import pandas as pd\n",
    "import librosa\n",
    "from sklearn.model_selection import train_test_split\n",
    "from sklearn.preprocessing import LabelEncoder\n",
    "from keras.utils import to_categorical\n",
    "from keras.models import Sequential\n",
    "from keras import layers # example functions: Dense, Dropout, Activation, Flatten, Conv1D, MaxPooling1D\n",
    "from keras import Input\n",
    "import matplotlib.pyplot as plt\n",
    "import time"
   ]
  },
  {
   "cell_type": "code",
   "execution_count": 24,
   "id": "01854753",
   "metadata": {},
   "outputs": [],
   "source": [
    "def get_data(audio_path, meta_file, label_name, load_length):\n",
    "    songs_matrix = []\n",
    "    songs_label = []\n",
    "    audio_list = os.listdir(audio_path)\n",
    "    df = pd.read_csv(meta_file)\n",
    "    min_width = 1000\n",
    "    for name in audio_list:\n",
    "        # parse out number part of the data files so we can get the corresponding label from meta_file\n",
    "        number = name.replace('_', '.').split('.')[0]\n",
    "        filepath = os.path.join(audio_path, name)\n",
    "        # skipping files that are less than 250KB ~ 5sec long\n",
    "        # this is to make sure we have enough length for sampling fft time intervals\n",
    "        if os.path.getsize(filepath) < 250000:\n",
    "            continue\n",
    "        # ============ load the data and get matrix ============\n",
    "        # replace this block with function that cleansup data and outputs a feature matrix per file\n",
    "        # make sure that the size of the feature matrix is the same for all files\n",
    "        # name the output feature matrix mfccs \n",
    "        song, sr = librosa.load(filepath, duration=load_length)\n",
    "        mfccs = librosa.feature.mfcc(y = song, n_mfcc = 40)#, n_fft=512)\n",
    "        if mfccs.shape[1] < min_width:\n",
    "            print(number)\n",
    "            min_width = np.minimum(mfccs.shape[1], min_width)\n",
    "        #mfcc = np.mean(mfccs, axis=1) # average over columns, shape(n_mfcc, )\n",
    "        # ======================================================\n",
    "        songs_matrix.append(mfccs)\n",
    "        songs_label.append(df[label_name].loc[df.cat_num == float(number)].item())\n",
    "    return np.array(songs_matrix), np.array(songs_label)"
   ]
  },
  {
   "cell_type": "code",
   "execution_count": 67,
   "id": "c838ffb4",
   "metadata": {},
   "outputs": [
    {
     "data": {
      "text/plain": [
       "\"from_division = 'fam_or_subfam'\\nto_division = 'critter_name'\\nmeta_file = 'MLNS_Insects_Fams_05212024.csv'\\nlabels = ['Acrididae', 'Cicadidae', 'Acrididae', 'Listroscelidinae', \\n                  'Mogoplistinae', 'Nemobiinae', 'Oecanthinae', 'Phalangopsidae',\\n                  'Phaneropterinae', 'Oecanthinae', 'Tettigoniinae','Trigonidiinae']    \\nconvert_labels(labels, meta_file, from_division, to_division)\""
      ]
     },
     "execution_count": 67,
     "metadata": {},
     "output_type": "execute_result"
    }
   ],
   "source": [
    "# for converting strings of label from one division to another, e.g. fam/subfam to critter name\n",
    "def convert_labels(labels, meta_file, from_division, to_division):\n",
    "    # find label in labels in meta_file under column from_division\n",
    "    # append as key in dictionary lookup_table\n",
    "    # append as value the correspondign label in to_division\n",
    "\n",
    "    df = pd.read_csv(meta_file, usecols=[from_division, to_divison])\n",
    "    lookup_table = dict() # look up table for new label\n",
    "    for label in labels:\n",
    "        if label in lookup_table.keys():\n",
    "            continue\n",
    "        idx = df.loc[df[from_division]==label].index[0]\n",
    "        lookup_table[label] = df[to_divison][idx]\n",
    "    return [lookup_table[label] for label in labels]\n",
    "\n",
    "# example testing block\n",
    "# from_division = 'fam_or_subfam'\n",
    "#to_division = 'critter_name'\n",
    "##meta_file = 'MLNS_Insects_Fams_05212024.csv'\n",
    "#labels = ['Acrididae', 'Cicadidae', 'Acrididae', 'Listroscelidinae', \n",
    "#                  'Mogoplistinae', 'Nemobiinae', 'Oecanthinae', 'Phalangopsidae',\n",
    "#                  'Phaneropterinae', 'Oecanthinae', 'Tettigoniinae','Trigonidiinae']    \n",
    "#convert_labels(labels, meta_file, from_division, to_division)"
   ]
  },
  {
   "cell_type": "code",
   "execution_count": 62,
   "id": "abe43836",
   "metadata": {},
   "outputs": [
    {
     "name": "stdout",
     "output_type": "stream",
     "text": [
      "103160\n",
      "time loading: 114.94135451316833\n"
     ]
    }
   ],
   "source": [
    "# load all audio in audio_path\n",
    "# convert to matrix, save in np array, \n",
    "# load the corresponding label_name from lable_filename, save in another np array\n",
    "\n",
    "audio_path = 'E:\\chirpfiles\\\\no_voice_files'\n",
    "meta_file = 'MLNS_Insects_Fams_05212024.csv'\n",
    "label_name = 'fam_or_subfam'\n",
    "start = time.time()\n",
    "songs_matrix, songs_label = get_data(audio_path, meta_file, label_name, 5)\n",
    "end = time.time()\n",
    "print('time loading:', end - start)"
   ]
  },
  {
   "cell_type": "code",
   "execution_count": 64,
   "id": "0d5eea5a",
   "metadata": {},
   "outputs": [
    {
     "name": "stdout",
     "output_type": "stream",
     "text": [
      "(array(['Acrididae', 'Cicadidae', 'Conocephalinae', 'Eneopterinae',\n",
      "       'Gryllinae', 'Gryllotalpidae', 'Hapithinae', 'Listroscelidinae',\n",
      "       'Mogoplistinae', 'Nemobiinae', 'Oecanthinae', 'Phalangopsidae',\n",
      "       'Phaneropterinae', 'Pseudophyllinae', 'Tettigoniinae',\n",
      "       'Trigonidiinae'], dtype='<U16'), array([   1,   54,  761,   22, 1324,   39,  348,    9,  248,  317,  589,\n",
      "         11,  474,  133,  199,  464], dtype=int64))\n"
     ]
    }
   ],
   "source": [
    "songs_matrix.shape\n",
    "print(np.unique(songs_label, return_counts=True))"
   ]
  },
  {
   "cell_type": "code",
   "execution_count": 78,
   "id": "593005f6",
   "metadata": {},
   "outputs": [],
   "source": [
    "# check balanceness of whole dataset \n",
    "#print(np.unique(songs_label, return_counts=True))\n",
    "delete_list = list(np.where(songs_label=='Acrididae')[0])+list(np.where(songs_label=='Listroscelidinae')[0])+list(np.where(songs_label=='Phalangopsidae')[0])"
   ]
  },
  {
   "cell_type": "code",
   "execution_count": 79,
   "id": "f5d1be5c",
   "metadata": {},
   "outputs": [],
   "source": [
    "short_label = np.delete(songs_label, delete_list)\n",
    "short_matrix = np.delete(songs_matrix, delete_list, 0)"
   ]
  },
  {
   "cell_type": "code",
   "execution_count": 80,
   "id": "d10603d2",
   "metadata": {},
   "outputs": [
    {
     "name": "stdout",
     "output_type": "stream",
     "text": [
      "(array(['Cicadidae', 'Conocephalinae', 'Eneopterinae', 'Gryllinae',\n",
      "       'Gryllotalpidae', 'Hapithinae', 'Mogoplistinae', 'Nemobiinae',\n",
      "       'Oecanthinae', 'Phaneropterinae', 'Pseudophyllinae',\n",
      "       'Tettigoniinae', 'Trigonidiinae'], dtype='<U16'), array([  54,  761,   22, 1324,   39,  348,  248,  317,  589,  474,  133,\n",
      "        199,  464], dtype=int64))\n"
     ]
    }
   ],
   "source": [
    "print(np.unique(short_label, return_counts=True))"
   ]
  },
  {
   "cell_type": "code",
   "execution_count": 81,
   "id": "2b745068",
   "metadata": {},
   "outputs": [],
   "source": [
    "# convert insec fam into numbers. use le.inverse_transform to go from number to name\n",
    "le = LabelEncoder()\n",
    "songs_label_num = le.fit_transform(short_label)\n",
    "songs_label_onehot = to_categorical(songs_label_num) # why do we do this??\n",
    "data_matrix = short_matrix\n",
    "data_label = songs_label_onehot"
   ]
  },
  {
   "cell_type": "code",
   "execution_count": 112,
   "id": "8ae2ce80",
   "metadata": {},
   "outputs": [],
   "source": [
    "#np.unique(songs_label, return_counts=True)\n",
    "#print(songs_matrix.shape)\n",
    "#sub_songs_matrix = songs_matrix[:, :, 0:600]"
   ]
  },
  {
   "cell_type": "markdown",
   "id": "ac1574c8",
   "metadata": {
    "scrolled": true
   },
   "source": [
    "if ever need to convert onehot matrix back to string label\n",
    "#label_num = np.sum(songs_label_onehot*np.arange(0,songs_label_onehot.shape[1]), axis=1)\n",
    "#print(le.inverse_transform(label_num.astype(int)))"
   ]
  },
  {
   "cell_type": "code",
   "execution_count": 82,
   "id": "834acb7b",
   "metadata": {},
   "outputs": [
    {
     "data": {
      "text/plain": [
       "(3977, 40, 216, 1)"
      ]
     },
     "execution_count": 82,
     "metadata": {},
     "output_type": "execute_result"
    }
   ],
   "source": [
    "X_train, X_test, y_train, y_test = train_test_split(data_matrix, data_label, \n",
    "                                                    test_size = .2, random_state = 404)\n",
    "## from bootcamp notes\n",
    "X_train = X_train.reshape((X_train.shape[0],X_train.shape[1],X_train.shape[2],1))\n",
    "X_test = X_test.reshape((X_test.shape[0],X_test.shape[1],X_test.shape[2],1))\n",
    "\n",
    "X_train.shape"
   ]
  },
  {
   "cell_type": "code",
   "execution_count": 83,
   "id": "be150b6b",
   "metadata": {},
   "outputs": [],
   "source": [
    "#input_shape = (X_train.shape[1], 1) # n_featuer-by-1 vector\n",
    "input_shape =  (X_train.shape[1], X_train.shape[2],1,)\n",
    "\n",
    "model = Sequential() \n",
    "model.add(Input(input_shape))\n",
    "model.add(layers.Conv2D(64, (3,3), padding='same', activation='relu'))\n",
    "model.add(layers.MaxPooling2D((2,2), strides=2))\n",
    "#model.add(layers.Dropout(0.2))\n",
    "#model.add(layers.Conv2D(128, (3,3), padding='same', activation='relu'))\n",
    "#model.add(layers.MaxPooling2D((2,2), strides=2))\n",
    "#model.add(layers.Dropout(0.2))\n",
    "model.add(layers.Flatten())\n",
    "model.add(layers.Dense(64, activation='relu'))\n",
    "#model.add(layers.Dropout(0.2))\n",
    "model.add(layers.Dense(len(le.classes_), activation='softmax'))\n",
    "model.compile(loss='categorical_crossentropy', optimizer='adam', metrics=['accuracy'])\n",
    "#model.summary()"
   ]
  },
  {
   "cell_type": "code",
   "execution_count": 84,
   "id": "b706c9c0",
   "metadata": {
    "scrolled": false
   },
   "outputs": [
    {
     "name": "stdout",
     "output_type": "stream",
     "text": [
      "Epoch 1/10\n",
      "\u001b[1m63/63\u001b[0m \u001b[32m━━━━━━━━━━━━━━━━━━━━\u001b[0m\u001b[37m\u001b[0m \u001b[1m13s\u001b[0m 185ms/step - accuracy: 0.1348 - loss: 116.0000 - val_accuracy: 0.0834 - val_loss: 2.5512\n",
      "Epoch 2/10\n",
      "\u001b[1m63/63\u001b[0m \u001b[32m━━━━━━━━━━━━━━━━━━━━\u001b[0m\u001b[37m\u001b[0m \u001b[1m11s\u001b[0m 180ms/step - accuracy: 0.1321 - loss: 2.5433 - val_accuracy: 0.2583 - val_loss: 2.5240\n",
      "Epoch 3/10\n",
      "\u001b[1m63/63\u001b[0m \u001b[32m━━━━━━━━━━━━━━━━━━━━\u001b[0m\u001b[37m\u001b[0m \u001b[1m11s\u001b[0m 179ms/step - accuracy: 0.2639 - loss: 2.5154 - val_accuracy: 0.2583 - val_loss: 2.4976\n",
      "Epoch 4/10\n",
      "\u001b[1m63/63\u001b[0m \u001b[32m━━━━━━━━━━━━━━━━━━━━\u001b[0m\u001b[37m\u001b[0m \u001b[1m11s\u001b[0m 180ms/step - accuracy: 0.2622 - loss: 2.4878 - val_accuracy: 0.2583 - val_loss: 2.4729\n",
      "Epoch 5/10\n",
      "\u001b[1m63/63\u001b[0m \u001b[32m━━━━━━━━━━━━━━━━━━━━\u001b[0m\u001b[37m\u001b[0m \u001b[1m12s\u001b[0m 183ms/step - accuracy: 0.2585 - loss: 2.4626 - val_accuracy: 0.2583 - val_loss: 2.4494\n",
      "Epoch 6/10\n",
      "\u001b[1m63/63\u001b[0m \u001b[32m━━━━━━━━━━━━━━━━━━━━\u001b[0m\u001b[37m\u001b[0m \u001b[1m11s\u001b[0m 180ms/step - accuracy: 0.2669 - loss: 2.4396 - val_accuracy: 0.2583 - val_loss: 2.4275\n",
      "Epoch 7/10\n",
      "\u001b[1m63/63\u001b[0m \u001b[32m━━━━━━━━━━━━━━━━━━━━\u001b[0m\u001b[37m\u001b[0m \u001b[1m11s\u001b[0m 179ms/step - accuracy: 0.2649 - loss: 2.4150 - val_accuracy: 0.2583 - val_loss: 2.4075\n",
      "Epoch 8/10\n",
      "\u001b[1m63/63\u001b[0m \u001b[32m━━━━━━━━━━━━━━━━━━━━\u001b[0m\u001b[37m\u001b[0m \u001b[1m12s\u001b[0m 183ms/step - accuracy: 0.2596 - loss: 2.3990 - val_accuracy: 0.2583 - val_loss: 2.3891\n",
      "Epoch 9/10\n",
      "\u001b[1m63/63\u001b[0m \u001b[32m━━━━━━━━━━━━━━━━━━━━\u001b[0m\u001b[37m\u001b[0m \u001b[1m11s\u001b[0m 180ms/step - accuracy: 0.2692 - loss: 2.3743 - val_accuracy: 0.2583 - val_loss: 2.3719\n",
      "Epoch 10/10\n",
      "\u001b[1m63/63\u001b[0m \u001b[32m━━━━━━━━━━━━━━━━━━━━\u001b[0m\u001b[37m\u001b[0m \u001b[1m11s\u001b[0m 179ms/step - accuracy: 0.2679 - loss: 2.3573 - val_accuracy: 0.2583 - val_loss: 2.3562\n",
      "fit time:  115.17738461494446\n"
     ]
    }
   ],
   "source": [
    "start = time.time()\n",
    "epochs = 10\n",
    "history = model.fit(X_train, y_train, epochs=epochs, batch_size=64, validation_data=(X_test, y_test))\n",
    "end = time.time()\n",
    "print('fit time: ', end - start)\n",
    "#predicted_vector = model.predict(X_test)\n",
    "#predicted_class_index = np.argmax(predicted_vector, axis=-1)\n",
    "#le.inverse_transform(predicted_class_index)\n"
   ]
  },
  {
   "cell_type": "code",
   "execution_count": 87,
   "id": "61123df3",
   "metadata": {},
   "outputs": [
    {
     "data": {
      "image/png": "[encoded data removed]",
      "text/plain": [
       "<Figure size 400x300 with 1 Axes>"
      ]
     },
     "metadata": {},
     "output_type": "display_data"
    },
    {
     "data": {
      "image/png": "[encoded data removed]",
      "text/plain": [
       "<Figure size 400x300 with 1 Axes>"
      ]
     },
     "metadata": {},
     "output_type": "display_data"
    }
   ],
   "source": [
    "history_dict = history.history\n",
    "plt.figure(figsize = (4, 3))\n",
    "epochs = 10\n",
    "plt.scatter(range(1,epochs+1), history_dict['accuracy'], label = \"Training Accuracy\")\n",
    "plt.scatter(range(1,epochs+1), history_dict['val_accuracy'], label = \"Validation Set Accuracy\")\n",
    "\n",
    "plt.xlabel(\"Epoch\", fontsize=12)\n",
    "plt.ylabel(\"Accuracy\", fontsize=12)\n",
    "\n",
    "plt.xticks(fontsize=10)\n",
    "plt.yticks(fontsize=10)\n",
    "\n",
    "plt.legend(fontsize=12)\n",
    "\n",
    "plt.show()\n",
    "\n",
    "\n",
    "plt.figure(figsize = (4, 3))\n",
    "\n",
    "plt.scatter(range(1,epochs+1), history_dict['loss'], label = \"Training Loss\")\n",
    "plt.scatter(range(1,epochs+1), history_dict['val_loss'], label = \"Validation Set Loss\")\n",
    "\n",
    "plt.xlabel(\"Epoch\", fontsize=12)\n",
    "plt.ylabel(\"Loss Function Value\", fontsize=12)\n",
    "\n",
    "plt.xticks(fontsize=10)\n",
    "plt.yticks(fontsize=10)\n",
    "\n",
    "plt.legend(fontsize=12)\n",
    "\n",
    "plt.show()"
   ]
  },
  {
   "cell_type": "code",
   "execution_count": 57,
   "id": "55be85fc",
   "metadata": {},
   "outputs": [
    {
     "name": "stdout",
     "output_type": "stream",
     "text": [
      "\u001b[1m32/32\u001b[0m \u001b[32m━━━━━━━━━━━━━━━━━━━━\u001b[0m\u001b[37m\u001b[0m \u001b[1m1s\u001b[0m 35ms/step\n"
     ]
    },
    {
     "data": {
      "text/plain": [
       "array(['kaydid', 'cricket', 'kaydid', 'cricket', 'kaydid', 'cricket',\n",
       "       'kaydid', 'cricket', 'cricket', 'kaydid', 'kaydid', 'cicada',\n",
       "       'cricket', 'cricket', 'cricket', 'kaydid', 'cricket', 'cricket',\n",
       "       'kaydid', 'cricket', 'kaydid', 'cricket', 'kaydid', 'cricket',\n",
       "       'cricket', 'kaydid', 'kaydid', 'cricket', 'cricket', 'kaydid',\n",
       "       'kaydid', 'cricket', 'cricket', 'cricket', 'cricket', 'kaydid',\n",
       "       'cricket', 'kaydid', 'cricket', 'cricket', 'cricket', 'kaydid',\n",
       "       'kaydid', 'cricket', 'kaydid', 'kaydid', 'kaydid', 'kaydid',\n",
       "       'kaydid', 'cricket', 'kaydid', 'kaydid', 'cricket', 'cricket',\n",
       "       'cricket', 'kaydid', 'cricket', 'kaydid', 'cricket', 'kaydid',\n",
       "       'cricket', 'cricket', 'cricket', 'kaydid', 'cricket', 'cricket',\n",
       "       'kaydid', 'kaydid', 'cricket', 'kaydid', 'cricket', 'kaydid',\n",
       "       'kaydid', 'cricket', 'cricket', 'cricket', 'kaydid', 'cricket',\n",
       "       'kaydid', 'cricket', 'cricket', 'cricket', 'kaydid', 'cricket',\n",
       "       'kaydid', 'cricket', 'kaydid', 'cricket', 'kaydid', 'kaydid',\n",
       "       'kaydid', 'cricket', 'kaydid', 'cricket', 'cricket', 'kaydid',\n",
       "       'cricket', 'kaydid', 'cricket', 'kaydid', 'cricket', 'cricket',\n",
       "       'kaydid', 'cricket', 'kaydid', 'kaydid', 'cricket', 'kaydid',\n",
       "       'kaydid', 'cricket', 'kaydid', 'cricket', 'kaydid', 'kaydid',\n",
       "       'kaydid', 'kaydid', 'kaydid', 'cricket', 'cricket', 'kaydid',\n",
       "       'cricket', 'cricket', 'kaydid', 'kaydid', 'cricket', 'cricket',\n",
       "       'cricket', 'cricket', 'cricket', 'cricket', 'kaydid', 'kaydid',\n",
       "       'cricket', 'cricket', 'cricket', 'cricket', 'cricket', 'cricket',\n",
       "       'cricket', 'cricket', 'kaydid', 'cricket', 'cricket', 'cricket',\n",
       "       'cricket', 'cricket', 'cricket', 'cricket', 'kaydid', 'kaydid',\n",
       "       'cricket', 'kaydid', 'cricket', 'cricket', 'kaydid', 'kaydid',\n",
       "       'kaydid', 'cricket', 'cricket', 'kaydid', 'cricket', 'cricket',\n",
       "       'cricket', 'kaydid', 'cricket', 'cricket', 'kaydid', 'kaydid',\n",
       "       'cricket', 'cricket', 'kaydid', 'kaydid', 'kaydid', 'cricket',\n",
       "       'cricket', 'cricket', 'kaydid', 'cricket', 'cricket', 'cricket',\n",
       "       'cricket', 'cricket', 'kaydid', 'cricket', 'cricket', 'kaydid',\n",
       "       'kaydid', 'cricket', 'cricket', 'cricket', 'cricket', 'kaydid',\n",
       "       'kaydid', 'cricket', 'kaydid', 'kaydid', 'cricket', 'cricket',\n",
       "       'kaydid', 'cricket', 'kaydid', 'cricket', 'cricket', 'cricket',\n",
       "       'cricket', 'kaydid', 'cricket', 'kaydid', 'cricket', 'cricket',\n",
       "       'cricket', 'cricket', 'kaydid', 'cricket', 'cricket', 'kaydid',\n",
       "       'cricket', 'cricket', 'cricket', 'kaydid', 'cricket', 'cricket',\n",
       "       'kaydid', 'cricket', 'cricket', 'cricket', 'kaydid', 'kaydid',\n",
       "       'cricket', 'cricket', 'kaydid', 'cricket', 'cricket', 'cricket',\n",
       "       'kaydid', 'cricket', 'kaydid', 'cricket', 'kaydid', 'kaydid',\n",
       "       'cricket', 'cricket', 'cricket', 'kaydid', 'cricket', 'cricket',\n",
       "       'cricket', 'kaydid', 'cricket', 'cricket', 'kaydid', 'kaydid',\n",
       "       'kaydid', 'kaydid', 'cricket', 'kaydid', 'cricket', 'cricket',\n",
       "       'kaydid', 'cricket', 'cricket', 'cricket', 'cricket', 'cricket',\n",
       "       'cricket', 'cricket', 'cricket', 'cricket', 'cricket', 'cricket',\n",
       "       'cricket', 'kaydid', 'kaydid', 'cricket', 'cricket', 'cricket',\n",
       "       'cricket', 'cricket', 'cricket', 'kaydid', 'cricket', 'kaydid',\n",
       "       'cricket', 'kaydid', 'cricket', 'kaydid', 'kaydid', 'cricket',\n",
       "       'cricket', 'kaydid', 'kaydid', 'cricket', 'cricket', 'cricket',\n",
       "       'kaydid', 'kaydid', 'cricket', 'cricket', 'kaydid', 'cricket',\n",
       "       'kaydid', 'cricket', 'cicada', 'kaydid', 'kaydid', 'cricket',\n",
       "       'cricket', 'kaydid', 'cricket', 'kaydid', 'kaydid', 'cricket',\n",
       "       'cricket', 'kaydid', 'kaydid', 'kaydid', 'kaydid', 'cricket',\n",
       "       'cricket', 'cricket', 'kaydid', 'kaydid', 'cricket', 'kaydid',\n",
       "       'kaydid', 'cricket', 'cricket', 'cricket', 'cricket', 'kaydid',\n",
       "       'kaydid', 'cricket', 'kaydid', 'cricket', 'cricket', 'kaydid',\n",
       "       'cricket', 'cricket', 'cricket', 'kaydid', 'kaydid', 'kaydid',\n",
       "       'cricket', 'cricket', 'kaydid', 'cricket', 'cricket', 'kaydid',\n",
       "       'cricket', 'kaydid', 'cricket', 'cricket', 'cricket', 'kaydid',\n",
       "       'cricket', 'cricket', 'cricket', 'cricket', 'cricket', 'cricket',\n",
       "       'cricket', 'cricket', 'cricket', 'kaydid', 'cricket', 'cricket',\n",
       "       'cricket', 'cricket', 'cricket', 'kaydid', 'cricket', 'cricket',\n",
       "       'cricket', 'cricket', 'cricket', 'cricket', 'kaydid', 'kaydid',\n",
       "       'cricket', 'cricket', 'kaydid', 'kaydid', 'cricket', 'kaydid',\n",
       "       'cricket', 'kaydid', 'cricket', 'cricket', 'cricket', 'cricket',\n",
       "       'cricket', 'cricket', 'cricket', 'kaydid', 'cricket', 'cricket',\n",
       "       'cricket', 'kaydid', 'cricket', 'cricket', 'kaydid', 'cricket',\n",
       "       'kaydid', 'kaydid', 'cricket', 'kaydid', 'cricket', 'cricket',\n",
       "       'kaydid', 'cricket', 'cricket', 'cricket', 'kaydid', 'cricket',\n",
       "       'cricket', 'kaydid', 'kaydid', 'cricket', 'cricket', 'cricket',\n",
       "       'cricket', 'cricket', 'kaydid', 'kaydid', 'cricket', 'kaydid',\n",
       "       'cricket', 'kaydid', 'cricket', 'cricket', 'kaydid', 'cricket',\n",
       "       'cricket', 'cricket', 'kaydid', 'cricket', 'cricket', 'kaydid',\n",
       "       'cricket', 'kaydid', 'cricket', 'cricket', 'cricket', 'kaydid',\n",
       "       'cricket', 'kaydid', 'cricket', 'kaydid', 'cricket', 'cricket',\n",
       "       'cricket', 'kaydid', 'cricket', 'kaydid', 'kaydid', 'cricket',\n",
       "       'kaydid', 'kaydid', 'kaydid', 'kaydid', 'kaydid', 'cricket',\n",
       "       'cricket', 'kaydid', 'cricket', 'kaydid', 'cricket', 'cricket',\n",
       "       'cricket', 'kaydid', 'kaydid', 'kaydid', 'kaydid', 'cricket',\n",
       "       'kaydid', 'kaydid', 'cricket', 'cricket', 'cricket', 'kaydid',\n",
       "       'cricket', 'kaydid', 'cricket', 'cricket', 'cricket', 'cricket',\n",
       "       'kaydid', 'cricket', 'cricket', 'kaydid', 'cricket', 'cricket',\n",
       "       'kaydid', 'cricket', 'cricket', 'kaydid', 'kaydid', 'cricket',\n",
       "       'cricket', 'kaydid', 'cricket', 'kaydid', 'kaydid', 'kaydid',\n",
       "       'kaydid', 'kaydid', 'cricket', 'cricket', 'kaydid', 'cricket',\n",
       "       'cricket', 'cricket', 'cricket', 'cricket', 'kaydid', 'kaydid',\n",
       "       'cricket', 'kaydid', 'cricket', 'kaydid', 'kaydid', 'cricket',\n",
       "       'kaydid', 'cricket', 'cricket', 'cricket', 'cricket', 'kaydid',\n",
       "       'cricket', 'cricket', 'kaydid', 'cricket', 'kaydid', 'kaydid',\n",
       "       'cricket', 'kaydid', 'kaydid', 'cricket', 'cricket', 'kaydid',\n",
       "       'cricket', 'cricket', 'cricket', 'cricket', 'cricket', 'cricket',\n",
       "       'cricket', 'cricket', 'cricket', 'cricket', 'cricket', 'kaydid',\n",
       "       'cricket', 'cricket', 'cricket', 'kaydid', 'kaydid', 'cricket',\n",
       "       'cricket', 'cricket', 'kaydid', 'cricket', 'cricket', 'cricket',\n",
       "       'cricket', 'cricket', 'cricket', 'cricket', 'kaydid', 'kaydid',\n",
       "       'cricket', 'cricket', 'cricket', 'cricket', 'cricket', 'cricket',\n",
       "       'cricket', 'kaydid', 'kaydid', 'cricket', 'cricket', 'kaydid',\n",
       "       'cricket', 'kaydid', 'cricket', 'cricket', 'cricket', 'cricket',\n",
       "       'cricket', 'cricket', 'cricket', 'kaydid', 'kaydid', 'cricket',\n",
       "       'cricket', 'cricket', 'cricket', 'cricket', 'kaydid', 'kaydid',\n",
       "       'cricket', 'kaydid', 'cricket', 'kaydid', 'kaydid', 'kaydid',\n",
       "       'kaydid', 'cricket', 'cricket', 'cricket', 'kaydid', 'kaydid',\n",
       "       'kaydid', 'cricket', 'cricket', 'kaydid', 'cricket', 'kaydid',\n",
       "       'cricket', 'kaydid', 'cricket', 'kaydid', 'kaydid', 'kaydid',\n",
       "       'cricket', 'kaydid', 'cricket', 'cricket', 'cricket', 'cricket',\n",
       "       'cricket', 'cricket', 'cricket', 'kaydid', 'kaydid', 'kaydid',\n",
       "       'kaydid', 'cricket', 'cricket', 'cricket', 'cricket', 'cricket',\n",
       "       'cricket', 'cricket', 'cricket', 'kaydid', 'cricket', 'cricket',\n",
       "       'cricket', 'cricket', 'kaydid', 'kaydid', 'cricket', 'kaydid',\n",
       "       'kaydid', 'cricket', 'cricket', 'cricket', 'kaydid', 'cricket',\n",
       "       'cricket', 'kaydid', 'cricket', 'cricket', 'cricket', 'kaydid',\n",
       "       'kaydid', 'cricket', 'kaydid', 'kaydid', 'cricket', 'kaydid',\n",
       "       'cricket', 'cricket', 'cricket', 'cricket', 'kaydid', 'cricket',\n",
       "       'cricket', 'cricket', 'cricket', 'cricket', 'kaydid', 'cricket',\n",
       "       'cricket', 'cricket', 'kaydid', 'cricket', 'cricket', 'kaydid',\n",
       "       'cricket', 'kaydid', 'cricket', 'cricket', 'kaydid', 'kaydid',\n",
       "       'cricket', 'kaydid', 'cricket', 'kaydid', 'cricket', 'kaydid',\n",
       "       'kaydid', 'cricket', 'cricket', 'cricket', 'cricket', 'cricket',\n",
       "       'cricket', 'cricket', 'cricket', 'cricket', 'cricket', 'cricket',\n",
       "       'cricket', 'kaydid', 'cricket', 'cricket', 'cricket', 'cricket',\n",
       "       'cricket', 'cricket', 'kaydid', 'kaydid', 'cricket', 'kaydid',\n",
       "       'cricket', 'cricket', 'cricket', 'kaydid', 'cricket', 'cricket',\n",
       "       'cricket', 'cricket', 'cricket', 'cricket', 'cricket', 'cricket',\n",
       "       'kaydid', 'cricket', 'cricket', 'kaydid', 'kaydid', 'cricket',\n",
       "       'cricket', 'cricket', 'cricket', 'kaydid', 'cricket', 'cricket',\n",
       "       'kaydid', 'cricket', 'cricket', 'cricket', 'cricket', 'cricket',\n",
       "       'cricket', 'cricket', 'cricket', 'kaydid', 'cricket', 'cricket',\n",
       "       'cricket', 'kaydid', 'kaydid', 'kaydid', 'kaydid', 'kaydid',\n",
       "       'cricket', 'kaydid', 'cricket', 'cricket', 'cricket', 'cricket',\n",
       "       'cricket', 'cricket', 'cricket', 'cricket', 'cricket', 'cricket',\n",
       "       'cricket', 'kaydid', 'cricket', 'cricket', 'kaydid', 'kaydid',\n",
       "       'cricket', 'cricket', 'cricket', 'kaydid', 'kaydid', 'kaydid',\n",
       "       'cricket', 'cricket', 'cricket', 'cricket', 'cricket', 'cricket',\n",
       "       'kaydid', 'cricket', 'cricket', 'cricket', 'cricket', 'cricket',\n",
       "       'cricket', 'cricket', 'cricket', 'cricket', 'cricket', 'kaydid',\n",
       "       'cricket', 'cricket', 'kaydid', 'kaydid', 'cricket', 'kaydid',\n",
       "       'kaydid', 'cricket', 'kaydid', 'cricket', 'kaydid', 'kaydid',\n",
       "       'cricket', 'cricket', 'cricket', 'cricket', 'cricket', 'kaydid',\n",
       "       'cricket', 'kaydid', 'cricket', 'cricket', 'cricket', 'kaydid',\n",
       "       'kaydid', 'cricket', 'kaydid', 'kaydid', 'kaydid', 'kaydid',\n",
       "       'kaydid', 'kaydid', 'kaydid', 'cricket', 'kaydid', 'kaydid',\n",
       "       'kaydid', 'cricket', 'kaydid', 'cricket', 'cricket', 'cricket',\n",
       "       'cricket', 'kaydid', 'cricket', 'kaydid', 'cricket', 'cricket',\n",
       "       'kaydid', 'kaydid', 'cricket', 'cricket', 'kaydid', 'cricket',\n",
       "       'kaydid', 'cricket', 'cricket', 'cricket', 'kaydid', 'cricket',\n",
       "       'cricket', 'cricket', 'cricket', 'kaydid', 'cricket', 'cricket',\n",
       "       'cricket', 'kaydid', 'cricket', 'cricket', 'kaydid', 'cricket',\n",
       "       'cricket', 'kaydid', 'cricket', 'cricket', 'kaydid', 'kaydid',\n",
       "       'cricket', 'cricket', 'cricket', 'cricket', 'cricket', 'cricket',\n",
       "       'cricket', 'kaydid', 'cricket', 'cricket', 'cricket', 'cricket',\n",
       "       'kaydid', 'cricket', 'kaydid', 'cricket', 'cricket', 'kaydid',\n",
       "       'cricket', 'kaydid', 'kaydid', 'cricket', 'cricket', 'kaydid',\n",
       "       'cricket', 'cricket', 'cricket', 'kaydid', 'kaydid', 'kaydid',\n",
       "       'cricket', 'cricket', 'cricket', 'kaydid', 'cricket', 'cricket',\n",
       "       'kaydid', 'cricket', 'cricket', 'cricket', 'cricket', 'kaydid',\n",
       "       'cricket', 'cricket', 'kaydid', 'cricket', 'cricket', 'cricket',\n",
       "       'cricket', 'kaydid', 'kaydid', 'kaydid', 'cricket', 'cricket',\n",
       "       'kaydid', 'cricket', 'cricket', 'cricket', 'cricket', 'cricket',\n",
       "       'kaydid', 'cricket', 'kaydid', 'kaydid', 'cricket', 'kaydid',\n",
       "       'kaydid', 'cricket', 'kaydid', 'cricket', 'cricket', 'kaydid',\n",
       "       'cricket', 'cricket', 'cricket', 'cricket', 'cricket', 'kaydid',\n",
       "       'cricket', 'cricket', 'kaydid', 'cricket', 'cricket', 'cricket',\n",
       "       'cricket', 'kaydid', 'kaydid', 'cricket', 'kaydid', 'cricket',\n",
       "       'cricket', 'kaydid', 'cricket', 'cricket', 'cricket', 'kaydid',\n",
       "       'cricket', 'cricket', 'cricket', 'cricket', 'cricket', 'cricket',\n",
       "       'cricket', 'cricket', 'cricket', 'kaydid', 'cricket', 'cricket',\n",
       "       'cricket', 'kaydid', 'cricket'], dtype='<U11')"
      ]
     },
     "execution_count": 57,
     "metadata": {},
     "output_type": "execute_result"
    }
   ],
   "source": [
    "predicted_vector = model.predict(X_test)\n",
    "predicted_class_index = np.argmax(predicted_vector, axis=-1)\n",
    "le.inverse_transform(predicted_class_index)"
   ]
  },
  {
   "cell_type": "markdown",
   "id": "4765ea4e",
   "metadata": {},
   "source": [
    "Does training repeatedly increase performance??\n",
    "What does Epoch and batch size do?"
   ]
  },
  {
   "cell_type": "markdown",
   "id": "37ff1f13",
   "metadata": {},
   "source": [
    "using conv2d(64), maxpool, flatten, dense, dense, batch size 32\n",
    "Epoch 1/10\n",
    "27/27 ━━━━━━━━━━━━━━━━━━━━ 15s 552ms/step - accuracy: 0.9391 - loss: 6.2835 - val_accuracy: 0.8545 - val_loss: 11.0454\n",
    "Epoch 2/10\n",
    "27/27 ━━━━━━━━━━━━━━━━━━━━ 15s 549ms/step - accuracy: 0.9566 - loss: 8.4944 - val_accuracy: 0.8216 - val_loss: 11.1535\n",
    "Epoch 3/10\n",
    "27/27 ━━━━━━━━━━━━━━━━━━━━ 15s 560ms/step - accuracy: 0.8765 - loss: 8.8313 - val_accuracy: 0.7230 - val_loss: 23.5377\n",
    "Epoch 4/10\n",
    "27/27 ━━━━━━━━━━━━━━━━━━━━ 15s 565ms/step - accuracy: 0.9043 - loss: 6.7910 - val_accuracy: 0.8075 - val_loss: 14.2637\n",
    "Epoch 5/10\n",
    "27/27 ━━━━━━━━━━━━━━━━━━━━ 16s 580ms/step - accuracy: 0.9250 - loss: 6.7538 - val_accuracy: 0.7653 - val_loss: 15.3153\n",
    "Epoch 6/10\n",
    "27/27 ━━━━━━━━━━━━━━━━━━━━ 15s 559ms/step - accuracy: 0.9108 - loss: 6.5910 - val_accuracy: 0.8920 - val_loss: 6.9638\n",
    "Epoch 7/10\n",
    "27/27 ━━━━━━━━━━━━━━━━━━━━ 15s 551ms/step - accuracy: 0.9831 - loss: 1.6024 - val_accuracy: 0.8310 - val_loss: 12.2536\n",
    "Epoch 8/10\n",
    "27/27 ━━━━━━━━━━━━━━━━━━━━ 15s 562ms/step - accuracy: 0.9745 - loss: 1.0641 - val_accuracy: 0.8498 - val_loss: 11.0394\n",
    "Epoch 9/10\n",
    "27/27 ━━━━━━━━━━━━━━━━━━━━ 15s 551ms/step - accuracy: 0.9707 - loss: 0.9651 - val_accuracy: 0.8216 - val_loss: 14.1250\n",
    "Epoch 10/10\n",
    "27/27 ━━━━━━━━━━━━━━━━━━━━ 15s 557ms/step - accuracy: 0.9534 - loss: 1.5526 - val_accuracy: 0.8451 - val_loss: 7.3341\n",
    "fit time:  151.07773733139038"
   ]
  },
  {
   "cell_type": "code",
   "execution_count": 58,
   "id": "12fb33af",
   "metadata": {},
   "outputs": [
    {
     "data": {
      "text/html": [
       "<div>\n",
       "<style scoped>\n",
       "    .dataframe tbody tr th:only-of-type {\n",
       "        vertical-align: middle;\n",
       "    }\n",
       "\n",
       "    .dataframe tbody tr th {\n",
       "        vertical-align: top;\n",
       "    }\n",
       "\n",
       "    .dataframe thead th {\n",
       "        text-align: right;\n",
       "    }\n",
       "</style>\n",
       "<table border=\"1\" class=\"dataframe\">\n",
       "  <thead>\n",
       "    <tr style=\"text-align: right;\">\n",
       "      <th></th>\n",
       "      <th>0</th>\n",
       "      <th>1</th>\n",
       "      <th>2</th>\n",
       "    </tr>\n",
       "  </thead>\n",
       "  <tbody>\n",
       "    <tr>\n",
       "      <th>0</th>\n",
       "      <td>2</td>\n",
       "      <td>6</td>\n",
       "      <td>3</td>\n",
       "    </tr>\n",
       "    <tr>\n",
       "      <th>1</th>\n",
       "      <td>0</td>\n",
       "      <td>562</td>\n",
       "      <td>76</td>\n",
       "    </tr>\n",
       "    <tr>\n",
       "      <th>2</th>\n",
       "      <td>0</td>\n",
       "      <td>63</td>\n",
       "      <td>287</td>\n",
       "    </tr>\n",
       "  </tbody>\n",
       "</table>\n",
       "</div>"
      ],
      "text/plain": [
       "   0    1    2\n",
       "0  2    6    3\n",
       "1  0  562   76\n",
       "2  0   63  287"
      ]
     },
     "execution_count": 58,
     "metadata": {},
     "output_type": "execute_result"
    }
   ],
   "source": [
    "y_test = y_test.astype(int) \n",
    "y_test_cate = list(y_test[:,1] + 2*y_test[:,2]) \n",
    "#y_test_names = le.inverse_transform(y_test[:,1] + 2*y_test[:,2]+3*y_test[:,3])\n",
    "#print(y_test_names)\n",
    "\n",
    "from sklearn.metrics import confusion_matrix\n",
    "conf_mat = confusion_matrix(y_test_cate, predicted_class_index)\n",
    "pd.DataFrame(conf_mat)#,\n",
    "#                 columns = ['Predicted 0', 'Predicted 1', 'Predicted 2', 'Predicted 3'],\n",
    "#                 index = ['Actual 0', 'Actual 1', 'Actual 2', 'Actual 3'])"
   ]
  },
  {
   "cell_type": "code",
   "execution_count": 60,
   "id": "07e152d5",
   "metadata": {},
   "outputs": [
    {
     "data": {
      "text/plain": [
       "0.27526132404181186"
      ]
     },
     "execution_count": 60,
     "metadata": {},
     "output_type": "execute_result"
    }
   ],
   "source": []
  },
  {
   "cell_type": "code",
   "execution_count": null,
   "id": "6aa75069",
   "metadata": {},
   "outputs": [],
   "source": []
  }
 ],
 "metadata": {
  "kernelspec": {
   "display_name": "Python 3 (ipykernel)",
   "language": "python",
   "name": "python3"
  },
  "language_info": {
   "codemirror_mode": {
    "name": "ipython",
    "version": 3
   },
   "file_extension": ".py",
   "mimetype": "text/x-python",
   "name": "python",
   "nbconvert_exporter": "python",
   "pygments_lexer": "ipython3",
   "version": "3.10.9"
  }
 },
 "nbformat": 4,
 "nbformat_minor": 5
}
