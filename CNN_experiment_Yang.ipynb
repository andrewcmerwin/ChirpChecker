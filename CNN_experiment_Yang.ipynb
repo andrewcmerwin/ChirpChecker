{
 "cells": [
  {
   "cell_type": "markdown",
   "id": "b167a869",
   "metadata": {},
   "source": [
    "Testing CNN method from https://wandb.ai/mostafaibrahim17/ml-articles/reports/An-Introduction-to-Audio-Classification-with-Keras--Vmlldzo0MDQzNDUy#:~:text=%EF%BB%BFKeras%20is%20a%20go,both%20beginners%20and%20advanced%20users.\n",
    "\n",
    "https://keras.io/guides/sequential_model/"
   ]
  },
  {
   "cell_type": "code",
   "execution_count": 108,
   "id": "2b92115a",
   "metadata": {},
   "outputs": [],
   "source": [
    "import os\n",
    "import numpy as np\n",
    "import pandas as pd\n",
    "import librosa\n",
    "from sklearn.model_selection import train_test_split\n",
    "from sklearn.preprocessing import LabelEncoder\n",
    "from keras.utils import to_categorical\n",
    "from keras.models import Sequential\n",
    "from keras import layers # example functions: Dense, Dropout, Activation, Flatten, Conv1D, MaxPooling1D\n",
    "from keras import Input\n",
    "import matplotlib.pyplot as plt\n",
    "import time"
   ]
  },
  {
   "cell_type": "code",
   "execution_count": 109,
   "id": "01854753",
   "metadata": {},
   "outputs": [],
   "source": [
    "def get_data(audio_path, meta_file, label_name):\n",
    "    songs_matrix = []\n",
    "    songs_label = []\n",
    "    audio_list = os.listdir(audio_path)\n",
    "    df = pd.read_csv(meta_file)\n",
    "    for name in audio_list:\n",
    "        #name = audio_list[0]\n",
    "        number = name.replace('_', '.').split('.')[0]\n",
    "\n",
    "        song, sr = librosa.load(os.path.join(audio_path, name))\n",
    "        mfccs = librosa.feature.mfcc(y = song, n_mfcc = 60)\n",
    "        #mfcc = np.mean(mfccs, axis=1) # average over columns, shape(n_mfcc, )\n",
    "\n",
    "        songs_matrix.append(mfccs)\n",
    "        songs_label.append(df[label_name].loc[df.cat_num == float(number)].item())\n",
    "    return np.array(songs_matrix), np.array(songs_label)"
   ]
  },
  {
   "cell_type": "code",
   "execution_count": 110,
   "id": "abe43836",
   "metadata": {},
   "outputs": [
    {
     "name": "stdout",
     "output_type": "stream",
     "text": [
      "time loading: 31.243870496749878\n"
     ]
    }
   ],
   "source": [
    "# load all audio in audio_path\n",
    "# convert to matrix, save in np array, \n",
    "# load the corresponding label_name from lable_filename, save in another np array\n",
    "\n",
    "audio_path = 'E:\\chirpfiles\\selected_files'\n",
    "meta_file = 'MLNS_Insects_Fams_05212024.csv'\n",
    "label_name = 'critter_name'\n",
    "start = time.time()\n",
    "songs_matrix, songs_label = get_data(audio_path, meta_file, label_name)\n",
    "end = time.time()\n",
    "print('time loading:', end - start)"
   ]
  },
  {
   "cell_type": "code",
   "execution_count": 105,
   "id": "f5d1be5c",
   "metadata": {},
   "outputs": [
    {
     "name": "stdout",
     "output_type": "stream",
     "text": [
      "(array(['cicada', 'cricket', 'grasshopper', 'kaydid'], dtype='<U11'), array([ 25, 389,   2, 649], dtype=int64))\n"
     ]
    }
   ],
   "source": [
    "print(np.unique(songs_label, return_counts=True))"
   ]
  },
  {
   "cell_type": "code",
   "execution_count": 111,
   "id": "2b745068",
   "metadata": {},
   "outputs": [],
   "source": [
    "# convert insec fam into numbers. use le.inverse_transform to go from number to name\n",
    "le = LabelEncoder()\n",
    "songs_label_num = le.fit_transform(songs_label)\n",
    "songs_label_onehot = to_categorical(songs_label_num) # why do we do this??"
   ]
  },
  {
   "cell_type": "code",
   "execution_count": 112,
   "id": "8ae2ce80",
   "metadata": {},
   "outputs": [],
   "source": [
    "#np.unique(songs_label, return_counts=True)\n",
    "#print(songs_matrix.shape)\n",
    "sub_songs_matrix = songs_matrix[:, :, 0:600]"
   ]
  },
  {
   "cell_type": "markdown",
   "id": "ac1574c8",
   "metadata": {
    "scrolled": true
   },
   "source": [
    "if ever need to convert onehot matrix back to string label\n",
    "#label_num = np.sum(songs_label_onehot*np.arange(0,songs_label_onehot.shape[1]), axis=1)\n",
    "#print(le.inverse_transform(label_num.astype(int)))"
   ]
  },
  {
   "cell_type": "code",
   "execution_count": 113,
   "id": "834acb7b",
   "metadata": {},
   "outputs": [
    {
     "data": {
      "text/plain": [
       "(852, 60, 600, 1)"
      ]
     },
     "execution_count": 113,
     "metadata": {},
     "output_type": "execute_result"
    }
   ],
   "source": [
    "X_train, X_test, y_train, y_test = train_test_split(sub_songs_matrix, songs_label_onehot, \n",
    "                                                    test_size = .2, random_state = 404)\n",
    "## from bootcamp notes\n",
    "X_train = X_train.reshape((X_train.shape[0],X_train.shape[1],X_train.shape[2],1))\n",
    "X_test = X_test.reshape((X_test.shape[0],X_test.shape[1],X_test.shape[2],1))\n",
    "\n",
    "X_train.shape"
   ]
  },
  {
   "cell_type": "code",
   "execution_count": 122,
   "id": "be150b6b",
   "metadata": {},
   "outputs": [],
   "source": [
    "#input_shape = (X_train.shape[1], 1) # n_featuer-by-1 vector\n",
    "input_shape =  (X_train.shape[1], X_train.shape[2],1,)\n",
    "\n",
    "model = Sequential() \n",
    "model.add(Input(input_shape))\n",
    "model.add(layers.Conv2D(64, (3,3), padding='same', activation='relu'))\n",
    "model.add(layers.MaxPooling2D((2,2), strides=2))\n",
    "#model.add(layers.Dropout(0.2))\n",
    "#model.add(layers.Conv2D(128, (3,3), padding='same', activation='relu'))\n",
    "#model.add(layers.MaxPooling2D((2,2), strides=2))\n",
    "#model.add(layers.Dropout(0.2))\n",
    "model.add(layers.Flatten())\n",
    "model.add(layers.Dense(64, activation='relu'))\n",
    "#model.add(layers.Dropout(0.2))\n",
    "model.add(layers.Dense(len(le.classes_), activation='softmax'))\n",
    "model.compile(loss='categorical_crossentropy', optimizer='adam', metrics=['accuracy'])\n",
    "#model.summary()"
   ]
  },
  {
   "cell_type": "code",
   "execution_count": 126,
   "id": "b706c9c0",
   "metadata": {
    "scrolled": true
   },
   "outputs": [
    {
     "name": "stdout",
     "output_type": "stream",
     "text": [
      "Epoch 1/10\n",
      "\u001b[1m27/27\u001b[0m \u001b[32m━━━━━━━━━━━━━━━━━━━━\u001b[0m\u001b[37m\u001b[0m \u001b[1m15s\u001b[0m 560ms/step - accuracy: 0.9871 - loss: 0.3864 - val_accuracy: 0.8638 - val_loss: 12.9327\n",
      "Epoch 2/10\n",
      "\u001b[1m27/27\u001b[0m \u001b[32m━━━━━━━━━━━━━━━━━━━━\u001b[0m\u001b[37m\u001b[0m \u001b[1m15s\u001b[0m 551ms/step - accuracy: 0.9951 - loss: 0.3456 - val_accuracy: 0.8779 - val_loss: 7.5852\n",
      "Epoch 3/10\n",
      "\u001b[1m27/27\u001b[0m \u001b[32m━━━━━━━━━━━━━━━━━━━━\u001b[0m\u001b[37m\u001b[0m \u001b[1m15s\u001b[0m 565ms/step - accuracy: 0.9569 - loss: 1.2675 - val_accuracy: 0.8732 - val_loss: 7.4365\n",
      "Epoch 4/10\n",
      "\u001b[1m27/27\u001b[0m \u001b[32m━━━━━━━━━━━━━━━━━━━━\u001b[0m\u001b[37m\u001b[0m \u001b[1m15s\u001b[0m 557ms/step - accuracy: 0.9651 - loss: 1.5364 - val_accuracy: 0.8545 - val_loss: 7.2133\n",
      "Epoch 5/10\n",
      "\u001b[1m27/27\u001b[0m \u001b[32m━━━━━━━━━━━━━━━━━━━━\u001b[0m\u001b[37m\u001b[0m \u001b[1m15s\u001b[0m 566ms/step - accuracy: 0.9933 - loss: 0.1675 - val_accuracy: 0.8592 - val_loss: 8.9742\n",
      "Epoch 6/10\n",
      "\u001b[1m27/27\u001b[0m \u001b[32m━━━━━━━━━━━━━━━━━━━━\u001b[0m\u001b[37m\u001b[0m \u001b[1m15s\u001b[0m 552ms/step - accuracy: 0.9893 - loss: 0.3798 - val_accuracy: 0.8545 - val_loss: 10.8310\n",
      "Epoch 7/10\n",
      "\u001b[1m27/27\u001b[0m \u001b[32m━━━━━━━━━━━━━━━━━━━━\u001b[0m\u001b[37m\u001b[0m \u001b[1m15s\u001b[0m 551ms/step - accuracy: 0.9914 - loss: 0.1974 - val_accuracy: 0.8122 - val_loss: 12.2783\n",
      "Epoch 8/10\n",
      "\u001b[1m27/27\u001b[0m \u001b[32m━━━━━━━━━━━━━━━━━━━━\u001b[0m\u001b[37m\u001b[0m \u001b[1m15s\u001b[0m 569ms/step - accuracy: 0.9905 - loss: 0.6680 - val_accuracy: 0.7887 - val_loss: 17.2833\n",
      "Epoch 9/10\n",
      "\u001b[1m27/27\u001b[0m \u001b[32m━━━━━━━━━━━━━━━━━━━━\u001b[0m\u001b[37m\u001b[0m \u001b[1m15s\u001b[0m 564ms/step - accuracy: 0.9877 - loss: 0.3024 - val_accuracy: 0.8873 - val_loss: 8.8528\n",
      "Epoch 10/10\n",
      "\u001b[1m27/27\u001b[0m \u001b[32m━━━━━━━━━━━━━━━━━━━━\u001b[0m\u001b[37m\u001b[0m \u001b[1m15s\u001b[0m 555ms/step - accuracy: 0.9996 - loss: 0.0531 - val_accuracy: 0.7934 - val_loss: 15.1440\n",
      "fit time:  151.05953645706177\n"
     ]
    }
   ],
   "source": [
    "start = time.time()\n",
    "model.fit(X_train, y_train, epochs=10, batch_size=32, validation_data=(X_test, y_test))\n",
    "end = time.time()\n",
    "print('fit time: ', end - start)\n",
    "#predicted_vector = model.predict(X_test)\n",
    "#predicted_class_index = np.argmax(predicted_vector, axis=-1)\n",
    "#le.inverse_transform(predicted_class_index)\n"
   ]
  },
  {
   "cell_type": "code",
   "execution_count": 127,
   "id": "55be85fc",
   "metadata": {},
   "outputs": [
    {
     "name": "stdout",
     "output_type": "stream",
     "text": [
      "\u001b[1m7/7\u001b[0m \u001b[32m━━━━━━━━━━━━━━━━━━━━\u001b[0m\u001b[37m\u001b[0m \u001b[1m1s\u001b[0m 150ms/step\n"
     ]
    },
    {
     "data": {
      "text/plain": [
       "array(['cricket', 'kaydid', 'kaydid', 'cricket', 'cricket', 'cricket',\n",
       "       'cricket', 'cricket', 'kaydid', 'kaydid', 'cricket', 'kaydid',\n",
       "       'kaydid', 'cricket', 'kaydid', 'kaydid', 'cricket', 'cricket',\n",
       "       'kaydid', 'cricket', 'cricket', 'kaydid', 'cricket', 'cricket',\n",
       "       'kaydid', 'kaydid', 'kaydid', 'kaydid', 'kaydid', 'cricket',\n",
       "       'cricket', 'kaydid', 'kaydid', 'kaydid', 'cricket', 'cricket',\n",
       "       'kaydid', 'cricket', 'cricket', 'cricket', 'cricket', 'cricket',\n",
       "       'cricket', 'cricket', 'cricket', 'kaydid', 'cricket', 'cricket',\n",
       "       'cricket', 'cricket', 'kaydid', 'kaydid', 'cricket', 'cricket',\n",
       "       'kaydid', 'cricket', 'cricket', 'kaydid', 'cricket', 'kaydid',\n",
       "       'kaydid', 'kaydid', 'kaydid', 'cricket', 'cricket', 'kaydid',\n",
       "       'kaydid', 'cricket', 'cricket', 'kaydid', 'cricket', 'kaydid',\n",
       "       'cricket', 'kaydid', 'kaydid', 'cricket', 'cricket', 'kaydid',\n",
       "       'kaydid', 'kaydid', 'kaydid', 'cricket', 'kaydid', 'cricket',\n",
       "       'cricket', 'cricket', 'kaydid', 'cricket', 'cricket', 'kaydid',\n",
       "       'cricket', 'kaydid', 'cricket', 'cricket', 'kaydid', 'kaydid',\n",
       "       'cricket', 'cricket', 'kaydid', 'cricket', 'cricket', 'kaydid',\n",
       "       'kaydid', 'cricket', 'kaydid', 'kaydid', 'cricket', 'kaydid',\n",
       "       'cricket', 'kaydid', 'cricket', 'kaydid', 'kaydid', 'kaydid',\n",
       "       'cricket', 'cricket', 'kaydid', 'cricket', 'kaydid', 'kaydid',\n",
       "       'kaydid', 'kaydid', 'kaydid', 'cricket', 'cricket', 'cricket',\n",
       "       'cricket', 'kaydid', 'kaydid', 'cricket', 'kaydid', 'cricket',\n",
       "       'kaydid', 'kaydid', 'kaydid', 'kaydid', 'cricket', 'cricket',\n",
       "       'cricket', 'cricket', 'cricket', 'cricket', 'kaydid', 'kaydid',\n",
       "       'kaydid', 'cricket', 'kaydid', 'cricket', 'cricket', 'kaydid',\n",
       "       'cricket', 'kaydid', 'cricket', 'kaydid', 'cricket', 'kaydid',\n",
       "       'cricket', 'kaydid', 'cricket', 'kaydid', 'kaydid', 'cricket',\n",
       "       'cricket', 'cricket', 'kaydid', 'kaydid', 'kaydid', 'kaydid',\n",
       "       'cricket', 'cricket', 'kaydid', 'kaydid', 'cricket', 'kaydid',\n",
       "       'kaydid', 'cricket', 'kaydid', 'cricket', 'cricket', 'kaydid',\n",
       "       'kaydid', 'cricket', 'cricket', 'kaydid', 'kaydid', 'kaydid',\n",
       "       'cricket', 'kaydid', 'cricket', 'cricket', 'kaydid', 'cricket',\n",
       "       'cricket', 'kaydid', 'cricket', 'cricket', 'cricket', 'cricket',\n",
       "       'kaydid', 'kaydid', 'cricket', 'kaydid', 'cricket', 'cricket',\n",
       "       'kaydid', 'cricket', 'cricket', 'cricket', 'cricket', 'cricket',\n",
       "       'kaydid', 'kaydid', 'kaydid'], dtype='<U11')"
      ]
     },
     "execution_count": 127,
     "metadata": {},
     "output_type": "execute_result"
    }
   ],
   "source": [
    "predicted_vector = model.predict(X_test)\n",
    "predicted_class_index = np.argmax(predicted_vector, axis=-1)\n",
    "le.inverse_transform(predicted_class_index)"
   ]
  },
  {
   "cell_type": "markdown",
   "id": "4765ea4e",
   "metadata": {},
   "source": [
    "Does training repeatedly increase performance??\n",
    "What does Epoch and batch size do?"
   ]
  },
  {
   "cell_type": "markdown",
   "id": "37ff1f13",
   "metadata": {},
   "source": [
    "using conv2d(64), maxpool, flatten, dense, dense, batch size 32\n",
    "Epoch 1/10\n",
    "27/27 ━━━━━━━━━━━━━━━━━━━━ 15s 552ms/step - accuracy: 0.9391 - loss: 6.2835 - val_accuracy: 0.8545 - val_loss: 11.0454\n",
    "Epoch 2/10\n",
    "27/27 ━━━━━━━━━━━━━━━━━━━━ 15s 549ms/step - accuracy: 0.9566 - loss: 8.4944 - val_accuracy: 0.8216 - val_loss: 11.1535\n",
    "Epoch 3/10\n",
    "27/27 ━━━━━━━━━━━━━━━━━━━━ 15s 560ms/step - accuracy: 0.8765 - loss: 8.8313 - val_accuracy: 0.7230 - val_loss: 23.5377\n",
    "Epoch 4/10\n",
    "27/27 ━━━━━━━━━━━━━━━━━━━━ 15s 565ms/step - accuracy: 0.9043 - loss: 6.7910 - val_accuracy: 0.8075 - val_loss: 14.2637\n",
    "Epoch 5/10\n",
    "27/27 ━━━━━━━━━━━━━━━━━━━━ 16s 580ms/step - accuracy: 0.9250 - loss: 6.7538 - val_accuracy: 0.7653 - val_loss: 15.3153\n",
    "Epoch 6/10\n",
    "27/27 ━━━━━━━━━━━━━━━━━━━━ 15s 559ms/step - accuracy: 0.9108 - loss: 6.5910 - val_accuracy: 0.8920 - val_loss: 6.9638\n",
    "Epoch 7/10\n",
    "27/27 ━━━━━━━━━━━━━━━━━━━━ 15s 551ms/step - accuracy: 0.9831 - loss: 1.6024 - val_accuracy: 0.8310 - val_loss: 12.2536\n",
    "Epoch 8/10\n",
    "27/27 ━━━━━━━━━━━━━━━━━━━━ 15s 562ms/step - accuracy: 0.9745 - loss: 1.0641 - val_accuracy: 0.8498 - val_loss: 11.0394\n",
    "Epoch 9/10\n",
    "27/27 ━━━━━━━━━━━━━━━━━━━━ 15s 551ms/step - accuracy: 0.9707 - loss: 0.9651 - val_accuracy: 0.8216 - val_loss: 14.1250\n",
    "Epoch 10/10\n",
    "27/27 ━━━━━━━━━━━━━━━━━━━━ 15s 557ms/step - accuracy: 0.9534 - loss: 1.5526 - val_accuracy: 0.8451 - val_loss: 7.3341\n",
    "fit time:  151.07773733139038"
   ]
  },
  {
   "cell_type": "code",
   "execution_count": 128,
   "id": "12fb33af",
   "metadata": {},
   "outputs": [
    {
     "name": "stdout",
     "output_type": "stream",
     "text": [
      "['cricket' 'kaydid' 'kaydid' 'cricket' 'kaydid' 'cricket' 'cricket'\n",
      " 'cricket' 'cricket' 'cicada' 'cicada' 'kaydid' 'kaydid' 'cricket'\n",
      " 'kaydid' 'kaydid' 'cricket' 'kaydid' 'kaydid' 'kaydid' 'cricket' 'kaydid'\n",
      " 'kaydid' 'kaydid' 'kaydid' 'kaydid' 'cricket' 'kaydid' 'kaydid' 'cricket'\n",
      " 'cricket' 'kaydid' 'kaydid' 'kaydid' 'kaydid' 'cricket' 'kaydid'\n",
      " 'cricket' 'cricket' 'kaydid' 'cricket' 'kaydid' 'kaydid' 'cricket'\n",
      " 'cricket' 'kaydid' 'kaydid' 'cicada' 'cricket' 'cicada' 'kaydid' 'kaydid'\n",
      " 'kaydid' 'cricket' 'kaydid' 'kaydid' 'cricket' 'kaydid' 'cricket'\n",
      " 'kaydid' 'kaydid' 'kaydid' 'kaydid' 'cricket' 'cricket' 'kaydid' 'kaydid'\n",
      " 'cricket' 'kaydid' 'kaydid' 'cricket' 'kaydid' 'kaydid' 'kaydid' 'kaydid'\n",
      " 'cricket' 'cricket' 'kaydid' 'cicada' 'kaydid' 'kaydid' 'kaydid' 'kaydid'\n",
      " 'cricket' 'cricket' 'cricket' 'kaydid' 'cricket' 'cricket' 'kaydid'\n",
      " 'cricket' 'kaydid' 'kaydid' 'cricket' 'kaydid' 'kaydid' 'kaydid'\n",
      " 'cricket' 'kaydid' 'cricket' 'kaydid' 'cricket' 'kaydid' 'cricket'\n",
      " 'kaydid' 'kaydid' 'cricket' 'kaydid' 'cricket' 'kaydid' 'cricket'\n",
      " 'kaydid' 'kaydid' 'kaydid' 'cricket' 'cricket' 'kaydid' 'cricket'\n",
      " 'kaydid' 'kaydid' 'kaydid' 'kaydid' 'kaydid' 'kaydid' 'kaydid' 'cricket'\n",
      " 'cricket' 'kaydid' 'kaydid' 'cricket' 'kaydid' 'cricket' 'kaydid'\n",
      " 'cicada' 'kaydid' 'kaydid' 'kaydid' 'cricket' 'cricket' 'kaydid' 'kaydid'\n",
      " 'cricket' 'kaydid' 'kaydid' 'kaydid' 'cricket' 'kaydid' 'cricket'\n",
      " 'kaydid' 'kaydid' 'kaydid' 'kaydid' 'kaydid' 'kaydid' 'cricket' 'kaydid'\n",
      " 'kaydid' 'kaydid' 'kaydid' 'kaydid' 'kaydid' 'cricket' 'cricket'\n",
      " 'cricket' 'kaydid' 'kaydid' 'kaydid' 'kaydid' 'cricket' 'cricket'\n",
      " 'kaydid' 'kaydid' 'kaydid' 'kaydid' 'kaydid' 'cricket' 'kaydid' 'cricket'\n",
      " 'cricket' 'kaydid' 'kaydid' 'cricket' 'kaydid' 'kaydid' 'kaydid' 'kaydid'\n",
      " 'cricket' 'kaydid' 'cricket' 'kaydid' 'kaydid' 'kaydid' 'cricket'\n",
      " 'kaydid' 'cricket' 'cricket' 'cricket' 'cricket' 'kaydid' 'kaydid'\n",
      " 'cricket' 'kaydid' 'cricket' 'cricket' 'kaydid' 'kaydid' 'kaydid'\n",
      " 'kaydid' 'cricket' 'cricket' 'kaydid' 'kaydid' 'kaydid']\n"
     ]
    }
   ],
   "source": [
    "y_test = y_test.astype(int) \n",
    "y_test_cate = list(y_test[:,1] + 2*y_test[:,2]+3*y_test[:,3]) \n",
    "y_test_names = le.inverse_transform(y_test[:,1] + 2*y_test[:,2]+3*y_test[:,3])\n",
    "print(y_test_names)"
   ]
  },
  {
   "cell_type": "code",
   "execution_count": 129,
   "id": "c54fcf38",
   "metadata": {},
   "outputs": [
    {
     "data": {
      "text/html": [
       "<div>\n",
       "<style scoped>\n",
       "    .dataframe tbody tr th:only-of-type {\n",
       "        vertical-align: middle;\n",
       "    }\n",
       "\n",
       "    .dataframe tbody tr th {\n",
       "        vertical-align: top;\n",
       "    }\n",
       "\n",
       "    .dataframe thead th {\n",
       "        text-align: right;\n",
       "    }\n",
       "</style>\n",
       "<table border=\"1\" class=\"dataframe\">\n",
       "  <thead>\n",
       "    <tr style=\"text-align: right;\">\n",
       "      <th></th>\n",
       "      <th>0</th>\n",
       "      <th>1</th>\n",
       "      <th>2</th>\n",
       "    </tr>\n",
       "  </thead>\n",
       "  <tbody>\n",
       "    <tr>\n",
       "      <th>0</th>\n",
       "      <td>0</td>\n",
       "      <td>3</td>\n",
       "      <td>3</td>\n",
       "    </tr>\n",
       "    <tr>\n",
       "      <th>1</th>\n",
       "      <td>0</td>\n",
       "      <td>73</td>\n",
       "      <td>3</td>\n",
       "    </tr>\n",
       "    <tr>\n",
       "      <th>2</th>\n",
       "      <td>0</td>\n",
       "      <td>35</td>\n",
       "      <td>96</td>\n",
       "    </tr>\n",
       "  </tbody>\n",
       "</table>\n",
       "</div>"
      ],
      "text/plain": [
       "   0   1   2\n",
       "0  0   3   3\n",
       "1  0  73   3\n",
       "2  0  35  96"
      ]
     },
     "execution_count": 129,
     "metadata": {},
     "output_type": "execute_result"
    }
   ],
   "source": [
    "from sklearn.metrics import confusion_matrix\n",
    "conf_mat = confusion_matrix(y_test_cate, predicted_class_index)\n",
    "pd.DataFrame(conf_mat)#,\n",
    "#                 columns = ['Predicted 0', 'Predicted 1', 'Predicted 2', 'Predicted 3'],\n",
    "#                 index = ['Actual 0', 'Actual 1', 'Actual 2', 'Actual 3'])"
   ]
  },
  {
   "cell_type": "code",
   "execution_count": 75,
   "id": "ce851fb5",
   "metadata": {},
   "outputs": [
    {
     "name": "stdout",
     "output_type": "stream",
     "text": [
      "[0, 1, 1, 3, 1, 3, 3, 0, 0, 0, 1, 0, 1, 0, 3, 1, 0, 3, 3, 0, 3, 3, 3, 1, 1, 1, 3, 3, 3, 3, 1, 3, 1, 3, 1, 1, 0, 3, 3, 3, 3, 3, 1, 3, 3, 3, 3, 1, 1, 3, 1, 1, 1]\n"
     ]
    }
   ],
   "source": [
    "print(y_test_cate)"
   ]
  },
  {
   "cell_type": "code",
   "execution_count": null,
   "id": "07e152d5",
   "metadata": {},
   "outputs": [],
   "source": []
  },
  {
   "cell_type": "code",
   "execution_count": null,
   "id": "6aa75069",
   "metadata": {},
   "outputs": [],
   "source": []
  }
 ],
 "metadata": {
  "kernelspec": {
   "display_name": "Python 3 (ipykernel)",
   "language": "python",
   "name": "python3"
  },
  "language_info": {
   "codemirror_mode": {
    "name": "ipython",
    "version": 3
   },
   "file_extension": ".py",
   "mimetype": "text/x-python",
   "name": "python",
   "nbconvert_exporter": "python",
   "pygments_lexer": "ipython3",
   "version": "3.10.9"
  }
 },
 "nbformat": 4,
 "nbformat_minor": 5
}
