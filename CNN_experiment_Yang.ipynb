{
 "cells": [
  {
   "cell_type": "markdown",
   "id": "b167a869",
   "metadata": {},
   "source": [
    "Testing CNN method from https://wandb.ai/mostafaibrahim17/ml-articles/reports/An-Introduction-to-Audio-Classification-with-Keras--Vmlldzo0MDQzNDUy#:~:text=%EF%BB%BFKeras%20is%20a%20go,both%20beginners%20and%20advanced%20users."
   ]
  },
  {
   "cell_type": "code",
   "execution_count": 1,
   "id": "2b92115a",
   "metadata": {},
   "outputs": [],
   "source": [
    "import os\n",
    "import numpy as np\n",
    "import pandas as pd\n",
    "import librosa\n",
    "from sklearn.model_selection import train_test_split\n",
    "from sklearn.preprocessing import LabelEncoder\n",
    "from keras.utils import to_categorical\n",
    "from keras.models import Sequential\n",
    "from keras.layers import Dense, Dropout, Activation, Flatten, Conv1D, MaxPooling1D\n",
    "import matplotlib.pyplot as plt"
   ]
  },
  {
   "cell_type": "code",
   "execution_count": 2,
   "id": "140271f1",
   "metadata": {},
   "outputs": [],
   "source": [
    "#import wandb\n",
    "#wandb.init(project='audio_classification_using_W&B', \n",
    "#           entity='enter your entity name here', \n",
    "#           config={\"batch_size\": 32, \"epochs\": 100})"
   ]
  },
  {
   "cell_type": "markdown",
   "id": "27116a09",
   "metadata": {},
   "source": [
    "Depending on what data we are using we may not need this"
   ]
  },
  {
   "cell_type": "code",
   "execution_count": 31,
   "id": "01854753",
   "metadata": {},
   "outputs": [],
   "source": [
    "def get_data(audio_path, meta_file, label_name):\n",
    "    songs_matrix = []\n",
    "    songs_label = []\n",
    "    audio_list = os.listdir(audio_path)\n",
    "    df = pd.read_csv(meta_file)\n",
    "    for name in audio_list:\n",
    "        #name = audio_list[0]\n",
    "        number = name.replace('_', '.').split('.')[0]\n",
    "\n",
    "        song, sr = librosa.load(os.path.join(audio_path, name))\n",
    "        mfccs = librosa.feature.mfcc(y = song, n_mfcc = 20)\n",
    "        mfcc = np.mean(mfccs, axis=1) # average over columns, shape(n_mfcc, )\n",
    "\n",
    "        songs_matrix.append(mfcc)\n",
    "        songs_label.append(df[label_name].loc[df.cat_num == float(number)].item())\n",
    "    return np.array(songs_matrix), np.array(songs_label)"
   ]
  },
  {
   "cell_type": "code",
   "execution_count": 32,
   "id": "abe43836",
   "metadata": {},
   "outputs": [],
   "source": [
    "# load all audio in audio_path\n",
    "# convert to matrix, save in np array, \n",
    "# load the corresponding label_name from lable_filename, save in another np array\n",
    "\n",
    "audio_path = 'Small_audio_sample'\n",
    "meta_file = 'MLNS_Insects_Fams.csv'\n",
    "label_name = 'fam_or_subfam'\n",
    "\n",
    "songs_matrix, songs_label = get_data(audio_path, meta_file, label_name)"
   ]
  },
  {
   "cell_type": "code",
   "execution_count": 81,
   "id": "8ae2ce80",
   "metadata": {},
   "outputs": [
    {
     "name": "stdout",
     "output_type": "stream",
     "text": [
      "['Gryllotalpidae' 'Trigonidiinae' 'Phaneropterinae' 'Phaneropterinae'\n",
      " 'Phaneropterinae' 'Phaneropterinae' 'Phaneropterinae' 'Phaneropterinae'\n",
      " 'Phaneropterinae' 'Phaneropterinae' 'Phaneropterinae' 'Phaneropterinae'\n",
      " 'Phaneropterinae' 'Phaneropterinae' 'Phaneropterinae' 'Phaneropterinae'\n",
      " 'Phaneropterinae' 'Phaneropterinae' 'Phaneropterinae' 'Phaneropterinae'\n",
      " 'Phaneropterinae' 'Phaneropterinae' 'Phaneropterinae' 'Phaneropterinae'\n",
      " 'Phaneropterinae' 'Phaneropterinae' 'Phaneropterinae' 'Phaneropterinae'\n",
      " 'Phaneropterinae' 'Conocephalinae']\n"
     ]
    }
   ],
   "source": [
    "print(songs_label)"
   ]
  },
  {
   "cell_type": "code",
   "execution_count": null,
   "id": "12e65758",
   "metadata": {},
   "outputs": [],
   "source": [
    "# convert insec fam into numbers. use le.inverse_transform to go from number to name\n",
    "le = LabelEncoder()\n",
    "songs_label_num = le.fit_transform(songs_label)\n",
    "songs_label_onehot = to_categorical(songs_label_num) # why do we do this??"
   ]
  },
  {
   "cell_type": "code",
   "execution_count": 131,
   "id": "9c050b8e",
   "metadata": {
    "scrolled": true
   },
   "outputs": [
    {
     "name": "stdout",
     "output_type": "stream",
     "text": [
      "['Gryllotalpidae' 'Trigonidiinae' 'Phaneropterinae' 'Phaneropterinae'\n",
      " 'Phaneropterinae' 'Phaneropterinae' 'Phaneropterinae' 'Phaneropterinae'\n",
      " 'Phaneropterinae' 'Phaneropterinae' 'Phaneropterinae' 'Phaneropterinae'\n",
      " 'Phaneropterinae' 'Phaneropterinae' 'Phaneropterinae' 'Phaneropterinae'\n",
      " 'Phaneropterinae' 'Phaneropterinae' 'Phaneropterinae' 'Phaneropterinae'\n",
      " 'Phaneropterinae' 'Phaneropterinae' 'Phaneropterinae' 'Phaneropterinae'\n",
      " 'Phaneropterinae' 'Phaneropterinae' 'Phaneropterinae' 'Phaneropterinae'\n",
      " 'Phaneropterinae' 'Conocephalinae']\n"
     ]
    }
   ],
   "source": [
    "## if ever need to convert onehot matrix back to string label\n",
    "#label_num = np.sum(songs_label_onehot*np.arange(0,songs_label_onehot.shape[1]), axis=1)\n",
    "#print(le.inverse_transform(label_num.astype(int)))"
   ]
  },
  {
   "cell_type": "code",
   "execution_count": 44,
   "id": "834acb7b",
   "metadata": {},
   "outputs": [],
   "source": [
    "X_train, X_test, y_train, y_test = train_test_split(songs_matrix, songs_label_onehot, \n",
    "                                                    test_size = .2, random_state = 404,\n",
    "                                                    )"
   ]
  },
  {
   "cell_type": "code",
   "execution_count": 110,
   "id": "2efc8e90",
   "metadata": {},
   "outputs": [
    {
     "name": "stdout",
     "output_type": "stream",
     "text": [
      "[2, 1, 2, 2, 2, 2]\n",
      "['Phaneropterinae' 'Gryllotalpidae' 'Phaneropterinae' 'Phaneropterinae'\n",
      " 'Phaneropterinae' 'Phaneropterinae']\n"
     ]
    }
   ],
   "source": [
    "y_test = y_test.astype(int)\n",
    "print(list(y_test[:,1] + 2*y_test[:,2]+3*y_test[:,3]))\n",
    "print(le.inverse_transform(y_test[:,1] + 2*y_test[:,2]+3*y_test[:,3]))"
   ]
  },
  {
   "cell_type": "markdown",
   "id": "b81c0880",
   "metadata": {},
   "source": [
    "\"A Sequential model is appropriate for a plain stack of layers where each layer has exactly one input tensor and one output tensor.\"\n",
    "https://keras.io/guides/sequential_model/"
   ]
  },
  {
   "cell_type": "code",
   "execution_count": 75,
   "id": "be150b6b",
   "metadata": {},
   "outputs": [],
   "source": [
    "input_shape = (X_train.shape[1], 1) # n_featuer-by-1 vector\n",
    "model = Sequential() \n",
    "model.add(Conv1D(64, 3, padding='same', activation='relu', input_shape=input_shape))\n",
    "model.add(MaxPooling1D(pool_size=2))\n",
    "model.add(Dropout(0.25))\n",
    "model.add(Conv1D(128, 3, padding='same', activation='relu'))\n",
    "model.add(MaxPooling1D(pool_size=2))\n",
    "model.add(Dropout(0.25))\n",
    "model.add(Flatten())\n",
    "model.add(Dense(512, activation='relu'))\n",
    "model.add(Dropout(0.5))\n",
    "model.add(Dense(len(le.classes_), activation='softmax'))\n",
    "model.compile(loss='categorical_crossentropy', optimizer='adam', metrics=['accuracy'])"
   ]
  },
  {
   "cell_type": "code",
   "execution_count": 78,
   "id": "b706c9c0",
   "metadata": {},
   "outputs": [],
   "source": [
    "X_train = X_train.reshape(X_train.shape[0], X_train.shape[1], 1)\n",
    "X_test = X_test.reshape(X_test.shape[0], X_test.shape[1], 1)\n"
   ]
  },
  {
   "cell_type": "code",
   "execution_count": 80,
   "id": "881568f7",
   "metadata": {},
   "outputs": [
    {
     "name": "stdout",
     "output_type": "stream",
     "text": [
      "\u001b[1m1/1\u001b[0m \u001b[32m━━━━━━━━━━━━━━━━━━━━\u001b[0m\u001b[37m\u001b[0m \u001b[1m0s\u001b[0m 21ms/step\n"
     ]
    },
    {
     "data": {
      "text/plain": [
       "array(['Conocephalinae', 'Conocephalinae', 'Conocephalinae',\n",
       "       'Conocephalinae', 'Conocephalinae', 'Conocephalinae'], dtype='<U15')"
      ]
     },
     "execution_count": 80,
     "metadata": {},
     "output_type": "execute_result"
    }
   ],
   "source": [
    "predicted_vector = model.predict(X_test)\n",
    "predicted_class_index = np.argmax(predicted_vector, axis=-1)\n",
    "le.inverse_transform(predicted_class_index)\n"
   ]
  },
  {
   "cell_type": "code",
   "execution_count": 77,
   "id": "76d38447",
   "metadata": {},
   "outputs": [
    {
     "name": "stdout",
     "output_type": "stream",
     "text": [
      "(20, 50)\n"
     ]
    },
    {
     "ename": "ValueError",
     "evalue": "Input 0 of layer \"conv1d_14\" is incompatible with the layer: expected min_ndim=3, found ndim=2. Full shape received: (20, 50)",
     "output_type": "error",
     "traceback": [
      "\u001b[1;31m---------------------------------------------------------------------------\u001b[0m",
      "\u001b[1;31mValueError\u001b[0m                                Traceback (most recent call last)",
      "Cell \u001b[1;32mIn[77], line 3\u001b[0m\n\u001b[0;32m      1\u001b[0m x \u001b[38;5;241m=\u001b[39m np\u001b[38;5;241m.\u001b[39mrandom\u001b[38;5;241m.\u001b[39mrand(\u001b[38;5;241m20\u001b[39m,\u001b[38;5;241m50\u001b[39m)\n\u001b[0;32m      2\u001b[0m \u001b[38;5;28mprint\u001b[39m(x\u001b[38;5;241m.\u001b[39mshape)\n\u001b[1;32m----> 3\u001b[0m y \u001b[38;5;241m=\u001b[39m \u001b[43mConv1D\u001b[49m\u001b[43m(\u001b[49m\u001b[38;5;241;43m32\u001b[39;49m\u001b[43m,\u001b[49m\u001b[43m \u001b[49m\u001b[38;5;241;43m5\u001b[39;49m\u001b[43m,\u001b[49m\u001b[43m \u001b[49m\u001b[43mactivation\u001b[49m\u001b[38;5;241;43m=\u001b[39;49m\u001b[38;5;124;43m'\u001b[39;49m\u001b[38;5;124;43mrelu\u001b[39;49m\u001b[38;5;124;43m'\u001b[39;49m\u001b[43m)\u001b[49m\u001b[43m(\u001b[49m\u001b[43mx\u001b[49m\u001b[43m)\u001b[49m\n\u001b[0;32m      4\u001b[0m \u001b[38;5;28mprint\u001b[39m(y\u001b[38;5;241m.\u001b[39mshape)\n",
      "File \u001b[1;32m~\\anaconda3\\lib\\site-packages\\keras\\src\\utils\\traceback_utils.py:122\u001b[0m, in \u001b[0;36mfilter_traceback.<locals>.error_handler\u001b[1;34m(*args, **kwargs)\u001b[0m\n\u001b[0;32m    119\u001b[0m     filtered_tb \u001b[38;5;241m=\u001b[39m _process_traceback_frames(e\u001b[38;5;241m.\u001b[39m__traceback__)\n\u001b[0;32m    120\u001b[0m     \u001b[38;5;66;03m# To get the full stack trace, call:\u001b[39;00m\n\u001b[0;32m    121\u001b[0m     \u001b[38;5;66;03m# `keras.config.disable_traceback_filtering()`\u001b[39;00m\n\u001b[1;32m--> 122\u001b[0m     \u001b[38;5;28;01mraise\u001b[39;00m e\u001b[38;5;241m.\u001b[39mwith_traceback(filtered_tb) \u001b[38;5;28;01mfrom\u001b[39;00m \u001b[38;5;28;01mNone\u001b[39;00m\n\u001b[0;32m    123\u001b[0m \u001b[38;5;28;01mfinally\u001b[39;00m:\n\u001b[0;32m    124\u001b[0m     \u001b[38;5;28;01mdel\u001b[39;00m filtered_tb\n",
      "File \u001b[1;32m~\\anaconda3\\lib\\site-packages\\keras\\src\\layers\\input_spec.py:202\u001b[0m, in \u001b[0;36massert_input_compatibility\u001b[1;34m(input_spec, inputs, layer_name)\u001b[0m\n\u001b[0;32m    200\u001b[0m \u001b[38;5;28;01mif\u001b[39;00m spec\u001b[38;5;241m.\u001b[39mmin_ndim \u001b[38;5;129;01mis\u001b[39;00m \u001b[38;5;129;01mnot\u001b[39;00m \u001b[38;5;28;01mNone\u001b[39;00m:\n\u001b[0;32m    201\u001b[0m     \u001b[38;5;28;01mif\u001b[39;00m ndim \u001b[38;5;129;01mis\u001b[39;00m \u001b[38;5;129;01mnot\u001b[39;00m \u001b[38;5;28;01mNone\u001b[39;00m \u001b[38;5;129;01mand\u001b[39;00m ndim \u001b[38;5;241m<\u001b[39m spec\u001b[38;5;241m.\u001b[39mmin_ndim:\n\u001b[1;32m--> 202\u001b[0m         \u001b[38;5;28;01mraise\u001b[39;00m \u001b[38;5;167;01mValueError\u001b[39;00m(\n\u001b[0;32m    203\u001b[0m             \u001b[38;5;124mf\u001b[39m\u001b[38;5;124m'\u001b[39m\u001b[38;5;124mInput \u001b[39m\u001b[38;5;132;01m{\u001b[39;00minput_index\u001b[38;5;132;01m}\u001b[39;00m\u001b[38;5;124m of layer \u001b[39m\u001b[38;5;124m\"\u001b[39m\u001b[38;5;132;01m{\u001b[39;00mlayer_name\u001b[38;5;132;01m}\u001b[39;00m\u001b[38;5;124m\"\u001b[39m\u001b[38;5;124m \u001b[39m\u001b[38;5;124m'\u001b[39m\n\u001b[0;32m    204\u001b[0m             \u001b[38;5;124m\"\u001b[39m\u001b[38;5;124mis incompatible with the layer: \u001b[39m\u001b[38;5;124m\"\u001b[39m\n\u001b[0;32m    205\u001b[0m             \u001b[38;5;124mf\u001b[39m\u001b[38;5;124m\"\u001b[39m\u001b[38;5;124mexpected min_ndim=\u001b[39m\u001b[38;5;132;01m{\u001b[39;00mspec\u001b[38;5;241m.\u001b[39mmin_ndim\u001b[38;5;132;01m}\u001b[39;00m\u001b[38;5;124m, \u001b[39m\u001b[38;5;124m\"\u001b[39m\n\u001b[0;32m    206\u001b[0m             \u001b[38;5;124mf\u001b[39m\u001b[38;5;124m\"\u001b[39m\u001b[38;5;124mfound ndim=\u001b[39m\u001b[38;5;132;01m{\u001b[39;00mndim\u001b[38;5;132;01m}\u001b[39;00m\u001b[38;5;124m. \u001b[39m\u001b[38;5;124m\"\u001b[39m\n\u001b[0;32m    207\u001b[0m             \u001b[38;5;124mf\u001b[39m\u001b[38;5;124m\"\u001b[39m\u001b[38;5;124mFull shape received: \u001b[39m\u001b[38;5;132;01m{\u001b[39;00mshape\u001b[38;5;132;01m}\u001b[39;00m\u001b[38;5;124m\"\u001b[39m\n\u001b[0;32m    208\u001b[0m         )\n\u001b[0;32m    209\u001b[0m \u001b[38;5;66;03m# Check dtype.\u001b[39;00m\n\u001b[0;32m    210\u001b[0m \u001b[38;5;28;01mif\u001b[39;00m spec\u001b[38;5;241m.\u001b[39mdtype \u001b[38;5;129;01mis\u001b[39;00m \u001b[38;5;129;01mnot\u001b[39;00m \u001b[38;5;28;01mNone\u001b[39;00m:\n",
      "\u001b[1;31mValueError\u001b[0m: Input 0 of layer \"conv1d_14\" is incompatible with the layer: expected min_ndim=3, found ndim=2. Full shape received: (20, 50)"
     ]
    }
   ],
   "source": [
    "x = np.random.rand(20,50)\n",
    "print(x.shape)\n",
    "y = Conv1D(32, 5, activation='relu')(x)\n",
    "print(y.shape)"
   ]
  },
  {
   "cell_type": "code",
   "execution_count": null,
   "id": "c54fcf38",
   "metadata": {},
   "outputs": [],
   "source": []
  }
 ],
 "metadata": {
  "kernelspec": {
   "display_name": "Python 3 (ipykernel)",
   "language": "python",
   "name": "python3"
  },
  "language_info": {
   "codemirror_mode": {
    "name": "ipython",
    "version": 3
   },
   "file_extension": ".py",
   "mimetype": "text/x-python",
   "name": "python",
   "nbconvert_exporter": "python",
   "pygments_lexer": "ipython3",
   "version": "3.10.9"
  }
 },
 "nbformat": 4,
 "nbformat_minor": 5
}
