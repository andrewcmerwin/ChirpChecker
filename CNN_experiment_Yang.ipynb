{
 "cells": [
  {
   "cell_type": "markdown",
   "id": "b167a869",
   "metadata": {},
   "source": [
    "Testing CNN method from https://wandb.ai/mostafaibrahim17/ml-articles/reports/An-Introduction-to-Audio-Classification-with-Keras--Vmlldzo0MDQzNDUy#:~:text=%EF%BB%BFKeras%20is%20a%20go,both%20beginners%20and%20advanced%20users.\n",
    "\n",
    "https://keras.io/guides/sequential_model/"
   ]
  },
  {
   "cell_type": "code",
   "execution_count": 70,
   "id": "2b92115a",
   "metadata": {},
   "outputs": [],
   "source": [
    "import os\n",
    "import numpy as np\n",
    "import pandas as pd\n",
    "import librosa\n",
    "from sklearn.model_selection import train_test_split\n",
    "from sklearn.preprocessing import LabelEncoder\n",
    "from sklearn.metrics import confusion_matrix\n",
    "from keras.utils import to_categorical\n",
    "from keras.models import Sequential\n",
    "from keras import layers # example functions: Dense, Dropout, Activation, Flatten, Conv1D, MaxPooling1D\n",
    "from keras import Input\n",
    "import matplotlib.pyplot as plt\n",
    "import time"
   ]
  },
  {
   "cell_type": "code",
   "execution_count": 72,
   "id": "01854753",
   "metadata": {},
   "outputs": [],
   "source": [
    "def get_data(audio_path, meta_file, label_name, load_length):\n",
    "    songs_matrix = []\n",
    "    songs_label = []\n",
    "    audio_list = os.listdir(audio_path)\n",
    "    df = pd.read_csv(meta_file)\n",
    "\n",
    "    for name in audio_list:\n",
    "        # parse out number part of the data files so we can get the corresponding label from meta_file\n",
    "        number = name.replace('_', '.').split('.')[0]\n",
    "        filepath = os.path.join(audio_path, name)\n",
    "        # skipping files that are less than 250KB ~ 5sec long\n",
    "        # this is to make sure we have enough length for sampling fft time intervals\n",
    "        if os.path.getsize(filepath) < 250000:\n",
    "            continue\n",
    "        # ============ load the data and get matrix ============\n",
    "        # replace this block with function that cleansup data and outputs a feature matrix per file\n",
    "        # make sure that the size of the feature matrix is the same for all files\n",
    "        # name the output feature matrix mfccs \n",
    "        song, sr = librosa.load(filepath, duration=load_length)\n",
    "        mfccs = librosa.feature.mfcc(y = song, n_mfcc = 40)#, n_fft=512)\n",
    "\n",
    "        #mfcc = np.mean(mfccs, axis=1) # average over columns, shape(n_mfcc, ), used for vector input data\n",
    "        # ======================================================\n",
    "        songs_matrix.append(mfccs)\n",
    "        songs_label.append(df[label_name].loc[df.cat_num == float(number)].item())\n",
    "    return np.array(songs_matrix), np.array(songs_label)"
   ]
  },
  {
   "cell_type": "code",
   "execution_count": 73,
   "id": "e5459874",
   "metadata": {},
   "outputs": [],
   "source": [
    "# for converting strings of label from one division to another, e.g. fam/subfam to critter name\n",
    "def convert_labels(labels, meta_file, from_division, to_division):\n",
    "    # find label in labels in meta_file under column from_division\n",
    "    # append as key in dictionary lookup_table\n",
    "    # append as value the correspondign label in to_division\n",
    "\n",
    "    df = pd.read_csv(meta_file, usecols=[from_division, to_divison])\n",
    "    lookup_table = dict() # look up table for new label\n",
    "    for label in labels:\n",
    "        if label in lookup_table.keys():\n",
    "            continue\n",
    "        idx = df.loc[df[from_division]==label].index[0]\n",
    "        lookup_table[label] = df[to_divison][idx]\n",
    "    return [lookup_table[label] for label in labels]\n",
    "\n",
    "# example testing block\n",
    "#from_division = 'fam_or_subfam'\n",
    "#to_division = 'critter_name'\n",
    "#meta_file = 'MLNS_Insects_Fams_05212024.csv'\n",
    "#labels = ['Acrididae', 'Cicadidae', 'Acrididae', 'Listroscelidinae', \n",
    "#                  'Mogoplistinae', 'Nemobiinae', 'Oecanthinae', 'Phalangopsidae',\n",
    "#                  'Phaneropterinae', 'Oecanthinae', 'Tettigoniinae','Trigonidiinae']    \n",
    "#convert_labels(labels, meta_file, from_division, to_division)"
   ]
  },
  {
   "cell_type": "code",
   "execution_count": 74,
   "id": "abe43836",
   "metadata": {},
   "outputs": [
    {
     "name": "stdout",
     "output_type": "stream",
     "text": [
      "time loading: 51.27629542350769\n"
     ]
    }
   ],
   "source": [
    "# load all audio in audio_path\n",
    "# convert to matrix, save in np array, \n",
    "# load the corresponding label_name from lable_filename, save in another np array\n",
    "\n",
    "audio_path = 'E:\\chirpfiles\\\\no_voice_files'\n",
    "meta_file = 'MLNS_Insects_Fams_05212024.csv'\n",
    "label_name = 'fam_or_subfam'\n",
    "start = time.time()\n",
    "max_time = 5 # cut off time for loading, in sec\n",
    "songs_matrix, songs_label = get_data(audio_path, meta_file, label_name, max_time)\n",
    "end = time.time()\n",
    "print('time loading:', end - start)"
   ]
  },
  {
   "cell_type": "code",
   "execution_count": 75,
   "id": "0d5eea5a",
   "metadata": {},
   "outputs": [
    {
     "name": "stdout",
     "output_type": "stream",
     "text": [
      "(array(['Acrididae', 'Cicadidae', 'Conocephalinae', 'Eneopterinae',\n",
      "       'Gryllinae', 'Gryllotalpidae', 'Hapithinae', 'Listroscelidinae',\n",
      "       'Mogoplistinae', 'Nemobiinae', 'Oecanthinae', 'Phalangopsidae',\n",
      "       'Phaneropterinae', 'Pseudophyllinae', 'Tettigoniinae',\n",
      "       'Trigonidiinae'], dtype='<U16'), array([   1,   56,  828,   31, 1400,   42,  374,   10,  336,  370,  743,\n",
      "         12,  557,  140,  256,  545], dtype=int64))\n"
     ]
    }
   ],
   "source": [
    "songs_matrix.shape\n",
    "print(np.unique(songs_label, return_counts=True))"
   ]
  },
  {
   "cell_type": "code",
   "execution_count": 76,
   "id": "593005f6",
   "metadata": {},
   "outputs": [
    {
     "name": "stdout",
     "output_type": "stream",
     "text": [
      "(array(['Cicadidae', 'Conocephalinae', 'Eneopterinae', 'Gryllinae',\n",
      "       'Gryllotalpidae', 'Hapithinae', 'Mogoplistinae', 'Nemobiinae',\n",
      "       'Oecanthinae', 'Phaneropterinae', 'Pseudophyllinae',\n",
      "       'Tettigoniinae', 'Trigonidiinae'], dtype='<U16'), array([  56,  828,   31, 1400,   42,  374,  336,  370,  743,  557,  140,\n",
      "        256,  545], dtype=int64))\n"
     ]
    }
   ],
   "source": [
    "# remove classes with too few data points\n",
    "delete_list = list(np.where(songs_label=='Acrididae')[0])+list(np.where(songs_label=='Listroscelidinae')[0])+list(np.where(songs_label=='Phalangopsidae')[0])\n",
    "\n",
    "short_label = np.delete(songs_label, delete_list)\n",
    "short_matrix = np.delete(songs_matrix, delete_list, 0)\n",
    "# double check data after deleting\n",
    "print(np.unique(short_label, return_counts=True))"
   ]
  },
  {
   "cell_type": "code",
   "execution_count": 77,
   "id": "2b745068",
   "metadata": {},
   "outputs": [],
   "source": [
    "# convert insec fam into numbers. use le.inverse_transform to go from number to name\n",
    "le = LabelEncoder()\n",
    "songs_label_num = le.fit_transform(short_label)\n",
    "songs_label_onehot = to_categorical(songs_label_num) # required output format by cnn\n",
    "\n",
    "# rename data/label variable name so that we don't need to change them in the model block\n",
    "data_matrix = short_matrix\n",
    "data_label = songs_label_onehot"
   ]
  },
  {
   "cell_type": "code",
   "execution_count": 111,
   "id": "834acb7b",
   "metadata": {},
   "outputs": [
    {
     "name": "stdout",
     "output_type": "stream",
     "text": [
      "(4542, 40, 216, 1)\n"
     ]
    }
   ],
   "source": [
    "X_train, X_test, y_train, y_test = train_test_split(data_matrix, data_label, \n",
    "                                                    test_size = .2, random_state = 404)\n",
    "# to use 2d convolution, keras model expects 4d input shape\n",
    "X_train = X_train.reshape((X_train.shape[0],X_train.shape[1],X_train.shape[2],1))\n",
    "X_test = X_test.reshape((X_test.shape[0],X_test.shape[1],X_test.shape[2],1))\n",
    "print(X_train.shape)\n"
   ]
  },
  {
   "cell_type": "code",
   "execution_count": 79,
   "id": "f11d544f",
   "metadata": {},
   "outputs": [
    {
     "name": "stdout",
     "output_type": "stream",
     "text": [
      "(3633, 40, 216, 1) (3633, 13)\n"
     ]
    }
   ],
   "source": [
    "X_tt, X_val, y_tt, y_val = train_test_split(X_train, y_train, test_size = .2, random_state = 202)\n",
    "print(X_tt.shape, y_tt.shape)"
   ]
  },
  {
   "cell_type": "code",
   "execution_count": 81,
   "id": "be150b6b",
   "metadata": {},
   "outputs": [],
   "source": [
    "# make model \n",
    "input_shape =  (X_tt.shape[1], X_tt.shape[2],1,) # first dimension of train data is n_datapoints\n",
    "model = Sequential() \n",
    "model.add(Input(input_shape))\n",
    "model.add(layers.Conv2D(64, (3,3), padding='same', activation='relu'))\n",
    "model.add(layers.MaxPooling2D((2,2), strides=2))\n",
    "#model.add(layers.Dropout(0.2))\n",
    "#model.add(layers.Conv2D(128, (3,3), padding='same', activation='relu'))\n",
    "#model.add(layers.MaxPooling2D((2,2), strides=2))\n",
    "#model.add(layers.Dropout(0.2))\n",
    "model.add(layers.Flatten())\n",
    "model.add(layers.Dense(64, activation='relu'))\n",
    "#model.add(layers.Dropout(0.2))\n",
    "model.add(layers.Dense(len(le.classes_), activation='softmax'))\n",
    "model.compile(loss='categorical_crossentropy', optimizer='adam', metrics=['accuracy'])\n",
    "#model.summary()"
   ]
  },
  {
   "cell_type": "code",
   "execution_count": 82,
   "id": "b706c9c0",
   "metadata": {
    "scrolled": false
   },
   "outputs": [
    {
     "name": "stdout",
     "output_type": "stream",
     "text": [
      "Epoch 1/10\n",
      "\u001b[1m57/57\u001b[0m \u001b[32m━━━━━━━━━━━━━━━━━━━━\u001b[0m\u001b[37m\u001b[0m \u001b[1m8s\u001b[0m 122ms/step - accuracy: 0.2274 - loss: 244.6542 - val_accuracy: 0.4092 - val_loss: 12.7564\n",
      "Epoch 2/10\n",
      "\u001b[1m57/57\u001b[0m \u001b[32m━━━━━━━━━━━━━━━━━━━━\u001b[0m\u001b[37m\u001b[0m \u001b[1m7s\u001b[0m 119ms/step - accuracy: 0.4874 - loss: 7.7030 - val_accuracy: 0.5182 - val_loss: 2.9862\n",
      "Epoch 3/10\n",
      "\u001b[1m57/57\u001b[0m \u001b[32m━━━━━━━━━━━━━━━━━━━━\u001b[0m\u001b[37m\u001b[0m \u001b[1m7s\u001b[0m 120ms/step - accuracy: 0.6014 - loss: 2.0789 - val_accuracy: 0.5171 - val_loss: 2.8981\n",
      "Epoch 4/10\n",
      "\u001b[1m57/57\u001b[0m \u001b[32m━━━━━━━━━━━━━━━━━━━━\u001b[0m\u001b[37m\u001b[0m \u001b[1m7s\u001b[0m 120ms/step - accuracy: 0.6401 - loss: 1.3658 - val_accuracy: 0.5336 - val_loss: 1.7896\n",
      "Epoch 5/10\n",
      "\u001b[1m57/57\u001b[0m \u001b[32m━━━━━━━━━━━━━━━━━━━━\u001b[0m\u001b[37m\u001b[0m \u001b[1m7s\u001b[0m 120ms/step - accuracy: 0.7081 - loss: 0.9641 - val_accuracy: 0.5424 - val_loss: 1.8258\n",
      "Epoch 6/10\n",
      "\u001b[1m57/57\u001b[0m \u001b[32m━━━━━━━━━━━━━━━━━━━━\u001b[0m\u001b[37m\u001b[0m \u001b[1m7s\u001b[0m 120ms/step - accuracy: 0.6564 - loss: 1.1432 - val_accuracy: 0.5567 - val_loss: 1.5902\n",
      "Epoch 7/10\n",
      "\u001b[1m57/57\u001b[0m \u001b[32m━━━━━━━━━━━━━━━━━━━━\u001b[0m\u001b[37m\u001b[0m \u001b[1m7s\u001b[0m 120ms/step - accuracy: 0.7760 - loss: 0.6279 - val_accuracy: 0.5457 - val_loss: 1.7066\n",
      "Epoch 8/10\n",
      "\u001b[1m57/57\u001b[0m \u001b[32m━━━━━━━━━━━━━━━━━━━━\u001b[0m\u001b[37m\u001b[0m \u001b[1m7s\u001b[0m 121ms/step - accuracy: 0.8542 - loss: 0.4569 - val_accuracy: 0.5589 - val_loss: 1.5132\n",
      "Epoch 9/10\n",
      "\u001b[1m57/57\u001b[0m \u001b[32m━━━━━━━━━━━━━━━━━━━━\u001b[0m\u001b[37m\u001b[0m \u001b[1m7s\u001b[0m 120ms/step - accuracy: 0.8443 - loss: 0.4519 - val_accuracy: 0.5226 - val_loss: 2.0410\n",
      "Epoch 10/10\n",
      "\u001b[1m57/57\u001b[0m \u001b[32m━━━━━━━━━━━━━━━━━━━━\u001b[0m\u001b[37m\u001b[0m \u001b[1m7s\u001b[0m 121ms/step - accuracy: 0.7364 - loss: 0.8277 - val_accuracy: 0.5589 - val_loss: 1.7410\n",
      "time training:  69.30453372001648\n"
     ]
    }
   ],
   "source": [
    "# train model\n",
    "start = time.time()\n",
    "epochs = 10\n",
    "history = model.fit(X_tt, y_tt, epochs=epochs, batch_size=64, validation_data=(X_val, y_val))\n",
    "end = time.time()\n",
    "print('time training: ', end - start)\n",
    "#predicted_vector = model.predict(X_test)\n",
    "#predicted_class_index = np.argmax(predicted_vector, axis=-1)\n",
    "#le.inverse_transform(predicted_class_index)\n"
   ]
  },
  {
   "cell_type": "code",
   "execution_count": 83,
   "id": "61123df3",
   "metadata": {},
   "outputs": [
    {
     "data": {
      "image/png": "[encoded data removed]",
      "text/plain": [
       "<Figure size 400x300 with 1 Axes>"
      ]
     },
     "metadata": {},
     "output_type": "display_data"
    },
    {
     "data": {
      "image/png": "[encoded data removed]",
      "text/plain": [
       "<Figure size 400x300 with 1 Axes>"
      ]
     },
     "metadata": {},
     "output_type": "display_data"
    }
   ],
   "source": [
    "history_dict = history.history\n",
    "plt.figure(figsize = (4, 3))\n",
    "epochs = 10\n",
    "plt.scatter(range(1,epochs+1), history_dict['accuracy'], label = \"Training Accuracy\")\n",
    "plt.scatter(range(1,epochs+1), history_dict['val_accuracy'], label = \"Validation Set Accuracy\")\n",
    "\n",
    "plt.xlabel(\"Epoch\", fontsize=12)\n",
    "plt.ylabel(\"Accuracy\", fontsize=12)\n",
    "\n",
    "plt.xticks(fontsize=10)\n",
    "plt.yticks(fontsize=10)\n",
    "\n",
    "plt.legend(fontsize=12)\n",
    "\n",
    "plt.show()\n",
    "\n",
    "\n",
    "plt.figure(figsize = (4, 3))\n",
    "\n",
    "plt.scatter(range(1,epochs+1), history_dict['loss'], label = \"Training Loss\")\n",
    "plt.scatter(range(1,epochs+1), history_dict['val_loss'], label = \"Validation Set Loss\")\n",
    "\n",
    "plt.xlabel(\"Epoch\", fontsize=12)\n",
    "plt.ylabel(\"Loss Function Value\", fontsize=12)\n",
    "\n",
    "plt.xticks(fontsize=10)\n",
    "plt.yticks(fontsize=10)\n",
    "\n",
    "plt.legend(fontsize=12)\n",
    "\n",
    "plt.show()"
   ]
  },
  {
   "cell_type": "code",
   "execution_count": 88,
   "id": "aad1f1d6",
   "metadata": {},
   "outputs": [
    {
     "name": "stdout",
     "output_type": "stream",
     "text": [
      "\u001b[1m36/36\u001b[0m \u001b[32m━━━━━━━━━━━━━━━━━━━━\u001b[0m\u001b[37m\u001b[0m \u001b[1m0s\u001b[0m 13ms/step\n"
     ]
    }
   ],
   "source": [
    "predicted_vector = model.predict(X_test)\n",
    "predicted_class_index = np.argmax(predicted_vector, axis=-1)"
   ]
  },
  {
   "cell_type": "code",
   "execution_count": 91,
   "id": "c9bcdb7f",
   "metadata": {},
   "outputs": [],
   "source": [
    "pred_class = le.inverse_transform(predicted_class_index)"
   ]
  },
  {
   "cell_type": "code",
   "execution_count": 121,
   "id": "55be85fc",
   "metadata": {},
   "outputs": [
    {
     "name": "stdout",
     "output_type": "stream",
     "text": [
      "['Gryllinae' 'Tettigoniinae' 'Trigonidiinae' ... 'Trigonidiinae'\n",
      " 'Gryllinae' 'Nemobiinae']\n"
     ]
    }
   ],
   "source": [
    "true_class_idx = np.where(y_test.astype(int))[1]\n",
    "true_class = le.inverse_transform(true_class_idx)\n",
    "print(true_class)"
   ]
  },
  {
   "cell_type": "code",
   "execution_count": 136,
   "id": "12fb33af",
   "metadata": {
    "scrolled": false
   },
   "outputs": [
    {
     "name": "stdout",
     "output_type": "stream",
     "text": [
      "    0   1   2    3   4   5   6   7    8   9   10  11  12\n",
      "0    1   4   1    0   1   2   0   0    7   0   0   0   1\n",
      "1    1  99   0    2   0  16   1   4   13  18   2  12   6\n",
      "2    0   0   0    0   0   1   0   0    1   1   0   0   1\n",
      "3    0   6   0  218   0   4   8   1   19   5   4   0   1\n",
      "4    0   0   0    0   0   0   0   0    3   1   1   0   1\n",
      "5    0   2   1    6   0  40   6   3    3   4   7   1   5\n",
      "6    0   2   0    5   0   3  38   1    0   0   5   2   6\n",
      "7    0  10   0    8   0   8   4  15    3   2   2   0  21\n",
      "8    1   3   0    4   0   1   2   0  133   4   5   0   0\n",
      "9    0  16   1    0   1   5   0   0   15  65   0   9   1\n",
      "10   0   1   0    0   2   7   1   1    1   4   8   0   0\n",
      "11   0  15   0    0   0   2   0   1    5  27   4   4   0\n",
      "12   0   4   0   10   0  11  16  14    4   0   2   1  45\n",
      "accuracy = 0.5862676056338029\n"
     ]
    }
   ],
   "source": [
    "conf_mat = confusion_matrix(true_class, pred_class)\n",
    "print(pd.DataFrame(conf_mat))#,\n",
    "#                 columns = ['Predicted 0', 'Predicted 1', 'Predicted 2', 'Predicted 3'],\n",
    "#                 index = ['Actual 0', 'Actual 1', 'Actual 2', 'Actual 3'])\n",
    "accuracy = np.diagonal(conf_mat).sum()/np.sum(conf_mat)\n",
    "print('accuracy =', accuracy)"
   ]
  },
  {
   "cell_type": "code",
   "execution_count": 124,
   "id": "4a686362",
   "metadata": {},
   "outputs": [],
   "source": [
    "## to shorte list of classes after fitting on long list, use the class converter. \n",
    "true_class_short = convert_labels(true_class, meta_file, label_name, 'critter_name')\n",
    "pred_class_short = convert_labels(pred_class, meta_file, label_name, 'critter_name')"
   ]
  },
  {
   "cell_type": "code",
   "execution_count": 135,
   "id": "07e152d5",
   "metadata": {},
   "outputs": [
    {
     "name": "stdout",
     "output_type": "stream",
     "text": [
      "   0    1    2\n",
      "0  1   12    4\n",
      "1  1  674   74\n",
      "2  1   85  284\n",
      "accuracy= 0.8441901408450704\n"
     ]
    }
   ],
   "source": [
    "conf_mat = confusion_matrix(true_class_short, pred_class_short)\n",
    "print(pd.DataFrame(conf_mat))\n",
    "accuracy = np.diagonal(conf_mat).sum()/np.sum(conf_mat)\n",
    "print('accuracy =', accuracy)"
   ]
  },
  {
   "cell_type": "code",
   "execution_count": null,
   "id": "86bc47c6",
   "metadata": {},
   "outputs": [],
   "source": []
  }
 ],
 "metadata": {
  "kernelspec": {
   "display_name": "Python 3 (ipykernel)",
   "language": "python",
   "name": "python3"
  },
  "language_info": {
   "codemirror_mode": {
    "name": "ipython",
    "version": 3
   },
   "file_extension": ".py",
   "mimetype": "text/x-python",
   "name": "python",
   "nbconvert_exporter": "python",
   "pygments_lexer": "ipython3",
   "version": "3.10.9"
  }
 },
 "nbformat": 4,
 "nbformat_minor": 5
}
