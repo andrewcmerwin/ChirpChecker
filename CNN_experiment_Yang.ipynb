{
 "cells": [
  {
   "cell_type": "markdown",
   "id": "b167a869",
   "metadata": {},
   "source": [
    "Testing CNN method from https://wandb.ai/mostafaibrahim17/ml-articles/reports/An-Introduction-to-Audio-Classification-with-Keras--Vmlldzo0MDQzNDUy#:~:text=%EF%BB%BFKeras%20is%20a%20go,both%20beginners%20and%20advanced%20users.\n",
    "\n",
    "https://keras.io/guides/sequential_model/"
   ]
  },
  {
   "cell_type": "code",
   "execution_count": 1,
   "id": "2b92115a",
   "metadata": {},
   "outputs": [],
   "source": [
    "import os\n",
    "import numpy as np\n",
    "import pandas as pd\n",
    "import librosa\n",
    "from sklearn.model_selection import train_test_split\n",
    "from sklearn.preprocessing import LabelEncoder\n",
    "from sklearn.metrics import confusion_matrix\n",
    "from keras.utils import to_categorical\n",
    "from keras.models import Sequential\n",
    "from keras import layers # example functions: Dense, Dropout, Activation, Flatten, Conv1D, MaxPooling1D\n",
    "from keras import Input\n",
    "import matplotlib.pyplot as plt\n",
    "import time"
   ]
  },
  {
   "cell_type": "code",
   "execution_count": 17,
   "id": "f73bc46f",
   "metadata": {},
   "outputs": [],
   "source": [
    "%run FeedingData.ipynb\n",
    "# read Calvin's function files so we can call those functions from this notebook\n",
    "# list of functions: \n",
    "# mfcc_(song, n=20)\n",
    "# mfcc_cut(song, n=20, cutoff = 800)\n",
    "# LFCC(song, n=20)\n",
    "# LFCC_no_low(song, n=20, cutoff = 800)\n",
    "# LFCC_no_low_clean(song, n=20, cutoff = 800)\n",
    "# mfcc_cut_cleaned(song, n=20, cutoff = 800)\n",
    "# main_freq(song, cutoff = 800)"
   ]
  },
  {
   "cell_type": "code",
   "execution_count": 24,
   "id": "1e352bf5",
   "metadata": {},
   "outputs": [
    {
     "data": {
      "text/plain": [
       "(20, 8)"
      ]
     },
     "execution_count": 24,
     "metadata": {},
     "output_type": "execute_result"
    }
   ],
   "source": [
    "song, sr = librosa.load('E:\\chirpfiles\\\\no_voice_files\\\\82069.wav')\n",
    "a = mfcc_(song)\n",
    "a.shape"
   ]
  },
  {
   "cell_type": "code",
   "execution_count": 36,
   "id": "01854753",
   "metadata": {},
   "outputs": [],
   "source": [
    "def get_data(audio_path, meta_file, label_name, load_length, get_feature_function):\n",
    "    songs_matrix = []\n",
    "    songs_label = []\n",
    "    audio_list = os.listdir(audio_path)\n",
    "    df = pd.read_csv(meta_file)\n",
    "\n",
    "    for name in audio_list:\n",
    "        # parse out number part of the data files so we can get the corresponding label from meta_file\n",
    "        number = name.replace('_', '.').split('.')[0]\n",
    "        filepath = os.path.join(audio_path, name)\n",
    "        # skipping files that are less than 250KB ~ 5sec long\n",
    "        # this is to make sure we have enough length for sampling fft time intervals\n",
    "        if os.path.getsize(filepath) < load_length*50000:\n",
    "            continue\n",
    "        # ============ load the data and get matrix ============\n",
    "        # replace this block with function that cleansup data and outputs a feature matrix per file\n",
    "        # make sure that the size of the feature matrix is the same for all files\n",
    "        # name the output feature matrix mfccs \n",
    "        song, sr = librosa.load(filepath, duration=load_length)\n",
    "        features = get_feature_function(song, n = 40)\n",
    "        ##librosa.feature.mfcc(y = song, n_mfcc = 40)#, n_fft=512) # width of this matrix is file size in kb\n",
    "\n",
    "        #mfcc = np.mean(mfccs, axis=1) # average over columns, shape(n_mfcc, ), used for vector input data\n",
    "        # ======================================================\n",
    "        songs_matrix.append(features)\n",
    "        songs_label.append(df[label_name].loc[df.cat_num == float(number)].item())\n",
    "    return np.array(songs_matrix), np.array(songs_label)"
   ]
  },
  {
   "cell_type": "code",
   "execution_count": 73,
   "id": "e5459874",
   "metadata": {},
   "outputs": [],
   "source": [
    "# for converting strings of label from one division to another, e.g. fam/subfam to critter name\n",
    "def convert_labels(labels, meta_file, from_division, to_division):\n",
    "    # find label in labels in meta_file under column from_division\n",
    "    # append as key in dictionary lookup_table\n",
    "    # append as value the correspondign label in to_division\n",
    "\n",
    "    df = pd.read_csv(meta_file, usecols=[from_division, to_division])\n",
    "    lookup_table = dict() # look up table for new label\n",
    "    for label in labels:\n",
    "        if label in lookup_table.keys():\n",
    "            continue\n",
    "        idx = df.loc[df[from_division]==label].index[0]\n",
    "        lookup_table[label] = df[to_division][idx]\n",
    "    return [lookup_table[label] for label in labels]\n",
    "\n",
    "# example testing block\n",
    "#from_division = 'fam_or_subfam'\n",
    "#to_division = 'critter_name'\n",
    "#meta_file = 'MLNS_Insects_Fams_05212024.csv'\n",
    "#labels = ['Acrididae', 'Cicadidae', 'Acrididae', 'Listroscelidinae', \n",
    "#                  'Mogoplistinae', 'Nemobiinae', 'Oecanthinae', 'Phalangopsidae',\n",
    "#                  'Phaneropterinae', 'Oecanthinae', 'Tettigoniinae','Trigonidiinae']    \n",
    "#convert_labels(labels, meta_file, from_division, to_division)"
   ]
  },
  {
   "cell_type": "code",
   "execution_count": 55,
   "id": "abe43836",
   "metadata": {},
   "outputs": [
    {
     "name": "stdout",
     "output_type": "stream",
     "text": [
      "time loading: 1.6596055030822754\n"
     ]
    }
   ],
   "source": [
    "# load all audio in audio_path\n",
    "# convert to matrix, save in np array, \n",
    "# load the corresponding label_name from lable_filename, save in another np array\n",
    "\n",
    "audio_path = 'E:\\chirpfiles\\\\selected_files'\n",
    "meta_file = 'MLNS_Insects_Fams_05212024.csv'\n",
    "label_name = 'fam_or_subfam'\n",
    "start = time.time()\n",
    "max_time = 10 # cut off time for loading, in sec\n",
    "get_feature_function = mfcc_\n",
    "songs_matrix, songs_label = get_data(audio_path, meta_file, label_name, max_time, get_feature_function)\n",
    "end = time.time()\n",
    "print('time loading:', end - start)"
   ]
  },
  {
   "cell_type": "code",
   "execution_count": 58,
   "id": "0d5eea5a",
   "metadata": {
    "scrolled": true
   },
   "outputs": [
    {
     "name": "stdout",
     "output_type": "stream",
     "text": [
      "Data read:\n",
      "                  0   1\n",
      "0        Cicadidae   8\n",
      "1   Conocephalinae  18\n",
      "2        Gryllinae  12\n",
      "3       Hapithinae   2\n",
      "4       Nemobiinae   6\n",
      "5      Oecanthinae  23\n",
      "6  Phaneropterinae   5\n",
      "7  Pseudophyllinae   5\n",
      "8    Tettigoniinae   5\n",
      "9    Trigonidiinae   2\n",
      "Removing classes:\n",
      " ['Cicadidae', 'Hapithinae', 'Nemobiinae', 'Phaneropterinae', 'Pseudophyllinae', 'Tettigoniinae', 'Trigonidiinae']\n",
      "Reduced data:\n",
      "                 0   1\n",
      "0  Conocephalinae  18\n",
      "1       Gryllinae  12\n",
      "2     Oecanthinae  23\n"
     ]
    }
   ],
   "source": [
    "#print(songs_matrix.shape)\n",
    "df_class = pd.DataFrame(np.unique(songs_label, return_counts=True)).T\n",
    "print('Data read:\\n', df_class)\n",
    "\n",
    "# remove classes with too few data points\n",
    "small_class_list = []\n",
    "for row in range(len(df_class)):\n",
    "    if df_class[1].iloc[row] < 10:\n",
    "        small_class_list.append(df_class[0].iloc[row].item())\n",
    "print('Removing classes:\\n',small_class_list)\n",
    "\n",
    "delete_list = []\n",
    "for small_class in small_class_list:\n",
    "    delete_list += list(np.where(songs_label==small_class)[0])\n",
    "\n",
    "short_label = np.delete(songs_label, delete_list)\n",
    "short_matrix = np.delete(songs_matrix, delete_list, 0)\n",
    "# double check data after deleting\n",
    "print('Reduced data:\\n', pd.DataFrame(np.unique(short_label, return_counts=True)).T)"
   ]
  },
  {
   "cell_type": "code",
   "execution_count": 63,
   "id": "2b745068",
   "metadata": {},
   "outputs": [
    {
     "name": "stdout",
     "output_type": "stream",
     "text": [
      "Train test split train shape:  (42, 40, 431, 1)\n",
      "Train validation split train shape:  (33, 40, 431, 1)\n"
     ]
    }
   ],
   "source": [
    "# convert insec fam into numbers. use le.inverse_transform to go from number to name\n",
    "le = LabelEncoder()\n",
    "songs_label_num = le.fit_transform(short_label)\n",
    "songs_label_onehot = to_categorical(songs_label_num) # required output format by cnn\n",
    "\n",
    "# rename data/label variable name so that we don't need to change them in the model block\n",
    "data_matrix = short_matrix\n",
    "data_label = songs_label_onehot\n",
    "\n",
    "X_train, X_test, y_train, y_test = train_test_split(data_matrix, data_label, \n",
    "                                                    test_size = .2, random_state = 404)\n",
    "# to use 2d convolution, keras model expects 4d input shape\n",
    "X_train = X_train.reshape((X_train.shape[0],X_train.shape[1],X_train.shape[2],1))\n",
    "X_test = X_test.reshape((X_test.shape[0],X_test.shape[1],X_test.shape[2],1))\n",
    "print('Train test split train shape: ', X_train.shape)\n",
    "\n",
    "X_tt, X_val, y_tt, y_val = train_test_split(X_train, y_train, test_size = .2, random_state = 202)\n",
    "print('Train validation split train shape: ', X_tt.shape)"
   ]
  },
  {
   "cell_type": "code",
   "execution_count": 64,
   "id": "be150b6b",
   "metadata": {},
   "outputs": [],
   "source": [
    "# make model \n",
    "input_shape =  (X_tt.shape[1], X_tt.shape[2],1,) # first dimension of train data is n_datapoints\n",
    "model = Sequential() \n",
    "model.add(Input(input_shape))\n",
    "model.add(layers.Conv2D(64, (3,3), padding='same', activation='relu'))\n",
    "model.add(layers.MaxPooling2D((2,2), strides=2))\n",
    "#model.add(layers.Dropout(0.2))\n",
    "#model.add(layers.Conv2D(128, (3,3), padding='same', activation='relu'))\n",
    "#model.add(layers.MaxPooling2D((2,2), strides=2))\n",
    "#model.add(layers.Dropout(0.2))\n",
    "model.add(layers.Flatten())\n",
    "model.add(layers.Dense(64, activation='relu'))\n",
    "#model.add(layers.Dropout(0.2))\n",
    "model.add(layers.Dense(len(le.classes_), activation='softmax'))\n",
    "model.compile(loss='categorical_crossentropy', optimizer='adam', metrics=['accuracy'])\n",
    "#model.summary()"
   ]
  },
  {
   "cell_type": "code",
   "execution_count": 65,
   "id": "b706c9c0",
   "metadata": {
    "scrolled": false
   },
   "outputs": [
    {
     "name": "stdout",
     "output_type": "stream",
     "text": [
      "Epoch 1/10\n",
      "\u001b[1m1/1\u001b[0m \u001b[32m━━━━━━━━━━━━━━━━━━━━\u001b[0m\u001b[37m\u001b[0m \u001b[1m2s\u001b[0m 2s/step - accuracy: 0.1818 - loss: 21.0092 - val_accuracy: 0.4444 - val_loss: 950.4333\n",
      "Epoch 2/10\n",
      "\u001b[1m1/1\u001b[0m \u001b[32m━━━━━━━━━━━━━━━━━━━━\u001b[0m\u001b[37m\u001b[0m \u001b[1m0s\u001b[0m 342ms/step - accuracy: 0.5758 - loss: 814.2920 - val_accuracy: 0.5556 - val_loss: 1439.1810\n",
      "Epoch 3/10\n",
      "\u001b[1m1/1\u001b[0m \u001b[32m━━━━━━━━━━━━━━━━━━━━\u001b[0m\u001b[37m\u001b[0m \u001b[1m0s\u001b[0m 337ms/step - accuracy: 0.4242 - loss: 1473.0204 - val_accuracy: 0.5556 - val_loss: 1193.0864\n",
      "Epoch 4/10\n",
      "\u001b[1m1/1\u001b[0m \u001b[32m━━━━━━━━━━━━━━━━━━━━\u001b[0m\u001b[37m\u001b[0m \u001b[1m0s\u001b[0m 333ms/step - accuracy: 0.4242 - loss: 1153.8772 - val_accuracy: 0.6667 - val_loss: 815.9402\n",
      "Epoch 5/10\n",
      "\u001b[1m1/1\u001b[0m \u001b[32m━━━━━━━━━━━━━━━━━━━━\u001b[0m\u001b[37m\u001b[0m \u001b[1m0s\u001b[0m 331ms/step - accuracy: 0.8182 - loss: 665.6736 - val_accuracy: 0.3333 - val_loss: 979.4311\n",
      "Epoch 6/10\n",
      "\u001b[1m1/1\u001b[0m \u001b[32m━━━━━━━━━━━━━━━━━━━━\u001b[0m\u001b[37m\u001b[0m \u001b[1m0s\u001b[0m 351ms/step - accuracy: 0.5152 - loss: 704.8398 - val_accuracy: 0.4444 - val_loss: 780.8024\n",
      "Epoch 7/10\n",
      "\u001b[1m1/1\u001b[0m \u001b[32m━━━━━━━━━━━━━━━━━━━━\u001b[0m\u001b[37m\u001b[0m \u001b[1m0s\u001b[0m 328ms/step - accuracy: 0.5758 - loss: 535.8137 - val_accuracy: 0.6667 - val_loss: 509.9429\n",
      "Epoch 8/10\n",
      "\u001b[1m1/1\u001b[0m \u001b[32m━━━━━━━━━━━━━━━━━━━━\u001b[0m\u001b[37m\u001b[0m \u001b[1m0s\u001b[0m 331ms/step - accuracy: 0.6970 - loss: 332.2083 - val_accuracy: 0.6667 - val_loss: 337.6634\n",
      "Epoch 9/10\n",
      "\u001b[1m1/1\u001b[0m \u001b[32m━━━━━━━━━━━━━━━━━━━━\u001b[0m\u001b[37m\u001b[0m \u001b[1m0s\u001b[0m 331ms/step - accuracy: 0.8182 - loss: 197.2158 - val_accuracy: 0.6667 - val_loss: 177.2789\n",
      "Epoch 10/10\n",
      "\u001b[1m1/1\u001b[0m \u001b[32m━━━━━━━━━━━━━━━━━━━━\u001b[0m\u001b[37m\u001b[0m \u001b[1m0s\u001b[0m 325ms/step - accuracy: 0.8182 - loss: 100.9314 - val_accuracy: 0.7778 - val_loss: 95.5772\n",
      "time training:  4.757823467254639\n"
     ]
    }
   ],
   "source": [
    "# train model\n",
    "start = time.time()\n",
    "epochs = 10\n",
    "history = model.fit(X_tt, y_tt, epochs=epochs, batch_size=64, validation_data=(X_val, y_val))\n",
    "end = time.time()\n",
    "print('time training: ', end - start)\n",
    "#predicted_vector = model.predict(X_test)\n",
    "#predicted_class_index = np.argmax(predicted_vector, axis=-1)\n",
    "#le.inverse_transform(predicted_class_index)\n"
   ]
  },
  {
   "cell_type": "code",
   "execution_count": 66,
   "id": "61123df3",
   "metadata": {},
   "outputs": [
    {
     "data": {
      "image/png": "[encoded data removed]",
      "text/plain": [
       "<Figure size 400x300 with 1 Axes>"
      ]
     },
     "metadata": {},
     "output_type": "display_data"
    },
    {
     "data": {
      "image/png": "[encoded data removed]",
      "text/plain": [
       "<Figure size 400x300 with 1 Axes>"
      ]
     },
     "metadata": {},
     "output_type": "display_data"
    }
   ],
   "source": [
    "history_dict = history.history\n",
    "plt.figure(figsize = (4, 3))\n",
    "epochs = 10\n",
    "plt.scatter(range(1,epochs+1), history_dict['accuracy'], label = \"Training Accuracy\")\n",
    "plt.scatter(range(1,epochs+1), history_dict['val_accuracy'], label = \"Validation Set Accuracy\")\n",
    "\n",
    "plt.xlabel(\"Epoch\", fontsize=12)\n",
    "plt.ylabel(\"Accuracy\", fontsize=12)\n",
    "\n",
    "plt.xticks(fontsize=10)\n",
    "plt.yticks(fontsize=10)\n",
    "\n",
    "plt.legend(fontsize=12)\n",
    "\n",
    "plt.show()\n",
    "\n",
    "plt.figure(figsize = (4, 3))\n",
    "\n",
    "plt.scatter(range(1,epochs+1), history_dict['loss'], label = \"Training Loss\")\n",
    "plt.scatter(range(1,epochs+1), history_dict['val_loss'], label = \"Validation Set Loss\")\n",
    "\n",
    "plt.xlabel(\"Epoch\", fontsize=12)\n",
    "plt.ylabel(\"Loss Function Value\", fontsize=12)\n",
    "\n",
    "plt.xticks(fontsize=10)\n",
    "plt.yticks(fontsize=10)\n",
    "\n",
    "plt.legend(fontsize=12)\n",
    "\n",
    "plt.show()"
   ]
  },
  {
   "cell_type": "markdown",
   "id": "830a8d3e",
   "metadata": {},
   "source": [
    "# vvv\n",
    "### Report accuracy on validation set "
   ]
  },
  {
   "cell_type": "code",
   "execution_count": 67,
   "id": "2031ab98",
   "metadata": {},
   "outputs": [
    {
     "name": "stdout",
     "output_type": "stream",
     "text": [
      "\u001b[1m1/1\u001b[0m \u001b[32m━━━━━━━━━━━━━━━━━━━━\u001b[0m\u001b[37m\u001b[0m \u001b[1m0s\u001b[0m 84ms/step\n",
      "['Oecanthinae' 'Oecanthinae' 'Oecanthinae' 'Oecanthinae' 'Conocephalinae'\n",
      " 'Gryllinae' 'Oecanthinae' 'Conocephalinae' 'Gryllinae']\n",
      "   0  1  2\n",
      "0  2  0  0\n",
      "1  0  0  2\n",
      "2  0  0  5\n",
      "accuracy = 0.7777777777777778\n"
     ]
    }
   ],
   "source": [
    "predicted_vector = model.predict(X_val)\n",
    "predicted_class_index = np.argmax(predicted_vector, axis=-1)\n",
    "pred_class = le.inverse_transform(predicted_class_index)\n",
    "true_class_idx = np.where(y_val.astype(int))[1]\n",
    "true_class = le.inverse_transform(true_class_idx)\n",
    "print(true_class)\n",
    "conf_mat = confusion_matrix(true_class, pred_class)\n",
    "print(pd.DataFrame(conf_mat))#,\n",
    "#                 columns = ['Predicted 0', 'Predicted 1', 'Predicted 2', 'Predicted 3'],\n",
    "#                 index = ['Actual 0', 'Actual 1', 'Actual 2', 'Actual 3'])\n",
    "accuracy = np.diagonal(conf_mat).sum()/np.sum(conf_mat)\n",
    "print('accuracy =', accuracy)"
   ]
  },
  {
   "cell_type": "code",
   "execution_count": 74,
   "id": "49b98617",
   "metadata": {},
   "outputs": [
    {
     "name": "stdout",
     "output_type": "stream",
     "text": [
      "   0  1\n",
      "0  7  0\n",
      "1  0  2\n",
      "accuracy = 1.0\n"
     ]
    }
   ],
   "source": [
    "## to shorte list of classes after fitting on long list, use the class converter. \n",
    "true_class_short = convert_labels(true_class, meta_file, label_name, 'critter_name')\n",
    "pred_class_short = convert_labels(pred_class, meta_file, label_name, 'critter_name')\n",
    "conf_mat = confusion_matrix(true_class_short, pred_class_short)\n",
    "print(pd.DataFrame(conf_mat))\n",
    "accuracy = np.diagonal(conf_mat).sum()/np.sum(conf_mat)\n",
    "print('accuracy =', accuracy)"
   ]
  },
  {
   "cell_type": "markdown",
   "id": "b1fc6d9d",
   "metadata": {},
   "source": [
    "# vvv \n",
    "### Forbidden test set block"
   ]
  },
  {
   "cell_type": "code",
   "execution_count": 88,
   "id": "aad1f1d6",
   "metadata": {
    "scrolled": true
   },
   "outputs": [
    {
     "name": "stdout",
     "output_type": "stream",
     "text": [
      "\u001b[1m36/36\u001b[0m \u001b[32m━━━━━━━━━━━━━━━━━━━━\u001b[0m\u001b[37m\u001b[0m \u001b[1m0s\u001b[0m 13ms/step\n"
     ]
    }
   ],
   "source": [
    "predicted_vector = model.predict(X_test)\n",
    "predicted_class_index = np.argmax(predicted_vector, axis=-1)\n",
    "\n",
    "pred_class = le.inverse_transform(predicted_class_index)\n",
    "\n",
    "true_class_idx = np.where(y_test.astype(int))[1]\n",
    "true_class = le.inverse_transform(true_class_idx)\n",
    "print(true_class)\n",
    "\n",
    "conf_mat = confusion_matrix(true_class, pred_class)\n",
    "print(pd.DataFrame(conf_mat))#,\n",
    "#                 columns = ['Predicted 0', 'Predicted 1', 'Predicted 2', 'Predicted 3'],\n",
    "#                 index = ['Actual 0', 'Actual 1', 'Actual 2', 'Actual 3'])\n",
    "accuracy = np.diagonal(conf_mat).sum()/np.sum(conf_mat)\n",
    "print('accuracy =', accuracy)"
   ]
  },
  {
   "cell_type": "code",
   "execution_count": 70,
   "id": "4a686362",
   "metadata": {},
   "outputs": [
    {
     "ename": "NameError",
     "evalue": "name 'to_divison' is not defined",
     "output_type": "error",
     "traceback": [
      "\u001b[1;31m---------------------------------------------------------------------------\u001b[0m",
      "\u001b[1;31mNameError\u001b[0m                                 Traceback (most recent call last)",
      "Cell \u001b[1;32mIn[70], line 2\u001b[0m\n\u001b[0;32m      1\u001b[0m \u001b[38;5;66;03m## to shorte list of classes after fitting on long list, use the class converter. \u001b[39;00m\n\u001b[1;32m----> 2\u001b[0m true_class_short \u001b[38;5;241m=\u001b[39m \u001b[43mconvert_labels\u001b[49m\u001b[43m(\u001b[49m\u001b[43mtrue_class\u001b[49m\u001b[43m,\u001b[49m\u001b[43m \u001b[49m\u001b[43mmeta_file\u001b[49m\u001b[43m,\u001b[49m\u001b[43m \u001b[49m\u001b[43mlabel_name\u001b[49m\u001b[43m,\u001b[49m\u001b[43m \u001b[49m\u001b[38;5;124;43m'\u001b[39;49m\u001b[38;5;124;43mcritter_name\u001b[39;49m\u001b[38;5;124;43m'\u001b[39;49m\u001b[43m)\u001b[49m\n\u001b[0;32m      3\u001b[0m pred_class_short \u001b[38;5;241m=\u001b[39m convert_labels(pred_class, meta_file, label_name, \u001b[38;5;124m'\u001b[39m\u001b[38;5;124mcritter_name\u001b[39m\u001b[38;5;124m'\u001b[39m)\n",
      "Cell \u001b[1;32mIn[69], line 7\u001b[0m, in \u001b[0;36mconvert_labels\u001b[1;34m(labels, meta_file, from_division, to_division)\u001b[0m\n\u001b[0;32m      2\u001b[0m \u001b[38;5;28;01mdef\u001b[39;00m \u001b[38;5;21mconvert_labels\u001b[39m(labels, meta_file, from_division, to_division):\n\u001b[0;32m      3\u001b[0m     \u001b[38;5;66;03m# find label in labels in meta_file under column from_division\u001b[39;00m\n\u001b[0;32m      4\u001b[0m     \u001b[38;5;66;03m# append as key in dictionary lookup_table\u001b[39;00m\n\u001b[0;32m      5\u001b[0m     \u001b[38;5;66;03m# append as value the correspondign label in to_division\u001b[39;00m\n\u001b[1;32m----> 7\u001b[0m     df \u001b[38;5;241m=\u001b[39m pd\u001b[38;5;241m.\u001b[39mread_csv(meta_file, usecols\u001b[38;5;241m=\u001b[39m[from_division, \u001b[43mto_divison\u001b[49m])\n\u001b[0;32m      8\u001b[0m     lookup_table \u001b[38;5;241m=\u001b[39m \u001b[38;5;28mdict\u001b[39m() \u001b[38;5;66;03m# look up table for new label\u001b[39;00m\n\u001b[0;32m      9\u001b[0m     \u001b[38;5;28;01mfor\u001b[39;00m label \u001b[38;5;129;01min\u001b[39;00m labels:\n",
      "\u001b[1;31mNameError\u001b[0m: name 'to_divison' is not defined"
     ]
    }
   ],
   "source": [
    "## to shorte list of classes after fitting on long list, use the class converter. \n",
    "true_class_short = convert_labels(true_class, meta_file, label_name, 'critter_name')\n",
    "pred_class_short = convert_labels(pred_class, meta_file, label_name, 'critter_name')\n",
    "\n",
    "conf_mat = confusion_matrix(true_class_short, pred_class_short)\n",
    "print(pd.DataFrame(conf_mat))\n",
    "accuracy = np.diagonal(conf_mat).sum()/np.sum(conf_mat)\n",
    "print('accuracy =', accuracy)"
   ]
  },
  {
   "cell_type": "code",
   "execution_count": null,
   "id": "86bc47c6",
   "metadata": {},
   "outputs": [],
   "source": []
  }
 ],
 "metadata": {
  "kernelspec": {
   "display_name": "Python 3 (ipykernel)",
   "language": "python",
   "name": "python3"
  },
  "language_info": {
   "codemirror_mode": {
    "name": "ipython",
    "version": 3
   },
   "file_extension": ".py",
   "mimetype": "text/x-python",
   "name": "python",
   "nbconvert_exporter": "python",
   "pygments_lexer": "ipython3",
   "version": "3.10.9"
  }
 },
 "nbformat": 4,
 "nbformat_minor": 5
}
