{
 "cells": [
  {
   "cell_type": "code",
   "execution_count": 9,
   "id": "21c34318-19be-4f3d-b390-6235eb42e0c8",
   "metadata": {},
   "outputs": [],
   "source": [
    "import librosa, librosa.display\n",
    "import numpy as np\n",
    "import matplotlib.pyplot as plt\n",
    "import os\n",
    "import scipy\n",
    "import math\n",
    "import pandas as pd\n",
    "from sklearn.model_selection import train_test_split"
   ]
  },
  {
   "cell_type": "code",
   "execution_count": 10,
   "id": "25ffd44a-ff6f-4e16-97e6-24f05220aca7",
   "metadata": {},
   "outputs": [],
   "source": [
    "df_all = pd.read_csv('MLNS_05292024.csv')"
   ]
  },
  {
   "cell_type": "code",
   "execution_count": 11,
   "id": "a637d81a-f678-4463-8bbd-bc2a0a156295",
   "metadata": {},
   "outputs": [],
   "source": [
    "df, df_test = train_test_split(df_all, shuffle=True, random_state=17, test_size=.2, stratify=df_all['fam_or_subfam'])"
   ]
  },
  {
   "cell_type": "code",
   "execution_count": 16,
   "id": "1b8d9c4b-b886-42bf-820e-943034f84751",
   "metadata": {},
   "outputs": [],
   "source": [
    "df.to_csv(\"MLNS_Final_Train.csv\", index=False)\n",
    "df_test.to_csv(\"MLNS_Final_Test.csv\", index=False)"
   ]
  }
 ],
 "metadata": {
  "kernelspec": {
   "display_name": "Python 3 (ipykernel)",
   "language": "python",
   "name": "python3"
  },
  "language_info": {
   "codemirror_mode": {
    "name": "ipython",
    "version": 3
   },
   "file_extension": ".py",
   "mimetype": "text/x-python",
   "name": "python",
   "nbconvert_exporter": "python",
   "pygments_lexer": "ipython3",
   "version": "3.11.9"
  }
 },
 "nbformat": 4,
 "nbformat_minor": 5
}
