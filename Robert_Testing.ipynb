{
 "cells": [
  {
   "cell_type": "code",
   "execution_count": 101,
   "id": "5924c4f7-2974-4f09-a3f8-c5c2e3121b5b",
   "metadata": {},
   "outputs": [],
   "source": [
    "import librosa, librosa.display\n",
    "import numpy as np\n",
    "import matplotlib.pyplot as plt\n",
    "import os\n",
    "import scipy\n",
    "import math\n",
    "import pandas as pd\n",
    "from sklearn.model_selection import train_test_split\n",
    "from sklearn.metrics import confusion_matrix\n",
    "from sklearn.discriminant_analysis import LinearDiscriminantAnalysis\n",
    "from sklearn.neighbors import KNeighborsClassifier\n",
    "from sklearn.pipeline import Pipeline\n",
    "from sklearn.preprocessing import StandardScaler\n",
    "from sklearn.metrics import accuracy_score\n",
    "from sklearn.svm import SVC\n",
    "from sklearn.decomposition import PCA\n",
    "from sklearn.cross_decomposition import PLSRegression\n",
    "from sklearn.metrics import r2_score"
   ]
  },
  {
   "cell_type": "code",
   "execution_count": 112,
   "id": "2a6c99f1-e21d-4b2e-a8d1-8e7cc1156cc1",
   "metadata": {},
   "outputs": [
    {
     "name": "stderr",
     "output_type": "stream",
     "text": [
      "/var/folders/5z/7fkzpcz93gz6mqgh9vjgfymm0000gn/T/ipykernel_13337/259242732.py:1: DtypeWarning: Columns (25,31) have mixed types. Specify dtype option on import or set low_memory=False.\n",
      "  df = pd.read_csv('MLNS_05292024.csv')\n"
     ]
    }
   ],
   "source": [
    "df = pd.read_csv('MLNS_05292024.csv')"
   ]
  },
  {
   "cell_type": "code",
   "execution_count": 113,
   "id": "65763d53-759e-4eb4-ac5c-dc30d82f7f38",
   "metadata": {},
   "outputs": [],
   "source": [
    "#Returns dataframe containing mfcc avg and var, and hs_mfcc avg and var, truncated to indicated depth, as well as Calvin's three features if True\n",
    "def truncate_mfcc(df, avg_depth=20, var_depth=10, hs_avg_depth=20, hs_var_depth=10, calvin_Features=True, peak=True):\n",
    "    df_temp=df['mfcc_'+str(0)+'_avg']\n",
    "    df_temp=df_temp.rename('blah')\n",
    "    for n in range(0,avg_depth):\n",
    "        df_temp=pd.concat([df_temp, df['mfcc_'+str(n)+'_avg']], axis=1)\n",
    "    for n in range(0,var_depth):\n",
    "        df_temp=pd.concat([df_temp, df['mfcc_'+str(n)+'_var']], axis=1)\n",
    "    for n in range(0,hs_avg_depth):\n",
    "        df_temp=pd.concat([df_temp, df['hs_mfcc_'+str(n)+'_avg']], axis=1)\n",
    "    for n in range(0,hs_var_depth):\n",
    "        df_temp=pd.concat([df_temp, df['hs_mfcc_'+str(n)+'_var']], axis=1)\n",
    "    if calvin_Features:\n",
    "        df_temp=pd.concat([df_temp, df['main_freq']], axis=1)\n",
    "        df_temp=pd.concat([df_temp, df['range']], axis=1)\n",
    "        df_temp=pd.concat([df_temp, df['max_mean']], axis=1)\n",
    "    if peak:\n",
    "        df_temp=pd.concat([df_temp, df['peak_freq']], axis=1)\n",
    "    return df_temp.drop(columns=['blah'])"
   ]
  },
  {
   "cell_type": "code",
   "execution_count": 114,
   "id": "dae4079f-42f7-474b-9893-2efd64c82b39",
   "metadata": {},
   "outputs": [],
   "source": [
    "def fam_to_num(ser):\n",
    "    temp = pd.DataFrame(0, index=np.arange(len(ser)), columns=['Gryllinae', 'Conocephalinae', 'Oecanthinae',\n",
    "            'Phaneropterinae', 'Trigonidiinae', 'Nemobiinae', 'Hapithinae', \n",
    "            'Mogoplistinae', 'Tettigoniinae', 'Pseudophyllinae', 'Cicadidae',\n",
    "            'Gryllotalpidae', 'Eneopterinae', 'Phalangopsidae', 'Listroscelidinae'])\n",
    "    for i in range(0,len(ser)):\n",
    "        temp.at[i,ser[i]] = 1\n",
    "    return temp   "
   ]
  },
  {
   "cell_type": "code",
   "execution_count": 120,
   "id": "51982133-2676-4cf9-9076-bae4f68a2630",
   "metadata": {},
   "outputs": [],
   "source": [
    "fam_dict = {'Gryllinae':'cricket', 'Conocephalinae':'kaydid', 'Oecanthinae':'cricket',\n",
    "            'Phaneropterinae': 'kaydid', 'Trigonidiinae':'cricket', 'Nemobiinae':'cricket', 'Hapithinae':'cricket', \n",
    "            'Mogoplistinae':'cricket', 'Tettigoniinae':'kaydid', 'Pseudophyllinae':'kaydid', 'Cicadidae':'cicada',\n",
    "            'Gryllotalpidae':'cricket', 'Eneopterinae':'cricket', 'Phalangopsidae':'cricket', 'Listroscelidinae':'cricket'}\n",
    "\n",
    "#Computes the accuracy of knn at the given value of k, depths of mfcc features, Calvin's features, and critter vs. fam_or_subfam\n",
    "def knn_test_acc(df, k=5, avg_depth=20, var_depth=10, hs_avg_depth=20, hs_var_depth=10, calvin_Features=True, peak=True, crit=False):\n",
    "    X=truncate_mfcc(df=df, avg_depth=avg_depth,var_depth=var_depth,hs_avg_depth=hs_avg_depth,hs_var_depth=hs_var_depth,calvin_Features=calvin_Features, peak=peak)\n",
    "    if crit:\n",
    "        Y = df['critter_name']\n",
    "    else:\n",
    "        Y = df['fam_or_subfam']\n",
    "    X_train, X_test, y_train, y_test = train_test_split(X.copy(), Y, shuffle=True, random_state=17, test_size=.2, stratify=Y)\n",
    "    knn_pipe = Pipeline([('scale', StandardScaler()), ('knn', KNeighborsClassifier(k))])\n",
    "    knn_pipe.fit(X_train, y_train)\n",
    "    pred = knn_pipe.predict(X_test)\n",
    "    score = accuracy_score(y_test,pred)\n",
    "    return score\n",
    "\n",
    "#Computes the accuracy of SVM poly at the given value of degree, C, depths of mfcc features, Calvin's features, and critter vs. fam_or_subfam\n",
    "def SVC_poly_test_acc(df, degree=2, C=10, avg_depth=20, var_depth=10, hs_avg_depth=20, hs_var_depth=10, calvin_Features=True, peak=True, crit=False):\n",
    "    X=truncate_mfcc(df=df, avg_depth=avg_depth,var_depth=var_depth,hs_avg_depth=hs_avg_depth,hs_var_depth=hs_var_depth,calvin_Features=calvin_Features, peak=peak)\n",
    "    if crit:\n",
    "        Y = df['critter_name']\n",
    "    else:\n",
    "        Y = df['fam_or_subfam']\n",
    "    X_train, X_test, y_train, y_test = train_test_split(X.copy(), Y, shuffle=True, random_state=17, test_size=.2, stratify=Y)\n",
    "    knn_pipe = Pipeline([('scale', StandardScaler()), ('svc_poly',SVC(kernel='poly', degree=degree, C=C))])\n",
    "    knn_pipe.fit(X_train, y_train)\n",
    "    pred = knn_pipe.predict(X_test)\n",
    "    score = accuracy_score(y_test,pred)\n",
    "    return score\n",
    "\n",
    "#Computes the accuracy of SVM rbf at the given value C, depths of mfcc features, Calvin's features, and critter vs. fam_or_subfam\n",
    "def SVC_rbf_test_acc(df, C=10, avg_depth=20, var_depth=10, hs_avg_depth=20, hs_var_depth=10, calvin_Features=True, peak=True, crit=False):\n",
    "    X=truncate_mfcc(df=df, avg_depth=avg_depth,var_depth=var_depth,hs_avg_depth=hs_avg_depth,hs_var_depth=hs_var_depth,calvin_Features=calvin_Features,peak=True)\n",
    "    if crit:\n",
    "        Y = df['critter_name']\n",
    "    else:\n",
    "        Y = df['fam_or_subfam']\n",
    "    X_train, X_test, y_train, y_test = train_test_split(X.copy(), Y, shuffle=True, random_state=17, test_size=.2, stratify=Y)\n",
    "    knn_pipe = Pipeline([('scale', StandardScaler()), ('svc_rbf',SVC(kernel='rbf', C=C))])\n",
    "    knn_pipe.fit(X_train, y_train)\n",
    "    pred = knn_pipe.predict(X_test)\n",
    "    score = accuracy_score(y_test,pred)\n",
    "    return score\n",
    "\n",
    "def SVC_rbf_train_acc(df, C=10, avg_depth=20, var_depth=10, hs_avg_depth=20, hs_var_depth=10, calvin_Features=True, peak=True, crit=False):\n",
    "    X=truncate_mfcc(df=df, avg_depth=avg_depth,var_depth=var_depth,hs_avg_depth=hs_avg_depth,hs_var_depth=hs_var_depth,calvin_Features=calvin_Features,peak=True)\n",
    "    if crit:\n",
    "        Y = df['critter_name']\n",
    "    else:\n",
    "        Y = df['fam_or_subfam']\n",
    "    X_train, X_test, y_train, y_test = train_test_split(X.copy(), Y, shuffle=True, random_state=17, test_size=.2, stratify=Y)\n",
    "    knn_pipe = Pipeline([('scale', StandardScaler()), ('svc_rbf',SVC(kernel='rbf', C=C))])\n",
    "    knn_pipe.fit(X_train, y_train)\n",
    "    pred = knn_pipe.predict(X_train)\n",
    "    score = accuracy_score(y_train,pred)\n",
    "    return score\n",
    "\n",
    "\n",
    "#Same as above but only predicting critter name (but training on fam_or_subfam)\n",
    "def SVC_rbf_test_acc_on_crit(df, C=10, avg_depth=20, var_depth=10, hs_avg_depth=20, hs_var_depth=10, calvin_Features=True, peak=True, crit=False):\n",
    "    X=truncate_mfcc(df=df, avg_depth=avg_depth,var_depth=var_depth,hs_avg_depth=hs_avg_depth,hs_var_depth=hs_var_depth,calvin_Features=calvin_Features,peak = peak)\n",
    "    if crit:\n",
    "        Y = df['critter_name']\n",
    "    else:\n",
    "        Y = df['fam_or_subfam']\n",
    "    X_train, X_test, y_train, y_test = train_test_split(X.copy(), Y, shuffle=True, random_state=17, test_size=.2, stratify=Y)\n",
    "    knn_pipe = Pipeline([('scale', StandardScaler()), ('svc_rbf',SVC(kernel='rbf', C=C))])\n",
    "    knn_pipe.fit(X_train, y_train)\n",
    "    pred = knn_pipe.predict(X_test)\n",
    "    score = accuracy_score(fam_to_crit(pd.Series(list(y_test))),fam_to_crit(pd.Series(pred)))\n",
    "    return score\n",
    "\n",
    "#Converts a pd Series with fam_or_subfam entries into critter names\n",
    "def fam_to_crit(series):\n",
    "    X=series.copy()\n",
    "    for i in range(0, X.shape[0]):\n",
    "        X.at[i]=fam_to_crit_string(X[i])\n",
    "    return X\n",
    "\n",
    "def fam_to_crit_string(fam_name):\n",
    "    return fam_dict[fam_name]\n",
    "\n",
    "def plsr_test_acc(df, n_components=2):\n",
    "    X=truncate_mfcc(df=df, avg_depth=40,var_depth=40,hs_avg_depth=40,hs_var_depth=40,calvin_Features=True,peak = True)\n",
    "    Y= fam_to_num(df['fam_or_subfam'])\n",
    "    X_train, X_test, y_train, y_test = train_test_split(X.copy(), Y, shuffle=True, random_state=17, test_size=.2, stratify=Y)\n",
    "    knn_pipe = Pipeline([('scale', StandardScaler()), ('plsr',PLSRegression(n_components=n_components, scale=False))])\n",
    "    knn_pipe.fit(X_train, y_train)\n",
    "    pred = knn_pipe.predict(X_test)\n",
    "    plsr_coef = knn_pipe['plsr'].coef_\n",
    "    return plsr_coef,pred, y_test"
   ]
  },
  {
   "cell_type": "code",
   "execution_count": 121,
   "id": "0e2021c0-e221-4d67-92d4-490f0d970247",
   "metadata": {},
   "outputs": [
    {
     "name": "stdout",
     "output_type": "stream",
     "text": [
      "knn Test Accuracy when mfcc depth = 12 and k = 10: 0.6330508474576271\n"
     ]
    }
   ],
   "source": [
    "#Runs knn over the indicated depth of all 4 mfcc features, Calvin's features, and peak_freq, and the values of k for knn.\n",
    "for depth in range(12,13):\n",
    "    for k in range(10,11):\n",
    "        print(f\"knn Test Accuracy when mfcc depth = {depth} and k = {k}: {knn_test_acc(df,k,depth,depth,depth,depth,True,True,False)}\")        "
   ]
  },
  {
   "cell_type": "code",
   "execution_count": 122,
   "id": "8361d2bc-22d5-49dc-ba47-46f66df6c288",
   "metadata": {},
   "outputs": [
    {
     "name": "stdout",
     "output_type": "stream",
     "text": [
      "SVC poly Test Accuracy when mfcc degree = 2 and C = 9 and depth = 13: 0.6601694915254237\n",
      "SVC poly Test Accuracy when mfcc degree = 2 and C = 9 and depth = 14: 0.6576271186440678\n",
      "SVC poly Test Accuracy when mfcc degree = 2 and C = 10 and depth = 13: 0.6635593220338983\n",
      "SVC poly Test Accuracy when mfcc degree = 2 and C = 10 and depth = 14: 0.6576271186440678\n",
      "SVC poly Test Accuracy when mfcc degree = 3 and C = 9 and depth = 13: 0.6805084745762712\n",
      "SVC poly Test Accuracy when mfcc degree = 3 and C = 9 and depth = 14: 0.676271186440678\n",
      "SVC poly Test Accuracy when mfcc degree = 3 and C = 10 and depth = 13: 0.6754237288135593\n",
      "SVC poly Test Accuracy when mfcc degree = 3 and C = 10 and depth = 14: 0.6779661016949152\n"
     ]
    }
   ],
   "source": [
    "#Runs svc poly over the indicated degree, C, and depth of all 4 mfcc features, including Calvin's features and peak_freq\n",
    "for degree in range(2,4):\n",
    "    for C in range(9,11):\n",
    "        for depth in range(13,15):\n",
    "            print(f\"SVC poly Test Accuracy when mfcc degree = {degree} and C = {C} and depth = {depth}: {SVC_poly_test_acc(df,degree,C,depth,depth,depth,depth,True,True,False)}\") "
   ]
  },
  {
   "cell_type": "code",
   "execution_count": 123,
   "id": "ae1cba2d-461f-4ad6-81d1-ce6fb05086a6",
   "metadata": {},
   "outputs": [
    {
     "name": "stdout",
     "output_type": "stream",
     "text": [
      "SVC rbf Test Accuracy when mfcc depth = 40 and C = 10: 0.7025423728813559\n",
      "SVC rbf Train Accuracy when mfcc depth = 40 and C = 10: 0.9684255138800594\n"
     ]
    }
   ],
   "source": [
    "#Runs svc rbf over the indicated C and depth of all 4 mfcc features, including Calvin's features and peak_freq\n",
    "for C in range(10,11):\n",
    "    for depth in range(40,41):\n",
    "        print(f\"SVC rbf Test Accuracy when mfcc depth = {depth} and C = {C}: {SVC_rbf_test_acc(df,C,depth,depth,0,0,True,True,False)}\")\n",
    "        print(f\"SVC rbf Train Accuracy when mfcc depth = {depth} and C = {C}: {SVC_rbf_train_acc(df,C,depth,depth,0,0,True,True,False)}\") "
   ]
  },
  {
   "cell_type": "code",
   "execution_count": 124,
   "id": "8bfeb69e-6100-424c-901e-bc77dfc26685",
   "metadata": {},
   "outputs": [
    {
     "name": "stdout",
     "output_type": "stream",
     "text": [
      "SVC rbf Test Accuracy when mfcc depth = 40 and C = 10: 0.6364406779661017\n",
      "SVC rbf Train Accuracy when mfcc depth = 40 and C = 10: 0.9841068022886205\n"
     ]
    }
   ],
   "source": [
    "#Runs svc rbf over the indicated C and depth of all 4 mfcc features, including Calvin's features and peak_freq\n",
    "for C in range(10,11):\n",
    "    for depth in range(40,41):\n",
    "        print(f\"SVC rbf Test Accuracy when mfcc depth = {depth} and C = {C}: {SVC_rbf_test_acc(df,C,0,0,depth,depth,True,True,False)}\")\n",
    "        print(f\"SVC rbf Train Accuracy when mfcc depth = {depth} and C = {C}: {SVC_rbf_train_acc(df,C,0,0,depth,depth,True,True,False)}\") "
   ]
  },
  {
   "cell_type": "code",
   "execution_count": 125,
   "id": "17fc5581-dc26-4be7-ad22-718cb4323708",
   "metadata": {},
   "outputs": [
    {
     "name": "stdout",
     "output_type": "stream",
     "text": [
      "SVC rbf Test Accuracy when mfcc depth = 40 and C = 10: 0.6923728813559322\n",
      "SVC rbf Train Accuracy when mfcc depth = 40 and C = 10: 0.9885568976478067\n"
     ]
    }
   ],
   "source": [
    "#Runs svc rbf over the indicated C and depth of all 4 mfcc features, including Calvin's features and peak_freq\n",
    "for C in range(10,11):\n",
    "    for depth in range(40,41):\n",
    "        print(f\"SVC rbf Test Accuracy when mfcc depth = {depth} and C = {C}: {SVC_rbf_test_acc(df,C,depth,depth,depth,depth,True,True,False)}\")\n",
    "        print(f\"SVC rbf Train Accuracy when mfcc depth = {depth} and C = {C}: {SVC_rbf_train_acc(df,C,depth,depth,depth,depth,True,True,False)}\") "
   ]
  },
  {
   "cell_type": "code",
   "execution_count": 126,
   "id": "c2a2f9a8-c0c9-4f07-bd66-def7117d0292",
   "metadata": {},
   "outputs": [
    {
     "name": "stdout",
     "output_type": "stream",
     "text": [
      "SVC rbf Test Accuracy (train fam_or_subfam, predict crit_name) when mfcc depth = 10 and C = 10: 0.9211864406779661\n"
     ]
    }
   ],
   "source": [
    "#Runs svc rbf on fam_or_subfam over the indicated C and depth of all 4 mfcc features, including Calvin's features and peak_freq, but then predicting only critter_name\n",
    "for C in range(10,11):\n",
    "    for depth in range(10,11):\n",
    "        print(f\"SVC rbf Test Accuracy (train fam_or_subfam, predict crit_name) when mfcc depth = {depth} and C = {C}: {SVC_rbf_test_acc_on_crit(df,C,depth,depth,depth,depth,True,True,False)}\") "
   ]
  },
  {
   "cell_type": "code",
   "execution_count": null,
   "id": "8a8a644d-fd19-4f81-aac0-b5ded17b3ea2",
   "metadata": {},
   "outputs": [],
   "source": []
  }
 ],
 "metadata": {
  "kernelspec": {
   "display_name": "Python 3 (ipykernel)",
   "language": "python",
   "name": "python3"
  },
  "language_info": {
   "codemirror_mode": {
    "name": "ipython",
    "version": 3
   },
   "file_extension": ".py",
   "mimetype": "text/x-python",
   "name": "python",
   "nbconvert_exporter": "python",
   "pygments_lexer": "ipython3",
   "version": "3.11.9"
  }
 },
 "nbformat": 4,
 "nbformat_minor": 5
}
