{
 "cells": [
  {
   "cell_type": "code",
   "execution_count": 1,
   "id": "5924c4f7-2974-4f09-a3f8-c5c2e3121b5b",
   "metadata": {},
   "outputs": [],
   "source": [
    "import librosa, librosa.display\n",
    "import numpy as np\n",
    "import matplotlib.pyplot as plt\n",
    "import os\n",
    "import scipy\n",
    "import math\n",
    "import pandas as pd\n",
    "from sklearn.model_selection import train_test_split\n",
    "from sklearn.metrics import confusion_matrix\n",
    "from sklearn.discriminant_analysis import LinearDiscriminantAnalysis\n",
    "from sklearn.neighbors import KNeighborsClassifier\n",
    "from sklearn.pipeline import Pipeline\n",
    "from sklearn.preprocessing import StandardScaler\n",
    "from sklearn.metrics import accuracy_score\n",
    "from sklearn.svm import SVC"
   ]
  },
  {
   "cell_type": "code",
   "execution_count": 2,
   "id": "2a6c99f1-e21d-4b2e-a8d1-8e7cc1156cc1",
   "metadata": {},
   "outputs": [
    {
     "name": "stderr",
     "output_type": "stream",
     "text": [
      "/var/folders/5z/7fkzpcz93gz6mqgh9vjgfymm0000gn/T/ipykernel_410/2489552159.py:1: DtypeWarning: Columns (25,31) have mixed types. Specify dtype option on import or set low_memory=False.\n",
      "  df = pd.read_csv('MLNS_05282024B.csv')\n"
     ]
    }
   ],
   "source": [
    "df = pd.read_csv('MLNS_05282024B.csv')"
   ]
  },
  {
   "cell_type": "code",
   "execution_count": 3,
   "id": "65763d53-759e-4eb4-ac5c-dc30d82f7f38",
   "metadata": {},
   "outputs": [],
   "source": [
    "#Returns dataframe containing mfcc avg and var, and hs_mfcc avg and var, truncated to indicated depth, as well as Calvin's three features if True\n",
    "def truncate_mfcc(df, avg_depth=20, var_depth=10, hs_avg_depth=20, hs_var_depth=10, calvin_Features=True):\n",
    "    df_temp=df['mfcc_'+str(0)+'_avg']\n",
    "    df_temp=df_temp.rename('blah')\n",
    "    for n in range(0,avg_depth):\n",
    "        df_temp=pd.concat([df_temp, df['mfcc_'+str(n)+'_avg']], axis=1)\n",
    "    for n in range(0,var_depth):\n",
    "        df_temp=pd.concat([df_temp, df['mfcc_'+str(n)+'_var']], axis=1)\n",
    "    for n in range(0,hs_avg_depth):\n",
    "        df_temp=pd.concat([df_temp, df['hs_mfcc_'+str(n)+'_avg']], axis=1)\n",
    "    for n in range(0,hs_var_depth):\n",
    "        df_temp=pd.concat([df_temp, df['hs_mfcc_'+str(n)+'_var']], axis=1)\n",
    "    if calvin_Features:\n",
    "        df_temp=pd.concat([df_temp, df['main_freq']], axis=1)\n",
    "        df_temp=pd.concat([df_temp, df['range']], axis=1)\n",
    "        df_temp=pd.concat([df_temp, df['max_mean']], axis=1)\n",
    "    return df_temp.drop(columns=['blah'])"
   ]
  },
  {
   "cell_type": "code",
   "execution_count": 4,
   "id": "51982133-2676-4cf9-9076-bae4f68a2630",
   "metadata": {},
   "outputs": [],
   "source": [
    "#Computes the accuracy of knn at the given value of k, depths of mfcc features, Calvin's features, and critter vs. fam_or_subfam\n",
    "def knn_test_acc(df, k=5, avg_depth=20, var_depth=10, hs_avg_depth=20, hs_var_depth=10, calvin_Features=True, crit=False):\n",
    "    X=truncate_mfcc(df=df, avg_depth=avg_depth,var_depth=var_depth,hs_avg_depth=hs_avg_depth,hs_var_depth=hs_var_depth,calvin_Features=calvin_Features)\n",
    "    if crit:\n",
    "        Y = df['critter_name']\n",
    "    else:\n",
    "        Y = df['fam_or_subfam']\n",
    "    X_train, X_test, y_train, y_test = train_test_split(X.copy(), Y, shuffle=True, random_state=17, test_size=.2, stratify=Y)\n",
    "    knn_pipe = Pipeline([('scale', StandardScaler()), ('knn', KNeighborsClassifier(k))])\n",
    "    knn_pipe.fit(X_train, y_train)\n",
    "    pred = knn_pipe.predict(X_test)\n",
    "    score = accuracy_score(y_test,pred)\n",
    "    return score\n",
    "\n",
    "#Computes the accuracy of SVM poly at the given value of degree, C, depths of mfcc features, Calvin's features, and critter vs. fam_or_subfam\n",
    "def SVC_poly_test_acc(df, degree=2, C=10, avg_depth=20, var_depth=10, hs_avg_depth=20, hs_var_depth=10, calvin_Features=True, crit=False):\n",
    "    X=truncate_mfcc(df=df, avg_depth=avg_depth,var_depth=var_depth,hs_avg_depth=hs_avg_depth,hs_var_depth=hs_var_depth,calvin_Features=calvin_Features)\n",
    "    if crit:\n",
    "        Y = df['critter_name']\n",
    "    else:\n",
    "        Y = df['fam_or_subfam']\n",
    "    X_train, X_test, y_train, y_test = train_test_split(X.copy(), Y, shuffle=True, random_state=17, test_size=.2, stratify=Y)\n",
    "    knn_pipe = Pipeline([('scale', StandardScaler()), ('svc_poly',SVC(kernel='poly', degree=degree, C=C))])\n",
    "    knn_pipe.fit(X_train, y_train)\n",
    "    pred = knn_pipe.predict(X_test)\n",
    "    score = accuracy_score(y_test,pred)\n",
    "    return score\n",
    "\n",
    "#Computes the accuracy of SVM rbf at the given value C, depths of mfcc features, Calvin's features, and critter vs. fam_or_subfam\n",
    "def SVC_rbf_test_acc(df, C=10, avg_depth=20, var_depth=10, hs_avg_depth=20, hs_var_depth=10, calvin_Features=True, crit=False):\n",
    "    X=truncate_mfcc(df=df, avg_depth=avg_depth,var_depth=var_depth,hs_avg_depth=hs_avg_depth,hs_var_depth=hs_var_depth,calvin_Features=calvin_Features)\n",
    "    if crit:\n",
    "        Y = df['critter_name']\n",
    "    else:\n",
    "        Y = df['fam_or_subfam']\n",
    "    X_train, X_test, y_train, y_test = train_test_split(X.copy(), Y, shuffle=True, random_state=17, test_size=.2, stratify=Y)\n",
    "    knn_pipe = Pipeline([('scale', StandardScaler()), ('svc_rbf',SVC(kernel='rbf', C=C))])\n",
    "    knn_pipe.fit(X_train, y_train)\n",
    "    pred = knn_pipe.predict(X_test)\n",
    "    score = accuracy_score(y_test,pred)\n",
    "    return score"
   ]
  },
  {
   "cell_type": "code",
   "execution_count": 5,
   "id": "0e2021c0-e221-4d67-92d4-490f0d970247",
   "metadata": {},
   "outputs": [
    {
     "name": "stdout",
     "output_type": "stream",
     "text": [
      "knn Test Accuracy when mfcc depth = 12 and k = 1: 0.6474576271186441\n",
      "knn Test Accuracy when mfcc depth = 12 and k = 2: 0.6220338983050847\n",
      "knn Test Accuracy when mfcc depth = 12 and k = 3: 0.6296610169491526\n",
      "knn Test Accuracy when mfcc depth = 12 and k = 4: 0.638135593220339\n",
      "knn Test Accuracy when mfcc depth = 12 and k = 5: 0.6432203389830509\n",
      "knn Test Accuracy when mfcc depth = 12 and k = 6: 0.6432203389830509\n",
      "knn Test Accuracy when mfcc depth = 12 and k = 7: 0.6466101694915254\n",
      "knn Test Accuracy when mfcc depth = 12 and k = 8: 0.6372881355932203\n",
      "knn Test Accuracy when mfcc depth = 12 and k = 9: 0.6474576271186441\n",
      "knn Test Accuracy when mfcc depth = 12 and k = 10: 0.6364406779661017\n",
      "knn Test Accuracy when mfcc depth = 13 and k = 1: 0.6262711864406779\n",
      "knn Test Accuracy when mfcc depth = 13 and k = 2: 0.6101694915254238\n",
      "knn Test Accuracy when mfcc depth = 13 and k = 3: 0.6296610169491526\n",
      "knn Test Accuracy when mfcc depth = 13 and k = 4: 0.6389830508474577\n",
      "knn Test Accuracy when mfcc depth = 13 and k = 5: 0.6423728813559322\n",
      "knn Test Accuracy when mfcc depth = 13 and k = 6: 0.6491525423728813\n",
      "knn Test Accuracy when mfcc depth = 13 and k = 7: 0.6567796610169492\n",
      "knn Test Accuracy when mfcc depth = 13 and k = 8: 0.6406779661016949\n",
      "knn Test Accuracy when mfcc depth = 13 and k = 9: 0.6457627118644068\n",
      "knn Test Accuracy when mfcc depth = 13 and k = 10: 0.6313559322033898\n",
      "knn Test Accuracy when mfcc depth = 14 and k = 1: 0.6322033898305085\n",
      "knn Test Accuracy when mfcc depth = 14 and k = 2: 0.6076271186440678\n",
      "knn Test Accuracy when mfcc depth = 14 and k = 3: 0.6279661016949153\n",
      "knn Test Accuracy when mfcc depth = 14 and k = 4: 0.635593220338983\n",
      "knn Test Accuracy when mfcc depth = 14 and k = 5: 0.6449152542372881\n",
      "knn Test Accuracy when mfcc depth = 14 and k = 6: 0.6398305084745762\n",
      "knn Test Accuracy when mfcc depth = 14 and k = 7: 0.6432203389830509\n",
      "knn Test Accuracy when mfcc depth = 14 and k = 8: 0.6398305084745762\n",
      "knn Test Accuracy when mfcc depth = 14 and k = 9: 0.6457627118644068\n",
      "knn Test Accuracy when mfcc depth = 14 and k = 10: 0.6398305084745762\n",
      "knn Test Accuracy when mfcc depth = 15 and k = 1: 0.6322033898305085\n",
      "knn Test Accuracy when mfcc depth = 15 and k = 2: 0.6169491525423729\n",
      "knn Test Accuracy when mfcc depth = 15 and k = 3: 0.6415254237288136\n",
      "knn Test Accuracy when mfcc depth = 15 and k = 4: 0.6483050847457628\n",
      "knn Test Accuracy when mfcc depth = 15 and k = 5: 0.6432203389830509\n",
      "knn Test Accuracy when mfcc depth = 15 and k = 6: 0.6474576271186441\n",
      "knn Test Accuracy when mfcc depth = 15 and k = 7: 0.6474576271186441\n",
      "knn Test Accuracy when mfcc depth = 15 and k = 8: 0.635593220338983\n",
      "knn Test Accuracy when mfcc depth = 15 and k = 9: 0.6406779661016949\n",
      "knn Test Accuracy when mfcc depth = 15 and k = 10: 0.6372881355932203\n"
     ]
    }
   ],
   "source": [
    "#Runs knn over the indicated depth of all 4 mfcc features, and the values of k for knn.\n",
    "for depth in range(12,16):\n",
    "    for k in range(1,11):\n",
    "        print(f\"knn Test Accuracy when mfcc depth = {depth} and k = {k}: {knn_test_acc(df,k,depth,depth,depth,depth,True,False)}\")        "
   ]
  },
  {
   "cell_type": "code",
   "execution_count": 10,
   "id": "8361d2bc-22d5-49dc-ba47-46f66df6c288",
   "metadata": {},
   "outputs": [
    {
     "name": "stdout",
     "output_type": "stream",
     "text": [
      "SVC poly Test Accuracy when mfcc degree = 2 and C = 9 and depth = 13: 0.65\n",
      "SVC poly Test Accuracy when mfcc degree = 2 and C = 9 and depth = 14: 0.6474576271186441\n",
      "SVC poly Test Accuracy when mfcc degree = 2 and C = 10 and depth = 13: 0.6483050847457628\n",
      "SVC poly Test Accuracy when mfcc degree = 2 and C = 10 and depth = 14: 0.6491525423728813\n",
      "SVC poly Test Accuracy when mfcc degree = 3 and C = 9 and depth = 13: 0.6576271186440678\n",
      "SVC poly Test Accuracy when mfcc degree = 3 and C = 9 and depth = 14: 0.6635593220338983\n",
      "SVC poly Test Accuracy when mfcc degree = 3 and C = 10 and depth = 13: 0.6584745762711864\n",
      "SVC poly Test Accuracy when mfcc degree = 3 and C = 10 and depth = 14: 0.6711864406779661\n"
     ]
    }
   ],
   "source": [
    "#Runs scv poly over the indicated degree, C, and depth of all 4 mfcc features, including Calvin's features\n",
    "for degree in range(2,4):\n",
    "    for C in range(9,11):\n",
    "        for depth in range(13,15):\n",
    "            print(f\"SVC poly Test Accuracy when mfcc degree = {degree} and C = {C} and depth = {depth}: {SVC_poly_test_acc(df,degree,C,depth,depth,depth,depth,True,False)}\") "
   ]
  },
  {
   "cell_type": "code",
   "execution_count": 8,
   "id": "c2a2f9a8-c0c9-4f07-bd66-def7117d0292",
   "metadata": {},
   "outputs": [
    {
     "name": "stdout",
     "output_type": "stream",
     "text": [
      "SVC rbf Test Accuracy when mfcc depth = 14 and C = 5: 0.7008474576271186\n",
      "SVC rbf Test Accuracy when mfcc depth = 14 and C = 6: 0.7050847457627119\n",
      "SVC rbf Test Accuracy when mfcc depth = 14 and C = 7: 0.7050847457627119\n",
      "SVC rbf Test Accuracy when mfcc depth = 14 and C = 8: 0.7008474576271186\n",
      "SVC rbf Test Accuracy when mfcc depth = 14 and C = 9: 0.7008474576271186\n",
      "SVC rbf Test Accuracy when mfcc depth = 14 and C = 10: 0.7025423728813559\n",
      "SVC rbf Test Accuracy when mfcc depth = 14 and C = 11: 0.7033898305084746\n",
      "SVC rbf Test Accuracy when mfcc depth = 14 and C = 12: 0.7033898305084746\n"
     ]
    }
   ],
   "source": [
    "#Runs scv rbf over the indicated C and depth of all 4 mfcc features, including Calvin's features\n",
    "for C in range(5,13):\n",
    "    for depth in range(14,15):\n",
    "        print(f\"SVC rbf Test Accuracy when mfcc depth = {depth} and C = {C}: {SVC_rbf_test_acc(df,C,depth,depth,depth,depth,True,False)}\") "
   ]
  },
  {
   "cell_type": "code",
   "execution_count": null,
   "id": "26f4b111-7d43-4fdb-8bc1-d209c67a8dd1",
   "metadata": {},
   "outputs": [],
   "source": []
  }
 ],
 "metadata": {
  "kernelspec": {
   "display_name": "Python 3 (ipykernel)",
   "language": "python",
   "name": "python3"
  },
  "language_info": {
   "codemirror_mode": {
    "name": "ipython",
    "version": 3
   },
   "file_extension": ".py",
   "mimetype": "text/x-python",
   "name": "python",
   "nbconvert_exporter": "python",
   "pygments_lexer": "ipython3",
   "version": "3.11.9"
  }
 },
 "nbformat": 4,
 "nbformat_minor": 5
}
