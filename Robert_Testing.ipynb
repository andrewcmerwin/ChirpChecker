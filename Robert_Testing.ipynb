{
 "cells": [
  {
   "cell_type": "code",
   "execution_count": 14,
   "id": "5924c4f7-2974-4f09-a3f8-c5c2e3121b5b",
   "metadata": {},
   "outputs": [],
   "source": [
    "import librosa, librosa.display\n",
    "import numpy as np\n",
    "import matplotlib.pyplot as plt\n",
    "import os\n",
    "import scipy\n",
    "import math\n",
    "import pandas as pd\n",
    "from sklearn.model_selection import train_test_split\n",
    "from sklearn.metrics import confusion_matrix\n",
    "from sklearn.discriminant_analysis import LinearDiscriminantAnalysis\n",
    "from sklearn.neighbors import KNeighborsClassifier\n",
    "from sklearn.pipeline import Pipeline\n",
    "from sklearn.preprocessing import StandardScaler\n",
    "from sklearn.metrics import accuracy_score\n",
    "from sklearn.svm import SVC"
   ]
  },
  {
   "cell_type": "code",
   "execution_count": 15,
   "id": "2a6c99f1-e21d-4b2e-a8d1-8e7cc1156cc1",
   "metadata": {},
   "outputs": [
    {
     "name": "stderr",
     "output_type": "stream",
     "text": [
      "/var/folders/5z/7fkzpcz93gz6mqgh9vjgfymm0000gn/T/ipykernel_6152/259242732.py:1: DtypeWarning: Columns (25,31) have mixed types. Specify dtype option on import or set low_memory=False.\n",
      "  df = pd.read_csv('MLNS_05292024.csv')\n"
     ]
    }
   ],
   "source": [
    "df = pd.read_csv('MLNS_05292024.csv')"
   ]
  },
  {
   "cell_type": "code",
   "execution_count": 16,
   "id": "65763d53-759e-4eb4-ac5c-dc30d82f7f38",
   "metadata": {},
   "outputs": [],
   "source": [
    "#Returns dataframe containing mfcc avg and var, and hs_mfcc avg and var, truncated to indicated depth, as well as Calvin's three features if True\n",
    "def truncate_mfcc(df, avg_depth=20, var_depth=10, hs_avg_depth=20, hs_var_depth=10, calvin_Features=True, peak=True):\n",
    "    df_temp=df['mfcc_'+str(0)+'_avg']\n",
    "    df_temp=df_temp.rename('blah')\n",
    "    for n in range(0,avg_depth):\n",
    "        df_temp=pd.concat([df_temp, df['mfcc_'+str(n)+'_avg']], axis=1)\n",
    "    for n in range(0,var_depth):\n",
    "        df_temp=pd.concat([df_temp, df['mfcc_'+str(n)+'_var']], axis=1)\n",
    "    for n in range(0,hs_avg_depth):\n",
    "        df_temp=pd.concat([df_temp, df['hs_mfcc_'+str(n)+'_avg']], axis=1)\n",
    "    for n in range(0,hs_var_depth):\n",
    "        df_temp=pd.concat([df_temp, df['hs_mfcc_'+str(n)+'_var']], axis=1)\n",
    "    if calvin_Features:\n",
    "        df_temp=pd.concat([df_temp, df['main_freq']], axis=1)\n",
    "        df_temp=pd.concat([df_temp, df['range']], axis=1)\n",
    "        df_temp=pd.concat([df_temp, df['max_mean']], axis=1)\n",
    "    if peak:\n",
    "        df_temp=pd.concat([df_temp, df['peak_freq']], axis=1)\n",
    "    return df_temp.drop(columns=['blah'])"
   ]
  },
  {
   "cell_type": "code",
   "execution_count": 20,
   "id": "51982133-2676-4cf9-9076-bae4f68a2630",
   "metadata": {},
   "outputs": [],
   "source": [
    "fam_dict = {'Gryllinae':'cricket', 'Conocephalinae':'kaydid', 'Oecanthinae':'cricket',\n",
    "            'Phaneropterinae': 'kaydid', 'Trigonidiinae':'cricket', 'Nemobiinae':'cricket', 'Hapithinae':'cricket', \n",
    "            'Mogoplistinae':'cricket', 'Tettigoniinae':'kaydid', 'Pseudophyllinae':'kaydid', 'Cicadidae':'cicada',\n",
    "            'Gryllotalpidae':'cricket', 'Eneopterinae':'cricket', 'Phalangopsidae':'cricket', 'Listroscelidinae':'cricket'}\n",
    "\n",
    "#Computes the accuracy of knn at the given value of k, depths of mfcc features, Calvin's features, and critter vs. fam_or_subfam\n",
    "def knn_test_acc(df, k=5, avg_depth=20, var_depth=10, hs_avg_depth=20, hs_var_depth=10, calvin_Features=True, peak=True, crit=False):\n",
    "    X=truncate_mfcc(df=df, avg_depth=avg_depth,var_depth=var_depth,hs_avg_depth=hs_avg_depth,hs_var_depth=hs_var_depth,calvin_Features=calvin_Features, peak=peak)\n",
    "    if crit:\n",
    "        Y = df['critter_name']\n",
    "    else:\n",
    "        Y = df['fam_or_subfam']\n",
    "    X_train, X_test, y_train, y_test = train_test_split(X.copy(), Y, shuffle=True, random_state=17, test_size=.2, stratify=Y)\n",
    "    knn_pipe = Pipeline([('scale', StandardScaler()), ('knn', KNeighborsClassifier(k))])\n",
    "    knn_pipe.fit(X_train, y_train)\n",
    "    pred = knn_pipe.predict(X_test)\n",
    "    score = accuracy_score(y_test,pred)\n",
    "    return score\n",
    "\n",
    "#Computes the accuracy of SVM poly at the given value of degree, C, depths of mfcc features, Calvin's features, and critter vs. fam_or_subfam\n",
    "def SVC_poly_test_acc(df, degree=2, C=10, avg_depth=20, var_depth=10, hs_avg_depth=20, hs_var_depth=10, calvin_Features=True, peak=True, crit=False):\n",
    "    X=truncate_mfcc(df=df, avg_depth=avg_depth,var_depth=var_depth,hs_avg_depth=hs_avg_depth,hs_var_depth=hs_var_depth,calvin_Features=calvin_Features, peak=peak)\n",
    "    if crit:\n",
    "        Y = df['critter_name']\n",
    "    else:\n",
    "        Y = df['fam_or_subfam']\n",
    "    X_train, X_test, y_train, y_test = train_test_split(X.copy(), Y, shuffle=True, random_state=17, test_size=.2, stratify=Y)\n",
    "    knn_pipe = Pipeline([('scale', StandardScaler()), ('svc_poly',SVC(kernel='poly', degree=degree, C=C))])\n",
    "    knn_pipe.fit(X_train, y_train)\n",
    "    pred = knn_pipe.predict(X_test)\n",
    "    score = accuracy_score(y_test,pred)\n",
    "    return score\n",
    "\n",
    "#Computes the accuracy of SVM rbf at the given value C, depths of mfcc features, Calvin's features, and critter vs. fam_or_subfam\n",
    "def SVC_rbf_test_acc(df, C=10, avg_depth=20, var_depth=10, hs_avg_depth=20, hs_var_depth=10, calvin_Features=True, peak=True, crit=False):\n",
    "    X=truncate_mfcc(df=df, avg_depth=avg_depth,var_depth=var_depth,hs_avg_depth=hs_avg_depth,hs_var_depth=hs_var_depth,calvin_Features=calvin_Features,peak=True)\n",
    "    if crit:\n",
    "        Y = df['critter_name']\n",
    "    else:\n",
    "        Y = df['fam_or_subfam']\n",
    "    X_train, X_test, y_train, y_test = train_test_split(X.copy(), Y, shuffle=True, random_state=17, test_size=.2, stratify=Y)\n",
    "    knn_pipe = Pipeline([('scale', StandardScaler()), ('svc_rbf',SVC(kernel='rbf', C=C))])\n",
    "    knn_pipe.fit(X_train, y_train)\n",
    "    pred = knn_pipe.predict(X_test)\n",
    "    score = accuracy_score(y_test,pred)\n",
    "    return score\n",
    "\n",
    "def SVC_rbf_train_acc(df, C=10, avg_depth=20, var_depth=10, hs_avg_depth=20, hs_var_depth=10, calvin_Features=True, peak=True, crit=False):\n",
    "    X=truncate_mfcc(df=df, avg_depth=avg_depth,var_depth=var_depth,hs_avg_depth=hs_avg_depth,hs_var_depth=hs_var_depth,calvin_Features=calvin_Features,peak=True)\n",
    "    if crit:\n",
    "        Y = df['critter_name']\n",
    "    else:\n",
    "        Y = df['fam_or_subfam']\n",
    "    X_train, X_test, y_train, y_test = train_test_split(X.copy(), Y, shuffle=True, random_state=17, test_size=.2, stratify=Y)\n",
    "    knn_pipe = Pipeline([('scale', StandardScaler()), ('svc_rbf',SVC(kernel='rbf', C=C))])\n",
    "    knn_pipe.fit(X_train, y_train)\n",
    "    pred = knn_pipe.predict(X_train)\n",
    "    score = accuracy_score(y_train,pred)\n",
    "    return score\n",
    "\n",
    "\n",
    "#Same as above but only predicting critter name (but training on fam_or_subfam)\n",
    "def SVC_rbf_test_acc_on_crit(df, C=10, avg_depth=20, var_depth=10, hs_avg_depth=20, hs_var_depth=10, calvin_Features=True, peak=True, crit=False):\n",
    "    X=truncate_mfcc(df=df, avg_depth=avg_depth,var_depth=var_depth,hs_avg_depth=hs_avg_depth,hs_var_depth=hs_var_depth,calvin_Features=calvin_Features,peak = peak)\n",
    "    if crit:\n",
    "        Y = df['critter_name']\n",
    "    else:\n",
    "        Y = df['fam_or_subfam']\n",
    "    X_train, X_test, y_train, y_test = train_test_split(X.copy(), Y, shuffle=True, random_state=17, test_size=.2, stratify=Y)\n",
    "    knn_pipe = Pipeline([('scale', StandardScaler()), ('svc_rbf',SVC(kernel='rbf', C=C))])\n",
    "    knn_pipe.fit(X_train, y_train)\n",
    "    pred = knn_pipe.predict(X_test)\n",
    "    score = accuracy_score(fam_to_crit(pd.Series(list(y_test))),fam_to_crit(pd.Series(pred)))\n",
    "    return score\n",
    "\n",
    "#Converts a pd Series with fam_or_subfam entries into critter names\n",
    "def fam_to_crit(series):\n",
    "    X=series.copy()\n",
    "    for i in range(0, X.shape[0]):\n",
    "        X.at[i]=fam_to_crit_string(X[i])\n",
    "    return X\n",
    "\n",
    "def fam_to_crit_string(fam_name):\n",
    "    return fam_dict[fam_name]"
   ]
  },
  {
   "cell_type": "code",
   "execution_count": 18,
   "id": "0e2021c0-e221-4d67-92d4-490f0d970247",
   "metadata": {},
   "outputs": [
    {
     "name": "stdout",
     "output_type": "stream",
     "text": [
      "knn Test Accuracy when mfcc depth = 12 and k = 1: 0.8923728813559322\n",
      "knn Test Accuracy when mfcc depth = 12 and k = 2: 0.9\n",
      "knn Test Accuracy when mfcc depth = 12 and k = 3: 0.9059322033898305\n",
      "knn Test Accuracy when mfcc depth = 12 and k = 4: 0.9033898305084745\n",
      "knn Test Accuracy when mfcc depth = 12 and k = 5: 0.8983050847457628\n",
      "knn Test Accuracy when mfcc depth = 12 and k = 6: 0.8957627118644068\n",
      "knn Test Accuracy when mfcc depth = 12 and k = 7: 0.9\n",
      "knn Test Accuracy when mfcc depth = 12 and k = 8: 0.8940677966101694\n",
      "knn Test Accuracy when mfcc depth = 12 and k = 9: 0.8974576271186441\n",
      "knn Test Accuracy when mfcc depth = 12 and k = 10: 0.8949152542372881\n",
      "knn Test Accuracy when mfcc depth = 13 and k = 1: 0.8983050847457628\n",
      "knn Test Accuracy when mfcc depth = 13 and k = 2: 0.8915254237288136\n",
      "knn Test Accuracy when mfcc depth = 13 and k = 3: 0.9008474576271186\n",
      "knn Test Accuracy when mfcc depth = 13 and k = 4: 0.9033898305084745\n",
      "knn Test Accuracy when mfcc depth = 13 and k = 5: 0.8949152542372881\n",
      "knn Test Accuracy when mfcc depth = 13 and k = 6: 0.8974576271186441\n",
      "knn Test Accuracy when mfcc depth = 13 and k = 7: 0.8991525423728813\n",
      "knn Test Accuracy when mfcc depth = 13 and k = 8: 0.8966101694915254\n",
      "knn Test Accuracy when mfcc depth = 13 and k = 9: 0.8983050847457628\n",
      "knn Test Accuracy when mfcc depth = 13 and k = 10: 0.8932203389830509\n",
      "knn Test Accuracy when mfcc depth = 14 and k = 1: 0.8991525423728813\n",
      "knn Test Accuracy when mfcc depth = 14 and k = 2: 0.888135593220339\n",
      "knn Test Accuracy when mfcc depth = 14 and k = 3: 0.8957627118644068\n",
      "knn Test Accuracy when mfcc depth = 14 and k = 4: 0.8991525423728813\n",
      "knn Test Accuracy when mfcc depth = 14 and k = 5: 0.8949152542372881\n",
      "knn Test Accuracy when mfcc depth = 14 and k = 6: 0.9\n",
      "knn Test Accuracy when mfcc depth = 14 and k = 7: 0.8991525423728813\n",
      "knn Test Accuracy when mfcc depth = 14 and k = 8: 0.8974576271186441\n",
      "knn Test Accuracy when mfcc depth = 14 and k = 9: 0.8991525423728813\n",
      "knn Test Accuracy when mfcc depth = 14 and k = 10: 0.8974576271186441\n",
      "knn Test Accuracy when mfcc depth = 15 and k = 1: 0.902542372881356\n",
      "knn Test Accuracy when mfcc depth = 15 and k = 2: 0.8983050847457628\n",
      "knn Test Accuracy when mfcc depth = 15 and k = 3: 0.8983050847457628\n",
      "knn Test Accuracy when mfcc depth = 15 and k = 4: 0.8940677966101694\n",
      "knn Test Accuracy when mfcc depth = 15 and k = 5: 0.8898305084745762\n",
      "knn Test Accuracy when mfcc depth = 15 and k = 6: 0.8991525423728813\n",
      "knn Test Accuracy when mfcc depth = 15 and k = 7: 0.8974576271186441\n",
      "knn Test Accuracy when mfcc depth = 15 and k = 8: 0.8991525423728813\n",
      "knn Test Accuracy when mfcc depth = 15 and k = 9: 0.8966101694915254\n",
      "knn Test Accuracy when mfcc depth = 15 and k = 10: 0.8991525423728813\n"
     ]
    }
   ],
   "source": [
    "#Runs knn over the indicated depth of all 4 mfcc features, Calvin's features, and peak_freq, and the values of k for knn.\n",
    "for depth in range(12,16):\n",
    "    for k in range(1,11):\n",
    "        print(f\"knn Test Accuracy when mfcc depth = {depth} and k = {k}: {knn_test_acc(df,k,depth,depth,depth,depth,True,True,False)}\")        "
   ]
  },
  {
   "cell_type": "code",
   "execution_count": 9,
   "id": "8361d2bc-22d5-49dc-ba47-46f66df6c288",
   "metadata": {},
   "outputs": [
    {
     "name": "stdout",
     "output_type": "stream",
     "text": [
      "SVC poly Test Accuracy when mfcc degree = 2 and C = 9 and depth = 13: 0.6601694915254237\n",
      "SVC poly Test Accuracy when mfcc degree = 2 and C = 9 and depth = 14: 0.6576271186440678\n",
      "SVC poly Test Accuracy when mfcc degree = 2 and C = 10 and depth = 13: 0.6635593220338983\n",
      "SVC poly Test Accuracy when mfcc degree = 2 and C = 10 and depth = 14: 0.6576271186440678\n",
      "SVC poly Test Accuracy when mfcc degree = 3 and C = 9 and depth = 13: 0.6805084745762712\n",
      "SVC poly Test Accuracy when mfcc degree = 3 and C = 9 and depth = 14: 0.676271186440678\n",
      "SVC poly Test Accuracy when mfcc degree = 3 and C = 10 and depth = 13: 0.6754237288135593\n",
      "SVC poly Test Accuracy when mfcc degree = 3 and C = 10 and depth = 14: 0.6779661016949152\n"
     ]
    }
   ],
   "source": [
    "#Runs svc poly over the indicated degree, C, and depth of all 4 mfcc features, including Calvin's features and peak_freq\n",
    "for degree in range(2,4):\n",
    "    for C in range(9,11):\n",
    "        for depth in range(13,15):\n",
    "            print(f\"SVC poly Test Accuracy when mfcc degree = {degree} and C = {C} and depth = {depth}: {SVC_poly_test_acc(df,degree,C,depth,depth,depth,depth,True,True,False)}\") "
   ]
  },
  {
   "cell_type": "code",
   "execution_count": 26,
   "id": "ae1cba2d-461f-4ad6-81d1-ce6fb05086a6",
   "metadata": {},
   "outputs": [
    {
     "name": "stdout",
     "output_type": "stream",
     "text": [
      "SVC rbf Test Accuracy when mfcc depth = 10 and C = 10: 0.6813559322033899\n",
      "SVC rbf Train Accuracy when mfcc depth = 10 and C = 10: 0.8889595253231617\n",
      "SVC rbf Test Accuracy when mfcc depth = 11 and C = 10: 0.6923728813559322\n",
      "SVC rbf Train Accuracy when mfcc depth = 11 and C = 10: 0.8953168044077136\n"
     ]
    }
   ],
   "source": [
    "#Runs svc rbf over the indicated C and depth of all 4 mfcc features, including Calvin's features and peak_freq\n",
    "for C in range(10,11):\n",
    "    for depth in range(10,12):\n",
    "        print(f\"SVC rbf Test Accuracy when mfcc depth = {depth} and C = {C}: {SVC_rbf_test_acc(df,C,depth,depth,0,0,True,True,False)}\")\n",
    "        print(f\"SVC rbf Train Accuracy when mfcc depth = {depth} and C = {C}: {SVC_rbf_train_acc(df,C,depth,depth,0,0,True,True,False)}\") "
   ]
  },
  {
   "cell_type": "code",
   "execution_count": 27,
   "id": "8bfeb69e-6100-424c-901e-bc77dfc26685",
   "metadata": {},
   "outputs": [
    {
     "name": "stdout",
     "output_type": "stream",
     "text": [
      "SVC rbf Test Accuracy when mfcc depth = 10 and C = 10: 0.6423728813559322\n",
      "SVC rbf Train Accuracy when mfcc depth = 10 and C = 10: 0.8554778554778555\n",
      "SVC rbf Test Accuracy when mfcc depth = 11 and C = 10: 0.6610169491525424\n",
      "SVC rbf Train Accuracy when mfcc depth = 11 and C = 10: 0.8679805043441408\n"
     ]
    }
   ],
   "source": [
    "#Runs svc rbf over the indicated C and depth of all 4 mfcc features, including Calvin's features and peak_freq\n",
    "for C in range(10,11):\n",
    "    for depth in range(10,12):\n",
    "        print(f\"SVC rbf Test Accuracy when mfcc depth = {depth} and C = {C}: {SVC_rbf_test_acc(df,C,0,0,depth,depth,True,True,False)}\")\n",
    "        print(f\"SVC rbf Train Accuracy when mfcc depth = {depth} and C = {C}: {SVC_rbf_train_acc(df,C,0,0,depth,depth,True,True,False)}\") "
   ]
  },
  {
   "cell_type": "code",
   "execution_count": 28,
   "id": "17fc5581-dc26-4be7-ad22-718cb4323708",
   "metadata": {},
   "outputs": [
    {
     "name": "stdout",
     "output_type": "stream",
     "text": [
      "SVC rbf Test Accuracy when mfcc depth = 10 and C = 10: 0.6932203389830508\n",
      "SVC rbf Train Accuracy when mfcc depth = 10 and C = 10: 0.9146005509641874\n",
      "SVC rbf Test Accuracy when mfcc depth = 11 and C = 10: 0.6889830508474576\n",
      "SVC rbf Train Accuracy when mfcc depth = 11 and C = 10: 0.9226531044712863\n"
     ]
    }
   ],
   "source": [
    "#Runs svc rbf over the indicated C and depth of all 4 mfcc features, including Calvin's features and peak_freq\n",
    "for C in range(10,11):\n",
    "    for depth in range(10,12):\n",
    "        print(f\"SVC rbf Test Accuracy when mfcc depth = {depth} and C = {C}: {SVC_rbf_test_acc(df,C,depth,depth,depth,depth,True,True,False)}\")\n",
    "        print(f\"SVC rbf Train Accuracy when mfcc depth = {depth} and C = {C}: {SVC_rbf_train_acc(df,C,depth,depth,depth,depth,True,True,False)}\") "
   ]
  },
  {
   "cell_type": "code",
   "execution_count": 11,
   "id": "c2a2f9a8-c0c9-4f07-bd66-def7117d0292",
   "metadata": {},
   "outputs": [
    {
     "name": "stdout",
     "output_type": "stream",
     "text": [
      "SVC rbf Test Accuracy (train fam_or_subfam, predict crit_name) when mfcc depth = 10 and C = 10: 0.9211864406779661\n",
      "SVC rbf Test Accuracy (train fam_or_subfam, predict crit_name) when mfcc depth = 11 and C = 10: 0.9161016949152543\n",
      "SVC rbf Test Accuracy (train fam_or_subfam, predict crit_name) when mfcc depth = 12 and C = 10: 0.9296610169491526\n",
      "SVC rbf Test Accuracy (train fam_or_subfam, predict crit_name) when mfcc depth = 13 and C = 10: 0.9245762711864407\n",
      "SVC rbf Test Accuracy (train fam_or_subfam, predict crit_name) when mfcc depth = 14 and C = 10: 0.9245762711864407\n",
      "SVC rbf Test Accuracy (train fam_or_subfam, predict crit_name) when mfcc depth = 15 and C = 10: 0.9313559322033899\n",
      "SVC rbf Test Accuracy (train fam_or_subfam, predict crit_name) when mfcc depth = 16 and C = 10: 0.9296610169491526\n",
      "SVC rbf Test Accuracy (train fam_or_subfam, predict crit_name) when mfcc depth = 17 and C = 10: 0.926271186440678\n",
      "SVC rbf Test Accuracy (train fam_or_subfam, predict crit_name) when mfcc depth = 18 and C = 10: 0.9271186440677966\n",
      "SVC rbf Test Accuracy (train fam_or_subfam, predict crit_name) when mfcc depth = 19 and C = 10: 0.9279661016949152\n"
     ]
    }
   ],
   "source": [
    "#Runs svc rbf on fam_or_subfam over the indicated C and depth of all 4 mfcc features, including Calvin's features and peak_freq, but then predicting only critter_name\n",
    "for C in range(10,11):\n",
    "    for depth in range(10,20):\n",
    "        print(f\"SVC rbf Test Accuracy (train fam_or_subfam, predict crit_name) when mfcc depth = {depth} and C = {C}: {SVC_rbf_test_acc_on_crit(df,C,depth,depth,depth,depth,True,True,False)}\") "
   ]
  },
  {
   "cell_type": "code",
   "execution_count": null,
   "id": "26f4b111-7d43-4fdb-8bc1-d209c67a8dd1",
   "metadata": {},
   "outputs": [],
   "source": []
  }
 ],
 "metadata": {
  "kernelspec": {
   "display_name": "Python 3 (ipykernel)",
   "language": "python",
   "name": "python3"
  },
  "language_info": {
   "codemirror_mode": {
    "name": "ipython",
    "version": 3
   },
   "file_extension": ".py",
   "mimetype": "text/x-python",
   "name": "python",
   "nbconvert_exporter": "python",
   "pygments_lexer": "ipython3",
   "version": "3.11.9"
  }
 },
 "nbformat": 4,
 "nbformat_minor": 5
}
