{
 "cells": [
  {
   "cell_type": "markdown",
   "id": "fbb56ab7-d9e2-477b-9286-f73ae7badc7d",
   "metadata": {},
   "source": [
    "### In this notebook we connstruct a knn model using a test-train-validatin split which achieves:\n",
    "### 62% accuracy classifying 'fam_or_subfam' (15 possible values) on unseen test data, and\n",
    "### 87% accuracy classifying 'critter_name' (3 possible values)."
   ]
  },
  {
   "cell_type": "code",
   "execution_count": 9,
   "id": "e3df4c2a-2429-4fbe-ba37-b33764db25ad",
   "metadata": {},
   "outputs": [],
   "source": [
    "import librosa, librosa.display\n",
    "import numpy as np\n",
    "import matplotlib.pyplot as plt\n",
    "import os\n",
    "import scipy\n",
    "import math\n",
    "import pandas as pd\n",
    "from sklearn.model_selection import train_test_split\n",
    "from sklearn.metrics import confusion_matrix\n",
    "from sklearn.discriminant_analysis import LinearDiscriminantAnalysis\n",
    "from sklearn.neighbors import KNeighborsClassifier\n",
    "from sklearn.pipeline import Pipeline\n",
    "from sklearn.preprocessing import StandardScaler\n",
    "from sklearn.metrics import accuracy_score\n",
    "from sklearn.svm import SVC\n",
    "from sklearn.decomposition import PCA\n",
    "from sklearn.cross_decomposition import PLSRegression\n",
    "from sklearn.metrics import r2_score\n",
    "from sklearn.decomposition import TruncatedSVD"
   ]
  },
  {
   "cell_type": "code",
   "execution_count": 10,
   "id": "45a5a0aa-a527-4931-8ec7-eb8348f37711",
   "metadata": {},
   "outputs": [
    {
     "name": "stderr",
     "output_type": "stream",
     "text": [
      "/var/folders/5z/7fkzpcz93gz6mqgh9vjgfymm0000gn/T/ipykernel_34325/2048960066.py:2: DtypeWarning: Columns (25,31) have mixed types. Specify dtype option on import or set low_memory=False.\n",
      "  df_all = pd.read_csv('MLNS_05292024.csv')\n"
     ]
    }
   ],
   "source": [
    "#Import the data file containing all features and classifications\n",
    "df_all = pd.read_csv('MLNS_05292024.csv')"
   ]
  },
  {
   "cell_type": "code",
   "execution_count": 11,
   "id": "25453ccd-c647-48f1-819a-a8edd8d67e17",
   "metadata": {},
   "outputs": [],
   "source": [
    "#Initial test-train split\n",
    "df, df_test = train_test_split(df_all, shuffle=True, random_state=17, test_size=.2, stratify=df_all['fam_or_subfam'])"
   ]
  },
  {
   "cell_type": "code",
   "execution_count": 15,
   "id": "4115bf1c-d33f-45e0-a9c2-6f746e2a3a84",
   "metadata": {},
   "outputs": [],
   "source": [
    "#Returns dataframe containing mfcc avg and var, and hs_mfcc avg and var, truncated to indicated depth, as well \n",
    "#as main_freq, range, max_mean, and peak_freq if True.\n",
    "def truncate_mfcc(df, avg_depth=20, var_depth=10, hs_avg_depth=20, hs_var_depth=10, other_Features=True):\n",
    "    df_temp=df['mfcc_'+str(0)+'_avg']\n",
    "    df_temp=df_temp.rename('blah')\n",
    "    for n in range(0,avg_depth):\n",
    "        df_temp=pd.concat([df_temp, df['mfcc_'+str(n)+'_avg']], axis=1)\n",
    "    for n in range(0,var_depth):\n",
    "        df_temp=pd.concat([df_temp, df['mfcc_'+str(n)+'_var']], axis=1)\n",
    "    for n in range(0,hs_avg_depth):\n",
    "        df_temp=pd.concat([df_temp, df['hs_mfcc_'+str(n)+'_avg']], axis=1)\n",
    "    for n in range(0,hs_var_depth):\n",
    "        df_temp=pd.concat([df_temp, df['hs_mfcc_'+str(n)+'_var']], axis=1)\n",
    "    if other_Features:\n",
    "        df_temp=pd.concat([df_temp, df['main_freq']], axis=1)\n",
    "        df_temp=pd.concat([df_temp, df['range']], axis=1)\n",
    "        df_temp=pd.concat([df_temp, df['max_mean']], axis=1)\n",
    "        df_temp=pd.concat([df_temp, df['peak_freq']], axis=1)\n",
    "    return df_temp.drop(columns=['blah'])"
   ]
  },
  {
   "cell_type": "code",
   "execution_count": 16,
   "id": "5e64649d-c4b2-4614-bb3b-324446235b6d",
   "metadata": {},
   "outputs": [],
   "source": [
    "#Computes the accuracy of knn at the given value of k, depths of mfcc features, other_features, and critter vs. fam_or_subfam\n",
    "def knn_acc(df, k=5, avg_depth=40, var_depth=40, hs_avg_depth=40, hs_var_depth=40, other_Features=True, crit=False):\n",
    "    X=truncate_mfcc(df=df, avg_depth=avg_depth,var_depth=var_depth,hs_avg_depth=hs_avg_depth,hs_var_depth=hs_var_depth,other_Features=other_Features)\n",
    "    if crit:\n",
    "        Y = df['critter_name']\n",
    "    else:\n",
    "        Y = df['fam_or_subfam']\n",
    "    X_train, X_val, y_train, y_val = train_test_split(X.copy(), Y, shuffle=True, random_state=17, test_size=.2, stratify=Y)\n",
    "    knn_pipe = Pipeline([('scale', StandardScaler()), ('knn', KNeighborsClassifier(k))])\n",
    "    knn_pipe.fit(X_train, y_train)\n",
    "    pred_train = knn_pipe.predict(X_train)\n",
    "    pred_val = knn_pipe.predict(X_val)\n",
    "    score_train = accuracy_score(y_train,pred_train)\n",
    "    score_val = accuracy_score(y_val,pred_val)\n",
    "    return score_train, score_val"
   ]
  },
  {
   "cell_type": "markdown",
   "id": "63a04db0-59c9-4460-9f4f-fe70fceeaf8b",
   "metadata": {},
   "source": [
    "### The data below shows that using all of our features narrows the gap between training accuracy and validation accuracy."
   ]
  },
  {
   "cell_type": "code",
   "execution_count": 18,
   "id": "c2f11ed8-06f7-4b02-8218-1fb5e5229a55",
   "metadata": {},
   "outputs": [
    {
     "name": "stdout",
     "output_type": "stream",
     "text": [
      "knn (Train, Validation) accuracy when mfcc depth = 1 and k = 1: (1.0, 0.5021186440677966)\n",
      "knn (Train, Validation) accuracy when mfcc depth = 1 and k = 6: (0.6566887417218543, 0.565677966101695)\n",
      "knn (Train, Validation) accuracy when mfcc depth = 1 and k = 11: (0.6164238410596027, 0.5625)\n",
      "knn (Train, Validation) accuracy when mfcc depth = 1 and k = 16: (0.5957615894039735, 0.573093220338983)\n",
      "knn (Train, Validation) accuracy when mfcc depth = 1 and k = 21: (0.584635761589404, 0.5677966101694916)\n",
      "knn (Train, Validation) accuracy when mfcc depth = 1 and k = 26: (0.5732450331125828, 0.5667372881355932)\n",
      "knn (Train, Validation) accuracy when mfcc depth = 6 and k = 1: (1.0, 0.6101694915254238)\n",
      "knn (Train, Validation) accuracy when mfcc depth = 6 and k = 6: (0.7144370860927153, 0.628177966101695)\n",
      "knn (Train, Validation) accuracy when mfcc depth = 6 and k = 11: (0.6749668874172186, 0.621822033898305)\n",
      "knn (Train, Validation) accuracy when mfcc depth = 6 and k = 16: (0.6500662251655629, 0.6197033898305084)\n",
      "knn (Train, Validation) accuracy when mfcc depth = 6 and k = 21: (0.6365562913907284, 0.614406779661017)\n",
      "knn (Train, Validation) accuracy when mfcc depth = 6 and k = 26: (0.6241059602649006, 0.6101694915254238)\n",
      "knn (Train, Validation) accuracy when mfcc depth = 11 and k = 1: (1.0, 0.6334745762711864)\n",
      "knn (Train, Validation) accuracy when mfcc depth = 11 and k = 6: (0.7247682119205298, 0.6504237288135594)\n",
      "knn (Train, Validation) accuracy when mfcc depth = 11 and k = 11: (0.6908609271523178, 0.6461864406779662)\n",
      "knn (Train, Validation) accuracy when mfcc depth = 11 and k = 16: (0.6686092715231788, 0.6504237288135594)\n",
      "knn (Train, Validation) accuracy when mfcc depth = 11 and k = 21: (0.6556291390728477, 0.6302966101694916)\n",
      "knn (Train, Validation) accuracy when mfcc depth = 11 and k = 26: (0.6490066225165563, 0.635593220338983)\n",
      "knn (Train, Validation) accuracy when mfcc depth = 16 and k = 1: (1.0, 0.6461864406779662)\n",
      "knn (Train, Validation) accuracy when mfcc depth = 16 and k = 6: (0.7385430463576159, 0.6483050847457628)\n",
      "knn (Train, Validation) accuracy when mfcc depth = 16 and k = 11: (0.6958940397350993, 0.649364406779661)\n",
      "knn (Train, Validation) accuracy when mfcc depth = 16 and k = 16: (0.6651655629139073, 0.6483050847457628)\n",
      "knn (Train, Validation) accuracy when mfcc depth = 16 and k = 21: (0.6500662251655629, 0.6483050847457628)\n",
      "knn (Train, Validation) accuracy when mfcc depth = 16 and k = 26: (0.6394701986754967, 0.6419491525423728)\n",
      "knn (Train, Validation) accuracy when mfcc depth = 21 and k = 1: (1.0, 0.6419491525423728)\n",
      "knn (Train, Validation) accuracy when mfcc depth = 21 and k = 6: (0.7290066225165563, 0.6377118644067796)\n",
      "knn (Train, Validation) accuracy when mfcc depth = 21 and k = 11: (0.6890066225165563, 0.6345338983050848)\n",
      "knn (Train, Validation) accuracy when mfcc depth = 21 and k = 16: (0.664635761589404, 0.6504237288135594)\n",
      "knn (Train, Validation) accuracy when mfcc depth = 21 and k = 21: (0.6458278145695364, 0.6292372881355932)\n",
      "knn (Train, Validation) accuracy when mfcc depth = 21 and k = 26: (0.6415894039735099, 0.625)\n",
      "knn (Train, Validation) accuracy when mfcc depth = 26 and k = 1: (1.0, 0.6578389830508474)\n",
      "knn (Train, Validation) accuracy when mfcc depth = 26 and k = 6: (0.7321854304635762, 0.6451271186440678)\n",
      "knn (Train, Validation) accuracy when mfcc depth = 26 and k = 11: (0.6866225165562914, 0.6440677966101694)\n",
      "knn (Train, Validation) accuracy when mfcc depth = 26 and k = 16: (0.6651655629139073, 0.6377118644067796)\n",
      "knn (Train, Validation) accuracy when mfcc depth = 26 and k = 21: (0.6508609271523179, 0.638771186440678)\n",
      "knn (Train, Validation) accuracy when mfcc depth = 26 and k = 26: (0.6344370860927152, 0.6302966101694916)\n",
      "knn (Train, Validation) accuracy when mfcc depth = 31 and k = 1: (1.0, 0.6514830508474576)\n",
      "knn (Train, Validation) accuracy when mfcc depth = 31 and k = 6: (0.7298013245033113, 0.6514830508474576)\n",
      "knn (Train, Validation) accuracy when mfcc depth = 31 and k = 11: (0.6805298013245034, 0.6302966101694916)\n",
      "knn (Train, Validation) accuracy when mfcc depth = 31 and k = 16: (0.6598675496688742, 0.635593220338983)\n",
      "knn (Train, Validation) accuracy when mfcc depth = 31 and k = 21: (0.6487417218543047, 0.6292372881355932)\n",
      "knn (Train, Validation) accuracy when mfcc depth = 31 and k = 26: (0.6352317880794702, 0.6260593220338984)\n",
      "knn (Train, Validation) accuracy when mfcc depth = 36 and k = 1: (1.0, 0.6334745762711864)\n",
      "knn (Train, Validation) accuracy when mfcc depth = 36 and k = 6: (0.7162913907284768, 0.628177966101695)\n",
      "knn (Train, Validation) accuracy when mfcc depth = 36 and k = 11: (0.6784105960264901, 0.6271186440677966)\n",
      "knn (Train, Validation) accuracy when mfcc depth = 36 and k = 16: (0.6569536423841059, 0.628177966101695)\n",
      "knn (Train, Validation) accuracy when mfcc depth = 36 and k = 21: (0.6439735099337748, 0.6228813559322034)\n",
      "knn (Train, Validation) accuracy when mfcc depth = 36 and k = 26: (0.6317880794701987, 0.6175847457627118)\n"
     ]
    }
   ],
   "source": [
    "#Runs knn over the indicated depth of all 4 mfcc features, including the 4 other features, and the values of k for knn.\n",
    "for depth in range(1,40,5):\n",
    "    for k in range(1,30,5):\n",
    "        print(f\"knn (Train, Validation) accuracy when mfcc depth = {depth} and k = {k}: {knn_acc(df,k,depth,depth,depth,depth,True,False)}\") "
   ]
  },
  {
   "cell_type": "markdown",
   "id": "33cc2574-9ac9-4b7c-8b21-651f920333da",
   "metadata": {},
   "source": [
    "### We now use all of our features and try to find value of k which maximizes the validation accuracy."
   ]
  },
  {
   "cell_type": "code",
   "execution_count": 19,
   "id": "7e7d2ecb-d654-4c85-a7e7-c1df65bede26",
   "metadata": {},
   "outputs": [
    {
     "name": "stdout",
     "output_type": "stream",
     "text": [
      "knn Validation accuracy when k = 1: (1.0, 0.6292372881355932)\n",
      "knn Validation accuracy when k = 2: (0.8013245033112583, 0.611228813559322)\n",
      "knn Validation accuracy when k = 3: (0.7737748344370861, 0.6197033898305084)\n",
      "knn Validation accuracy when k = 4: (0.7557615894039735, 0.621822033898305)\n",
      "knn Validation accuracy when k = 5: (0.7385430463576159, 0.635593220338983)\n",
      "knn Validation accuracy when k = 6: (0.7160264900662252, 0.6154661016949152)\n",
      "knn Validation accuracy when k = 7: (0.7086092715231788, 0.6313559322033898)\n",
      "knn Validation accuracy when k = 8: (0.697748344370861, 0.621822033898305)\n",
      "knn Validation accuracy when k = 9: (0.6887417218543046, 0.625)\n",
      "knn Validation accuracy when k = 10: (0.6786754966887417, 0.6324152542372882)\n",
      "knn Validation accuracy when k = 11: (0.6778807947019867, 0.6292372881355932)\n",
      "knn Validation accuracy when k = 12: (0.6744370860927152, 0.6260593220338984)\n",
      "knn Validation accuracy when k = 13: (0.6688741721854304, 0.6292372881355932)\n",
      "knn Validation accuracy when k = 14: (0.6619867549668874, 0.6197033898305084)\n",
      "knn Validation accuracy when k = 15: (0.6633112582781457, 0.6197033898305084)\n",
      "knn Validation accuracy when k = 16: (0.6593377483443709, 0.6175847457627118)\n",
      "knn Validation accuracy when k = 17: (0.6545695364238411, 0.6197033898305084)\n",
      "knn Validation accuracy when k = 18: (0.6500662251655629, 0.6175847457627118)\n",
      "knn Validation accuracy when k = 19: (0.6487417218543047, 0.6154661016949152)\n",
      "knn Validation accuracy when k = 20: (0.6439735099337748, 0.6165254237288136)\n",
      "knn Validation accuracy when k = 21: (0.6431788079470199, 0.6165254237288136)\n",
      "knn Validation accuracy when k = 22: (0.6405298013245033, 0.611228813559322)\n",
      "knn Validation accuracy when k = 23: (0.6378807947019868, 0.6122881355932204)\n",
      "knn Validation accuracy when k = 24: (0.6357615894039735, 0.611228813559322)\n",
      "knn Validation accuracy when k = 25: (0.6357615894039735, 0.614406779661017)\n",
      "knn Validation accuracy when k = 26: (0.6328476821192053, 0.6059322033898306)\n",
      "knn Validation accuracy when k = 27: (0.6301986754966887, 0.6038135593220338)\n",
      "knn Validation accuracy when k = 28: (0.6280794701986755, 0.6091101694915254)\n",
      "knn Validation accuracy when k = 29: (0.6267549668874172, 0.6101694915254238)\n",
      "knn Validation accuracy when k = 30: (0.6243708609271523, 0.6059322033898306)\n",
      "knn Validation accuracy when k = 31: (0.6214569536423841, 0.6048728813559322)\n",
      "knn Validation accuracy when k = 32: (0.6198675496688741, 0.6091101694915254)\n",
      "knn Validation accuracy when k = 33: (0.6156291390728477, 0.6080508474576272)\n",
      "knn Validation accuracy when k = 34: (0.6148344370860928, 0.6091101694915254)\n",
      "knn Validation accuracy when k = 35: (0.6153642384105961, 0.6069915254237288)\n",
      "knn Validation accuracy when k = 36: (0.6156291390728477, 0.6080508474576272)\n",
      "knn Validation accuracy when k = 37: (0.6140397350993377, 0.6059322033898306)\n",
      "knn Validation accuracy when k = 38: (0.6105960264900663, 0.6059322033898306)\n",
      "knn Validation accuracy when k = 39: (0.609271523178808, 0.6038135593220338)\n",
      "knn Validation accuracy when k = 40: (0.6079470198675496, 0.6016949152542372)\n",
      "knn Validation accuracy when k = 41: (0.6045033112582782, 0.5963983050847458)\n",
      "knn Validation accuracy when k = 42: (0.6063576158940397, 0.6016949152542372)\n",
      "knn Validation accuracy when k = 43: (0.600794701986755, 0.597457627118644)\n",
      "knn Validation accuracy when k = 44: (0.59841059602649, 0.5942796610169492)\n",
      "knn Validation accuracy when k = 45: (0.5994701986754967, 0.590042372881356)\n",
      "knn Validation accuracy when k = 46: (0.5986754966887418, 0.5953389830508474)\n",
      "knn Validation accuracy when k = 47: (0.5960264900662252, 0.5921610169491526)\n",
      "knn Validation accuracy when k = 48: (0.5960264900662252, 0.5921610169491526)\n",
      "knn Validation accuracy when k = 49: (0.5968211920529801, 0.5963983050847458)\n"
     ]
    }
   ],
   "source": [
    "for k in range(1,50):\n",
    "    print(f\"knn (Train, Validation) accuracy when k = {k}: {knn_acc(df,k,40,40,40,40,True,False)}\") "
   ]
  },
  {
   "cell_type": "markdown",
   "id": "9e60e929-0c17-4593-bd34-465e5ed2a9d3",
   "metadata": {},
   "source": [
    "### It appears that k=5 gives the best validation accuracy. We now test our final knn model using k=5 and all features."
   ]
  },
  {
   "cell_type": "code",
   "execution_count": 24,
   "id": "9b99d0e6-a4a1-4bdb-b8ee-b76dc8b05d4e",
   "metadata": {},
   "outputs": [
    {
     "data": {
      "text/plain": [
       "0.6203389830508474"
      ]
     },
     "execution_count": 24,
     "metadata": {},
     "output_type": "execute_result"
    }
   ],
   "source": [
    "#First train the model exactly using the same training data as before, and k=5.\n",
    "knn_pipe = Pipeline([('scale', StandardScaler()), ('knn', KNeighborsClassifier(5))])\n",
    "X=truncate_mfcc(df=df, avg_depth=40,var_depth=40,hs_avg_depth=40,hs_var_depth=40,other_Features=True)\n",
    "Y = df['fam_or_subfam']\n",
    "X_train, X_val, y_train, y_val = train_test_split(X.copy(), Y, shuffle=True, random_state=17, test_size=.2, stratify=Y)\n",
    "knn_pipe.fit(X_train, y_train)\n",
    "\n",
    "#Test the model on unseen test data.\n",
    "X_test=truncate_mfcc(df=df_test, avg_depth=40,var_depth=40,hs_avg_depth=40,hs_var_depth=40,other_Features=True)\n",
    "y_test=df_test['fam_or_subfam']\n",
    "pred = knn_pipe.predict(X_test)\n",
    "accuracy_score(pred,y_test)"
   ]
  },
  {
   "cell_type": "markdown",
   "id": "bcb05af2-75ee-4d2a-bed9-0cea5610c06d",
   "metadata": {},
   "source": [
    "### Our knn model with k=5 achieves 62% accuracy identifying 'fam_or_subfam' on unseen test data. Finally, we test our model on identifying critter_name: 'cricket', 'kaydid', or 'cicada'."
   ]
  },
  {
   "cell_type": "code",
   "execution_count": 25,
   "id": "5ba4898b-d85a-4de5-b496-5fddce06a30f",
   "metadata": {},
   "outputs": [],
   "source": [
    "#Dictionary from 'fam_or_subfam' to the coarser classification 'critter_name'\n",
    "fam_dict = {'Gryllinae':'cricket', 'Conocephalinae':'kaydid', 'Oecanthinae':'cricket',\n",
    "            'Phaneropterinae': 'kaydid', 'Trigonidiinae':'cricket', 'Nemobiinae':'cricket', 'Hapithinae':'cricket', \n",
    "            'Mogoplistinae':'cricket', 'Tettigoniinae':'kaydid', 'Pseudophyllinae':'kaydid', 'Cicadidae':'cicada',\n",
    "            'Gryllotalpidae':'cricket', 'Eneopterinae':'cricket', 'Phalangopsidae':'cricket', 'Listroscelidinae':'cricket'}\n",
    "\n",
    "#Converts a pd Series with fam_or_subfam entries into critter names\n",
    "def fam_to_crit(series):\n",
    "    X=series.copy()\n",
    "    for i in range(0, X.shape[0]):\n",
    "        X.at[i]=fam_to_crit_string(X[i])\n",
    "    return X\n",
    "\n",
    "def fam_to_crit_string(fam_name):\n",
    "    return fam_dict[fam_name]"
   ]
  },
  {
   "cell_type": "code",
   "execution_count": 26,
   "id": "0f13b14f-2060-49e8-8724-fcb134265731",
   "metadata": {},
   "outputs": [
    {
     "data": {
      "text/plain": [
       "0.8694915254237288"
      ]
     },
     "execution_count": 26,
     "metadata": {},
     "output_type": "execute_result"
    }
   ],
   "source": [
    "accuracy_score(fam_to_crit(pd.Series(list(y_test))),fam_to_crit(pd.Series(pred)))"
   ]
  },
  {
   "cell_type": "markdown",
   "id": "5cb8d081-0332-44f6-a34f-d58a2b6ab794",
   "metadata": {},
   "source": [
    "### Our knn model with k=5 achieves 87% accuracy identifying (cricket, kaydid, or cicada) on unseen test data."
   ]
  },
  {
   "cell_type": "code",
   "execution_count": null,
   "id": "655b2360-ff7d-41d8-85e5-ecbf48b30567",
   "metadata": {},
   "outputs": [],
   "source": []
  }
 ],
 "metadata": {
  "kernelspec": {
   "display_name": "Python 3 (ipykernel)",
   "language": "python",
   "name": "python3"
  },
  "language_info": {
   "codemirror_mode": {
    "name": "ipython",
    "version": 3
   },
   "file_extension": ".py",
   "mimetype": "text/x-python",
   "name": "python",
   "nbconvert_exporter": "python",
   "pygments_lexer": "ipython3",
   "version": "3.11.9"
  }
 },
 "nbformat": 4,
 "nbformat_minor": 5
}
