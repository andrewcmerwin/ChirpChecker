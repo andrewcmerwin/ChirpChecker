{
 "cells": [
  {
   "cell_type": "code",
   "execution_count": 60,
   "id": "98636711-1781-4893-aeb9-4687776cf29d",
   "metadata": {},
   "outputs": [],
   "source": [
    "import librosa, librosa.display\n",
    "import numpy as np\n",
    "import matplotlib.pyplot as plt\n",
    "import os\n",
    "import scipy\n",
    "import math\n",
    "import pandas as pd"
   ]
  },
  {
   "cell_type": "code",
   "execution_count": 61,
   "id": "a9f1ec8b-413e-40fa-9389-90e56464781e",
   "metadata": {},
   "outputs": [],
   "source": [
    "no_voice_list = pd.read_csv('no_voice_files.csv', header=None)\n",
    "filename_list = [name.split(\"\\\\\")[-1] for name in no_voice_list[0]]"
   ]
  },
  {
   "cell_type": "code",
   "execution_count": 62,
   "id": "79b09b32-1121-4c7e-b5d1-a73cfd884016",
   "metadata": {},
   "outputs": [],
   "source": [
    "df = pd.read_csv('MLNS_Insects_Fams_05212024.csv')"
   ]
  },
  {
   "cell_type": "code",
   "execution_count": 64,
   "id": "e6b5066b-1715-4f26-8e96-e549bfa7ee32",
   "metadata": {},
   "outputs": [],
   "source": [
    "#This creates the new CSV with mfcc coefficients. Ignores files with length < .5 seconds. No need to run since the csv is now in the git!\n",
    "ct = 0\n",
    "n= 40\n",
    "for name in filename_list:\n",
    "    #change this file path to the chirp_bucket_2 folder\n",
    "    file_path = '../../../chirp/'+name\n",
    "    song, sr = librosa.load(file_path)\n",
    "    if song.shape[0] > sr/2:\n",
    "        lib = librosa.feature.mfcc(y=song, sr=sr, n_mfcc=n)\n",
    "        for i in range(0,n):\n",
    "            df.at[df.loc[df['cat_num']==int(name[:-4])].index[0], 'mfcc_'+str(i)+'_avg'] = lib[i].mean()\n",
    "            df.at[df.loc[df['cat_num']==int(name[:-4])].index[0], 'mfcc_'+str(i)+'_var'] = lib[i].var()\n",
    "           # df['mfcc_'+str(i)+'_avg']=lib[i].mean()\n",
    "           # df['mfcc_'+str(i)+'_var']=lib[i].var()\n",
    "        ct+=1\n",
    "        if ct % 100 == 0:\n",
    "            df.to_csv(\"MLNS_with_mfcc_stats_05232024.csv\")"
   ]
  },
  {
   "cell_type": "code",
   "execution_count": 2,
   "id": "6337ae46-ed8a-488a-ac28-e756da6f309e",
   "metadata": {},
   "outputs": [
    {
     "name": "stderr",
     "output_type": "stream",
     "text": [
      "/var/folders/5z/7fkzpcz93gz6mqgh9vjgfymm0000gn/T/ipykernel_54989/1583749826.py:1: DtypeWarning: Columns (26,32,45) have mixed types. Specify dtype option on import or set low_memory=False.\n",
      "  df = pd.read_csv('MLNS_with_mfcc_stats_05232024.csv')\n"
     ]
    }
   ],
   "source": [
    "#Load the csv with mfcc coefficients.\n",
    "df = pd.read_csv('MLNS_with_mfcc_stats_05232024.csv')"
   ]
  },
  {
   "cell_type": "code",
   "execution_count": 65,
   "id": "8dafb9b1-e500-4fb1-9293-6d317c6edd32",
   "metadata": {},
   "outputs": [],
   "source": [
    "#This creates a new dataframe only containing only etries with voice.\n",
    "df2=df[0:0]\n",
    "for name in filename_list:\n",
    "    df2=pd.concat([df2, df.loc[df['cat_num']==int(name[:-4])]], ignore_index=True)"
   ]
  },
  {
   "cell_type": "code",
   "execution_count": 66,
   "id": "fa6cf854-1471-411e-a4a9-4b78c0cec277",
   "metadata": {},
   "outputs": [
    {
     "data": {
      "text/plain": [
       "scientific_name\n",
       "Gryllus                        722\n",
       "Anaxipha                       308\n",
       "Gryllus rubens                 228\n",
       "Oecanthus quadripunctatus      220\n",
       "Scudderia texensis             125\n",
       "                              ... \n",
       "Phoebolampta excellens           1\n",
       "Orchelimum campestre             1\n",
       "Orchelimum carinatum             1\n",
       "Bucrates                         1\n",
       "Neoconocephalus carbonarius      1\n",
       "Name: count, Length: 318, dtype: int64"
      ]
     },
     "execution_count": 66,
     "metadata": {},
     "output_type": "execute_result"
    }
   ],
   "source": [
    "df2['scientific_name'].value_counts()"
   ]
  },
  {
   "cell_type": "code",
   "execution_count": 101,
   "id": "35292f73-2d41-45af-8adf-b7df167f48ba",
   "metadata": {},
   "outputs": [
    {
     "data": {
      "text/plain": [
       "(array([ 1.,  3., 14., 28., 76., 74., 64., 18., 19.,  5.]),\n",
       " array([-54.83401489, -40.38970566, -25.94539261, -11.50108242,\n",
       "          2.94322824,  17.38753891,  31.83185005,  46.27616119,\n",
       "         60.72047043,  75.16477966,  89.60909271]),\n",
       " <BarContainer object of 10 artists>)"
      ]
     },
     "execution_count": 101,
     "metadata": {},
     "output_type": "execute_result"
    },
    {
     "data": {
      "image/png": "[encoded data removed]",
      "text/plain": [
       "<Figure size 640x480 with 1 Axes>"
      ]
     },
     "metadata": {},
     "output_type": "display_data"
    }
   ],
   "source": [
    "plt.hist(df2.loc[df2['scientific_name'] == 'Anaxipha']['mfcc_3_avg'])"
   ]
  },
  {
   "cell_type": "code",
   "execution_count": 98,
   "id": "0b7fc930-99cc-49e7-b72d-d756c23eacc3",
   "metadata": {},
   "outputs": [
    {
     "data": {
      "text/html": [
       "<div>\n",
       "<style scoped>\n",
       "    .dataframe tbody tr th:only-of-type {\n",
       "        vertical-align: middle;\n",
       "    }\n",
       "\n",
       "    .dataframe tbody tr th {\n",
       "        vertical-align: top;\n",
       "    }\n",
       "\n",
       "    .dataframe thead th {\n",
       "        text-align: right;\n",
       "    }\n",
       "</style>\n",
       "<table border=\"1\" class=\"dataframe\">\n",
       "  <thead>\n",
       "    <tr style=\"text-align: right;\">\n",
       "      <th></th>\n",
       "      <th>cat_num</th>\n",
       "      <th>format</th>\n",
       "      <th>common_name</th>\n",
       "      <th>fam_or_subfam</th>\n",
       "      <th>genus</th>\n",
       "      <th>scientific_name</th>\n",
       "      <th>background_species</th>\n",
       "      <th>recordist</th>\n",
       "      <th>date</th>\n",
       "      <th>year</th>\n",
       "      <th>...</th>\n",
       "      <th>mfcc_35_avg</th>\n",
       "      <th>mfcc_35_var</th>\n",
       "      <th>mfcc_36_avg</th>\n",
       "      <th>mfcc_36_var</th>\n",
       "      <th>mfcc_37_avg</th>\n",
       "      <th>mfcc_37_var</th>\n",
       "      <th>mfcc_38_avg</th>\n",
       "      <th>mfcc_38_var</th>\n",
       "      <th>mfcc_39_avg</th>\n",
       "      <th>mfcc_39_var</th>\n",
       "    </tr>\n",
       "  </thead>\n",
       "  <tbody>\n",
       "    <tr>\n",
       "      <th>4565</th>\n",
       "      <td>137243</td>\n",
       "      <td>Audio</td>\n",
       "      <td>Field Crickets</td>\n",
       "      <td>Gryllinae</td>\n",
       "      <td>Gryllus</td>\n",
       "      <td>Gryllus</td>\n",
       "      <td>NaN</td>\n",
       "      <td>Thomas J. Walker</td>\n",
       "      <td>5/23/1993</td>\n",
       "      <td>1993.0</td>\n",
       "      <td>...</td>\n",
       "      <td>-0.852379</td>\n",
       "      <td>10.707716</td>\n",
       "      <td>-3.939752</td>\n",
       "      <td>9.283057</td>\n",
       "      <td>0.564670</td>\n",
       "      <td>9.128748</td>\n",
       "      <td>-5.288984</td>\n",
       "      <td>8.048080</td>\n",
       "      <td>4.059854</td>\n",
       "      <td>7.895538</td>\n",
       "    </tr>\n",
       "    <tr>\n",
       "      <th>4566</th>\n",
       "      <td>137244</td>\n",
       "      <td>Audio</td>\n",
       "      <td>Field Crickets</td>\n",
       "      <td>Gryllinae</td>\n",
       "      <td>Gryllus</td>\n",
       "      <td>Gryllus</td>\n",
       "      <td>NaN</td>\n",
       "      <td>Thomas J. Walker</td>\n",
       "      <td>5/23/1993</td>\n",
       "      <td>1993.0</td>\n",
       "      <td>...</td>\n",
       "      <td>-1.862309</td>\n",
       "      <td>8.370490</td>\n",
       "      <td>-2.463058</td>\n",
       "      <td>8.441731</td>\n",
       "      <td>0.124762</td>\n",
       "      <td>9.127072</td>\n",
       "      <td>-0.035017</td>\n",
       "      <td>9.966743</td>\n",
       "      <td>-1.028114</td>\n",
       "      <td>9.914104</td>\n",
       "    </tr>\n",
       "  </tbody>\n",
       "</table>\n",
       "<p>2 rows × 133 columns</p>\n",
       "</div>"
      ],
      "text/plain": [
       "      cat_num format     common_name fam_or_subfam    genus scientific_name  \\\n",
       "4565   137243  Audio  Field Crickets     Gryllinae  Gryllus         Gryllus   \n",
       "4566   137244  Audio  Field Crickets     Gryllinae  Gryllus         Gryllus   \n",
       "\n",
       "     background_species         recordist       date    year  ...  \\\n",
       "4565                NaN  Thomas J. Walker  5/23/1993  1993.0  ...   \n",
       "4566                NaN  Thomas J. Walker  5/23/1993  1993.0  ...   \n",
       "\n",
       "      mfcc_35_avg  mfcc_35_var  mfcc_36_avg mfcc_36_var mfcc_37_avg  \\\n",
       "4565    -0.852379    10.707716    -3.939752    9.283057    0.564670   \n",
       "4566    -1.862309     8.370490    -2.463058    8.441731    0.124762   \n",
       "\n",
       "     mfcc_37_var mfcc_38_avg mfcc_38_var  mfcc_39_avg  mfcc_39_var  \n",
       "4565    9.128748   -5.288984    8.048080     4.059854     7.895538  \n",
       "4566    9.127072   -0.035017    9.966743    -1.028114     9.914104  \n",
       "\n",
       "[2 rows x 133 columns]"
      ]
     },
     "execution_count": 98,
     "metadata": {},
     "output_type": "execute_result"
    }
   ],
   "source": [
    "df2.loc[(df2['scientific_name'] == 'Gryllus') & (df2['mfcc_2_avg'] < -30) ]"
   ]
  },
  {
   "cell_type": "code",
   "execution_count": 102,
   "id": "031e5355-2cc8-41b6-98b7-4a9d005611cc",
   "metadata": {},
   "outputs": [
    {
     "data": {
      "text/plain": [
       "(array([  9.,   6.,  25.,  89., 180., 201., 143.,  52.,  10.,   4.]),\n",
       " array([  1.5073874 ,  11.72466469,  21.94194221,  32.15921783,\n",
       "         42.37649536,  52.59377289,  62.81105042,  73.02832794,\n",
       "         83.24560547,  93.462883  , 103.68016052]),\n",
       " <BarContainer object of 10 artists>)"
      ]
     },
     "execution_count": 102,
     "metadata": {},
     "output_type": "execute_result"
    },
    {
     "data": {
      "image/png": "[encoded data removed]",
      "text/plain": [
       "<Figure size 640x480 with 1 Axes>"
      ]
     },
     "metadata": {},
     "output_type": "display_data"
    }
   ],
   "source": [
    "plt.hist(df2.loc[df2['scientific_name'] == 'Gryllus']['mfcc_3_avg'])"
   ]
  },
  {
   "cell_type": "code",
   "execution_count": 103,
   "id": "912cd088-0d89-4ef6-b90d-1b31d1a49ca3",
   "metadata": {},
   "outputs": [
    {
     "data": {
      "text/plain": [
       "(array([ 1.,  5., 21., 36., 48., 47., 33., 21.,  7.,  4.]),\n",
       " array([ 4.65421391, 13.82860184, 23.00299072, 32.17737961, 41.35176468,\n",
       "        50.52615356, 59.70054245, 68.87493134, 78.04931641, 87.22370911,\n",
       "        96.39809418]),\n",
       " <BarContainer object of 10 artists>)"
      ]
     },
     "execution_count": 103,
     "metadata": {},
     "output_type": "execute_result"
    },
    {
     "data": {
      "image/png": "[encoded data removed]",
      "text/plain": [
       "<Figure size 640x480 with 1 Axes>"
      ]
     },
     "metadata": {},
     "output_type": "display_data"
    }
   ],
   "source": [
    "plt.hist(df2.loc[df2['scientific_name'] == 'Gryllus rubens']['mfcc_3_avg'])"
   ]
  },
  {
   "cell_type": "code",
   "execution_count": 104,
   "id": "645c03ee-b67f-496e-b0d9-714122c57862",
   "metadata": {},
   "outputs": [
    {
     "data": {
      "text/plain": [
       "(array([ 4., 21., 17., 15., 28., 42., 48., 35.,  7.,  3.]),\n",
       " array([  2.00001287,  14.86105633,  27.7220993 ,  40.58314133,\n",
       "         53.44418335,  66.30522919,  79.1662674 ,  92.02731323,\n",
       "        104.88835907, 117.74939728, 130.61044312]),\n",
       " <BarContainer object of 10 artists>)"
      ]
     },
     "execution_count": 104,
     "metadata": {},
     "output_type": "execute_result"
    },
    {
     "data": {
      "image/png": "[encoded data removed]",
      "text/plain": [
       "<Figure size 640x480 with 1 Axes>"
      ]
     },
     "metadata": {},
     "output_type": "display_data"
    }
   ],
   "source": [
    "plt.hist(df2.loc[df2['scientific_name'] == 'Oecanthus quadripunctatus']['mfcc_3_avg'])"
   ]
  },
  {
   "cell_type": "code",
   "execution_count": null,
   "id": "d2ceb827-f52b-4590-9f59-68736167b85d",
   "metadata": {},
   "outputs": [],
   "source": []
  }
 ],
 "metadata": {
  "kernelspec": {
   "display_name": "Python 3 (ipykernel)",
   "language": "python",
   "name": "python3"
  },
  "language_info": {
   "codemirror_mode": {
    "name": "ipython",
    "version": 3
   },
   "file_extension": ".py",
   "mimetype": "text/x-python",
   "name": "python",
   "nbconvert_exporter": "python",
   "pygments_lexer": "ipython3",
   "version": "3.11.9"
  }
 },
 "nbformat": 4,
 "nbformat_minor": 5
}
