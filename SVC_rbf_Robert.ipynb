{
 "cells": [
  {
   "cell_type": "markdown",
   "id": "fbb56ab7-d9e2-477b-9286-f73ae7badc7d",
   "metadata": {},
   "source": [
    "### In this notebook we connstruct an svc_rbf model using a test-train-validatin split which achieves:\n",
    "### 67% accuracy (vs. baseline 24%) classifying 'fam_or_subfam' (15 possible values) on unseen test data, and\n",
    "### 91% accuracy (vs. baseline 67%) classifying 'critter_name' (3 possible values) when trained on 'fam_or_subfam'.\n",
    "### When trained on 'critter_name' alone, our model also achieves 91% accuracy. Neither model ever guesses 'cicada'.\n",
    "### Either model would serve as a reasonable classifier for 'cricket' vs 'kaydid', achieving about 91% accuracy,"
   ]
  },
  {
   "cell_type": "code",
   "execution_count": 69,
   "id": "e3df4c2a-2429-4fbe-ba37-b33764db25ad",
   "metadata": {},
   "outputs": [],
   "source": [
    "import librosa, librosa.display\n",
    "import numpy as np\n",
    "import matplotlib.pyplot as plt\n",
    "import os\n",
    "import scipy\n",
    "import math\n",
    "import pandas as pd\n",
    "from sklearn.model_selection import train_test_split\n",
    "from sklearn.metrics import confusion_matrix\n",
    "from sklearn.discriminant_analysis import LinearDiscriminantAnalysis\n",
    "from sklearn.neighbors import KNeighborsClassifier\n",
    "from sklearn.pipeline import Pipeline\n",
    "from sklearn.preprocessing import StandardScaler\n",
    "from sklearn.metrics import accuracy_score\n",
    "from sklearn.svm import SVC\n",
    "from sklearn.metrics import r2_score\n",
    "from sklearn.decomposition import TruncatedSVD\n",
    "from sklearn.metrics import confusion_matrix"
   ]
  },
  {
   "cell_type": "code",
   "execution_count": 70,
   "id": "45a5a0aa-a527-4931-8ec7-eb8348f37711",
   "metadata": {},
   "outputs": [],
   "source": [
    "#Import the training and testing data files\n",
    "df = pd.read_csv('MLNS_Final_Train.csv')\n",
    "df_test = pd.read_csv('MLNS_Final_Test.csv')"
   ]
  },
  {
   "cell_type": "code",
   "execution_count": 71,
   "id": "4115bf1c-d33f-45e0-a9c2-6f746e2a3a84",
   "metadata": {},
   "outputs": [],
   "source": [
    "#Returns dataframe containing mfcc avg and var, and hs_mfcc avg and var, truncated to indicated depth, as well \n",
    "#as main_freq, range, max_mean, and peak_freq if True.\n",
    "def truncate_mfcc(df, avg_depth=20, var_depth=10, hs_avg_depth=20, hs_var_depth=10, other_Features=True):\n",
    "    df_temp=df['mfcc_'+str(0)+'_avg']\n",
    "    df_temp=df_temp.rename('blah')\n",
    "    for n in range(0,avg_depth):\n",
    "        df_temp=pd.concat([df_temp, df['mfcc_'+str(n)+'_avg']], axis=1)\n",
    "    for n in range(0,var_depth):\n",
    "        df_temp=pd.concat([df_temp, df['mfcc_'+str(n)+'_var']], axis=1)\n",
    "    for n in range(0,hs_avg_depth):\n",
    "        df_temp=pd.concat([df_temp, df['hs_mfcc_'+str(n)+'_avg']], axis=1)\n",
    "    for n in range(0,hs_var_depth):\n",
    "        df_temp=pd.concat([df_temp, df['hs_mfcc_'+str(n)+'_var']], axis=1)\n",
    "    if other_Features:\n",
    "        df_temp=pd.concat([df_temp, df['main_freq']], axis=1)\n",
    "        df_temp=pd.concat([df_temp, df['range']], axis=1)\n",
    "        df_temp=pd.concat([df_temp, df['max_mean']], axis=1)\n",
    "        df_temp=pd.concat([df_temp, df['peak_freq']], axis=1)\n",
    "    return df_temp.drop(columns=['blah'])"
   ]
  },
  {
   "cell_type": "code",
   "execution_count": 72,
   "id": "5e64649d-c4b2-4614-bb3b-324446235b6d",
   "metadata": {},
   "outputs": [],
   "source": [
    "#Computes the accuracy of svc_rbf at the given value of the hyperparameter C, depths of mfcc features, other_features, and critter vs. fam_or_subfam\n",
    "def svc_rbf_acc(df, C=5, avg_depth=40, var_depth=40, hs_avg_depth=40, hs_var_depth=40, other_Features=True, crit=False):\n",
    "    X=truncate_mfcc(df=df, avg_depth=avg_depth,var_depth=var_depth,hs_avg_depth=hs_avg_depth,hs_var_depth=hs_var_depth,other_Features=other_Features)\n",
    "    if crit:\n",
    "        Y = df['critter_name']\n",
    "    else:\n",
    "        Y = df['fam_or_subfam']\n",
    "    X_train, X_val, y_train, y_val = train_test_split(X.copy(), Y, shuffle=True, random_state=17, test_size=.2, stratify=Y)\n",
    "    svc_pipe = Pipeline([('scale', StandardScaler()), ('svc_rbf',SVC(kernel='rbf', C=C))])\n",
    "    svc_pipe.fit(X_train, y_train)\n",
    "    pred_train = svc_pipe.predict(X_train)\n",
    "    pred_val = svc_pipe.predict(X_val)\n",
    "    score_train = accuracy_score(y_train,pred_train)\n",
    "    score_val = accuracy_score(y_val,pred_val)\n",
    "    return score_train, score_val"
   ]
  },
  {
   "cell_type": "markdown",
   "id": "63a04db0-59c9-4460-9f4f-fe70fceeaf8b",
   "metadata": {},
   "source": [
    "### The data below compares accuracy on training and validation sets."
   ]
  },
  {
   "cell_type": "code",
   "execution_count": 73,
   "id": "9a352c9d-1096-4bc7-8553-96375b3f7725",
   "metadata": {},
   "outputs": [
    {
     "name": "stdout",
     "output_type": "stream",
     "text": [
      "svc_rbf (Train, Validation) accuracy when mfcc depth = 1 and C = 0.1: 0.5234437086092715, 0.5391949152542372\n",
      "svc_rbf (Train, Validation) accuracy when mfcc depth = 1 and C = 1: 0.5827814569536424, 0.5699152542372882\n",
      "svc_rbf (Train, Validation) accuracy when mfcc depth = 1 and C = 5: 0.6373509933774835, 0.576271186440678\n",
      "svc_rbf (Train, Validation) accuracy when mfcc depth = 1 and C = 10: 0.663046357615894, 0.5783898305084746\n",
      "svc_rbf (Train, Validation) accuracy when mfcc depth = 1 and C = 20: 0.6858278145695365, 0.5911016949152542\n",
      "svc_rbf (Train, Validation) accuracy when mfcc depth = 5 and C = 0.1: 0.5803973509933775, 0.597457627118644\n",
      "svc_rbf (Train, Validation) accuracy when mfcc depth = 5 and C = 1: 0.702251655629139, 0.6578389830508474\n",
      "svc_rbf (Train, Validation) accuracy when mfcc depth = 5 and C = 5: 0.7984105960264901, 0.6694915254237288\n",
      "svc_rbf (Train, Validation) accuracy when mfcc depth = 5 and C = 10: 0.8392052980132451, 0.6726694915254238\n",
      "svc_rbf (Train, Validation) accuracy when mfcc depth = 5 and C = 20: 0.8882119205298014, 0.6716101694915254\n",
      "svc_rbf (Train, Validation) accuracy when mfcc depth = 9 and C = 0.1: 0.5994701986754967, 0.611228813559322\n",
      "svc_rbf (Train, Validation) accuracy when mfcc depth = 9 and C = 1: 0.736158940397351, 0.6758474576271186\n",
      "svc_rbf (Train, Validation) accuracy when mfcc depth = 9 and C = 5: 0.8543046357615894, 0.6938559322033898\n",
      "svc_rbf (Train, Validation) accuracy when mfcc depth = 9 and C = 10: 0.9120529801324503, 0.6779661016949152\n",
      "svc_rbf (Train, Validation) accuracy when mfcc depth = 9 and C = 20: 0.9533774834437087, 0.6641949152542372\n",
      "svc_rbf (Train, Validation) accuracy when mfcc depth = 13 and C = 0.1: 0.5891390728476821, 0.5942796610169492\n",
      "svc_rbf (Train, Validation) accuracy when mfcc depth = 13 and C = 1: 0.7615894039735099, 0.6991525423728814\n",
      "svc_rbf (Train, Validation) accuracy when mfcc depth = 13 and C = 5: 0.8990728476821193, 0.7266949152542372\n",
      "svc_rbf (Train, Validation) accuracy when mfcc depth = 13 and C = 10: 0.9472847682119205, 0.7139830508474576\n",
      "svc_rbf (Train, Validation) accuracy when mfcc depth = 13 and C = 20: 0.9780132450331126, 0.7097457627118644\n",
      "svc_rbf (Train, Validation) accuracy when mfcc depth = 17 and C = 0.1: 0.5870198675496688, 0.5911016949152542\n",
      "svc_rbf (Train, Validation) accuracy when mfcc depth = 17 and C = 1: 0.7658278145695364, 0.698093220338983\n",
      "svc_rbf (Train, Validation) accuracy when mfcc depth = 17 and C = 5: 0.9131125827814569, 0.7319915254237288\n",
      "svc_rbf (Train, Validation) accuracy when mfcc depth = 17 and C = 10: 0.9594701986754967, 0.722457627118644\n",
      "svc_rbf (Train, Validation) accuracy when mfcc depth = 17 and C = 20: 0.9803973509933774, 0.7161016949152542\n",
      "svc_rbf (Train, Validation) accuracy when mfcc depth = 21 and C = 0.1: 0.5849006622516556, 0.5773305084745762\n",
      "svc_rbf (Train, Validation) accuracy when mfcc depth = 21 and C = 1: 0.7764238410596026, 0.676906779661017\n",
      "svc_rbf (Train, Validation) accuracy when mfcc depth = 21 and C = 5: 0.9321854304635762, 0.7203389830508474\n",
      "svc_rbf (Train, Validation) accuracy when mfcc depth = 21 and C = 10: 0.970066225165563, 0.715042372881356\n",
      "svc_rbf (Train, Validation) accuracy when mfcc depth = 21 and C = 20: 0.9875496688741722, 0.7129237288135594\n",
      "svc_rbf (Train, Validation) accuracy when mfcc depth = 25 and C = 0.1: 0.5761589403973509, 0.5709745762711864\n",
      "svc_rbf (Train, Validation) accuracy when mfcc depth = 25 and C = 1: 0.7833112582781457, 0.6800847457627118\n",
      "svc_rbf (Train, Validation) accuracy when mfcc depth = 25 and C = 5: 0.943841059602649, 0.722457627118644\n",
      "svc_rbf (Train, Validation) accuracy when mfcc depth = 25 and C = 10: 0.974569536423841, 0.7182203389830508\n",
      "svc_rbf (Train, Validation) accuracy when mfcc depth = 25 and C = 20: 0.9894039735099338, 0.715042372881356\n",
      "svc_rbf (Train, Validation) accuracy when mfcc depth = 29 and C = 0.1: 0.5708609271523178, 0.5677966101694916\n",
      "svc_rbf (Train, Validation) accuracy when mfcc depth = 29 and C = 1: 0.7957615894039735, 0.6800847457627118\n",
      "svc_rbf (Train, Validation) accuracy when mfcc depth = 29 and C = 5: 0.9557615894039735, 0.7044491525423728\n",
      "svc_rbf (Train, Validation) accuracy when mfcc depth = 29 and C = 10: 0.9825165562913907, 0.6991525423728814\n",
      "svc_rbf (Train, Validation) accuracy when mfcc depth = 29 and C = 20: 0.992317880794702, 0.7002118644067796\n",
      "svc_rbf (Train, Validation) accuracy when mfcc depth = 33 and C = 0.1: 0.5663576158940398, 0.5635593220338984\n",
      "svc_rbf (Train, Validation) accuracy when mfcc depth = 33 and C = 1: 0.8026490066225166, 0.6822033898305084\n",
      "svc_rbf (Train, Validation) accuracy when mfcc depth = 33 and C = 5: 0.9613245033112583, 0.7086864406779662\n",
      "svc_rbf (Train, Validation) accuracy when mfcc depth = 33 and C = 10: 0.9870198675496689, 0.7055084745762712\n",
      "svc_rbf (Train, Validation) accuracy when mfcc depth = 33 and C = 20: 0.9949668874172185, 0.6970338983050848\n",
      "svc_rbf (Train, Validation) accuracy when mfcc depth = 37 and C = 0.1: 0.559205298013245, 0.5582627118644068\n",
      "svc_rbf (Train, Validation) accuracy when mfcc depth = 37 and C = 1: 0.8103311258278145, 0.6875\n",
      "svc_rbf (Train, Validation) accuracy when mfcc depth = 37 and C = 5: 0.9695364238410596, 0.7108050847457628\n",
      "svc_rbf (Train, Validation) accuracy when mfcc depth = 37 and C = 10: 0.9896688741721854, 0.7108050847457628\n",
      "svc_rbf (Train, Validation) accuracy when mfcc depth = 37 and C = 20: 0.9968211920529801, 0.7097457627118644\n"
     ]
    }
   ],
   "source": [
    "# Runs svc_rbf over the indicated depth of all 4 mfcc features, including the 4 other features, and the values of C.\n",
    "for depth in range(1,40,4):\n",
    "    for C in [.1,1,5,10,20]:\n",
    "        A, B =svc_rbf_acc(df,C,depth,depth,depth,depth,True,False)\n",
    "        print(f\"svc_rbf (Train, Validation) accuracy when mfcc depth = {depth} and C = {C}: {A}, {B}\") "
   ]
  },
  {
   "cell_type": "markdown",
   "id": "33cc2574-9ac9-4b7c-8b21-651f920333da",
   "metadata": {},
   "source": [
    "### It appears that using all of our features gives the greatest accuracy. Next we fine-tune C, observing that over-fitting seems to have already occurred when C=5."
   ]
  },
  {
   "cell_type": "code",
   "execution_count": 74,
   "id": "7e760766-8c93-4495-b545-c6a58a790d92",
   "metadata": {},
   "outputs": [
    {
     "name": "stdout",
     "output_type": "stream",
     "text": [
      "svc_rbf (Train, Validation) accuracy when mfcc depth = 40 and C = 0.1: 0.5589403973509933, 0.559322033898305\n",
      "svc_rbf (Train, Validation) accuracy when mfcc depth = 40 and C = 0.2: 0.6333774834437086, 0.6197033898305084\n",
      "svc_rbf (Train, Validation) accuracy when mfcc depth = 40 and C = 0.30000000000000004: 0.679205298013245, 0.6440677966101694\n",
      "svc_rbf (Train, Validation) accuracy when mfcc depth = 40 and C = 0.4: 0.704635761589404, 0.6557203389830508\n",
      "svc_rbf (Train, Validation) accuracy when mfcc depth = 40 and C = 0.5: 0.7282119205298013, 0.6663135593220338\n",
      "svc_rbf (Train, Validation) accuracy when mfcc depth = 40 and C = 0.6: 0.7520529801324504, 0.6705508474576272\n",
      "svc_rbf (Train, Validation) accuracy when mfcc depth = 40 and C = 0.7000000000000001: 0.7711258278145695, 0.6779661016949152\n",
      "svc_rbf (Train, Validation) accuracy when mfcc depth = 40 and C = 0.8: 0.7896688741721855, 0.6864406779661016\n",
      "svc_rbf (Train, Validation) accuracy when mfcc depth = 40 and C = 0.9: 0.8068874172185431, 0.6864406779661016\n",
      "svc_rbf (Train, Validation) accuracy when mfcc depth = 40 and C = 1.0: 0.8185430463576159, 0.6885593220338984\n",
      "svc_rbf (Train, Validation) accuracy when mfcc depth = 40 and C = 1.1: 0.832317880794702, 0.690677966101695\n",
      "svc_rbf (Train, Validation) accuracy when mfcc depth = 40 and C = 1.2000000000000002: 0.8418543046357616, 0.6938559322033898\n",
      "svc_rbf (Train, Validation) accuracy when mfcc depth = 40 and C = 1.3000000000000003: 0.8495364238410597, 0.6949152542372882\n",
      "svc_rbf (Train, Validation) accuracy when mfcc depth = 40 and C = 1.4000000000000001: 0.8580132450331126, 0.6959745762711864\n",
      "svc_rbf (Train, Validation) accuracy when mfcc depth = 40 and C = 1.5000000000000002: 0.8664900662251656, 0.7002118644067796\n",
      "svc_rbf (Train, Validation) accuracy when mfcc depth = 40 and C = 1.6: 0.8754966887417218, 0.7002118644067796\n",
      "svc_rbf (Train, Validation) accuracy when mfcc depth = 40 and C = 1.7000000000000002: 0.8831788079470199, 0.6991525423728814\n",
      "svc_rbf (Train, Validation) accuracy when mfcc depth = 40 and C = 1.8000000000000003: 0.8905960264900662, 0.698093220338983\n",
      "svc_rbf (Train, Validation) accuracy when mfcc depth = 40 and C = 1.9000000000000001: 0.8956291390728477, 0.7002118644067796\n",
      "svc_rbf (Train, Validation) accuracy when mfcc depth = 40 and C = 2.0: 0.9014569536423841, 0.6991525423728814\n",
      "svc_rbf (Train, Validation) accuracy when mfcc depth = 40 and C = 2.1: 0.9062251655629139, 0.6991525423728814\n",
      "svc_rbf (Train, Validation) accuracy when mfcc depth = 40 and C = 2.2: 0.9094039735099337, 0.6991525423728814\n",
      "svc_rbf (Train, Validation) accuracy when mfcc depth = 40 and C = 2.3000000000000003: 0.9144370860927152, 0.6991525423728814\n",
      "svc_rbf (Train, Validation) accuracy when mfcc depth = 40 and C = 2.4000000000000004: 0.9197350993377483, 0.698093220338983\n",
      "svc_rbf (Train, Validation) accuracy when mfcc depth = 40 and C = 2.5000000000000004: 0.9247682119205298, 0.701271186440678\n",
      "svc_rbf (Train, Validation) accuracy when mfcc depth = 40 and C = 2.6: 0.927682119205298, 0.701271186440678\n",
      "svc_rbf (Train, Validation) accuracy when mfcc depth = 40 and C = 2.7: 0.9337748344370861, 0.7023305084745762\n",
      "svc_rbf (Train, Validation) accuracy when mfcc depth = 40 and C = 2.8000000000000003: 0.9366887417218543, 0.7023305084745762\n",
      "svc_rbf (Train, Validation) accuracy when mfcc depth = 40 and C = 2.9000000000000004: 0.9396026490066225, 0.7065677966101694\n",
      "svc_rbf (Train, Validation) accuracy when mfcc depth = 40 and C = 3.0000000000000004: 0.942251655629139, 0.7065677966101694\n",
      "svc_rbf (Train, Validation) accuracy when mfcc depth = 40 and C = 3.1: 0.9449006622516556, 0.7055084745762712\n"
     ]
    }
   ],
   "source": [
    "for C in np.linspace(.1,3.1,31):\n",
    "    A, B =svc_rbf_acc(df,C,40,40,40,40,True,False)\n",
    "    print(f\"svc_rbf (Train, Validation) accuracy when mfcc depth = {40} and C = {C}: {A}, {B}\") "
   ]
  },
  {
   "cell_type": "markdown",
   "id": "25ff459b-883c-41ac-a950-00754956af32",
   "metadata": {},
   "source": [
    "### C=1.5 already gives essentially the maximum validation accuracy, and increasing C beyond this only leads to overfitting. So we select C=1.5. Now we train the model and test it."
   ]
  },
  {
   "cell_type": "code",
   "execution_count": 75,
   "id": "9b99d0e6-a4a1-4bdb-b8ee-b76dc8b05d4e",
   "metadata": {},
   "outputs": [
    {
     "name": "stdout",
     "output_type": "stream",
     "text": [
      "Test accuracy: 0.673728813559322 vs. Baseline: 0.24067796610169492\n"
     ]
    }
   ],
   "source": [
    "#First train the model exactly using the same training data as before, and C=1.5.\n",
    "svc_pipe = Pipeline([('scale', StandardScaler()), ('svc_rbf',SVC(kernel='rbf', C=1.5))])\n",
    "X=truncate_mfcc(df=df, avg_depth=40,var_depth=40,hs_avg_depth=40,hs_var_depth=40,other_Features=True)\n",
    "Y = df['fam_or_subfam']\n",
    "X_train, X_val, y_train, y_val = train_test_split(X.copy(), Y, shuffle=True, random_state=17, test_size=.2, stratify=Y)\n",
    "svc_pipe.fit(X_train, y_train)\n",
    "\n",
    "#Test the model on unseen test data. The baseline is to always predict the most common family, Gryllinae.\n",
    "X_test=truncate_mfcc(df=df_test, avg_depth=40,var_depth=40,hs_avg_depth=40,hs_var_depth=40,other_Features=True)\n",
    "y_test=df_test['fam_or_subfam']\n",
    "pred = svc_pipe.predict(X_test)\n",
    "pred_baseline = pred.copy()\n",
    "for i in range(0,len(pred)):\n",
    "    pred_baseline[i] = 'Gryllinae'\n",
    "print(f'Test accuracy: {accuracy_score(pred,y_test)} vs. Baseline: {accuracy_score(pred_baseline,y_test)}')"
   ]
  },
  {
   "cell_type": "markdown",
   "id": "bcb05af2-75ee-4d2a-bed9-0cea5610c06d",
   "metadata": {},
   "source": [
    "### Our svc_rbf model with C=1.5 achieves 67% accuracy identifying 'fam_or_subfam' on unseen test data vs the baseline of 24%. Next, we test our model on identifying critter_name: 'cricket', 'kaydid', or 'cicada'."
   ]
  },
  {
   "cell_type": "code",
   "execution_count": 76,
   "id": "5ba4898b-d85a-4de5-b496-5fddce06a30f",
   "metadata": {},
   "outputs": [],
   "source": [
    "#Dictionary from 'fam_or_subfam' to the coarser classification 'critter_name'\n",
    "fam_dict = {'Gryllinae':'cricket', 'Conocephalinae':'kaydid', 'Oecanthinae':'cricket',\n",
    "            'Phaneropterinae': 'kaydid', 'Trigonidiinae':'cricket', 'Nemobiinae':'cricket', 'Hapithinae':'cricket', \n",
    "            'Mogoplistinae':'cricket', 'Tettigoniinae':'kaydid', 'Pseudophyllinae':'kaydid', 'Cicadidae':'cicada',\n",
    "            'Gryllotalpidae':'cricket', 'Eneopterinae':'cricket', 'Phalangopsidae':'cricket', 'Listroscelidinae':'cricket'}\n",
    "\n",
    "#Converts a pd Series with fam_or_subfam entries into critter names\n",
    "def fam_to_crit(series):\n",
    "    X=series.copy()\n",
    "    for i in range(0, X.shape[0]):\n",
    "        X.at[i]=fam_to_crit_string(X[i])\n",
    "    return X\n",
    "\n",
    "def fam_to_crit_string(fam_name):\n",
    "    return fam_dict[fam_name]"
   ]
  },
  {
   "cell_type": "markdown",
   "id": "2b24a4e3-a01d-45fd-9617-dab990fa93f5",
   "metadata": {},
   "source": [
    "### Our knn model with k=5 achieves 91% accuracy identifying 'cricket', 'kaydid', or 'cicada' on unseen test data when trained on fam_or_subfam, vs. the baseline 67% (always guessing cricket). Below is the confusion matrix. Unlike knn, we never predict cicada!"
   ]
  },
  {
   "cell_type": "code",
   "execution_count": 77,
   "id": "0f13b14f-2060-49e8-8724-fcb134265731",
   "metadata": {},
   "outputs": [
    {
     "name": "stdout",
     "output_type": "stream",
     "text": [
      "Test accuracy: 0.9101694915254237 vs. Baseline 0.6686440677966101\n"
     ]
    }
   ],
   "source": [
    "print(f'Test accuracy: {accuracy_score(fam_to_crit(pd.Series(list(y_test))),fam_to_crit(pd.Series(pred)))} vs. Baseline {accuracy_score(fam_to_crit(pd.Series(list(y_test))),fam_to_crit(pd.Series(pred_baseline)))}')"
   ]
  },
  {
   "cell_type": "code",
   "execution_count": 78,
   "id": "65d4bc1e-90c6-4fb5-aea6-194820c4ffb7",
   "metadata": {},
   "outputs": [],
   "source": [
    "conf_mat = confusion_matrix(fam_to_crit(pd.Series(list(y_test))), fam_to_crit(pd.Series(pred)))"
   ]
  },
  {
   "cell_type": "code",
   "execution_count": 79,
   "id": "b247c506-e9c5-441f-90a7-da97e9952ce7",
   "metadata": {},
   "outputs": [
    {
     "data": {
      "text/html": [
       "<div>\n",
       "<style scoped>\n",
       "    .dataframe tbody tr th:only-of-type {\n",
       "        vertical-align: middle;\n",
       "    }\n",
       "\n",
       "    .dataframe tbody tr th {\n",
       "        vertical-align: top;\n",
       "    }\n",
       "\n",
       "    .dataframe thead th {\n",
       "        text-align: right;\n",
       "    }\n",
       "</style>\n",
       "<table border=\"1\" class=\"dataframe\">\n",
       "  <thead>\n",
       "    <tr style=\"text-align: right;\">\n",
       "      <th></th>\n",
       "      <th>Predicted cicada</th>\n",
       "      <th>Predicted cricket</th>\n",
       "      <th>Predicted kaydid</th>\n",
       "    </tr>\n",
       "  </thead>\n",
       "  <tbody>\n",
       "    <tr>\n",
       "      <th>Actual cicada</th>\n",
       "      <td>0</td>\n",
       "      <td>9</td>\n",
       "      <td>2</td>\n",
       "    </tr>\n",
       "    <tr>\n",
       "      <th>Actual cricket</th>\n",
       "      <td>0</td>\n",
       "      <td>742</td>\n",
       "      <td>47</td>\n",
       "    </tr>\n",
       "    <tr>\n",
       "      <th>Actual kaydid</th>\n",
       "      <td>0</td>\n",
       "      <td>48</td>\n",
       "      <td>332</td>\n",
       "    </tr>\n",
       "  </tbody>\n",
       "</table>\n",
       "</div>"
      ],
      "text/plain": [
       "                Predicted cicada  Predicted cricket  Predicted kaydid\n",
       "Actual cicada                  0                  9                 2\n",
       "Actual cricket                 0                742                47\n",
       "Actual kaydid                  0                 48               332"
      ]
     },
     "execution_count": 79,
     "metadata": {},
     "output_type": "execute_result"
    }
   ],
   "source": [
    "pd.DataFrame(conf_mat,\n",
    "                 columns = ['Predicted cicada', 'Predicted cricket', 'Predicted kaydid'],\n",
    "                 index = ['Actual cicada', 'Actual cricket', 'Actual kaydid'])"
   ]
  },
  {
   "cell_type": "markdown",
   "id": "5cb8d081-0332-44f6-a34f-d58a2b6ab794",
   "metadata": {},
   "source": [
    "### Next, we train a model only on critter_name data. First we find an appropriate value of C."
   ]
  },
  {
   "cell_type": "code",
   "execution_count": 80,
   "id": "9193f11d-4114-4e78-a7f1-df021fbe0fc8",
   "metadata": {},
   "outputs": [
    {
     "name": "stdout",
     "output_type": "stream",
     "text": [
      "knn (Train, Validation) accuracy when C = 0.1: (0.8956291390728477, 0.885593220338983)\n",
      "knn (Train, Validation) accuracy when C = 0.2: (0.9088741721854304, 0.8951271186440678)\n",
      "knn (Train, Validation) accuracy when C = 0.30000000000000004: (0.9133774834437086, 0.8972457627118644)\n",
      "knn (Train, Validation) accuracy when C = 0.4: (0.9178807947019868, 0.8972457627118644)\n",
      "knn (Train, Validation) accuracy when C = 0.5: (0.9210596026490067, 0.8983050847457628)\n",
      "knn (Train, Validation) accuracy when C = 0.6: (0.9282119205298013, 0.8972457627118644)\n",
      "knn (Train, Validation) accuracy when C = 0.7000000000000001: (0.9321854304635762, 0.8983050847457628)\n",
      "knn (Train, Validation) accuracy when C = 0.8: (0.9356291390728477, 0.9014830508474576)\n",
      "knn (Train, Validation) accuracy when C = 0.9: (0.9382781456953643, 0.9046610169491526)\n",
      "knn (Train, Validation) accuracy when C = 1.0: (0.9430463576158941, 0.9046610169491526)\n",
      "knn (Train, Validation) accuracy when C = 1.1: (0.9464900662251655, 0.9057203389830508)\n",
      "knn (Train, Validation) accuracy when C = 1.2000000000000002: (0.9496688741721855, 0.9046610169491526)\n",
      "knn (Train, Validation) accuracy when C = 1.3000000000000003: (0.9517880794701987, 0.9046610169491526)\n",
      "knn (Train, Validation) accuracy when C = 1.4000000000000001: (0.9544370860927153, 0.9046610169491526)\n",
      "knn (Train, Validation) accuracy when C = 1.5000000000000002: (0.9576158940397351, 0.9057203389830508)\n",
      "knn (Train, Validation) accuracy when C = 1.6: (0.9592052980132451, 0.9057203389830508)\n",
      "knn (Train, Validation) accuracy when C = 1.7000000000000002: (0.9605298013245033, 0.9036016949152542)\n",
      "knn (Train, Validation) accuracy when C = 1.8000000000000003: (0.9623841059602649, 0.9036016949152542)\n",
      "knn (Train, Validation) accuracy when C = 1.9000000000000001: (0.9631788079470198, 0.902542372881356)\n",
      "knn (Train, Validation) accuracy when C = 2.0: (0.9645033112582782, 0.9046610169491526)\n",
      "knn (Train, Validation) accuracy when C = 2.1: (0.9671523178807947, 0.9046610169491526)\n",
      "knn (Train, Validation) accuracy when C = 2.2: (0.967682119205298, 0.9036016949152542)\n",
      "knn (Train, Validation) accuracy when C = 2.3000000000000003: (0.9687417218543046, 0.9046610169491526)\n",
      "knn (Train, Validation) accuracy when C = 2.4000000000000004: (0.9705960264900663, 0.9036016949152542)\n",
      "knn (Train, Validation) accuracy when C = 2.5000000000000004: (0.9724503311258278, 0.9014830508474576)\n",
      "knn (Train, Validation) accuracy when C = 2.6: (0.9732450331125828, 0.9014830508474576)\n",
      "knn (Train, Validation) accuracy when C = 2.7: (0.9743046357615894, 0.9014830508474576)\n",
      "knn (Train, Validation) accuracy when C = 2.8000000000000003: (0.9750993377483443, 0.902542372881356)\n",
      "knn (Train, Validation) accuracy when C = 2.9000000000000004: (0.9758940397350994, 0.9036016949152542)\n",
      "knn (Train, Validation) accuracy when C = 3.0000000000000004: (0.9766887417218543, 0.9036016949152542)\n",
      "knn (Train, Validation) accuracy when C = 3.1: (0.976953642384106, 0.9036016949152542)\n"
     ]
    }
   ],
   "source": [
    "for C in np.linspace(.1,3.1,31):\n",
    "    print(f\"knn (Train, Validation) accuracy when C = {C}: {svc_rbf_acc(df,C,40,40,40,40,True,True)}\") "
   ]
  },
  {
   "cell_type": "markdown",
   "id": "fe2a9d29-550b-4e93-9614-cffc3f1faec6",
   "metadata": {},
   "source": [
    "### We select C=1.1."
   ]
  },
  {
   "cell_type": "code",
   "execution_count": 81,
   "id": "43734f36-61dd-421a-9379-41fcd9909987",
   "metadata": {},
   "outputs": [
    {
     "name": "stdout",
     "output_type": "stream",
     "text": [
      "Test accuracy: 0.9144067796610169 vs. Baseline: 0.6686440677966101\n"
     ]
    }
   ],
   "source": [
    "#First train the model exactly using the same training data as before, only using critter_name, and C=1.1\n",
    "svc_pipe = Pipeline([('scale', StandardScaler()), ('svc_rbf',SVC(kernel='rbf', C=1.1))])\n",
    "X=truncate_mfcc(df=df, avg_depth=40,var_depth=40,hs_avg_depth=40,hs_var_depth=40,other_Features=True)\n",
    "Y = df['critter_name']\n",
    "X_train, X_val, y_train, y_val = train_test_split(X.copy(), Y, shuffle=True, random_state=17, test_size=.2, stratify=Y)\n",
    "svc_pipe.fit(X_train, y_train)\n",
    "\n",
    "#Test the model on unseen test data.\n",
    "X_test=truncate_mfcc(df=df_test, avg_depth=40,var_depth=40,hs_avg_depth=40,hs_var_depth=40,other_Features=True)\n",
    "y_test=df_test['critter_name']\n",
    "pred = svc_pipe.predict(X_test)\n",
    "pred_baseline=pred.copy()\n",
    "for i in range(0, len(pred)):\n",
    "    pred_baseline[i] = 'cricket'\n",
    "print(f'Test accuracy: {accuracy_score(pred,y_test)} vs. Baseline: {accuracy_score(pred_baseline,y_test)}')"
   ]
  },
  {
   "cell_type": "code",
   "execution_count": null,
   "id": "92a52412-b818-49d4-8477-1c230fa977d7",
   "metadata": {},
   "outputs": [],
   "source": []
  },
  {
   "cell_type": "markdown",
   "id": "2ce6cd23-1c80-4100-9504-902cf8235a94",
   "metadata": {},
   "source": [
    "### Our knn model with k=5 achieves 91% accuracy identifying critter_name: 'cricket', 'kaydid', or 'cicada' on unseen test data. Below is the confusion matrix. Interestingly, this model also never guesses cicada!"
   ]
  },
  {
   "cell_type": "code",
   "execution_count": 82,
   "id": "655b2360-ff7d-41d8-85e5-ecbf48b30567",
   "metadata": {},
   "outputs": [],
   "source": [
    "conf_mat = confusion_matrix(pd.Series(list(y_test)), pd.Series(pred))"
   ]
  },
  {
   "cell_type": "code",
   "execution_count": 83,
   "id": "032fb058-9ce6-4e34-ba4f-a14be2853037",
   "metadata": {},
   "outputs": [
    {
     "data": {
      "text/html": [
       "<div>\n",
       "<style scoped>\n",
       "    .dataframe tbody tr th:only-of-type {\n",
       "        vertical-align: middle;\n",
       "    }\n",
       "\n",
       "    .dataframe tbody tr th {\n",
       "        vertical-align: top;\n",
       "    }\n",
       "\n",
       "    .dataframe thead th {\n",
       "        text-align: right;\n",
       "    }\n",
       "</style>\n",
       "<table border=\"1\" class=\"dataframe\">\n",
       "  <thead>\n",
       "    <tr style=\"text-align: right;\">\n",
       "      <th></th>\n",
       "      <th>Predicted cicada</th>\n",
       "      <th>Predicted cricket</th>\n",
       "      <th>Predicted kaydid</th>\n",
       "    </tr>\n",
       "  </thead>\n",
       "  <tbody>\n",
       "    <tr>\n",
       "      <th>Actual cicada</th>\n",
       "      <td>0</td>\n",
       "      <td>9</td>\n",
       "      <td>2</td>\n",
       "    </tr>\n",
       "    <tr>\n",
       "      <th>Actual cricket</th>\n",
       "      <td>0</td>\n",
       "      <td>760</td>\n",
       "      <td>29</td>\n",
       "    </tr>\n",
       "    <tr>\n",
       "      <th>Actual kaydid</th>\n",
       "      <td>0</td>\n",
       "      <td>61</td>\n",
       "      <td>319</td>\n",
       "    </tr>\n",
       "  </tbody>\n",
       "</table>\n",
       "</div>"
      ],
      "text/plain": [
       "                Predicted cicada  Predicted cricket  Predicted kaydid\n",
       "Actual cicada                  0                  9                 2\n",
       "Actual cricket                 0                760                29\n",
       "Actual kaydid                  0                 61               319"
      ]
     },
     "execution_count": 83,
     "metadata": {},
     "output_type": "execute_result"
    }
   ],
   "source": [
    "pd.DataFrame(conf_mat,\n",
    "                 columns = ['Predicted cicada', 'Predicted cricket', 'Predicted kaydid'],\n",
    "                 index = ['Actual cicada', 'Actual cricket', 'Actual kaydid'])"
   ]
  },
  {
   "cell_type": "code",
   "execution_count": null,
   "id": "48a89889-070f-454d-8778-9c65dcb9b31e",
   "metadata": {},
   "outputs": [],
   "source": []
  }
 ],
 "metadata": {
  "kernelspec": {
   "display_name": "Python 3 (ipykernel)",
   "language": "python",
   "name": "python3"
  },
  "language_info": {
   "codemirror_mode": {
    "name": "ipython",
    "version": 3
   },
   "file_extension": ".py",
   "mimetype": "text/x-python",
   "name": "python",
   "nbconvert_exporter": "python",
   "pygments_lexer": "ipython3",
   "version": "3.11.9"
  }
 },
 "nbformat": 4,
 "nbformat_minor": 5
}
